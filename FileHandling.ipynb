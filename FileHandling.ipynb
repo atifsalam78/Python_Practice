{
 "cells": [
  {
   "cell_type": "code",
   "execution_count": 1,
   "id": "1986f283",
   "metadata": {},
   "outputs": [],
   "source": [
    "f = open(\"Sample.txt\", 'w')\n",
    "f.write(\"Hello World\")\n",
    "f.close()"
   ]
  },
  {
   "cell_type": "code",
   "execution_count": 3,
   "id": "fdbe4cf7",
   "metadata": {},
   "outputs": [],
   "source": [
    "f = open(\"Sample.txt\", \"a\")\n",
    "f.write(\"\\nI am fine\")\n",
    "f.close()"
   ]
  },
  {
   "cell_type": "code",
   "execution_count": 6,
   "id": "8b8dd386",
   "metadata": {},
   "outputs": [],
   "source": [
    "l = [\"Hello\\n\", \"How are you\\n\",\"I am fine\\n\", \"What about you?\" ]\n",
    "f = open(\"Sample1.txt\", \"w\")\n",
    "f.writelines(l)\n",
    "f.close()"
   ]
  },
  {
   "cell_type": "code",
   "execution_count": 8,
   "id": "29f1f948",
   "metadata": {},
   "outputs": [],
   "source": [
    "d = {\"a\":\"Hello\\n\", \"b\":\"How are you\\n\", \"c\":\"I am fine\\n\", \"d\":\"What about you?\"}\n",
    "f = open(\"Sample1.txt\", \"w\")\n",
    "f.writelines(d)\n",
    "f.close()"
   ]
  },
  {
   "cell_type": "code",
   "execution_count": 12,
   "id": "90005500",
   "metadata": {},
   "outputs": [],
   "source": [
    "s = set()\n",
    "s = {\"Hello\\n\", \"How are you\\n\", \"I am fine\\n\", \"What about you?\"}\n",
    "f = open(\"Sample1.txt\", \"w\")\n",
    "f.writelines(s)\n",
    "f.close()"
   ]
  },
  {
   "cell_type": "code",
   "execution_count": 14,
   "id": "a76546b1",
   "metadata": {},
   "outputs": [],
   "source": [
    "t = (\"Hello\\n\", \"buddy\\n\", \"How are you\\n\", \"I am fine\\n\", \"What about you?\")\n",
    "f = open(\"Sample1.txt\", \"w\")\n",
    "f.writelines(t)\n",
    "f.close()"
   ]
  },
  {
   "cell_type": "code",
   "execution_count": 17,
   "id": "1281c326",
   "metadata": {},
   "outputs": [
    {
     "name": "stdout",
     "output_type": "stream",
     "text": [
      "Hello\n",
      "buddy\n",
      "How are you\n",
      "I am fine\n",
      "What about you?\n"
     ]
    }
   ],
   "source": [
    "f = open(\"Sample1.txt\", \"r\")\n",
    "s = f.read()\n",
    "print(s)\n",
    "f.close()"
   ]
  },
  {
   "cell_type": "code",
   "execution_count": 18,
   "id": "0baa6fae",
   "metadata": {},
   "outputs": [
    {
     "name": "stdout",
     "output_type": "stream",
     "text": [
      "Hello\n",
      "budd\n"
     ]
    }
   ],
   "source": [
    "f = open(\"Sample1.txt\", \"r\")\n",
    "s = f.read(10)\n",
    "print(s)\n",
    "f.close()"
   ]
  },
  {
   "cell_type": "code",
   "execution_count": 21,
   "id": "ace14de7",
   "metadata": {},
   "outputs": [
    {
     "name": "stdout",
     "output_type": "stream",
     "text": [
      "Hello\n",
      "buddy\n"
     ]
    }
   ],
   "source": [
    "f = open(\"Sample1.txt\", \"r\")\n",
    "print(f.readline(), end=\"\")\n",
    "print(f.readline(), end=\"\")\n",
    "f.close()"
   ]
  },
  {
   "cell_type": "code",
   "execution_count": 34,
   "id": "dc43a922",
   "metadata": {},
   "outputs": [],
   "source": [
    "f = open(\"Sample1.txt\", \"r\")\n",
    "data = f.readline()\n",
    "while data != \"\":\n",
    "    print(data, end=\"\")\n",
    "f.close()"
   ]
  },
  {
   "cell_type": "code",
   "execution_count": 35,
   "id": "81e8f9aa",
   "metadata": {},
   "outputs": [
    {
     "name": "stdout",
     "output_type": "stream",
     "text": [
      "Hello\n",
      "buddy\n",
      "How are you\n",
      "I am fine\n",
      "What about you?"
     ]
    }
   ],
   "source": [
    "f = open(\"Sample1.txt\", \"r\")\n",
    "while True:\n",
    "    data = f.readline()\n",
    "    if data == \"\":\n",
    "        break\n",
    "    else:\n",
    "        print(data, end=\"\")\n",
    "        \n",
    "f.close()"
   ]
  },
  {
   "cell_type": "code",
   "execution_count": 45,
   "id": "32f60b20",
   "metadata": {},
   "outputs": [],
   "source": [
    "with open(\"Sample1.txt\", \"w\") as f:\n",
    "    f.write(\"Hello How Are You Buddy?\")"
   ]
  },
  {
   "cell_type": "code",
   "execution_count": 46,
   "id": "e046cb6c",
   "metadata": {},
   "outputs": [
    {
     "ename": "ValueError",
     "evalue": "I/O operation on closed file.",
     "output_type": "error",
     "traceback": [
      "\u001b[1;31m---------------------------------------------------------------------------\u001b[0m",
      "\u001b[1;31mValueError\u001b[0m                                Traceback (most recent call last)",
      "\u001b[1;32m~\\AppData\\Local\\Temp\\ipykernel_6312\\429081978.py\u001b[0m in \u001b[0;36m<module>\u001b[1;34m\u001b[0m\n\u001b[1;32m----> 1\u001b[1;33m \u001b[0mf\u001b[0m\u001b[1;33m.\u001b[0m\u001b[0mwrite\u001b[0m\u001b[1;33m(\u001b[0m\u001b[1;34m\"Bet you can't access the closed file\"\u001b[0m\u001b[1;33m)\u001b[0m\u001b[1;33m\u001b[0m\u001b[1;33m\u001b[0m\u001b[0m\n\u001b[0m",
      "\u001b[1;31mValueError\u001b[0m: I/O operation on closed file."
     ]
    }
   ],
   "source": [
    "f.write(\"Bet you can't access the closed file\")"
   ]
  },
  {
   "cell_type": "code",
   "execution_count": 38,
   "id": "c07080ea",
   "metadata": {},
   "outputs": [
    {
     "name": "stdout",
     "output_type": "stream",
     "text": [
      "Hello How Are You Buddy?\n"
     ]
    }
   ],
   "source": [
    "with open(\"Sample1.txt\", \"r\") as f:\n",
    "    print(f.read())"
   ]
  },
  {
   "cell_type": "code",
   "execution_count": 41,
   "id": "83c47bd6",
   "metadata": {},
   "outputs": [
    {
     "name": "stdout",
     "output_type": "stream",
     "text": [
      "Hello\n",
      " How \n"
     ]
    }
   ],
   "source": [
    "# Buffering memori\n",
    "\n",
    "with open(\"Sample1.txt\", \"r\") as f:\n",
    "    print(f.read(5))\n",
    "    print(f.read(5))"
   ]
  },
  {
   "cell_type": "code",
   "execution_count": 55,
   "id": "eedb1c4a",
   "metadata": {},
   "outputs": [],
   "source": [
    "big_L = [\"Hello World\" for i in range(10000)]\n",
    "\n",
    "with open(\"Sample1.txt\", \"w\") as f:\n",
    "    f.writelines(big_L)"
   ]
  },
  {
   "cell_type": "code",
   "execution_count": 59,
   "id": "e7b192a4",
   "metadata": {},
   "outputs": [
    {
     "name": "stdout",
     "output_type": "stream",
     "text": [
      "dHello Wor***orldHello ***o WorldHel***ello World***ldHello Wo***WorldHello***lo WorldHe***Hello Worl***rldHello W*** WorldHell***llo WorldH***dHello Wor***orldHello ***o WorldHel***ello World***ldHello Wo***WorldHello***lo WorldHe***Hello Worl***rldHello W*** WorldHell***llo WorldH***dHello Wor***orldHello ***o WorldHel***ello World***ldHello Wo***WorldHello***lo WorldHe***Hello Worl***rldHello W*** WorldHell***llo WorldH***dHello Wor***orldHello ***o WorldHel***ello World***ldHello Wo***WorldHello***lo WorldHe***Hello Worl***rldHello W*** WorldHell***llo WorldH***dHello Wor***orldHello ***o WorldHel***ello World***ldHello Wo***WorldHello***lo WorldHe***Hello Worl***rldHello W*** WorldHell***llo WorldH***dHello Wor***orldHello ***o WorldHel***ello World***ldHello Wo***WorldHello***lo WorldHe***Hello Worl***rldHello W*** WorldHell***llo WorldH***dHello Wor***orldHello ***o WorldHel***ello World***ldHello Wo***WorldHello***lo WorldHe***Hello Worl***rldHello W*** WorldHell***llo WorldH***dHello Wor***orldHello ***o WorldHel***ello World***ldHello Wo***WorldHello***lo WorldHe***Hello Worl***rldHello W*** WorldHell***llo WorldH***dHello Wor***orldHello ***o WorldHel***ello World***ldHello Wo***WorldHello***lo WorldHe***Hello Worl***rldHello W*** WorldHell***llo WorldH***dHello Wor***orldHello ***o WorldHel***ello World***ldHello Wo***WorldHello***lo WorldHe***Hello Worl***rldHello W*** WorldHell***llo WorldH***dHello Wor***orldHello ***o WorldHel***ello World***ldHello Wo***WorldHello***lo WorldHe***Hello Worl***rldHello W*** WorldHell***llo WorldH***dHello Wor***orldHello ***o WorldHel***ello World***ldHello Wo***WorldHello***lo WorldHe***Hello Worl***rldHello W*** WorldHell***llo WorldH***dHello Wor***orldHello ***o WorldHel***ello World***ldHello Wo***WorldHello***lo WorldHe***Hello Worl***rldHello W*** WorldHell***llo WorldH***dHello Wor***orldHello ***o WorldHel***ello World***ldHello Wo***WorldHello***lo WorldHe***Hello Worl***rldHello W*** WorldHell***llo WorldH***dHello Wor***orldHello ***o WorldHel***ello World***ldHello Wo***WorldHello***lo WorldHe***Hello Worl***rldHello W*** WorldHell***llo WorldH***dHello Wor***orldHello ***o WorldHel***ello World***ldHello Wo***WorldHello***lo WorldHe***Hello Worl***rldHello W*** WorldHell***llo WorldH***dHello Wor***orldHello ***o WorldHel***ello World***ldHello Wo***WorldHello***lo WorldHe***Hello Worl***rldHello W*** WorldHell***llo WorldH***dHello Wor***orldHello ***o WorldHel***ello World***ldHello Wo***WorldHello***lo WorldHe***Hello Worl***rldHello W*** WorldHell***llo WorldH***dHello Wor***orldHello ***o WorldHel***ello World***ldHello Wo***WorldHello***lo WorldHe***Hello Worl***rldHello W*** WorldHell***llo WorldH***dHello Wor***orldHello ***o WorldHel***ello World***ldHello Wo***WorldHello***lo WorldHe***Hello Worl***rldHello W*** WorldHell***llo WorldH***dHello Wor***orldHello ***o WorldHel***ello World***ldHello Wo***WorldHello***lo WorldHe***Hello Worl***rldHello W*** WorldHell***llo WorldH***dHello Wor***orldHello ***o WorldHel***ello World***ldHello Wo***WorldHello***lo WorldHe***Hello Worl***rldHello W*** WorldHell***llo WorldH***dHello Wor***orldHello ***o WorldHel***ello World***ldHello Wo***WorldHello***lo WorldHe***Hello Worl***rldHello W*** WorldHell***llo WorldH***dHello Wor***orldHello ***o WorldHel***ello World***ldHello Wo***WorldHello***lo WorldHe***Hello Worl***rldHello W*** WorldHell***llo WorldH***dHello Wor***orldHello ***o WorldHel***ello World***ldHello Wo***WorldHello***lo WorldHe***Hello Worl***rldHello W*** WorldHell***llo WorldH***dHello Wor***orldHello ***o WorldHel***ello World***ldHello Wo***WorldHello***lo WorldHe***Hello Worl***rldHello W*** WorldHell***llo WorldH***dHello Wor***orldHello ***o WorldHel***ello World***ldHello Wo***WorldHello***lo WorldHe***Hello Worl***rldHello W*** WorldHell***llo WorldH***dHello Wor***orldHello ***o WorldHel***ello World***ldHello Wo***WorldHello***lo WorldHe***Hello Worl***rldHello W*** WorldHell***llo WorldH***dHello Wor***orldHello ***o WorldHel***ello World***ldHello Wo***WorldHello***lo WorldHe***Hello Worl***rldHello W*** WorldHell***llo WorldH***dHello Wor***orldHello ***o WorldHel***ello World***ldHello Wo***WorldHello***lo WorldHe***Hello Worl***rldHello W*** WorldHell***llo WorldH***dHello Wor***orldHello ***o WorldHel***ello World***ldHello Wo***WorldHello***lo WorldHe***Hello Worl***rldHello W*** WorldHell***llo WorldH***dHello Wor***orldHello ***o WorldHel***ello World***ldHello Wo***WorldHello***lo WorldHe***Hello Worl***rldHello W*** WorldHell***llo WorldH***dHello Wor***orldHello ***o WorldHel***ello World***ldHello Wo***WorldHello***lo WorldHe***Hello Worl***rldHello W*** WorldHell***llo WorldH***dHello Wor***orldHello ***o WorldHel***ello World***ldHello Wo***WorldHello***lo WorldHe***Hello Worl***rldHello W*** WorldHell***llo WorldH***dHello Wor***orldHello ***o WorldHel***ello World***ldHello Wo***WorldHello***lo WorldHe***Hello Worl***rldHello W*** WorldHell***llo WorldH***dHello Wor***orldHello ***o WorldHel***ello World***ldHello Wo***WorldHello***lo WorldHe***Hello Worl***rldHello W*** WorldHell***llo WorldH***dHello Wor***orldHello ***o WorldHel***ello World***ldHello Wo***WorldHello***lo WorldHe***Hello Worl***rldHello W*** WorldHell***llo WorldH***dHello Wor***orldHello ***o WorldHel***ello World***ldHello Wo***WorldHello***lo WorldHe***Hello Worl***rldHello W*** WorldHell***llo WorldH***dHello Wor***orldHello ***o WorldHel***ello World***ldHello Wo***WorldHello***lo WorldHe***Hello Worl***rldHello W*** WorldHell***llo WorldH***dHello Wor***orldHello ***o WorldHel***ello World***ldHello Wo***WorldHello***lo WorldHe***Hello Worl***rldHello W*** WorldHell***llo WorldH***dHello Wor***orldHello ***o WorldHel***ello World***ldHello Wo***WorldHello***lo WorldHe***Hello Worl***rldHello W*** WorldHell***llo WorldH***dHello Wor***orldHello ***o WorldHel***ello World***ldHello Wo***WorldHello***lo WorldHe***Hello Worl***rldHello W*** WorldHell***llo WorldH***dHello Wor***orldHello ***o WorldHel***ello World***ldHello Wo***WorldHello***lo WorldHe***Hello Worl***rldHello W*** WorldHell***llo WorldH***dHello Wor***orldHello ***o WorldHel***ello World***ldHello Wo***WorldHello***lo WorldHe***Hello Worl***rldHello W*** WorldHell***llo WorldH***dHello Wor***orldHello ***o WorldHel***ello World***ldHello Wo***WorldHello***lo WorldHe***Hello Worl***rldHello W*** WorldHell***llo WorldH***dHello Wor***orldHello ***o WorldHel***ello World***ldHello Wo***WorldHello***lo WorldHe***Hello Worl***rldHello W*** WorldHell***llo WorldH***dHello Wor***orldHello ***o WorldHel***ello World***ldHello Wo***WorldHello***lo WorldHe***Hello Worl***rldHello W*** WorldHell***llo WorldH***dHello Wor***orldHello ***o WorldHel***ello World***ldHello Wo***WorldHello***lo WorldHe***Hello Worl***rldHello W*** WorldHell***llo WorldH***dHello Wor***orldHello ***o WorldHel***ello World***ldHello Wo***WorldHello***lo WorldHe***Hello Worl***rldHello W*** WorldHell***llo WorldH***dHello Wor***orldHello ***o WorldHel***ello World***ldHello Wo***WorldHello***lo WorldHe***Hello Worl***rldHello W*** WorldHell***llo WorldH***dHello Wor***orldHello ***o WorldHel***ello World***ldHello Wo***WorldHello***lo WorldHe***Hello Worl***rldHello W*** WorldHell***llo WorldH***dHello Wor***orldHello ***o WorldHel***ello World***ldHello Wo***WorldHello***lo WorldHe***Hello Worl***rldHello W*** WorldHell***llo WorldH***dHello Wor***orldHello ***o WorldHel***ello World***ldHello Wo***WorldHello***lo WorldHe***Hello Worl***rldHello W*** WorldHell***llo WorldH***dHello Wor***orldHello ***o WorldHel***ello World***ldHello Wo***WorldHello***lo WorldHe***Hello Worl***rldHello W*** WorldHell***llo WorldH***dHello Wor***orldHello ***o WorldHel***ello World***ldHello Wo***WorldHello***lo WorldHe***Hello Worl***rldHello W*** WorldHell***llo WorldH***dHello Wor***orldHello ***o WorldHel***ello World***ldHello Wo***WorldHello***lo WorldHe***Hello Worl***rldHello W*** WorldHell***llo WorldH***dHello Wor***orldHello ***o WorldHel***ello World***ldHello Wo***WorldHello***lo WorldHe***Hello Worl***rldHello W*** WorldHell***llo WorldH***dHello Wor***orldHello ***o WorldHel***ello World***ldHello Wo***WorldHello***lo WorldHe***Hello Worl***rldHello W*** WorldHell***llo WorldH***dHello Wor***orldHello ***o WorldHel***ello World***ldHello Wo***WorldHello***lo WorldHe***Hello Worl***rldHello W*** WorldHell***llo WorldH***dHello Wor***orldHello ***o WorldHel***ello World***ldHello Wo***WorldHello***lo WorldHe***Hello Worl***rldHello W*** WorldHell***llo WorldH***dHello Wor***orldHello ***o WorldHel***ello World***ldHello Wo***WorldHello***lo WorldHe***Hello Worl***rldHello W*** WorldHell***llo WorldH***dHello Wor***orldHello ***o WorldHel***ello World***ldHello Wo***WorldHello***lo WorldHe***Hello Worl***rldHello W*** WorldHell***llo WorldH***dHello Wor***orldHello ***o WorldHel***ello World***ldHello Wo***WorldHello***lo WorldHe***Hello Worl***rldHello W*** WorldHell***llo WorldH***dHello Wor***orldHello ***o WorldHel***ello World***ldHello Wo***WorldHello***lo WorldHe***Hello Worl***rldHello W*** WorldHell***llo WorldH***dHello Wor***orldHello ***o WorldHel***ello World***ldHello Wo***WorldHello***lo WorldHe***Hello Worl***rldHello W*** WorldHell***llo WorldH***dHello Wor***orldHello ***o WorldHel***ello World***ldHello Wo***WorldHello***lo WorldHe***Hello Worl***rldHello W*** WorldHell***llo WorldH***dHello Wor***orldHello ***o WorldHel***ello World***ldHello Wo***WorldHello***lo WorldHe***Hello Worl***rldHello W*** WorldHell***llo WorldH***dHello Wor***orldHello ***o WorldHel***ello World***ldHello Wo***WorldHello***lo WorldHe***Hello Worl***rldHello W*** WorldHell***llo WorldH***dHello Wor***orldHello ***o WorldHel***ello World***ldHello Wo***WorldHello***lo WorldHe***Hello Worl***rldHello W*** WorldHell***llo WorldH***dHello Wor***orldHello ***o WorldHel***ello World***ldHello Wo***WorldHello***lo WorldHe***Hello Worl***rldHello W*** WorldHell***llo WorldH***dHello Wor***orldHello ***o WorldHel***ello World***ldHello Wo***WorldHello***lo WorldHe***Hello Worl***rldHello W*** WorldHell***llo WorldH***dHello Wor***orldHello ***o WorldHel***ello World***ldHello Wo***WorldHello***lo WorldHe***Hello Worl***rldHello W*** WorldHell***llo WorldH***dHello Wor***orldHello ***o WorldHel***ello World***ldHello Wo***WorldHello***lo WorldHe***Hello Worl***rldHello W*** WorldHell***llo WorldH***dHello Wor***orldHello ***o WorldHel***ello World***ldHello Wo***WorldHello***lo WorldHe***Hello Worl***rldHello W*** WorldHell***llo WorldH***dHello Wor***orldHello ***o WorldHel***ello World***ldHello Wo***WorldHello***lo WorldHe***Hello Worl***rldHello W*** WorldHell***llo WorldH***dHello Wor***orldHello ***o WorldHel***ello World***ldHello Wo***WorldHello***lo WorldHe***Hello Worl***rldHello W*** WorldHell***llo WorldH***dHello Wor***orldHello ***o WorldHel***ello World***ldHello Wo***WorldHello***lo WorldHe***Hello Worl***rldHello W*** WorldHell***llo WorldH***dHello Wor***orldHello ***o WorldHel***ello World***ldHello Wo***WorldHello***lo WorldHe***Hello Worl***rldHello W*** WorldHell***llo WorldH***dHello Wor***orldHello ***o WorldHel***ello World***ldHello Wo***WorldHello***lo WorldHe***Hello Worl***rldHello W*** WorldHell***llo WorldH***dHello Wor***orldHello ***o WorldHel***ello World***ldHello Wo***WorldHello***lo WorldHe***Hello Worl***rldHello W*** WorldHell***llo WorldH***dHello Wor***orldHello ***o WorldHel***ello World***ldHello Wo***WorldHello***lo WorldHe***Hello Worl***rldHello W*** WorldHell***llo WorldH***dHello Wor***orldHello ***o WorldHel***ello World***ldHello Wo***WorldHello***lo WorldHe***Hello Worl***rldHello W*** WorldHell***llo WorldH***dHello Wor***orldHello ***o WorldHel***ello World***ldHello Wo***WorldHello***lo WorldHe***Hello Worl***rldHello W*** WorldHell***llo WorldH***dHello Wor***orldHello ***o WorldHel***ello World***ldHello Wo***WorldHello***lo WorldHe***Hello Worl***rldHello W*** WorldHell***llo WorldH***dHello Wor***orldHello ***o WorldHel***ello World***ldHello Wo***WorldHello***lo WorldHe***Hello Worl***rldHello W*** WorldHell***llo WorldH***dHello Wor***orldHello ***o WorldHel***ello World***ldHello Wo***WorldHello***lo WorldHe***Hello Worl***rldHello W*** WorldHell***llo WorldH***dHello Wor***orldHello ***o WorldHel***ello World***ldHello Wo***WorldHello***lo WorldHe***Hello Worl***rldHello W*** WorldHell***llo WorldH***dHello Wor***orldHello ***o WorldHel***ello World***ldHello Wo***WorldHello***lo WorldHe***Hello Worl***rldHello W*** WorldHell***llo WorldH***dHello Wor***orldHello ***o WorldHel***ello World***ldHello Wo***WorldHello***lo WorldHe***Hello Worl***rldHello W*** WorldHell***llo WorldH***dHello Wor***orldHello ***o WorldHel***ello World***ldHello Wo***WorldHello***lo WorldHe***Hello Worl***rldHello W*** WorldHell***llo WorldH***dHello Wor***orldHello ***o WorldHel***ello World***ldHello Wo***WorldHello***lo WorldHe***Hello Worl***rldHello W*** WorldHell***llo WorldH***dHello Wor***orldHello ***o WorldHel***ello World***ldHello Wo***WorldHello***lo WorldHe***Hello Worl***rldHello W*** WorldHell***llo WorldH***dHello Wor***orldHello ***o WorldHel***ello World***ldHello Wo***WorldHello***lo WorldHe***Hello Worl***rldHello W*** WorldHell***llo WorldH***dHello Wor***orldHello ***o WorldHel***ello World***ldHello Wo***WorldHello***lo WorldHe***Hello Worl***rldHello W*** WorldHell***llo WorldH***dHello Wor***orldHello ***o WorldHel***ello World***ldHello Wo***WorldHello***lo WorldHe***Hello Worl***rldHello W*** WorldHell***llo WorldH***dHello Wor***orldHello ***o WorldHel***ello World***ldHello Wo***WorldHello***lo WorldHe***Hello Worl***rldHello W*** WorldHell***llo WorldH***dHello Wor***orldHello ***o WorldHel***ello World***ldHello Wo***WorldHello***lo WorldHe***Hello Worl***rldHello W*** WorldHell***llo WorldH***dHello Wor***orldHello ***o WorldHel***ello World***ldHello Wo***WorldHello***lo WorldHe***Hello Worl***rldHello W*** WorldHell***llo WorldH***dHello Wor***orldHello ***o WorldHel***ello World***ldHello Wo***WorldHello***lo WorldHe***Hello Worl***rldHello W*** WorldHell***llo WorldH***dHello Wor***orldHello ***o WorldHel***ello World***ldHello Wo***WorldHello***lo WorldHe***Hello Worl***rldHello W*** WorldHell***llo WorldH***dHello Wor***orldHello ***o WorldHel***ello World***ldHello Wo***WorldHello***lo WorldHe***Hello Worl***rldHello W*** WorldHell***llo WorldH***dHello Wor***orldHello ***o WorldHel***ello World***ldHello Wo***WorldHello***lo WorldHe***Hello Worl***rldHello W*** WorldHell***llo WorldH***dHello Wor***orldHello ***o WorldHel***ello World***ldHello Wo***WorldHello***lo WorldHe***Hello Worl***rldHello W*** WorldHell***llo WorldH***dHello Wor***orldHello ***o WorldHel***ello World***ldHello Wo***WorldHello***lo WorldHe***Hello Worl***rldHello W*** WorldHell***llo WorldH***dHello Wor***orldHello ***o WorldHel***ello World***ldHello Wo***WorldHello***lo WorldHe***Hello Worl***rldHello W*** WorldHell***llo WorldH***dHello Wor***orldHello ***o WorldHel***ello World***ldHello Wo***WorldHello***lo WorldHe***Hello Worl***rldHello W*** WorldHell***llo WorldH***dHello Wor***orldHello ***o WorldHel***ello World***ldHello Wo***WorldHello***lo WorldHe***Hello Worl***rldHello W*** WorldHell***llo WorldH***dHello Wor***orldHello ***o WorldHel***ello World***ldHello Wo***WorldHello***lo WorldHe***Hello Worl***rldHello W*** WorldHell***llo WorldH***dHello Wor***orldHello ***o WorldHel***ello World***ldHello Wo***WorldHello***lo WorldHe***Hello Worl***rldHello W*** WorldHell***llo WorldH***dHello Wor***orldHello ***o WorldHel***ello World***ldHello Wo***WorldHello***lo WorldHe***Hello Worl***rldHello W*** WorldHell***llo WorldH***dHello Wor***orldHello ***o WorldHel***ello World***ldHello Wo***WorldHello***lo WorldHe***Hello Worl***rldHello W*** WorldHell***llo WorldH***dHello Wor***orldHello ***o WorldHel***ello World***ldHello Wo***WorldHello***lo WorldHe***Hello Worl***rldHello W*** WorldHell***llo WorldH***dHello Wor***orldHello ***o WorldHel***ello World***ldHello Wo***WorldHello***lo WorldHe***Hello Worl***rldHello W*** WorldHell***llo WorldH***dHello Wor***orldHello ***o WorldHel***ello World***ldHello Wo***WorldHello***lo WorldHe***Hello Worl***rldHello W*** WorldHell***llo WorldH***dHello Wor***orldHello ***o WorldHel***ello World***ldHello Wo***WorldHello***lo WorldHe***Hello Worl***rldHello W*** WorldHell***llo WorldH***dHello Wor***orldHello ***o WorldHel***ello World***ldHello Wo***WorldHello***lo WorldHe***Hello Worl***rldHello W*** WorldHell***llo WorldH***dHello Wor***orldHello ***o WorldHel***ello World***ldHello Wo***WorldHello***lo WorldHe***Hello Worl***rldHello W*** WorldHell***llo WorldH***dHello Wor***orldHello ***o WorldHel***ello World***ldHello Wo***WorldHello***lo WorldHe***Hello Worl***rldHello W*** WorldHell***llo WorldH***dHello Wor***orldHello ***o WorldHel***ello World***ldHello Wo***WorldHello***lo WorldHe***Hello Worl***rldHello W*** WorldHell***llo WorldH***dHello Wor***orldHello ***o WorldHel***ello World***ldHello Wo***WorldHello***lo WorldHe***Hello Worl***rldHello W*** WorldHell***llo WorldH***dHello Wor***orldHello ***o WorldHel***ello World***ldHello Wo***WorldHello***lo WorldHe***Hello Worl***rldHello W*** WorldHell***llo WorldH***dHello Wor***orldHello ***o WorldHel***ello World***ldHello Wo***WorldHello***lo WorldHe***Hello Worl***rldHello W*** WorldHell***llo WorldH***dHello Wor***orldHello ***o WorldHel***ello World***ldHello Wo***WorldHello***lo WorldHe***Hello Worl***rldHello W*** WorldHell***llo WorldH***dHello Wor***orldHello ***o WorldHel***ello World***ldHello Wo***WorldHello***lo WorldHe***Hello Worl***rldHello W*** WorldHell***llo WorldH***dHello Wor***orldHello ***o WorldHel***ello World***ldHello Wo***WorldHello***lo WorldHe***Hello Worl***rldHello W*** WorldHell***llo WorldH***dHello Wor***orldHello ***o WorldHel***ello World***ldHello Wo***WorldHello***lo WorldHe***Hello Worl***rldHello W*** WorldHell***llo WorldH***dHello Wor***orldHello ***o WorldHel***ello World***ldHello Wo***WorldHello***lo WorldHe***Hello Worl***rldHello W*** WorldHell***llo WorldH***dHello Wor***orldHello ***o WorldHel***ello World***ldHello Wo***WorldHello***lo WorldHe***Hello Worl***rldHello W*** WorldHell***llo WorldH***dHello Wor***orldHello ***o WorldHel***ello World***ldHello Wo***WorldHello***lo WorldHe***Hello Worl***rldHello W*** WorldHell***llo WorldH***dHello Wor***orldHello ***o WorldHel***ello World***ldHello Wo***WorldHello***lo WorldHe***Hello Worl***rldHello W*** WorldHell***llo WorldH***dHello Wor***orldHello ***o WorldHel***ello World***ldHello Wo***WorldHello***lo WorldHe***Hello Worl***rldHello W*** WorldHell***llo WorldH***dHello Wor***orldHello ***o WorldHel***ello World***ldHello Wo***WorldHello***lo WorldHe***Hello Worl***rldHello W*** WorldHell***llo WorldH***dHello Wor***orldHello ***o WorldHel***ello World***ldHello Wo***WorldHello***lo WorldHe***Hello Worl***rldHello W*** WorldHell***llo WorldH***dHello Wor***orldHello ***o WorldHel***ello World***ldHello Wo***WorldHello***lo WorldHe***Hello Worl***rldHello W*** WorldHell***llo WorldH***dHello Wor***orldHello ***o WorldHel***ello World***ldHello Wo***WorldHello***lo WorldHe***Hello Worl***rldHello W*** WorldHell***llo WorldH***dHello Wor***orldHello ***o WorldHel***ello World***ldHello Wo***WorldHello***lo WorldHe***Hello Worl***rldHello W*** WorldHell***llo WorldH***dHello Wor***orldHello ***o WorldHel***ello World***ldHello Wo***WorldHello***lo WorldHe***Hello Worl***rldHello W*** WorldHell***llo WorldH***dHello Wor***orldHello ***o WorldHel***ello World***ldHello Wo***WorldHello***lo WorldHe***Hello Worl***rldHello W*** WorldHell***llo WorldH***dHello Wor***orldHello ***o WorldHel***ello World***ldHello Wo***WorldHello***lo WorldHe***Hello Worl***rldHello W*** WorldHell***llo WorldH***dHello Wor***orldHello ***o WorldHel***ello World***ldHello Wo***WorldHello***lo WorldHe***Hello Worl***rldHello W*** WorldHell***llo WorldH***dHello Wor***orldHello ***o WorldHel***ello World***ldHello Wo***WorldHello***lo WorldHe***Hello Worl***rldHello W*** WorldHell***llo WorldH***dHello Wor***orldHello ***o WorldHel***ello World***ldHello Wo***WorldHello***lo WorldHe***Hello Worl***rldHello W*** WorldHell***llo WorldH***dHello Wor***orldHello ***o WorldHel***ello World***ldHello Wo***WorldHello***lo WorldHe***Hello Worl***rldHello W*** WorldHell***llo WorldH***dHello Wor***orldHello ***o WorldHel***ello World***ldHello Wo***WorldHello***lo WorldHe***Hello Worl***rldHello W*** WorldHell***llo WorldH***dHello Wor***orldHello ***o WorldHel***ello World***ldHello Wo***WorldHello***lo WorldHe***Hello Worl***rldHello W*** WorldHell***llo WorldH***dHello Wor***orldHello ***o WorldHel***ello World***ldHello Wo***WorldHello***lo WorldHe***Hello Worl***rldHello W*** WorldHell***llo WorldH***dHello Wor***orldHello ***o WorldHel***ello World***ldHello Wo***WorldHello***lo WorldHe***Hello Worl***rldHello W*** WorldHell***llo WorldH***dHello Wor***orldHello ***o WorldHel***ello World***ldHello Wo***WorldHello***lo WorldHe***Hello Worl***rldHello W*** WorldHell***llo WorldH***dHello Wor***orldHello ***o WorldHel***ello World***ldHello Wo***WorldHello***lo WorldHe***Hello Worl***rldHello W*** WorldHell***llo WorldH***dHello Wor***orldHello ***o WorldHel***ello World***ldHello Wo***WorldHello***lo WorldHe***Hello Worl***rldHello W*** WorldHell***llo WorldH***dHello Wor***orldHello ***o WorldHel***ello World***ldHello Wo***WorldHello***lo WorldHe***Hello Worl***rldHello W*** WorldHell***llo WorldH***dHello Wor***orldHello ***o WorldHel***ello World***ldHello Wo***WorldHello***lo WorldHe***Hello Worl***rldHello W*** WorldHell***llo WorldH***dHello Wor***orldHello ***o WorldHel***ello World***ldHello Wo***WorldHello***lo WorldHe***Hello Worl***rldHello W*** WorldHell***llo WorldH***dHello Wor***orldHello ***o WorldHel***ello World***ldHello Wo***WorldHello***lo WorldHe***Hello Worl***rldHello W*** WorldHell***llo WorldH***dHello Wor***orldHello ***o WorldHel***ello World***ldHello Wo***WorldHello***lo WorldHe***Hello Worl***rldHello W*** WorldHell***llo WorldH***dHello Wor***orldHello ***o WorldHel***ello World***ldHello Wo***WorldHello***lo WorldHe***Hello Worl***rldHello W*** WorldHell***llo WorldH***dHello Wor***orldHello ***o WorldHel***ello World***ldHello Wo***WorldHello***lo WorldHe***Hello Worl***rldHello W*** WorldHell***llo WorldH***dHello Wor***orldHello ***o WorldHel***ello World***ldHello Wo***WorldHello***lo WorldHe***Hello Worl***rldHello W*** WorldHell***llo WorldH***dHello Wor***orldHello ***o WorldHel***ello World***ldHello Wo***WorldHello***lo WorldHe***Hello Worl***rldHello W*** WorldHell***llo WorldH***dHello Wor***orldHello ***o WorldHel***ello World***ldHello Wo***WorldHello***lo WorldHe***Hello Worl***rldHello W*** WorldHell***llo WorldH***dHello Wor***orldHello ***o WorldHel***ello World***ldHello Wo***WorldHello***lo WorldHe***Hello Worl***rldHello W*** WorldHell***llo WorldH***dHello Wor***orldHello ***o WorldHel***ello World***ldHello Wo***WorldHello***lo WorldHe***Hello Worl***rldHello W*** WorldHell***llo WorldH***dHello Wor***orldHello ***o WorldHel***ello World***ldHello Wo***WorldHello***lo WorldHe***Hello Worl***rldHello W*** WorldHell***llo WorldH***dHello Wor***orldHello ***o WorldHel***ello World***ldHello Wo***WorldHello***lo WorldHe***Hello Worl***rldHello W*** WorldHell***llo WorldH***dHello Wor***orldHello ***o WorldHel***ello World***ldHello Wo***WorldHello***lo WorldHe***Hello Worl***rldHello W*** WorldHell***llo WorldH***dHello Wor***orldHello ***o WorldHel***ello World***ldHello Wo***WorldHello***lo WorldHe***Hello Worl***rldHello W*** WorldHell***llo WorldH***dHello Wor***orldHello ***o WorldHel***ello World***ldHello Wo***WorldHello***lo WorldHe***Hello Worl***rldHello W*** WorldHell***llo WorldH***dHello Wor***orldHello ***o WorldHel***ello World***ldHello Wo***WorldHello***lo WorldHe***Hello Worl***rldHello W*** WorldHell***llo WorldH***dHello Wor***orldHello ***o WorldHel***ello World***ldHello Wo***WorldHello***lo WorldHe***Hello Worl***rldHello W*** WorldHell***llo WorldH***dHello Wor***orldHello ***o WorldHel***ello World***ldHello Wo***WorldHello***lo WorldHe***Hello Worl***rldHello W*** WorldHell***llo WorldH***dHello Wor***orldHello ***o WorldHel***ello World***ldHello Wo***WorldHello***lo WorldHe***Hello Worl***rldHello W*** WorldHell***llo WorldH***dHello Wor***orldHello ***o WorldHel***ello World***ldHello Wo***WorldHello***lo WorldHe***Hello Worl***rldHello W*** WorldHell***llo WorldH***dHello Wor***orldHello ***o WorldHel***ello World***ldHello Wo***WorldHello***lo WorldHe***Hello Worl***rldHello W*** WorldHell***llo WorldH***dHello Wor***orldHello ***o WorldHel***ello World***ldHello Wo***WorldHello***lo WorldHe***Hello Worl***rldHello W*** WorldHell***llo WorldH***dHello Wor***orldHello ***o WorldHel***ello World***ldHello Wo***WorldHello***lo WorldHe***Hello Worl***rldHello W*** WorldHell***llo WorldH***dHello Wor***orldHello ***o WorldHel***ello World***ldHello Wo***WorldHello***lo WorldHe***Hello Worl***rldHello W*** WorldHell***llo WorldH***dHello Wor***orldHello ***o WorldHel***ello World***ldHello Wo***WorldHello***lo WorldHe***Hello Worl***rldHello W*** WorldHell***llo WorldH***dHello Wor***orldHello ***o WorldHel***ello World***ldHello Wo***WorldHello***lo WorldHe***Hello Worl***rldHello W*** WorldHell***llo WorldH***dHello Wor***orldHello ***o WorldHel***ello World***ldHello Wo***WorldHello***lo WorldHe***Hello Worl***rldHello W*** WorldHell***llo WorldH***dHello Wor***orldHello ***o WorldHel***ello World***ldHello Wo***WorldHello***lo WorldHe***Hello Worl***rldHello W*** WorldHell***llo WorldH***dHello Wor***orldHello ***o WorldHel***ello World***ldHello Wo***WorldHello***lo WorldHe***Hello Worl***rldHello W*** WorldHell***llo WorldH***dHello Wor***orldHello ***o WorldHel***ello World***ldHello Wo***WorldHello***lo WorldHe***Hello Worl***rldHello W*** WorldHell***llo WorldH***dHello Wor***orldHello ***o WorldHel***ello World***ldHello Wo***WorldHello***lo WorldHe***Hello Worl***rldHello W*** WorldHell***llo WorldH***dHello Wor***orldHello ***o WorldHel***ello World***ldHello Wo***WorldHello***lo WorldHe***Hello Worl***rldHello W*** WorldHell***llo WorldH***dHello Wor***orldHello ***o WorldHel***ello World***ldHello Wo***WorldHello***lo WorldHe***Hello Worl***rldHello W*** WorldHell***llo WorldH***dHello Wor***orldHello ***o WorldHel***ello World***ldHello Wo***WorldHello***lo WorldHe***Hello Worl***rldHello W*** WorldHell***llo WorldH***dHello Wor***orldHello ***o WorldHel***ello World***ldHello Wo***WorldHello***lo WorldHe***Hello Worl***rldHello W*** WorldHell***llo WorldH***dHello Wor***orldHello ***o WorldHel***ello World***ldHello Wo***WorldHello***lo WorldHe***Hello Worl***rldHello W*** WorldHell***llo WorldH***dHello Wor***orldHello ***o WorldHel***ello World***ldHello Wo***WorldHello***lo WorldHe***Hello Worl***rldHello W*** WorldHell***llo WorldH***dHello Wor***orldHello ***o WorldHel***ello World***ldHello Wo***WorldHello***lo WorldHe***Hello Worl***rldHello W*** WorldHell***llo WorldH***dHello Wor***orldHello ***o WorldHel***ello World***ldHello Wo***WorldHello***lo WorldHe***Hello Worl***rldHello W*** WorldHell***llo WorldH***dHello Wor***orldHello ***o WorldHel***ello World***ldHello Wo***WorldHello***lo WorldHe***Hello Worl***rldHello W*** WorldHell***llo WorldH***dHello Wor***orldHello ***o WorldHel***ello World***ldHello Wo***WorldHello***lo WorldHe***Hello Worl***rldHello W*** WorldHell***llo WorldH***dHello Wor***orldHello ***o WorldHel***ello World***ldHello Wo***WorldHello***lo WorldHe***Hello Worl***rldHello W*** WorldHell***llo WorldH***dHello Wor***orldHello ***o WorldHel***ello World***ldHello Wo***WorldHello***lo WorldHe***Hello Worl***rldHello W*** WorldHell***llo WorldH***dHello Wor***orldHello ***o WorldHel***ello World***ldHello Wo***WorldHello***lo WorldHe***Hello Worl***rldHello W*** WorldHell***llo WorldH***dHello Wor***orldHello ***o WorldHel***ello World***ldHello Wo***WorldHello***lo WorldHe***Hello Worl***rldHello W*** WorldHell***llo WorldH***dHello Wor***orldHello ***o WorldHel***ello World***ldHello Wo***WorldHello***lo WorldHe***Hello Worl***rldHello W*** WorldHell***llo WorldH***dHello Wor***orldHello ***o WorldHel***ello World***ldHello Wo***WorldHello***lo WorldHe***Hello Worl***rldHello W*** WorldHell***llo WorldH***dHello Wor***orldHello ***o WorldHel***ello World***ldHello Wo***WorldHello***lo WorldHe***Hello Worl***rldHello W*** WorldHell***llo WorldH***dHello Wor***orldHello ***o WorldHel***ello World***ldHello Wo***WorldHello***lo WorldHe***Hello Worl***rldHello W*** WorldHell***llo WorldH***dHello Wor***orldHello ***o WorldHel***ello World***ldHello Wo***WorldHello***lo WorldHe***Hello Worl***rldHello W*** WorldHell***llo WorldH***dHello Wor***orldHello ***o WorldHel***ello World***ldHello Wo***WorldHello***lo WorldHe***Hello Worl***rldHello W*** WorldHell***llo WorldH***dHello Wor***orldHello ***o WorldHel***ello World***ldHello Wo***WorldHello***lo WorldHe***Hello Worl***rldHello W*** WorldHell***llo WorldH***dHello Wor***orldHello ***o WorldHel***ello World***ldHello Wo***WorldHello***lo WorldHe***Hello Worl***rldHello W*** WorldHell***llo WorldH***dHello Wor***orldHello ***o WorldHel***ello World***ldHello Wo***WorldHello***lo WorldHe***Hello Worl***rldHello W*** WorldHell***llo WorldH***dHello Wor***orldHello ***o WorldHel***ello World***ldHello Wo***WorldHello***lo WorldHe***Hello Worl***rldHello W*** WorldHell***llo WorldH***dHello Wor***orldHello ***o WorldHel***ello World***ldHello Wo***WorldHello***lo WorldHe***Hello Worl***rldHello W*** WorldHell***llo WorldH***dHello Wor***orldHello ***o WorldHel***ello World***ldHello Wo***WorldHello***lo WorldHe***Hello Worl***rldHello W*** WorldHell***llo WorldH***dHello Wor***orldHello ***o WorldHel***ello World***ldHello Wo***WorldHello***lo WorldHe***Hello Worl***rldHello W*** WorldHell***llo WorldH***dHello Wor***orldHello ***o WorldHel***ello World***ldHello Wo***WorldHello***lo WorldHe***Hello Worl***rldHello W*** WorldHell***llo WorldH***dHello Wor***orldHello ***o WorldHel***ello World***ldHello Wo***WorldHello***lo WorldHe***Hello Worl***rldHello W*** WorldHell***llo WorldH***dHello Wor***orldHello ***o WorldHel***ello World***ldHello Wo***WorldHello***lo WorldHe***Hello Worl***rldHello W*** WorldHell***llo WorldH***dHello Wor***orldHello ***o WorldHel***ello World***ldHello Wo***WorldHello***lo WorldHe***Hello Worl***rldHello W*** WorldHell***llo WorldH***dHello Wor***orldHello ***o WorldHel***ello World***ldHello Wo***WorldHello***lo WorldHe***Hello Worl***rldHello W*** WorldHell***llo WorldH***dHello Wor***orldHello ***o WorldHel***ello World***ldHello Wo***WorldHello***lo WorldHe***Hello Worl***rldHello W*** WorldHell***llo WorldH***dHello Wor***orldHello ***o WorldHel***ello World***ldHello Wo***WorldHello***lo WorldHe***Hello Worl***rldHello W*** WorldHell***llo WorldH***dHello Wor***orldHello ***o WorldHel***ello World***ldHello Wo***WorldHello***lo WorldHe***Hello Worl***rldHello W*** WorldHell***llo WorldH***dHello Wor***orldHello ***o WorldHel***ello World***ldHello Wo***WorldHello***lo WorldHe***Hello Worl***rldHello W*** WorldHell***llo WorldH***dHello Wor***orldHello ***o WorldHel***ello World***ldHello Wo***WorldHello***lo WorldHe***Hello Worl***rldHello W*** WorldHell***llo WorldH***dHello Wor***orldHello ***o WorldHel***ello World***ldHello Wo***WorldHello***lo WorldHe***Hello Worl***rldHello W*** WorldHell***llo WorldH***dHello Wor***orldHello ***o WorldHel***ello World***ldHello Wo***WorldHello***lo WorldHe***Hello Worl***rldHello W*** WorldHell***llo WorldH***dHello Wor***orldHello ***o WorldHel***ello World***ldHello Wo***WorldHello***lo WorldHe***Hello Worl***rldHello W*** WorldHell***llo WorldH***dHello Wor***orldHello ***o WorldHel***ello World***ldHello Wo***WorldHello***lo WorldHe***Hello Worl***rldHello W*** WorldHell***llo WorldH***dHello Wor***orldHello ***o WorldHel***ello World***ldHello Wo***WorldHello***lo WorldHe***Hello Worl***rldHello W*** WorldHell***llo WorldH***dHello Wor***orldHello ***o WorldHel***ello World***ldHello Wo***WorldHello***lo WorldHe***Hello Worl***rldHello W*** WorldHell***llo WorldH***dHello Wor***orldHello ***o WorldHel***ello World***ldHello Wo***WorldHello***lo WorldHe***Hello Worl***rldHello W*** WorldHell***llo WorldH***dHello Wor***orldHello ***o WorldHel***ello World***ldHello Wo***WorldHello***lo WorldHe***Hello Worl***rldHello W*** WorldHell***llo WorldH***dHello Wor***orldHello ***o WorldHel***ello World***ldHello Wo***WorldHello***lo WorldHe***Hello Worl***rldHello W*** WorldHell***llo WorldH***dHello Wor***orldHello ***o WorldHel***ello World***ldHello Wo***WorldHello***lo WorldHe***Hello Worl***rldHello W*** WorldHell***llo WorldH***dHello Wor***orldHello ***o WorldHel***ello World***ldHello Wo***WorldHello***lo WorldHe***Hello Worl***rldHello W*** WorldHell***llo WorldH***dHello Wor***orldHello ***o WorldHel***ello World***ldHello Wo***WorldHello***lo WorldHe***Hello Worl***rldHello W*** WorldHell***llo WorldH***dHello Wor***orldHello ***o WorldHel***ello World***ldHello Wo***WorldHello***lo WorldHe***Hello Worl***rldHello W*** WorldHell***llo WorldH***dHello Wor***orldHello ***o WorldHel***ello World***ldHello Wo***WorldHello***lo WorldHe***Hello Worl***rldHello W*** WorldHell***llo WorldH***dHello Wor***orldHello ***o WorldHel***ello World***ldHello Wo***WorldHello***lo WorldHe***Hello Worl***rldHello W*** WorldHell***llo WorldH***dHello Wor***orldHello ***o WorldHel***ello World***ldHello Wo***WorldHello***lo WorldHe***Hello Worl***rldHello W*** WorldHell***llo WorldH***dHello Wor***orldHello ***o WorldHel***ello World***ldHello Wo***WorldHello***lo WorldHe***Hello Worl***rldHello W*** WorldHell***llo WorldH***dHello Wor***orldHello ***o WorldHel***ello World***ldHello Wo***WorldHello***lo WorldHe***Hello Worl***rldHello W*** WorldHell***llo WorldH***dHello Wor***orldHello ***o WorldHel***ello World***ldHello Wo***WorldHello***lo WorldHe***Hello Worl***rldHello W*** WorldHell***llo WorldH***dHello Wor***orldHello ***o WorldHel***ello World***ldHello Wo***WorldHello***lo WorldHe***Hello Worl***rldHello W*** WorldHell***llo WorldH***dHello Wor***orldHello ***o WorldHel***ello World***ldHello Wo***WorldHello***lo WorldHe***Hello Worl***rldHello W*** WorldHell***llo WorldH***dHello Wor***orldHello ***o WorldHel***ello World***ldHello Wo***WorldHello***lo WorldHe***Hello Worl***rldHello W*** WorldHell***llo WorldH***dHello Wor***orldHello ***o WorldHel***ello World***ldHello Wo***WorldHello***lo WorldHe***Hello Worl***rldHello W*** WorldHell***llo WorldH***dHello Wor***orldHello ***o WorldHel***ello World***ldHello Wo***WorldHello***lo WorldHe***Hello Worl***rldHello W*** WorldHell***llo WorldH***dHello Wor***orldHello ***o WorldHel***ello World***ldHello Wo***WorldHello***lo WorldHe***Hello Worl***rldHello W*** WorldHell***llo WorldH***dHello Wor***orldHello ***o WorldHel***ello World***ldHello Wo***WorldHello***lo WorldHe***Hello Worl***rldHello W*** WorldHell***llo WorldH***dHello Wor***orldHello ***o WorldHel***ello World***ldHello Wo***WorldHello***lo WorldHe***Hello Worl***rldHello W*** WorldHell***llo WorldH***dHello Wor***orldHello ***o WorldHel***ello World***ldHello Wo***WorldHello***lo WorldHe***Hello Worl***rldHello W*** WorldHell***llo WorldH***dHello Wor***orldHello ***o WorldHel***ello World***ldHello Wo***WorldHello***lo WorldHe***Hello Worl***rldHello W*** WorldHell***llo WorldH***dHello Wor***orldHello ***o WorldHel***ello World***ldHello Wo***WorldHello***lo WorldHe***Hello Worl***rldHello W*** WorldHell***llo WorldH***dHello Wor***orldHello ***o WorldHel***ello World***ldHello Wo***WorldHello***lo WorldHe***Hello Worl***rldHello W*** WorldHell***llo WorldH***dHello Wor***orldHello ***o WorldHel***ello World***ldHello Wo***WorldHello***lo WorldHe***Hello Worl***rldHello W*** WorldHell***llo WorldH***dHello Wor***orldHello ***o WorldHel***ello World***ldHello Wo***WorldHello***lo WorldHe***Hello Worl***rldHello W*** WorldHell***llo WorldH***dHello Wor***orldHello ***o WorldHel***ello World***ldHello Wo***WorldHello***lo WorldHe***Hello Worl***rldHello W*** WorldHell***llo WorldH***dHello Wor***orldHello ***o WorldHel***ello World***ldHello Wo***WorldHello***lo WorldHe***Hello Worl***rldHello W*** WorldHell***llo WorldH***dHello Wor***orldHello ***o WorldHel***ello World***ldHello Wo***WorldHello***lo WorldHe***Hello Worl***rldHello W*** WorldHell***llo WorldH***dHello Wor***orldHello ***o WorldHel***ello World***ldHello Wo***WorldHello***lo WorldHe***Hello Worl***rldHello W*** WorldHell***llo WorldH***dHello Wor***orldHello ***o WorldHel***ello World***ldHello Wo***WorldHello***lo WorldHe***Hello Worl***rldHello W*** WorldHell***llo WorldH***dHello Wor***orldHello ***o WorldHel***ello World***ldHello Wo***WorldHello***lo WorldHe***Hello Worl***rldHello W*** WorldHell***llo WorldH***dHello Wor***orldHello ***o WorldHel***ello World***ldHello Wo***WorldHello***lo WorldHe***Hello Worl***rldHello W*** WorldHell***llo WorldH***dHello Wor***orldHello ***o WorldHel***ello World***ldHello Wo***WorldHello***lo WorldHe***Hello Worl***rldHello W*** WorldHell***llo WorldH***dHello Wor***orldHello ***o WorldHel***ello World***ldHello Wo***WorldHello***lo WorldHe***Hello Worl***rldHello W*** WorldHell***llo WorldH***dHello Wor***orldHello ***o WorldHel***ello World***ldHello Wo***WorldHello***lo WorldHe***Hello Worl***rldHello W*** WorldHell***llo WorldH***dHello Wor***orldHello ***o WorldHel***ello World***ldHello Wo***WorldHello***lo WorldHe***Hello Worl***rldHello W*** WorldHell***llo WorldH***dHello Wor***orldHello ***o WorldHel***ello World***ldHello Wo***WorldHello***lo WorldHe***Hello Worl***rldHello W*** WorldHell***llo WorldH***dHello Wor***orldHello ***o WorldHel***ello World***ldHello Wo***WorldHello***lo WorldHe***Hello Worl***rldHello W*** WorldHell***llo WorldH***dHello Wor***orldHello ***o WorldHel***ello World***ldHello Wo***WorldHello***lo WorldHe***Hello Worl***rldHello W*** WorldHell***llo WorldH***dHello Wor***orldHello ***o WorldHel***ello World***ldHello Wo***WorldHello***lo WorldHe***Hello Worl***rldHello W*** WorldHell***llo WorldH***dHello Wor***orldHello ***o WorldHel***ello World***ldHello Wo***WorldHello***lo WorldHe***Hello Worl***rldHello W*** WorldHell***llo WorldH***dHello Wor***orldHello ***o WorldHel***ello World***ldHello Wo***WorldHello***lo WorldHe***Hello Worl***rldHello W*** WorldHell***llo WorldH***dHello Wor***orldHello ***o WorldHel***ello World***ldHello Wo***WorldHello***lo WorldHe***Hello Worl***rldHello W*** WorldHell***llo WorldH***dHello Wor***orldHello ***o WorldHel***ello World***ldHello Wo***WorldHello***lo WorldHe***Hello Worl***rldHello W*** WorldHell***llo WorldH***dHello Wor***orldHello ***o WorldHel***ello World***ldHello Wo***WorldHello***lo WorldHe***Hello Worl***rldHello W*** WorldHell***llo WorldH***dHello Wor***orldHello ***o WorldHel***ello World***ldHello Wo***WorldHello***lo WorldHe***Hello Worl***rldHello W*** WorldHell***llo WorldH***dHello Wor***orldHello ***o WorldHel***ello World***ldHello Wo***WorldHello***lo WorldHe***Hello Worl***rldHello W*** WorldHell***llo WorldH***dHello Wor***orldHello ***o WorldHel***ello World***ldHello Wo***WorldHello***lo WorldHe***Hello Worl***rldHello W*** WorldHell***llo WorldH***dHello Wor***orldHello ***o WorldHel***ello World***ldHello Wo***WorldHello***lo WorldHe***Hello Worl***rldHello W*** WorldHell***llo WorldH***dHello Wor***orldHello ***o WorldHel***ello World***ldHello Wo***WorldHello***lo WorldHe***Hello Worl***rldHello W*** WorldHell***llo WorldH***dHello Wor***orldHello ***o WorldHel***ello World***ldHello Wo***WorldHello***lo WorldHe***Hello Worl***rldHello W*** WorldHell***llo WorldH***dHello Wor***orldHello ***o WorldHel***ello World***ldHello Wo***WorldHello***lo WorldHe***Hello Worl***rldHello W*** WorldHell***llo WorldH***dHello Wor***orldHello ***o WorldHel***ello World***ldHello Wo***WorldHello***lo WorldHe***Hello Worl***rldHello W*** WorldHell***llo WorldH***dHello Wor***orldHello ***o WorldHel***ello World***ldHello Wo***WorldHello***lo WorldHe***Hello Worl***rldHello W*** WorldHell***llo WorldH***dHello Wor***orldHello ***o WorldHel***ello World***ldHello Wo***WorldHello***lo WorldHe***Hello Worl***rldHello W*** WorldHell***llo WorldH***dHello Wor***orldHello ***o WorldHel***ello World***ldHello Wo***WorldHello***lo WorldHe***Hello Worl***rldHello W*** WorldHell***llo WorldH***dHello Wor***orldHello ***o WorldHel***ello World***ldHello Wo***WorldHello***lo WorldHe***Hello Worl***rldHello W*** WorldHell***llo WorldH***dHello Wor***orldHello ***o WorldHel***ello World***ldHello Wo***WorldHello***lo WorldHe***Hello Worl***rldHello W*** WorldHell***llo WorldH***dHello Wor***orldHello ***o WorldHel***ello World***ldHello Wo***WorldHello***lo WorldHe***Hello Worl***rldHello W*** WorldHell***llo WorldH***dHello Wor***orldHello ***o WorldHel***ello World***ldHello Wo***WorldHello***lo WorldHe***Hello Worl***rldHello W*** WorldHell***llo WorldH***dHello Wor***orldHello ***o WorldHel***ello World***ldHello Wo***WorldHello***lo WorldHe***Hello Worl***rldHello W*** WorldHell***llo WorldH***dHello Wor***orldHello ***o WorldHel***ello World***ldHello Wo***WorldHello***lo WorldHe***Hello Worl***rldHello W*** WorldHell***llo WorldH***dHello Wor***orldHello ***o WorldHel***ello World***ldHello Wo***WorldHello***lo WorldHe***Hello Worl***rldHello W*** WorldHell***llo WorldH***dHello Wor***orldHello ***o WorldHel***ello World***ldHello Wo***WorldHello***lo WorldHe***Hello Worl***rldHello W*** WorldHell***llo WorldH***dHello Wor***orldHello ***o WorldHel***ello World***ldHello Wo***WorldHello***lo WorldHe***Hello Worl***rldHello W*** WorldHell***llo WorldH***dHello Wor***orldHello ***o WorldHel***ello World***ldHello Wo***WorldHello***lo WorldHe***Hello Worl***rldHello W*** WorldHell***llo WorldH***dHello Wor***orldHello ***o WorldHel***ello World***ldHello Wo***WorldHello***lo WorldHe***Hello Worl***rldHello W*** WorldHell***llo WorldH***dHello Wor***orldHello ***o WorldHel***ello World***ldHello Wo***WorldHello***lo WorldHe***Hello Worl***rldHello W*** WorldHell***llo WorldH***dHello Wor***orldHello ***o WorldHel***ello World***ldHello Wo***WorldHello***lo WorldHe***Hello Worl***rldHello W*** WorldHell***llo WorldH***dHello Wor***orldHello ***o WorldHel***ello World***ldHello Wo***WorldHello***lo WorldHe***Hello Worl***rldHello W*** WorldHell***llo WorldH***dHello Wor***orldHello ***o WorldHel***ello World***ldHello Wo***WorldHello***lo WorldHe***Hello Worl***rldHello W*** WorldHell***llo WorldH***dHello Wor***orldHello ***o WorldHel***ello World***ldHello Wo***WorldHello***lo WorldHe***Hello Worl***rldHello W*** WorldHell***llo WorldH***dHello Wor***orldHello ***o WorldHel***ello World***ldHello Wo***WorldHello***lo WorldHe***Hello Worl***rldHello W*** WorldHell***llo WorldH***dHello Wor***orldHello ***o WorldHel***ello World***ldHello Wo***WorldHello***lo WorldHe***Hello Worl***rldHello W*** WorldHell***llo WorldH***dHello Wor***orldHello ***o WorldHel***ello World***ldHello Wo***WorldHello***lo WorldHe***Hello Worl***rldHello W*** WorldHell***llo WorldH***dHello Wor***orldHello ***o WorldHel***ello World***ldHello Wo***WorldHello***lo WorldHe***Hello Worl***rldHello W*** WorldHell***llo WorldH***dHello Wor***orldHello ***o WorldHel***ello World***ldHello Wo***WorldHello***lo WorldHe***Hello Worl***rldHello W*** WorldHell***llo WorldH***dHello Wor***orldHello ***o WorldHel***ello World***ldHello Wo***WorldHello***lo WorldHe***Hello Worl***rldHello W*** WorldHell***llo WorldH***dHello Wor***orldHello ***o WorldHel***ello World***ldHello Wo***WorldHello***lo WorldHe***Hello Worl***rldHello W*** WorldHell***llo WorldH***dHello Wor***orldHello ***o WorldHel***ello World***ldHello Wo***WorldHello***lo WorldHe***Hello Worl***rldHello W*** WorldHell***llo WorldH***dHello Wor***orldHello ***o WorldHel***ello World***ldHello Wo***WorldHello***lo WorldHe***Hello Worl***rldHello W*** WorldHell***llo WorldH***dHello Wor***orldHello ***o WorldHel***ello World***ldHello Wo***WorldHello***lo WorldHe***Hello Worl***rldHello W*** WorldHell***llo WorldH***dHello Wor***orldHello ***o WorldHel***ello World***ldHello Wo***WorldHello***lo WorldHe***Hello Worl***rldHello W*** WorldHell***llo WorldH***dHello Wor***orldHello ***o WorldHel***ello World***ldHello Wo***WorldHello***lo WorldHe***Hello Worl***rldHello W*** WorldHell***llo WorldH***dHello Wor***orldHello ***o WorldHel***ello World***ldHello Wo***WorldHello***lo WorldHe***Hello Worl***rldHello W*** WorldHell***llo WorldH***dHello Wor***orldHello ***o WorldHel***ello World***ldHello Wo***WorldHello***lo WorldHe***Hello Worl***rldHello W*** WorldHell***llo WorldH***dHello Wor***orldHello ***o WorldHel***ello World***ldHello Wo***WorldHello***lo WorldHe***Hello Worl***rldHello W*** WorldHell***llo WorldH***dHello Wor***orldHello ***o WorldHel***ello World***ldHello Wo***WorldHello***lo WorldHe***Hello Worl***rldHello W*** WorldHell***llo WorldH***dHello Wor***orldHello ***o WorldHel***ello World***ldHello Wo***WorldHello***lo WorldHe***Hello Worl***rldHello W*** WorldHell***llo WorldH***dHello Wor***orldHello ***o WorldHel***ello World***ldHello Wo***WorldHello***lo WorldHe***Hello Worl***rldHello W*** WorldHell***llo WorldH***dHello Wor***orldHello ***o WorldHel***ello World***ldHello Wo***WorldHello***lo WorldHe***Hello Worl***rldHello W*** WorldHell***llo WorldH***dHello Wor***orldHello ***o WorldHel***ello World***ldHello Wo***WorldHello***lo WorldHe***Hello Worl***rldHello W*** WorldHell***llo WorldH***dHello Wor***orldHello ***o WorldHel***ello World***ldHello Wo***WorldHello***lo WorldHe***Hello Worl***rldHello W*** WorldHell***llo WorldH***dHello Wor***orldHello ***o WorldHel***ello World***ldHello Wo***WorldHello***lo WorldHe***Hello Worl***rldHello W*** WorldHell***llo WorldH***dHello Wor***orldHello ***o WorldHel***ello World***ldHello Wo***WorldHello***lo WorldHe***Hello Worl***rldHello W*** WorldHell***llo WorldH***dHello Wor***orldHello ***o WorldHel***ello World***ldHello Wo***WorldHello***lo WorldHe***Hello Worl***rldHello W*** WorldHell***llo WorldH***dHello Wor***orldHello ***o WorldHel***ello World***ldHello Wo***WorldHello***lo WorldHe***Hello Worl***rldHello W*** WorldHell***llo WorldH***dHello Wor***orldHello ***o WorldHel***ello World***ldHello Wo***WorldHello***lo WorldHe***Hello Worl***rldHello W*** WorldHell***llo WorldH***dHello Wor***orldHello ***o WorldHel***ello World***ldHello Wo***WorldHello***lo WorldHe***Hello Worl***rldHello W*** WorldHell***llo WorldH***dHello Wor***orldHello ***o WorldHel***ello World***ldHello Wo***WorldHello***lo WorldHe***Hello Worl***rldHello W*** WorldHell***llo WorldH***dHello Wor***orldHello ***o WorldHel***ello World***ldHello Wo***WorldHello***lo WorldHe***Hello Worl***rldHello W*** WorldHell***llo WorldH***dHello Wor***orldHello ***o WorldHel***ello World***ldHello Wo***WorldHello***lo WorldHe***Hello Worl***rldHello W*** WorldHell***llo WorldH***dHello Wor***orldHello ***o WorldHel***ello World***ldHello Wo***WorldHello***lo WorldHe***Hello Worl***rldHello W*** WorldHell***llo WorldH***dHello Wor***orldHello ***o WorldHel***ello World***ldHello Wo***WorldHello***lo WorldHe***Hello Worl***rldHello W*** WorldHell***llo WorldH***dHello Wor***orldHello ***o WorldHel***ello World***ldHello Wo***WorldHello***lo WorldHe***Hello Worl***rldHello W*** WorldHell***llo WorldH***dHello Wor***orldHello ***o WorldHel***ello World***"
     ]
    }
   ],
   "source": [
    "# Benefit to load big files in memory\n",
    "chunk_size = 10\n",
    "with open(\"Sample1.txt\", \"r\") as f:\n",
    "    while len(f.read(chunk_size)) > 0:    \n",
    "        print(f.read(chunk_size), end=\"***\")\n",
    "        f.read(chunk_size)"
   ]
  },
  {
   "cell_type": "code",
   "execution_count": 79,
   "id": "76d8d817",
   "metadata": {},
   "outputs": [
    {
     "name": "stdout",
     "output_type": "stream",
     "text": [
      "Hello\n",
      "5\n",
      "am fi\n",
      "20\n"
     ]
    }
   ],
   "source": [
    "with open(\"Sample.txt\",\"r\") as f:\n",
    "    print(f.read(5)) # Start from 0 to 10\n",
    "    print(f.tell()) # Tell the current cursor position\n",
    "    f.seek(15)\n",
    "    print(f.read(5))\n",
    "    print(f.tell())    "
   ]
  },
  {
   "cell_type": "code",
   "execution_count": null,
   "id": "527e8f84",
   "metadata": {},
   "outputs": [],
   "source": [
    "# how to reach end of file ?"
   ]
  },
  {
   "cell_type": "code",
   "execution_count": 82,
   "id": "3c0e9c96",
   "metadata": {},
   "outputs": [],
   "source": [
    "with open('Sample.txt', \"w\") as f:\n",
    "    f.write(\"Hello\")\n",
    "    f.seek(0)\n",
    "    f.write(\"Xa\")"
   ]
  },
  {
   "cell_type": "code",
   "execution_count": 1,
   "id": "ac674c52",
   "metadata": {},
   "outputs": [
    {
     "ename": "UnicodeDecodeError",
     "evalue": "'charmap' codec can't decode byte 0x8f in position 57: character maps to <undefined>",
     "output_type": "error",
     "traceback": [
      "\u001b[1;31m---------------------------------------------------------------------------\u001b[0m",
      "\u001b[1;31mUnicodeDecodeError\u001b[0m                        Traceback (most recent call last)",
      "\u001b[1;32m~\\AppData\\Local\\Temp\\ipykernel_9136\\1795189181.py\u001b[0m in \u001b[0;36m<module>\u001b[1;34m\u001b[0m\n\u001b[0;32m      4\u001b[0m \u001b[1;33m\u001b[0m\u001b[0m\n\u001b[0;32m      5\u001b[0m \u001b[1;32mwith\u001b[0m \u001b[0mopen\u001b[0m\u001b[1;33m(\u001b[0m\u001b[1;34m\"screenshot.png\"\u001b[0m\u001b[1;33m,\u001b[0m \u001b[1;34m\"r\"\u001b[0m\u001b[1;33m)\u001b[0m \u001b[1;32mas\u001b[0m \u001b[0mf\u001b[0m\u001b[1;33m:\u001b[0m\u001b[1;33m\u001b[0m\u001b[1;33m\u001b[0m\u001b[0m\n\u001b[1;32m----> 6\u001b[1;33m     \u001b[0mf\u001b[0m\u001b[1;33m.\u001b[0m\u001b[0mread\u001b[0m\u001b[1;33m(\u001b[0m\u001b[1;33m)\u001b[0m\u001b[1;33m\u001b[0m\u001b[1;33m\u001b[0m\u001b[0m\n\u001b[0m",
      "\u001b[1;32m~\\anaconda3\\lib\\encodings\\cp1252.py\u001b[0m in \u001b[0;36mdecode\u001b[1;34m(self, input, final)\u001b[0m\n\u001b[0;32m     21\u001b[0m \u001b[1;32mclass\u001b[0m \u001b[0mIncrementalDecoder\u001b[0m\u001b[1;33m(\u001b[0m\u001b[0mcodecs\u001b[0m\u001b[1;33m.\u001b[0m\u001b[0mIncrementalDecoder\u001b[0m\u001b[1;33m)\u001b[0m\u001b[1;33m:\u001b[0m\u001b[1;33m\u001b[0m\u001b[1;33m\u001b[0m\u001b[0m\n\u001b[0;32m     22\u001b[0m     \u001b[1;32mdef\u001b[0m \u001b[0mdecode\u001b[0m\u001b[1;33m(\u001b[0m\u001b[0mself\u001b[0m\u001b[1;33m,\u001b[0m \u001b[0minput\u001b[0m\u001b[1;33m,\u001b[0m \u001b[0mfinal\u001b[0m\u001b[1;33m=\u001b[0m\u001b[1;32mFalse\u001b[0m\u001b[1;33m)\u001b[0m\u001b[1;33m:\u001b[0m\u001b[1;33m\u001b[0m\u001b[1;33m\u001b[0m\u001b[0m\n\u001b[1;32m---> 23\u001b[1;33m         \u001b[1;32mreturn\u001b[0m \u001b[0mcodecs\u001b[0m\u001b[1;33m.\u001b[0m\u001b[0mcharmap_decode\u001b[0m\u001b[1;33m(\u001b[0m\u001b[0minput\u001b[0m\u001b[1;33m,\u001b[0m\u001b[0mself\u001b[0m\u001b[1;33m.\u001b[0m\u001b[0merrors\u001b[0m\u001b[1;33m,\u001b[0m\u001b[0mdecoding_table\u001b[0m\u001b[1;33m)\u001b[0m\u001b[1;33m[\u001b[0m\u001b[1;36m0\u001b[0m\u001b[1;33m]\u001b[0m\u001b[1;33m\u001b[0m\u001b[1;33m\u001b[0m\u001b[0m\n\u001b[0m\u001b[0;32m     24\u001b[0m \u001b[1;33m\u001b[0m\u001b[0m\n\u001b[0;32m     25\u001b[0m \u001b[1;32mclass\u001b[0m \u001b[0mStreamWriter\u001b[0m\u001b[1;33m(\u001b[0m\u001b[0mCodec\u001b[0m\u001b[1;33m,\u001b[0m\u001b[0mcodecs\u001b[0m\u001b[1;33m.\u001b[0m\u001b[0mStreamWriter\u001b[0m\u001b[1;33m)\u001b[0m\u001b[1;33m:\u001b[0m\u001b[1;33m\u001b[0m\u001b[1;33m\u001b[0m\u001b[0m\n",
      "\u001b[1;31mUnicodeDecodeError\u001b[0m: 'charmap' codec can't decode byte 0x8f in position 57: character maps to <undefined>"
     ]
    }
   ],
   "source": [
    "# Problem working in text mode\n",
    "# Can't work in binary files like images\n",
    "# not good for other dta types likes int/float/list/tuples\n",
    "\n",
    "with open(\"screenshot.png\", \"r\") as f:\n",
    "    f.read()"
   ]
  },
  {
   "cell_type": "markdown",
   "id": "69556dcf",
   "metadata": {},
   "source": [
    "### Working with binary files"
   ]
  },
  {
   "cell_type": "code",
   "execution_count": 2,
   "id": "20df9e86",
   "metadata": {},
   "outputs": [],
   "source": [
    "with open(\"screenshot.png\", \"rb\") as f: # Read image file\n",
    "    with open(\"screenshot_copy.png\", \"wb\") as wf: # write image file\n",
    "        wf.write(f.read())"
   ]
  },
  {
   "cell_type": "markdown",
   "id": "67c1f2e1",
   "metadata": {},
   "source": [
    "### Working with other data types"
   ]
  },
  {
   "cell_type": "code",
   "execution_count": 5,
   "id": "6fc73fdf",
   "metadata": {},
   "outputs": [
    {
     "ename": "TypeError",
     "evalue": "write() argument must be str, not int",
     "output_type": "error",
     "traceback": [
      "\u001b[1;31m---------------------------------------------------------------------------\u001b[0m",
      "\u001b[1;31mTypeError\u001b[0m                                 Traceback (most recent call last)",
      "\u001b[1;32m~\\AppData\\Local\\Temp\\ipykernel_9136\\1859795130.py\u001b[0m in \u001b[0;36m<module>\u001b[1;34m\u001b[0m\n\u001b[0;32m      2\u001b[0m \u001b[1;33m\u001b[0m\u001b[0m\n\u001b[0;32m      3\u001b[0m \u001b[1;32mwith\u001b[0m \u001b[0mopen\u001b[0m\u001b[1;33m(\u001b[0m\u001b[1;34m\"Sample.txt\"\u001b[0m\u001b[1;33m,\u001b[0m \u001b[1;34m\"w\"\u001b[0m\u001b[1;33m)\u001b[0m \u001b[1;32mas\u001b[0m \u001b[0mf\u001b[0m\u001b[1;33m:\u001b[0m\u001b[1;33m\u001b[0m\u001b[1;33m\u001b[0m\u001b[0m\n\u001b[1;32m----> 4\u001b[1;33m     \u001b[0mf\u001b[0m\u001b[1;33m.\u001b[0m\u001b[0mwrite\u001b[0m\u001b[1;33m(\u001b[0m\u001b[1;36m5\u001b[0m\u001b[1;33m)\u001b[0m\u001b[1;33m\u001b[0m\u001b[1;33m\u001b[0m\u001b[0m\n\u001b[0m",
      "\u001b[1;31mTypeError\u001b[0m: write() argument must be str, not int"
     ]
    }
   ],
   "source": [
    "with open(\"Sample.txt\", \"w\") as f:\n",
    "    f.write(5)"
   ]
  },
  {
   "cell_type": "code",
   "execution_count": 6,
   "id": "55aad3e1",
   "metadata": {},
   "outputs": [],
   "source": [
    "with open(\"Sample.txt\", \"w\") as f:\n",
    "    f.write(\"5\")   "
   ]
  },
  {
   "cell_type": "code",
   "execution_count": 8,
   "id": "5879b862",
   "metadata": {},
   "outputs": [
    {
     "name": "stdout",
     "output_type": "stream",
     "text": [
      "10\n"
     ]
    }
   ],
   "source": [
    "with open(\"Sample.txt\",\"r\") as f:\n",
    "    print(int(f.read()) + 5)"
   ]
  },
  {
   "cell_type": "code",
   "execution_count": 11,
   "id": "adbc7c19",
   "metadata": {},
   "outputs": [],
   "source": [
    "d = {\n",
    "    \"name\":\"Atif Salam\",\n",
    "    \"age\": 45,\n",
    "    \"gender\": \"Male\"\n",
    "}\n",
    "\n",
    "with open(\"Sample.txt\", \"w\") as f:\n",
    "    f.write(str(d))"
   ]
  },
  {
   "cell_type": "code",
   "execution_count": 17,
   "id": "d5ba0256",
   "metadata": {},
   "outputs": [
    {
     "name": "stdout",
     "output_type": "stream",
     "text": [
      "{'name': 'Atif Salam', 'age': 45, 'gender': 'Male'}\n",
      "<class 'str'>\n",
      "{}\n"
     ]
    }
   ],
   "source": [
    "with open(\"Sample.txt\", \"r\") as f:\n",
    "    print(f.read())\n",
    "    print(type(f.read()))\n",
    "    print(dict(f.read()))"
   ]
  },
  {
   "cell_type": "markdown",
   "id": "71e1c00a",
   "metadata": {},
   "source": [
    "### Serialization And Deserialzation\n",
    "#### Serialization is the process of converting python data types into JSON format\n",
    "#### Desrialization is the process of converting JSON back to python data types\n",
    "\n",
    "#### JSON - Java Script On Notation, it is a universal format understood by all programming languages"
   ]
  },
  {
   "cell_type": "code",
   "execution_count": null,
   "id": "87ce0c14",
   "metadata": {},
   "outputs": [],
   "source": [
    "# List\n",
    "import json\n",
    "L = [1,2,3,4,5]\n",
    "\n",
    "with open(\"demo.json\", \"w\") as f:\n",
    "    json.dump(L,f)"
   ]
  },
  {
   "cell_type": "code",
   "execution_count": 21,
   "id": "8c8696ef",
   "metadata": {},
   "outputs": [],
   "source": [
    "# Serialization\n",
    "\n",
    "d = {\n",
    "    \"name\":\"Atif Salam\",\n",
    "    \"age\": 45,\n",
    "    \"gender\": \"Male\"\n",
    "}\n",
    "\n",
    "with open(\"demo.json\", \"w\") as f:\n",
    "    json.dump(d,f, indent=4)"
   ]
  },
  {
   "cell_type": "code",
   "execution_count": 24,
   "id": "5b997e2a",
   "metadata": {},
   "outputs": [
    {
     "name": "stdout",
     "output_type": "stream",
     "text": [
      "{'name': 'Atif Salam', 'age': 45, 'gender': 'Male'}\n",
      "<class 'dict'>\n"
     ]
    }
   ],
   "source": [
    "# Deserialization\n",
    "\n",
    "with open(\"demo.json\", \"r\") as f:\n",
    "    d_json = json.load(f)\n",
    "    print(d_json)\n",
    "    print(type(d_json))"
   ]
  },
  {
   "cell_type": "code",
   "execution_count": 25,
   "id": "3131f276",
   "metadata": {},
   "outputs": [],
   "source": [
    "t = (1,2,3,4,5)\n",
    "\n",
    "with open(\"demo.json\", \"w\") as f:\n",
    "    json.dump(t,f) # Tuple always store in list why?  "
   ]
  },
  {
   "cell_type": "markdown",
   "id": "2d16aa13",
   "metadata": {},
   "source": [
    "### Serialization And Deserialzation custom objects"
   ]
  },
  {
   "cell_type": "code",
   "execution_count": 28,
   "id": "6769d70a",
   "metadata": {},
   "outputs": [
    {
     "ename": "TypeError",
     "evalue": "Object of type Person is not JSON serializable",
     "output_type": "error",
     "traceback": [
      "\u001b[1;31m---------------------------------------------------------------------------\u001b[0m",
      "\u001b[1;31mTypeError\u001b[0m                                 Traceback (most recent call last)",
      "\u001b[1;32m~\\AppData\\Local\\Temp\\ipykernel_9136\\493367292.py\u001b[0m in \u001b[0;36m<module>\u001b[1;34m\u001b[0m\n\u001b[0;32m      9\u001b[0m \u001b[1;33m\u001b[0m\u001b[0m\n\u001b[0;32m     10\u001b[0m \u001b[1;32mwith\u001b[0m \u001b[0mopen\u001b[0m\u001b[1;33m(\u001b[0m\u001b[1;34m\"demo.json\"\u001b[0m\u001b[1;33m,\u001b[0m \u001b[1;34m\"w\"\u001b[0m\u001b[1;33m)\u001b[0m \u001b[1;32mas\u001b[0m \u001b[0mf\u001b[0m\u001b[1;33m:\u001b[0m\u001b[1;33m\u001b[0m\u001b[1;33m\u001b[0m\u001b[0m\n\u001b[1;32m---> 11\u001b[1;33m     \u001b[0mjson\u001b[0m\u001b[1;33m.\u001b[0m\u001b[0mdump\u001b[0m\u001b[1;33m(\u001b[0m\u001b[0mperson\u001b[0m\u001b[1;33m,\u001b[0m\u001b[0mf\u001b[0m\u001b[1;33m)\u001b[0m\u001b[1;33m\u001b[0m\u001b[1;33m\u001b[0m\u001b[0m\n\u001b[0m",
      "\u001b[1;32m~\\anaconda3\\lib\\json\\__init__.py\u001b[0m in \u001b[0;36mdump\u001b[1;34m(obj, fp, skipkeys, ensure_ascii, check_circular, allow_nan, cls, indent, separators, default, sort_keys, **kw)\u001b[0m\n\u001b[0;32m    177\u001b[0m     \u001b[1;31m# could accelerate with writelines in some versions of Python, at\u001b[0m\u001b[1;33m\u001b[0m\u001b[1;33m\u001b[0m\u001b[0m\n\u001b[0;32m    178\u001b[0m     \u001b[1;31m# a debuggability cost\u001b[0m\u001b[1;33m\u001b[0m\u001b[1;33m\u001b[0m\u001b[0m\n\u001b[1;32m--> 179\u001b[1;33m     \u001b[1;32mfor\u001b[0m \u001b[0mchunk\u001b[0m \u001b[1;32min\u001b[0m \u001b[0miterable\u001b[0m\u001b[1;33m:\u001b[0m\u001b[1;33m\u001b[0m\u001b[1;33m\u001b[0m\u001b[0m\n\u001b[0m\u001b[0;32m    180\u001b[0m         \u001b[0mfp\u001b[0m\u001b[1;33m.\u001b[0m\u001b[0mwrite\u001b[0m\u001b[1;33m(\u001b[0m\u001b[0mchunk\u001b[0m\u001b[1;33m)\u001b[0m\u001b[1;33m\u001b[0m\u001b[1;33m\u001b[0m\u001b[0m\n\u001b[0;32m    181\u001b[0m \u001b[1;33m\u001b[0m\u001b[0m\n",
      "\u001b[1;32m~\\anaconda3\\lib\\json\\encoder.py\u001b[0m in \u001b[0;36m_iterencode\u001b[1;34m(o, _current_indent_level)\u001b[0m\n\u001b[0;32m    436\u001b[0m                     \u001b[1;32mraise\u001b[0m \u001b[0mValueError\u001b[0m\u001b[1;33m(\u001b[0m\u001b[1;34m\"Circular reference detected\"\u001b[0m\u001b[1;33m)\u001b[0m\u001b[1;33m\u001b[0m\u001b[1;33m\u001b[0m\u001b[0m\n\u001b[0;32m    437\u001b[0m                 \u001b[0mmarkers\u001b[0m\u001b[1;33m[\u001b[0m\u001b[0mmarkerid\u001b[0m\u001b[1;33m]\u001b[0m \u001b[1;33m=\u001b[0m \u001b[0mo\u001b[0m\u001b[1;33m\u001b[0m\u001b[1;33m\u001b[0m\u001b[0m\n\u001b[1;32m--> 438\u001b[1;33m             \u001b[0mo\u001b[0m \u001b[1;33m=\u001b[0m \u001b[0m_default\u001b[0m\u001b[1;33m(\u001b[0m\u001b[0mo\u001b[0m\u001b[1;33m)\u001b[0m\u001b[1;33m\u001b[0m\u001b[1;33m\u001b[0m\u001b[0m\n\u001b[0m\u001b[0;32m    439\u001b[0m             \u001b[1;32myield\u001b[0m \u001b[1;32mfrom\u001b[0m \u001b[0m_iterencode\u001b[0m\u001b[1;33m(\u001b[0m\u001b[0mo\u001b[0m\u001b[1;33m,\u001b[0m \u001b[0m_current_indent_level\u001b[0m\u001b[1;33m)\u001b[0m\u001b[1;33m\u001b[0m\u001b[1;33m\u001b[0m\u001b[0m\n\u001b[0;32m    440\u001b[0m             \u001b[1;32mif\u001b[0m \u001b[0mmarkers\u001b[0m \u001b[1;32mis\u001b[0m \u001b[1;32mnot\u001b[0m \u001b[1;32mNone\u001b[0m\u001b[1;33m:\u001b[0m\u001b[1;33m\u001b[0m\u001b[1;33m\u001b[0m\u001b[0m\n",
      "\u001b[1;32m~\\anaconda3\\lib\\json\\encoder.py\u001b[0m in \u001b[0;36mdefault\u001b[1;34m(self, o)\u001b[0m\n\u001b[0;32m    177\u001b[0m \u001b[1;33m\u001b[0m\u001b[0m\n\u001b[0;32m    178\u001b[0m         \"\"\"\n\u001b[1;32m--> 179\u001b[1;33m         raise TypeError(f'Object of type {o.__class__.__name__} '\n\u001b[0m\u001b[0;32m    180\u001b[0m                         f'is not JSON serializable')\n\u001b[0;32m    181\u001b[0m \u001b[1;33m\u001b[0m\u001b[0m\n",
      "\u001b[1;31mTypeError\u001b[0m: Object of type Person is not JSON serializable"
     ]
    }
   ],
   "source": [
    "class Person:\n",
    "    \n",
    "    def __init__(self,fname, lname, age, gender):\n",
    "        self.fname = fname\n",
    "        self.lname = lname\n",
    "        self.age = age\n",
    "        self.gender = gender\n",
    "person = Person(\"Atif\", \"Salam\", 45, \"Male\")\n",
    "\n",
    "with open(\"demo.json\", \"w\") as f:\n",
    "    json.dump(person,f)"
   ]
  },
  {
   "cell_type": "code",
   "execution_count": 29,
   "id": "626f8ca6",
   "metadata": {},
   "outputs": [],
   "source": [
    "# if we want serialization our custom object\n",
    "# In string format\n",
    "\n",
    "class Person:\n",
    "    \n",
    "    def __init__(self,fname, lname, age, gender):\n",
    "        self.fname = fname\n",
    "        self.lname = lname\n",
    "        self.age = age\n",
    "        self.gender = gender\n",
    "person = Person(\"Atif\", \"Salam\", 45, \"Male\")\n",
    "\n",
    "def show_object(person):\n",
    "    if isinstance(person, Person):\n",
    "        return \"{} {} age -> {} gender -> {}\".format(person.fname, person.lname, person.age, person.gender)\n",
    "    \n",
    "with open(\"demo.json\", \"w\") as f:\n",
    "    json.dump(person,f, default=show_object)"
   ]
  },
  {
   "cell_type": "code",
   "execution_count": 32,
   "id": "9acf2e17",
   "metadata": {},
   "outputs": [],
   "source": [
    "# if we want serialization our custom object\n",
    "# In dictionary format\n",
    "\n",
    "class Person:\n",
    "    \n",
    "    def __init__(self,fname, lname, age, gender):\n",
    "        self.fname = fname\n",
    "        self.lname = lname\n",
    "        self.age = age\n",
    "        self.gender = gender\n",
    "person = Person(\"Atif\", \"Salam\", 45, \"Male\")\n",
    "\n",
    "def show_object(person):\n",
    "    if isinstance(person, Person):\n",
    "        return {\"name\":person.fname + \" \" + person.lname, \"age\":person.age, \"gender\":person.gender}\n",
    "    \n",
    "with open(\"demo.json\", \"w\") as f:\n",
    "    json.dump(person,f, default=show_object, indent=4)"
   ]
  },
  {
   "cell_type": "code",
   "execution_count": 35,
   "id": "1db10524",
   "metadata": {},
   "outputs": [
    {
     "name": "stdout",
     "output_type": "stream",
     "text": [
      "{'name': 'Atif Salam', 'age': 45, 'gender': 'Male'}\n",
      "<class 'dict'>\n"
     ]
    }
   ],
   "source": [
    "# Deserialize\n",
    "\n",
    "with open(\"demo.json\", \"r\") as f:\n",
    "    d1 = json.load(f)\n",
    "    print(d1)\n",
    "    print(type(d1))"
   ]
  },
  {
   "cell_type": "markdown",
   "id": "bda150da",
   "metadata": {},
   "source": [
    "### Pickling\n",
    "\n",
    "#### Pickling is the process whereby a Python object hierarchy is converted into byte stream, and unpickling is the inverse of operation, whereby a byte stream (from a binary file or bytes-like object) is convertes back into a object hierarchy.\n",
    "\n",
    "### Pickle vs Json \n",
    "#### Pickle lets the user to store data in binary format. JSON lets the user to store data in human readable text format."
   ]
  },
  {
   "cell_type": "code",
   "execution_count": 36,
   "id": "961ebf64",
   "metadata": {},
   "outputs": [],
   "source": [
    "class Person:\n",
    "    \n",
    "    def __init__(self, name, age):\n",
    "        self.name = name\n",
    "        self.age = age\n",
    "        \n",
    "    def display_info(self):\n",
    "        print(\"Hi my name is\", self.name, \"and I am\", self.age, \"years old\")"
   ]
  },
  {
   "cell_type": "code",
   "execution_count": 37,
   "id": "ff806ff7",
   "metadata": {},
   "outputs": [],
   "source": [
    "p = Person(\"Atif Salam\", 45)"
   ]
  },
  {
   "cell_type": "code",
   "execution_count": 39,
   "id": "4db85f57",
   "metadata": {},
   "outputs": [],
   "source": [
    "import pickle\n",
    "\n",
    "with open(\"person.pkl\", \"wb\") as f:\n",
    "    pickle.dump(p,f)"
   ]
  },
  {
   "cell_type": "code",
   "execution_count": 44,
   "id": "5dd1e8c6",
   "metadata": {},
   "outputs": [
    {
     "name": "stdout",
     "output_type": "stream",
     "text": [
      "Hi my name is Atif Salam and I am 45 years old\n"
     ]
    }
   ],
   "source": [
    "with open(\"person.pkl\", \"rb\") as f:\n",
    "    p = pickle.load(f)\n",
    "    \n",
    "p.display_info()"
   ]
  },
  {
   "cell_type": "code",
   "execution_count": null,
   "id": "4882e34e",
   "metadata": {},
   "outputs": [],
   "source": []
  },
  {
   "cell_type": "code",
   "execution_count": null,
   "id": "38a4b64f",
   "metadata": {},
   "outputs": [],
   "source": []
  }
 ],
 "metadata": {
  "kernelspec": {
   "display_name": "Python 3 (ipykernel)",
   "language": "python",
   "name": "python3"
  },
  "language_info": {
   "codemirror_mode": {
    "name": "ipython",
    "version": 3
   },
   "file_extension": ".py",
   "mimetype": "text/x-python",
   "name": "python",
   "nbconvert_exporter": "python",
   "pygments_lexer": "ipython3",
   "version": "3.9.13"
  }
 },
 "nbformat": 4,
 "nbformat_minor": 5
}
