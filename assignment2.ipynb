{
 "cells": [
  {
   "cell_type": "markdown",
   "id": "03ce75cd",
   "metadata": {},
   "source": [
    "# Python String Concatenation and Formatting Assignments\n"
   ]
  },
  {
   "cell_type": "markdown",
   "id": "25c5574d-8f34-4924-8a6e-bf67d5db879a",
   "metadata": {},
   "source": [
    "### ***Assignment 1: String Concatenation and Formatting***\n",
    "\n",
    "**Instructions:**\n",
    "\n",
    "1. Create a variable `name` and assign your name to it.\n",
    "2. Create a variable `age` and assign your age to it.\n",
    "3. Create a variable `country` and assign your country of residence to it.\n",
    "4. Using the `+` operator, concatenate the variables to form a sentence in the following format: \"My name is `<name>`, I am `<age>` years old, and I live in `<country>`.\"\n",
    "5. Print the concatenated sentence."
   ]
  },
  {
   "cell_type": "code",
   "execution_count": 1,
   "id": "4c2731d1",
   "metadata": {},
   "outputs": [
    {
     "name": "stdout",
     "output_type": "stream",
     "text": [
      "My name is Atif Salam, I am 45 years old, and I live in Pakistan.\n"
     ]
    }
   ],
   "source": [
    "name = \"Atif Salam\"\n",
    "age = 45\n",
    "country = \"Pakistan\"\n",
    "print(\"My name is \" + name + \", \" + \"I am \" + str(age) + \" years old, and I live in \" + country +\".\")"
   ]
  },
  {
   "cell_type": "markdown",
   "id": "20ca7500-cdb9-468c-863f-fbf1af701baf",
   "metadata": {},
   "source": [
    "### ***Assignment 2: String Formatting using `.format()`***\n",
    "\n",
    "**Instructions:**\n",
    "\n",
    "1. Create a variable `item` and assign a product name to it (e.g., \"laptop\", \"book\", \"phone\").\n",
    "2. Create a variable `price` and assign a price to the item.\n",
    "3. Create a variable `quantity` and assign a quantity value.\n",
    "4. Calculate the total cost using the formula: `total_cost = price * quantity`.\n",
    "5. Using the `.format()` method, create a formatted string: \"I bought `<quantity>` `<item>`(s) at `<price>` each, for a total of $`<total_cost>`.\"\n",
    "6. Print the formatted string."
   ]
  },
  {
   "cell_type": "code",
   "execution_count": 2,
   "id": "6d86e21f",
   "metadata": {},
   "outputs": [
    {
     "name": "stdout",
     "output_type": "stream",
     "text": [
      "Enter item name: book\n",
      "Enter price of book $: 54.79\n",
      "Enter book quantity bought: 3\n",
      "I bought 3 book(s) at $54.79 each, for a total of $164.37.\n"
     ]
    }
   ],
   "source": [
    "item = input(\"Enter item name: \")\n",
    "price = float(input(\"Enter price of {} $: \".format(item)))\n",
    "quantity = int(input(\"Enter {} quantity bought: \".format(item)))\n",
    "total_cost = price * quantity\n",
    "print(\"I bought {} {}(s) at ${:.2f} each, for a total of ${:.2f}.\".format(quantity, item, price,total_cost))"
   ]
  },
  {
   "cell_type": "markdown",
   "id": "29264ef2-8eca-49c8-941f-8c6d6d486f3e",
   "metadata": {},
   "source": [
    "### ***Assignment 3: String Interpolation using `f''`***\n",
    "\n",
    "**Instructions:**\n",
    "\n",
    "1. Create a variable `city` and assign the name of a city.\n",
    "2. Create a variable `temperature` and assign a temperature value in Celsius.\n",
    "3. Using `f''` string interpolation, create a string: \"The temperature in `<city>` is `<temperature>`°C.\"\n",
    "4. Print the interpolated string."
   ]
  },
  {
   "cell_type": "code",
   "execution_count": 3,
   "id": "e0721fc9-940b-4bba-be47-3ebda5b96ff5",
   "metadata": {},
   "outputs": [
    {
     "name": "stdout",
     "output_type": "stream",
     "text": [
      "Enter City: Karachi\n",
      "Enter Karachi's temperature in °F:80.66\n",
      "The temperature in Karachi is 27.03 °C.\n"
     ]
    }
   ],
   "source": [
    "city = input(\"Enter City: \")\n",
    "temp_fahrenheit = float(input(f\"Enter {city}'s temperature in {chr(176)}F:\"))\n",
    "temp_celcius = ((temp_fahrenheit - 32) * 5/9)\n",
    "print(f\"The temperature in {city} is {temp_celcius:.2f} {chr(176)}C.\")"
   ]
  },
  {
   "cell_type": "markdown",
   "id": "6947b130-3cea-4367-b7e7-2aeb9106d12e",
   "metadata": {},
   "source": [
    "### ***Assignment 4: String Formatting using `%()`***\n",
    "\n",
    "**Instructions:**\n",
    "\n",
    "1. Create a variable `first_name` and assign your first name to it.\n",
    "2. Create a variable `last_name` and assign your last name to it.\n",
    "3. Create a variable `birth_year` and assign your birth year.\n",
    "4. Calculate your age using the formula: `age = current_year - birth_year`, where `current_year` is the current year.\n",
    "5. Using `%()` string formatting, create a string: \"My name is %(first_name)s %(last_name)s. I am %(age)d years old.\"\n",
    "6. Print the formatted string."
   ]
  },
  {
   "cell_type": "code",
   "execution_count": 4,
   "id": "b8200435-689c-4d9b-aed5-0fe821bee495",
   "metadata": {},
   "outputs": [
    {
     "name": "stdout",
     "output_type": "stream",
     "text": [
      "Enter your first name: Atif\n",
      "Enter your last name: Salam\n",
      "Atif Salam enter your birth year: 1978\n",
      "My name is Atif Salam. I am 45 years old\n"
     ]
    }
   ],
   "source": [
    "import datetime\n",
    "today = datetime.date.today()\n",
    "\n",
    "first_name = input(\"Enter your first name: \")\n",
    "last_name = input(\"Enter your last name: \")\n",
    "birth_year = int(input(\"%s %s enter your birth year: \"%(first_name, last_name)))\n",
    "\n",
    "current_year = today.year\n",
    "age = current_year - birth_year\n",
    "\n",
    "print(\"My name is %s %s. I am %d years old\"%(first_name, last_name, age))"
   ]
  },
  {
   "cell_type": "markdown",
   "id": "26c562a1-4f0c-4d88-add9-14e9e96e6ed9",
   "metadata": {},
   "source": [
    "### ***Assignment 5: Combining Formatting Methods***\n",
    "\n",
    "**Instructions:**\n",
    "\n",
    "1. Create a variable `product` and assign a product name.\n",
    "2. Create a variable `discount` and assign a discount percentage.\n",
    "3. Create a variable `original_price` and assign an original price.\n",
    "4. Calculate the discounted price using the formula: `discounted_price = original_price * (1 - discount / 100)`.\n",
    "5. Using any combination of string formatting methods (`+`, `.format()`, `f''`, `%()`), create a descriptive string with the product name, original price, discount percentage, and discounted price.\n",
    "6. Print the descriptive string."
   ]
  },
  {
   "cell_type": "code",
   "execution_count": 6,
   "id": "660fcc25-634d-4571-8893-953fb82d0140",
   "metadata": {},
   "outputs": [
    {
     "name": "stdout",
     "output_type": "stream",
     "text": [
      "Enter product name: laptop\n",
      "Enter discount percentage for laptop: 10.50\n",
      "Enter laptop price $: 254.89\n",
      "\n",
      "\n",
      "Saturday afternoon 🌞 I went to the market to buy laptop(s) and ran into the shop 🛒 ask the\n",
      "shopkeeper for the price of the laptop, the shopkeeper quoted me $254.89 for the laptop, which is too\n",
      "much higher than the current market price and also out of my budget then I start bargaining with \n",
      "the shopkeeper after spend some time finally I got a 10.5% discount, Now I bought the laptop at a \n",
      "discounted price of just $228.13 😊.\n",
      "\n",
      "\n"
     ]
    }
   ],
   "source": [
    "product = input(\"Enter product name: \")\n",
    "discount = float(input(f\"Enter discount percentage for {product}: \"))\n",
    "original_price = float(input(f\"Enter {product} price $: \"))\n",
    "discounted_price = original_price * (1-discount/100)\n",
    "\n",
    "print(f\"\"\"\n",
    "\n",
    "Saturday afternoon \\U0001F31E I went to the market to buy {product}(s) and ran into the shop \\U0001F6D2 ask the\n",
    "shopkeeper for the price of the {product}, the shopkeeper quoted me ${original_price} for the {product}, which is too\n",
    "much higher than the current market price and also out of my budget then I start bargaining with \n",
    "the shopkeeper after spend some time finally I got a {discount}% discount, Now I bought the {product} at a \n",
    "discounted price of just ${discounted_price:.2f} \\U0001F60A.\n",
    "\n",
    "\"\"\") \n"
   ]
  },
  {
   "cell_type": "code",
   "execution_count": null,
   "id": "b91608e3",
   "metadata": {},
   "outputs": [],
   "source": []
  }
 ],
 "metadata": {
  "kernelspec": {
   "display_name": "Python 3 (ipykernel)",
   "language": "python",
   "name": "python3"
  },
  "language_info": {
   "codemirror_mode": {
    "name": "ipython",
    "version": 3
   },
   "file_extension": ".py",
   "mimetype": "text/x-python",
   "name": "python",
   "nbconvert_exporter": "python",
   "pygments_lexer": "ipython3",
   "version": "3.9.13"
  }
 },
 "nbformat": 4,
 "nbformat_minor": 5
}
