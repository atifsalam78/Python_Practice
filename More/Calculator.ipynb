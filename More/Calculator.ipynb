{
 "cells": [
  {
   "cell_type": "code",
   "execution_count": 2,
   "id": "dd5b7d4e",
   "metadata": {},
   "outputs": [
    {
     "name": "stdout",
     "output_type": "stream",
     "text": [
      "                         Calculator\n",
      "Enter Your 1st Number: 1\n",
      "Enter your 2nd Number: 2\n",
      "{1: 'Addition', 2: 'Subtraction', 3: 'Multiplication', 4: 'Division'}\n",
      "Enter Your Selection? 1\n",
      "3.0\n"
     ]
    }
   ],
   "source": [
    "space=' '*25\n",
    "print('%sCalculator'%space)\n",
    "x=float(input('Enter Your 1st Number: '))\n",
    "y=float(input('Enter your 2nd Number: '))\n",
    "dic={1:'Addition',2:'Subtraction',3:'Multiplication',4:'Division'}\n",
    "print(dic)\n",
    "sel=dic[int(input('Enter Your Selection? '))]\n",
    "if sel=='Addition':\n",
    "    z=x+y\n",
    "    print(z)\n",
    "elif sel=='Subtraction':\n",
    "    z=x-y\n",
    "    print(z)\n",
    "elif sel=='Multiplication':\n",
    "    z=x*y\n",
    "    print(z)\n",
    "elif sel=='Division':\n",
    "    z=x/y\n",
    "    print(z)\n",
    "else:\n",
    "    print('Huh!')\n"
   ]
  },
  {
   "cell_type": "code",
   "execution_count": null,
   "id": "5046b3d7",
   "metadata": {},
   "outputs": [],
   "source": []
  }
 ],
 "metadata": {
  "kernelspec": {
   "display_name": "Python 3 (ipykernel)",
   "language": "python",
   "name": "python3"
  },
  "language_info": {
   "codemirror_mode": {
    "name": "ipython",
    "version": 3
   },
   "file_extension": ".py",
   "mimetype": "text/x-python",
   "name": "python",
   "nbconvert_exporter": "python",
   "pygments_lexer": "ipython3",
   "version": "3.9.7"
  }
 },
 "nbformat": 4,
 "nbformat_minor": 5
}
