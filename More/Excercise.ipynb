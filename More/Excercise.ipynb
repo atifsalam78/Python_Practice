{
 "cells": [
  {
   "cell_type": "code",
   "execution_count": null,
   "id": "eab0c047",
   "metadata": {},
   "outputs": [],
   "source": [
    "y = 2022\n",
    "name = input('Enter your Name: ')\n",
    "age = int(input('Enter your Age'))\n",
    "age_100 = y + (100 - age)\n",
    "num = int(input('How many times you want to print?'))\n",
    "print(num *'Hello {}! in the year {} you will be 100 years.\\n'.format(name, age_100))"
   ]
  },
  {
   "cell_type": "code",
   "execution_count": null,
   "id": "61933302",
   "metadata": {},
   "outputs": [],
   "source": [
    "num = int(input(\"Enter The Number: \"))\n",
    "check = num % 2\n",
    "if check == 0:\n",
    "    print(\"You have entered even number!\")\n",
    "    \n",
    "else:\n",
    "    print(\"You have entered odd number!\")\n"
   ]
  },
  {
   "cell_type": "code",
   "execution_count": null,
   "id": "399317f8",
   "metadata": {},
   "outputs": [],
   "source": [
    "\"\"\" Take a list, say for example this one:\n",
    "\n",
    "  a = [1, 1, 2, 3, 5, 8, 13, 21, 34, 55, 89]\n",
    "and write a program that prints out all the elements of the list that are less than 5.\n",
    "\n",
    "Extras:\n",
    "\n",
    "Instead of printing the elements one by one, make a new list that has all the elements less than 5 from this list in it and print out this new list.\n",
    "Write this in one line of Python.\n",
    "Ask the user for a number and return a list that contains only elements from the original list a that are smaller than that number given by the user.\n",
    "\"\"\"\n",
    "a = [1, 1, 2, 3, 5, 8, 13, 21, 34, 55, 89]\n",
    "print([x for x in a if x < 5])"
   ]
  },
  {
   "cell_type": "code",
   "execution_count": null,
   "id": "ed585221",
   "metadata": {},
   "outputs": [],
   "source": [
    "\"\"\"Create a program that asks the user for a number \n",
    "and then prints out a list of all the divisors of that number.\n",
    "(If you don’t know what a divisor is, it is a number that divides evenly into another number.\n",
    "For example, 13 is a divisor of 26 because 26 / 13 has no remainder.)\"\"\"\n",
    "\n",
    "num = int(input('Enter Number for checking divisor: '))\n",
    "l1 = []\n",
    "\n",
    "for x in range(1,num+1):\n",
    "    if num % x == 0:\n",
    "        l1.append(x)\n",
    "print(l1)"
   ]
  },
  {
   "cell_type": "code",
   "execution_count": null,
   "id": "1b195d6d",
   "metadata": {},
   "outputs": [],
   "source": [
    "num2 = int(input('Enter Number for checking divisor: '))\n",
    "print([x for x in range(1,num+1) if num2 % x == 0])"
   ]
  },
  {
   "cell_type": "code",
   "execution_count": null,
   "id": "8cba2298",
   "metadata": {},
   "outputs": [],
   "source": [
    "\"\"\"write a program that returns a list that contains only the elements that are common \n",
    "between the lists (without duplicates). Make sure your program works on two lists of different sizes.\n",
    "\n",
    "Extras:\n",
    "\n",
    "Randomly generate two lists to test this\n",
    "Write this in one line of Python (don’t worry if you can’t figure this out at this point - we’ll get to it soon)\"\"\"\n",
    "\n",
    "a = [1, 1, 2, 3, 5, 8, 13, 21, 34, 55, 89]\n",
    "b = [1, 2, 3, 4, 5, 6, 7, 8, 9, 10, 11, 12, 13,89]\n",
    "lis = []\n",
    "\n",
    "#a.extend(b)\n",
    "#c = set(a)\n",
    "\n",
    "list(set(a).intersection(set(b)))\n",
    "\n",
    "#d = [x for x in c]\n",
    "#d.sort()\n",
    "#e = sorted(c)\n",
    "#print(e)"
   ]
  },
  {
   "cell_type": "code",
   "execution_count": null,
   "id": "14af1bd5",
   "metadata": {},
   "outputs": [],
   "source": [
    "a = [1, 1, 2, 3, 5, 8, 13, 21, 34, 55, 89]\n",
    "b = [1, 2, 3, 4, 5, 6, 7, 8, 9, 10, 11, 12, 13]\n",
    "print(set(a[x] for x in range(len(a))if a[x] in b))"
   ]
  },
  {
   "cell_type": "code",
   "execution_count": null,
   "id": "192a7daa",
   "metadata": {},
   "outputs": [],
   "source": [
    "a1 = [1, 1, 2, 3, 5, 8, 13, 21, 34, 55, 89]\n",
    "b1 = [1, 2, 3, 4, 5, 6, 7, 8, 9, 10, 11, 12, 13]\n",
    "\n",
    "c1 = set(a + b)\n",
    "\n",
    "print(c1)"
   ]
  },
  {
   "cell_type": "code",
   "execution_count": null,
   "id": "1082412b",
   "metadata": {},
   "outputs": [],
   "source": [
    "\"\"\"Ask the user for a string and print out whether this string is a palindrome or not.\n",
    "(A palindrome is a string that reads the same forwards and backwards.)\n",
    "\"\"\"\n",
    "# My solution\n",
    "\n",
    "user_input = input('Enter the word for checking: ')\n",
    "c = [x for x in user_input]\n",
    "d = [y for y in user_input]\n",
    "c.reverse()\n",
    "up_str = user_input.upper()\n",
    "if c == d:    \n",
    "    print('The word %s is a Plaindrome!'%up_str)\n",
    "else:\n",
    "    print('The word %s is a Simple word!'%up_str)"
   ]
  },
  {
   "cell_type": "code",
   "execution_count": null,
   "id": "3464f0f2",
   "metadata": {},
   "outputs": [],
   "source": [
    "# using string reversal\n",
    "\n",
    "wrd=str(input(\"Please enter a word: \"))\n",
    "rvs=wrd[::-1]\n",
    "print(wrd)\n",
    "print(rvs)\n",
    "if wrd == rvs:\n",
    "    print(\"This word is a palindrome!\")\n",
    "else:\n",
    "    print(\"This word is not a palindrome!\")"
   ]
  },
  {
   "cell_type": "code",
   "execution_count": null,
   "id": "bcf76890",
   "metadata": {},
   "outputs": [],
   "source": [
    "# using for loops\n",
    "def reverse(word):\n",
    "\tx = ''\n",
    "\tfor i in range(len(word)):\n",
    "\t\tx += word[len(word)-1-i]\n",
    "\treturn x\n",
    "\n",
    "word = input('give me a word:\\n')\n",
    "x = reverse(word)\n",
    "if x == word:\n",
    "\tprint('This is a Palindrome')\n",
    "else:\n",
    "\tprint('This is NOT a Palindrome')"
   ]
  },
  {
   "cell_type": "code",
   "execution_count": null,
   "id": "ca776f97",
   "metadata": {},
   "outputs": [],
   "source": [
    "# Leap Year\n",
    "\n",
    "year = int(input(\"Enter Year that you want to check it is leap or not: \"))\n",
    "\n",
    "if year % 4 == 0:\n",
    "    if year % 100 == 0:\n",
    "        if year % 400 == 0:\n",
    "            print(year,\"This is a leap year!\")\n",
    "        else:\n",
    "            print(year,\"This is not a leap year!\")\n",
    "    else:\n",
    "        print(year,\"This is a leap year!\")\n",
    "else:\n",
    "    print(year,\"This is not a leap year\")"
   ]
  },
  {
   "cell_type": "code",
   "execution_count": null,
   "id": "a752edb3",
   "metadata": {},
   "outputs": [],
   "source": [
    "\"\"\"Write one line of Python \n",
    "that takes this list a and makes a new list that has only the even elements of this list in it\"\"\"\n",
    "\n",
    "a = [1, 4, 9, 16, 25, 36, 49, 64, 81, 100]\n",
    "[x for x in a if x % 2 == 0]"
   ]
  },
  {
   "cell_type": "code",
   "execution_count": null,
   "id": "1a802651",
   "metadata": {},
   "outputs": [],
   "source": [
    "a1 = [1, 4, 9, 16, 25, 36, 49, 64, 81, 100]\n",
    "b1 = [element for element in a1 if element % 2 == 0]\n",
    "print(b1)"
   ]
  },
  {
   "cell_type": "code",
   "execution_count": null,
   "id": "79e00e14",
   "metadata": {},
   "outputs": [],
   "source": []
  },
  {
   "cell_type": "code",
   "execution_count": null,
   "id": "c07e209f",
   "metadata": {},
   "outputs": [],
   "source": [
    "import random\n",
    "\n",
    "cont = 0\n",
    "while True:\n",
    "    \n",
    "    cont +=1\n",
    "    a = random.randint(1,9)\n",
    "    print(a)\n",
    "    guess = int(input(\"Guess The Number: \"))\n",
    "\n",
    "    if guess < a:\n",
    "        print(\"You guessed lower than computer!\")\n",
    "        \n",
    "    elif guess > a:\n",
    "            print(\"You guessed higher than computer\")\n",
    "    else:\n",
    "        \n",
    "        print(\"Congratulations You Win!\")\n",
    "    \n",
    "           \n",
    "    quit = input('Do you want to play more Y/N: ')\n",
    "    if quit == 'n' or quit == 'N':\n",
    "        print('You have taken',cont,'chances to win!')\n",
    "        break"
   ]
  },
  {
   "cell_type": "code",
   "execution_count": null,
   "id": "5d896d0a",
   "metadata": {},
   "outputs": [],
   "source": [
    "import random\n",
    "\n",
    "a = range(random.randint(1,10))\n",
    "list_1 = [x*x for x in a if x % 2 != 0]\n",
    "\n",
    "b = range(random.randint(11,15))\n",
    "list_2 = [y for y in b if y % 2 == 0]\n",
    "\n",
    "print(list_1)\n",
    "print(list_2)\n",
    "\n",
    "list_3 = list_1 + list_2"
   ]
  },
  {
   "cell_type": "code",
   "execution_count": null,
   "id": "d613cf29",
   "metadata": {},
   "outputs": [],
   "source": [
    "a = [1, 1, 2, 3, 5, 8, 13, 21, 34, 55, 89]\n",
    "b = [1, 2, 3, 4, 5, 6, 7, 8, 9, 10, 11, 12, 13]\n",
    "a.extend(b)\n",
    "sorted(set([x for x in a]))"
   ]
  },
  {
   "cell_type": "code",
   "execution_count": null,
   "id": "de724def",
   "metadata": {},
   "outputs": [],
   "source": [
    "def efunc():\n",
    "    x = int(input(\"Enter Number: \"))\n",
    "    if x % 2 == 0:\n",
    "        return(\"This is a even Number\")\n",
    "    else:\n",
    "        return(\"This is not an even number\")"
   ]
  },
  {
   "cell_type": "code",
   "execution_count": null,
   "id": "a1c6e779",
   "metadata": {},
   "outputs": [],
   "source": [
    "efunc()"
   ]
  },
  {
   "cell_type": "code",
   "execution_count": null,
   "id": "ef4cd657",
   "metadata": {},
   "outputs": [],
   "source": [
    "def pfunc():\n",
    "    pnum = int(input(\"Enter Number\" + \"\\n\" + \">>> \"))\n",
    "    a = [x for x in range(2,pnum) if pnum % x == 0]\n",
    "    \n",
    "    if pnum > 1:\n",
    "        if len(a) != 0:\n",
    "            print(\"This is not a prime number divisible by others\")\n",
    "        else:\n",
    "            print(\"This is a prime number\")\n",
    "    else:\n",
    "        print(\"Not a prime less than or equal to one\")"
   ]
  },
  {
   "cell_type": "code",
   "execution_count": null,
   "id": "6947d8f8",
   "metadata": {},
   "outputs": [],
   "source": [
    "pfunc()"
   ]
  },
  {
   "cell_type": "code",
   "execution_count": null,
   "id": "5f695c69",
   "metadata": {},
   "outputs": [],
   "source": [
    "\"\"\"makes a new list of only the first and last elements of the given list.\n",
    "For practice, write this code inside a function.\n",
    "\"\"\"\n",
    "list1 = [5, 10, 15, 20, 25]\n",
    "def lisdel(x,y):\n",
    "    list1[x:y] = []\n",
    "    return(list1)"
   ]
  },
  {
   "cell_type": "code",
   "execution_count": null,
   "id": "b41d80b3",
   "metadata": {},
   "outputs": [],
   "source": [
    "lisdel(1,4)"
   ]
  },
  {
   "cell_type": "code",
   "execution_count": null,
   "id": "3510ccae",
   "metadata": {},
   "outputs": [],
   "source": [
    "list2 = [5, 10, 15, 20, 25]\n",
    "del list2[1:4]"
   ]
  },
  {
   "cell_type": "code",
   "execution_count": null,
   "id": "3765c86b",
   "metadata": {},
   "outputs": [],
   "source": [
    "print(list2)"
   ]
  },
  {
   "cell_type": "code",
   "execution_count": null,
   "id": "2e1a2ba6",
   "metadata": {},
   "outputs": [],
   "source": [
    "a_list = [5, 10, 15, 20, 25]\n",
    "def list_ends(a_list):\n",
    "    return [a_list[0], a_list[len(a_list)-1]]"
   ]
  },
  {
   "cell_type": "code",
   "execution_count": null,
   "id": "c88e2b6d",
   "metadata": {},
   "outputs": [],
   "source": [
    "list_ends([5, 10, 15, 20, 25])"
   ]
  },
  {
   "cell_type": "code",
   "execution_count": null,
   "id": "5bca2cae",
   "metadata": {},
   "outputs": [],
   "source": [
    "print(list1)"
   ]
  },
  {
   "cell_type": "code",
   "execution_count": null,
   "id": "d06a0a24",
   "metadata": {},
   "outputs": [],
   "source": [
    "# Fabonacci 1, 1, 2, 3, 5, 8, 13,....\n",
    "\n",
    "fibs = [0,1]\n",
    "num1 = int(input(\"How many fabonacci number do you want?\"))\n",
    "for i in range(num1-2):\n",
    "    fibs.append(fibs[-2] + fibs[-1])"
   ]
  },
  {
   "cell_type": "code",
   "execution_count": null,
   "id": "1837cda5",
   "metadata": {},
   "outputs": [],
   "source": [
    "print(fibs)"
   ]
  },
  {
   "cell_type": "code",
   "execution_count": null,
   "id": "1e3fdc0a",
   "metadata": {},
   "outputs": [],
   "source": [
    "fa = [0,1]\n",
    "num = int(input(\"Enter how many: \"))\n",
    "for x in range(num):\n",
    "    fa.append(fa[-2] + fa[-1])"
   ]
  },
  {
   "cell_type": "code",
   "execution_count": null,
   "id": "da1d3c66",
   "metadata": {},
   "outputs": [],
   "source": [
    "print(fa)"
   ]
  },
  {
   "cell_type": "code",
   "execution_count": null,
   "id": "26c83f6a",
   "metadata": {},
   "outputs": [],
   "source": [
    "def fabonacci():\n",
    "    fab = [0,1]\n",
    "    num = int(input(\"How Many Fabonacci Numbers Do You Want? \"))\n",
    "    for a in range(num-len(fab)):\n",
    "        fab.append(fab[-2] + fab[-1])\n",
    "    return(fab)"
   ]
  },
  {
   "cell_type": "code",
   "execution_count": null,
   "id": "a2e572ab",
   "metadata": {},
   "outputs": [],
   "source": [
    "fabonacci()"
   ]
  },
  {
   "cell_type": "code",
   "execution_count": null,
   "id": "4f9e3612",
   "metadata": {},
   "outputs": [],
   "source": [
    "a = [0, 1, 4, 9, 16, 25, 36, 49, 64, 81, 9, 16, 25, 81]\n",
    "b = []\n",
    "for i in a:\n",
    "    if i not in b:\n",
    "        b.append(i)\n",
    "print(b)"
   ]
  },
  {
   "cell_type": "code",
   "execution_count": null,
   "id": "472f9545",
   "metadata": {},
   "outputs": [],
   "source": [
    "def revname():\n",
    "    name = input(\"Enter long text: \")\n",
    "    a = name.split()\n",
    "    b =\" \".join(reversed(a))\n",
    "    return b"
   ]
  },
  {
   "cell_type": "code",
   "execution_count": null,
   "id": "b670e9fb",
   "metadata": {},
   "outputs": [],
   "source": [
    "revname()"
   ]
  },
  {
   "cell_type": "code",
   "execution_count": null,
   "id": "b0584d20",
   "metadata": {},
   "outputs": [],
   "source": [
    "def reverseWord(w):\n",
    "    return ' '.join(w.split()[::-1])"
   ]
  },
  {
   "cell_type": "code",
   "execution_count": null,
   "id": "f8690534",
   "metadata": {},
   "outputs": [],
   "source": [
    "reverseWord(\"My name is atif\")"
   ]
  },
  {
   "cell_type": "code",
   "execution_count": null,
   "id": "4b61c010",
   "metadata": {},
   "outputs": [],
   "source": [
    "def paldrom():\n",
    "    tex = input(\"Enter to check: \")\n",
    "    a = tex[::-1]\n",
    "    if a == tex:\n",
    "        return \"Plain Drome\"\n",
    "    else:\n",
    "        return \"Not Plain Drome\""
   ]
  },
  {
   "cell_type": "code",
   "execution_count": null,
   "id": "cb92ebfe",
   "metadata": {},
   "outputs": [],
   "source": [
    "paldrom()"
   ]
  },
  {
   "cell_type": "code",
   "execution_count": null,
   "id": "6c48790a",
   "metadata": {},
   "outputs": [],
   "source": [
    "def pasgen(length):\n",
    "    import random, string\n",
    "    pas = string.digits + string.ascii_letters + string.punctuation\n",
    "    pas_gen = \"\".join(random.choice(pas) for i in range(length))\n",
    "    print(\"\".join(pas_gen))"
   ]
  },
  {
   "cell_type": "code",
   "execution_count": null,
   "id": "4725dbc2",
   "metadata": {},
   "outputs": [],
   "source": [
    "pasgen(10)"
   ]
  },
  {
   "cell_type": "code",
   "execution_count": null,
   "id": "a2541c88",
   "metadata": {},
   "outputs": [],
   "source": [
    "# Cows and Bull\n",
    "count = True\n",
    "while count:\n",
    "    import random, string\n",
    "    score_cow = 0\n",
    "    score_bull = 0\n",
    "\n",
    "    #num = string.digits\n",
    "    ran_num = \"\".join(random.sample(string.digits,4))\n",
    "\n",
    "    print(\"Random Number Generated by Computer:\", ran_num) # Just for check should be remove in final version\n",
    "    \n",
    "    guess_num = str(input(\"Guess all the 4 digits: \"))\n",
    "    \n",
    "    print(\"Number Guessed by the Player:\",guess_num) # Just for check should be remove in final version\n",
    "   \n",
    "    for index, string in enumerate(ran_num):\n",
    "    \n",
    "        if guess_num[index] == ran_num[index]:\n",
    "            score_cow += 1\n",
    "            if score_cow == 4:\n",
    "                count = False\n",
    "                break\n",
    "         \n",
    "        else:\n",
    "            score_bull += 1\n",
    "       \n",
    "    print(\"Keep Trying\")\n",
    "        \n",
    "#print(\"Number Guessed by the Player:\",guess_num) # Just for check should be remove in final version    \n",
    "\n",
    "print(\"Cow Score:\",score_cow)\n",
    "print(\"Bull Score:\",score_bull)"
   ]
  },
  {
   "cell_type": "code",
   "execution_count": null,
   "id": "118c8419",
   "metadata": {},
   "outputs": [],
   "source": [
    "'''Write a function that takes an ordered list of numbers\n",
    "(a list where the elements are in order from smallest to largest)\n",
    "and another number. The function decides whether or not the given number\n",
    "is inside the list and returns (then prints) an appropriate boolean.'''\n",
    "\n",
    "def find():\n",
    "    \n",
    "    try:\n",
    "        ran_list = list(input(\"Any Random List: \"))\n",
    "        list_int = [int(list_int) for list_int in ran_list]\n",
    "        list_int.sort()\n",
    "        print(list_int)\n",
    "        \n",
    "    except ValueError:\n",
    "        print(\"List required integers not string! \")\n",
    "        \n",
    "    try:\n",
    "        ran_num = int(input(\"Any random number: \"))\n",
    "        \n",
    "    except ValueError:\n",
    "        print(\"Required Integers not string!\")\n",
    "    \n",
    "    try:        \n",
    "        if ran_num in list_int:\n",
    "            return True\n",
    "        else:\n",
    "            return False\n",
    "    except UnboundLocalError:\n",
    "        print(\"Integers Required!\")     "
   ]
  },
  {
   "cell_type": "code",
   "execution_count": null,
   "id": "1a1dea15",
   "metadata": {},
   "outputs": [],
   "source": [
    "find()"
   ]
  },
  {
   "cell_type": "code",
   "execution_count": null,
   "id": "61bd7d6c",
   "metadata": {},
   "outputs": [],
   "source": [
    "def find(list1,num):\n",
    "         \n",
    "    if num in list1:\n",
    "        return True\n",
    "    else:\n",
    "        return False"
   ]
  },
  {
   "cell_type": "code",
   "execution_count": null,
   "id": "42e5c9ae",
   "metadata": {},
   "outputs": [],
   "source": [
    "l1 = [9,6,7,3,4,1,2,8,5]\n",
    "find(l1,0)"
   ]
  },
  {
   "cell_type": "code",
   "execution_count": null,
   "id": "9cf61461",
   "metadata": {},
   "outputs": [],
   "source": [
    "l2 = [6,5,4]\n",
    "find(l2,5)"
   ]
  },
  {
   "cell_type": "code",
   "execution_count": null,
   "id": "94e24641",
   "metadata": {},
   "outputs": [],
   "source": [
    "def find(ordered_list, element_to_find):\n",
    "    for element in ordered_list:\n",
    "        if element == element_to_find:\n",
    "            return True\n",
    "    return False\n",
    "  \n",
    "if __name__==\"__main__\":\n",
    "    l = [2, 4, 6, 8, 10]\n",
    "    print(find(l, 5)) # prints False\n",
    "    print(find(l, 10)) # prints True\n",
    "    print(find(l, -1)) # prints False\n",
    "    print(find(l, 2)) # prints True"
   ]
  },
  {
   "cell_type": "code",
   "execution_count": null,
   "id": "02315d32",
   "metadata": {},
   "outputs": [],
   "source": [
    "def find(ordered_list, element_to_find):\n",
    "    start_index = 1\n",
    "    end_index = len(ordered_list) - 1\n",
    "    \n",
    "    while True:\n",
    "        \n",
    "        middle_index = (end_index - start_index) / 2\n",
    "    \n",
    "        if middle_index < start_index or middle_index > end_index or middle_index < 0:\n",
    "            return False\n",
    "    \n",
    "        middle_element = ordered_list[middle_index]\n",
    "        if middle_element == element_to_find:\n",
    "            return True\n",
    "        elif middle_element < element_to_find:\n",
    "            end_index = middle_index\n",
    "        else:\n",
    "            start_index = middle_index\n",
    "  \n",
    "        if __name__==\"__main__\":\n",
    "            l = [2, 4, 6, 8, 10]\n",
    "            print(find(l, 5)) # prints False\n",
    "            print(find(l, 10)) # prints True\n",
    "            print(find(l, -1)) # prints False\n",
    "            print(find(l, 2)) # prints True"
   ]
  },
  {
   "cell_type": "code",
   "execution_count": null,
   "id": "e02f801d",
   "metadata": {},
   "outputs": [],
   "source": [
    "x = open(r\"/home/atif/Documents/test2.txt\",\"r\")\n",
    "data = x.read()\n",
    "print(data)\n",
    "x.close()"
   ]
  },
  {
   "cell_type": "code",
   "execution_count": null,
   "id": "648694ec",
   "metadata": {},
   "outputs": [],
   "source": [
    "y = open(r\"/home/atif/Documents/test2.txt\",\"r\")\n",
    "for line in y:\n",
    "    print(line)\n",
    "y.close()"
   ]
  },
  {
   "cell_type": "code",
   "execution_count": null,
   "id": "1e29e3bf",
   "metadata": {},
   "outputs": [],
   "source": [
    "x = open(r\"/home/atif/Documents/test.txt\",\"w\")\n",
    "x.write(\"This is the line editted in python using w\")\n",
    "x.close()"
   ]
  },
  {
   "cell_type": "code",
   "execution_count": null,
   "id": "8f2733a7",
   "metadata": {},
   "outputs": [],
   "source": [
    "x = open(r\"/home/atif/Documents/test.txt\",\"r\")\n",
    "data = x.read()\n",
    "print(data)\n",
    "x.close()"
   ]
  },
  {
   "cell_type": "code",
   "execution_count": null,
   "id": "60b8a3d8",
   "metadata": {},
   "outputs": [],
   "source": [
    "import math\n",
    "a = int(input(\"Enter to required square:\"))\n",
    "print(math.sqrt(a))"
   ]
  },
  {
   "cell_type": "code",
   "execution_count": null,
   "id": "99162682",
   "metadata": {},
   "outputs": [],
   "source": [
    "import math\n",
    "num = int(input(\"Enter to required square:\"))\n",
    "a = str(math.sqrt(num))\n",
    "file1 = open(r\"/home/atif/Documents/python.txt\",\"w\")\n",
    "file1.write(a)\n",
    "file1.close()"
   ]
  },
  {
   "cell_type": "code",
   "execution_count": null,
   "id": "17a31e34",
   "metadata": {},
   "outputs": [],
   "source": [
    "write_data = ['Alpha','Beta','Gama','Delta']\n",
    "with open('/home/atif/Documents/Greekletters.txt','w')as g:\n",
    "    for value in write_data:\n",
    "        g.write(value)\n",
    "        g.write('\\n')\n",
    "g.close()"
   ]
  },
  {
   "cell_type": "code",
   "execution_count": null,
   "id": "1a72cac1",
   "metadata": {},
   "outputs": [],
   "source": [
    "append_data = ['Zeta','Eta','Theta']\n",
    "with open('/home/atif/Documents/Greekletters.txt','w') as h:\n",
    "    for value in append_data:\n",
    "        h.write(value)\n",
    "        h.write('\\n')\n",
    "h.close()"
   ]
  },
  {
   "cell_type": "code",
   "execution_count": null,
   "id": "2924ff18",
   "metadata": {},
   "outputs": [],
   "source": [
    "x = open(r\"/home/atif/Documents/Greekletters.txt\",\"r\")\n",
    "data = x.read()\n",
    "print(data)\n",
    "x.close()"
   ]
  },
  {
   "cell_type": "code",
   "execution_count": null,
   "id": "4380044e",
   "metadata": {},
   "outputs": [],
   "source": [
    "import requests\n",
    "from bs4 import BeautifulSoup\n",
    "\n",
    "base_url = \"http://www.urdupoint.com\"\n",
    "r = requests.get(base_url)\n",
    "soup = BeautifulSoup(r.text)\n",
    "filename = input(\"File to save to: \")\n",
    "\n",
    "with open (filename,\"w\") as f:\n",
    "    for story_heading in soup.find_all(class_=\"story-heading\"):\n",
    "        if story_heading.a:\n",
    "            f.write(story_heading.a.text.replace(\"\\n\", \" \").strip())\n",
    "        else:\n",
    "            f.write(story_heading.contents[0].strip())"
   ]
  },
  {
   "cell_type": "code",
   "execution_count": null,
   "id": "dd9a2186",
   "metadata": {},
   "outputs": [],
   "source": [
    "import requests\n",
    "from bs4 import BeautifulSoup\n",
    " \n",
    "base_url = 'http://www.urdupoint.com'\n",
    "r = requests.get(base_url)\n",
    "soup = BeautifulSoup(r.text)\n",
    " \n",
    "for story_heading in soup.find_all(class_=\"story-heading\"): \n",
    "    if story_heading.a: \n",
    "        print(story_heading.a.text.replace(\"\\n\", \" \").strip())\n",
    "    else: \n",
    "        print(story_heading.contents[0].strip())"
   ]
  },
  {
   "cell_type": "code",
   "execution_count": null,
   "id": "4e654a97",
   "metadata": {},
   "outputs": [],
   "source": [
    "import requests"
   ]
  },
  {
   "cell_type": "code",
   "execution_count": null,
   "id": "38adddb3",
   "metadata": {},
   "outputs": [],
   "source": [
    "from bs4 import BeautifulSoup"
   ]
  },
  {
   "cell_type": "code",
   "execution_count": null,
   "id": "4d17b268",
   "metadata": {},
   "outputs": [],
   "source": [
    "base_url = \"http://urdupoint.com\"\n",
    "r = requests.get(base_url)"
   ]
  },
  {
   "cell_type": "code",
   "execution_count": null,
   "id": "2a70a853",
   "metadata": {},
   "outputs": [],
   "source": [
    "soup = BeautifulSoup(r.text)"
   ]
  },
  {
   "cell_type": "code",
   "execution_count": null,
   "id": "adc4b685",
   "metadata": {},
   "outputs": [],
   "source": [
    "x = open(r\"/home/atif/Documents/test2.txt\",\"r\")\n",
    "data = x.read()\n",
    "print(data)\n",
    "x.close()"
   ]
  },
  {
   "cell_type": "code",
   "execution_count": null,
   "id": "4b1388b2",
   "metadata": {},
   "outputs": [],
   "source": [
    "y = open(r\"/home/atif/Documents/test2.txt\",\"r\")\n",
    "data_read = y.readlines()\n",
    "for x in data_read:\n",
    "    print(x)\n",
    "y.close()"
   ]
  },
  {
   "cell_type": "code",
   "execution_count": null,
   "id": "9ef46a34",
   "metadata": {},
   "outputs": [],
   "source": [
    "x = open(\"/home/atif/Documents/test2.txt\")\n",
    "data = x.read()\n",
    "print(data)\n",
    "x.close()"
   ]
  },
  {
   "cell_type": "code",
   "execution_count": null,
   "id": "668dba2f",
   "metadata": {},
   "outputs": [],
   "source": [
    "x = open(r\"/home/atif/Documents/test2.txt\",\"w\")\n",
    "x.write(\"this is the 4th line written in python dated:15-07-2022\")\n",
    "x.close()"
   ]
  },
  {
   "cell_type": "code",
   "execution_count": null,
   "id": "3eb14b0c",
   "metadata": {},
   "outputs": [],
   "source": [
    "class Person:\n",
    "    def set_name(self,name):\n",
    "        self.name = name\n",
    "    def get_name(self):\n",
    "        return self.name\n",
    "    def greet(self):\n",
    "        print(\"Hello, World! I'm {}.\".format(self.name))"
   ]
  },
  {
   "cell_type": "code",
   "execution_count": null,
   "id": "c6add904",
   "metadata": {},
   "outputs": [],
   "source": [
    "foo = Person()\n",
    "bar = Person()\n",
    "foo.set_name(\"Luke Skywalker\")\n",
    "bar.set_name(\"Anakin Skywalker\")\n",
    "foo.greet()"
   ]
  },
  {
   "cell_type": "code",
   "execution_count": null,
   "id": "e3dd0cf1",
   "metadata": {},
   "outputs": [],
   "source": [
    "foo.name"
   ]
  },
  {
   "cell_type": "code",
   "execution_count": null,
   "id": "beafd99e",
   "metadata": {},
   "outputs": [],
   "source": [
    "bar.name = \"Yoda\"\n",
    "bar.greet()"
   ]
  },
  {
   "cell_type": "code",
   "execution_count": null,
   "id": "f839c05f",
   "metadata": {},
   "outputs": [],
   "source": [
    "class People:\n",
    "    def name_set(self,name):\n",
    "        self.name = name\n",
    "    def name_get(self):\n",
    "        return name\n",
    "    def name_greet(self):\n",
    "        print(\"Hello, World I'm {}.\".format(self.name))"
   ]
  },
  {
   "cell_type": "code",
   "execution_count": null,
   "id": "480f38d0",
   "metadata": {},
   "outputs": [],
   "source": [
    "too=People()\n",
    "boo=People()\n",
    "coo=People()\n",
    "too.name_set(\"Atif Salam\")\n",
    "boo.name_set(\"Faiza Atif\")\n",
    "coo.name_set(\"Manahil Atif\")\n",
    "too.name_greet()\n",
    "boo.name_greet()\n",
    "coo.name_greet()"
   ]
  },
  {
   "cell_type": "code",
   "execution_count": null,
   "id": "32b69ba8",
   "metadata": {},
   "outputs": [],
   "source": [
    "People.name_greet(too)"
   ]
  },
  {
   "cell_type": "code",
   "execution_count": null,
   "id": "59bd2626",
   "metadata": {},
   "outputs": [],
   "source": [
    "class Class:\n",
    "    def method(self):\n",
    "        print(\"I have a Self\")\n",
    "def function():\n",
    "    print(\"I don't have...\")"
   ]
  },
  {
   "cell_type": "code",
   "execution_count": null,
   "id": "c4d3618a",
   "metadata": {},
   "outputs": [],
   "source": [
    "instance = Class()\n",
    "instance.method()\n",
    "instance.method = function\n",
    "instance.method()"
   ]
  },
  {
   "cell_type": "code",
   "execution_count": null,
   "id": "01ef7efd",
   "metadata": {},
   "outputs": [],
   "source": [
    "class Bird:\n",
    "    song = \"Squaawk!\"\n",
    "    def sing(self):\n",
    "        print(self.song)"
   ]
  },
  {
   "cell_type": "code",
   "execution_count": null,
   "id": "eb620e9e",
   "metadata": {},
   "outputs": [],
   "source": [
    "bird = Bird()"
   ]
  },
  {
   "cell_type": "code",
   "execution_count": null,
   "id": "b2379fe8",
   "metadata": {},
   "outputs": [],
   "source": [
    "bird.sing()"
   ]
  },
  {
   "cell_type": "code",
   "execution_count": null,
   "id": "f71a0932",
   "metadata": {},
   "outputs": [],
   "source": [
    "birdsong = bird.sing"
   ]
  },
  {
   "cell_type": "code",
   "execution_count": null,
   "id": "302132dd",
   "metadata": {},
   "outputs": [],
   "source": [
    "birdsong()"
   ]
  },
  {
   "cell_type": "code",
   "execution_count": null,
   "id": "c76c3e4c",
   "metadata": {},
   "outputs": [],
   "source": [
    "class Secretive:\n",
    "    def __inaccessible(self):\n",
    "        print(\"Bet you can't see me.... haahahaha!\")\n",
    "    def accessible(self):\n",
    "        print(\"The Secrete Message is:\")\n",
    "        self.__inaccessible()"
   ]
  },
  {
   "cell_type": "code",
   "execution_count": null,
   "id": "8ed5858d",
   "metadata": {},
   "outputs": [],
   "source": [
    "s = Secretive()"
   ]
  },
  {
   "cell_type": "code",
   "execution_count": null,
   "id": "f25d9a8b",
   "metadata": {},
   "outputs": [],
   "source": [
    "s.__inaccessible()"
   ]
  },
  {
   "cell_type": "code",
   "execution_count": null,
   "id": "a93911a2",
   "metadata": {},
   "outputs": [],
   "source": [
    "s.accessible()"
   ]
  },
  {
   "cell_type": "code",
   "execution_count": null,
   "id": "f15c3acd",
   "metadata": {},
   "outputs": [],
   "source": [
    "s._Secretive__inaccessible()"
   ]
  },
  {
   "cell_type": "code",
   "execution_count": null,
   "id": "164b4395",
   "metadata": {},
   "outputs": [],
   "source": [
    "class MemberCounter:\n",
    "    members = 0\n",
    "    def init(self):\n",
    "        MemberCounter.members +=1"
   ]
  },
  {
   "cell_type": "code",
   "execution_count": null,
   "id": "62d746f1",
   "metadata": {},
   "outputs": [],
   "source": [
    "m1 = MemberCounter()"
   ]
  },
  {
   "cell_type": "code",
   "execution_count": null,
   "id": "52bda968",
   "metadata": {},
   "outputs": [],
   "source": [
    "m1.init()"
   ]
  },
  {
   "cell_type": "code",
   "execution_count": null,
   "id": "83f09786",
   "metadata": {},
   "outputs": [],
   "source": [
    "MemberCounter.members"
   ]
  },
  {
   "cell_type": "code",
   "execution_count": null,
   "id": "5dbe903b",
   "metadata": {},
   "outputs": [],
   "source": [
    "m2 = MemberCounter()"
   ]
  },
  {
   "cell_type": "code",
   "execution_count": null,
   "id": "fa0ea628",
   "metadata": {},
   "outputs": [],
   "source": [
    "m2.init()"
   ]
  },
  {
   "cell_type": "code",
   "execution_count": null,
   "id": "fe60e228",
   "metadata": {},
   "outputs": [],
   "source": [
    "MemberCounter.members"
   ]
  },
  {
   "cell_type": "code",
   "execution_count": null,
   "id": "547aad60",
   "metadata": {},
   "outputs": [],
   "source": [
    "m1.members"
   ]
  },
  {
   "cell_type": "code",
   "execution_count": null,
   "id": "96be1b28",
   "metadata": {},
   "outputs": [],
   "source": [
    "m2.members"
   ]
  },
  {
   "cell_type": "code",
   "execution_count": null,
   "id": "644520dd",
   "metadata": {},
   "outputs": [],
   "source": [
    "m1.members = \"Two\""
   ]
  },
  {
   "cell_type": "code",
   "execution_count": null,
   "id": "aec7f0ea",
   "metadata": {},
   "outputs": [],
   "source": [
    "m1.members"
   ]
  },
  {
   "cell_type": "code",
   "execution_count": null,
   "id": "825ce352",
   "metadata": {},
   "outputs": [],
   "source": [
    "m2.members"
   ]
  },
  {
   "cell_type": "code",
   "execution_count": null,
   "id": "3a636835",
   "metadata": {},
   "outputs": [],
   "source": [
    "class Filter:\n",
    "    def init(self):\n",
    "        self.blocked = []\n",
    "    def filters(self,sequence):\n",
    "        return [x for x in sequence if x not in self.blocked]"
   ]
  },
  {
   "cell_type": "code",
   "execution_count": null,
   "id": "5589d61b",
   "metadata": {},
   "outputs": [],
   "source": [
    "class SpamFilter(Filter):\n",
    "    def init(self):\n",
    "        self.blocked = ['SPAM']"
   ]
  },
  {
   "cell_type": "code",
   "execution_count": null,
   "id": "c985bf98",
   "metadata": {},
   "outputs": [],
   "source": [
    "f = Filter()"
   ]
  },
  {
   "cell_type": "code",
   "execution_count": null,
   "id": "78604ef1",
   "metadata": {},
   "outputs": [],
   "source": [
    "f.init()"
   ]
  },
  {
   "cell_type": "code",
   "execution_count": null,
   "id": "3ed3a5ec",
   "metadata": {},
   "outputs": [],
   "source": [
    "f.filters([1,2,3,4,3])"
   ]
  },
  {
   "cell_type": "code",
   "execution_count": null,
   "id": "78bea124",
   "metadata": {},
   "outputs": [],
   "source": [
    "s = SpamFilter()"
   ]
  },
  {
   "cell_type": "code",
   "execution_count": null,
   "id": "2d0fd154",
   "metadata": {},
   "outputs": [],
   "source": [
    "s.init()"
   ]
  },
  {
   "cell_type": "code",
   "execution_count": null,
   "id": "e3c4e7cf",
   "metadata": {},
   "outputs": [],
   "source": [
    "s.filters([\"SPAM\",\"SPAM\",\"SPAM\",\"SPAM\",\"eggs\",\"bacon\",\"SPAM\"])"
   ]
  },
  {
   "cell_type": "code",
   "execution_count": null,
   "id": "d01dd62e",
   "metadata": {},
   "outputs": [],
   "source": [
    "issubclass(SpamFilter, Filter)"
   ]
  },
  {
   "cell_type": "code",
   "execution_count": null,
   "id": "aa40aec8",
   "metadata": {},
   "outputs": [],
   "source": [
    "issubclass(Filter, SpamFilter)"
   ]
  },
  {
   "cell_type": "code",
   "execution_count": null,
   "id": "03d4292c",
   "metadata": {},
   "outputs": [],
   "source": [
    "SpamFilter.__bases__"
   ]
  },
  {
   "cell_type": "code",
   "execution_count": null,
   "id": "0b248bd6",
   "metadata": {},
   "outputs": [],
   "source": [
    "Filter.__bases__"
   ]
  },
  {
   "cell_type": "code",
   "execution_count": null,
   "id": "95c62dd1",
   "metadata": {},
   "outputs": [],
   "source": [
    "class Calculator:\n",
    "    def calculate(self,expression):\n",
    "        self.value = eval(expression)"
   ]
  },
  {
   "cell_type": "code",
   "execution_count": null,
   "id": "82559371",
   "metadata": {},
   "outputs": [],
   "source": [
    "class Talker:\n",
    "    def talk(self):\n",
    "        print(\"Hi my value is:\",self.value)"
   ]
  },
  {
   "cell_type": "code",
   "execution_count": null,
   "id": "34e26cb4",
   "metadata": {},
   "outputs": [],
   "source": [
    "class TalkingCalculator(Calculator, Talker):\n",
    "    pass"
   ]
  },
  {
   "cell_type": "code",
   "execution_count": null,
   "id": "01c6ae5c",
   "metadata": {},
   "outputs": [],
   "source": [
    "tc = TalkingCalculator()"
   ]
  },
  {
   "cell_type": "code",
   "execution_count": null,
   "id": "e757c9d2",
   "metadata": {},
   "outputs": [],
   "source": [
    "tc.calculate(\"1+2*3\")"
   ]
  },
  {
   "cell_type": "code",
   "execution_count": null,
   "id": "0689ac12",
   "metadata": {},
   "outputs": [],
   "source": [
    "tc.talk()"
   ]
  },
  {
   "cell_type": "code",
   "execution_count": null,
   "id": "9e8dedc3",
   "metadata": {},
   "outputs": [],
   "source": [
    "hasattr(tc,\"talk\")"
   ]
  },
  {
   "cell_type": "code",
   "execution_count": null,
   "id": "d67df64e",
   "metadata": {},
   "outputs": [],
   "source": [
    "hasattr(tc,\"Fnord\")"
   ]
  },
  {
   "cell_type": "code",
   "execution_count": null,
   "id": "fb585c21",
   "metadata": {},
   "outputs": [],
   "source": [
    "callable(getattr(tc,\"talk\",None))"
   ]
  },
  {
   "cell_type": "code",
   "execution_count": null,
   "id": "18c97680",
   "metadata": {},
   "outputs": [],
   "source": [
    "callable(getattr(tc,\"fnord\",None))"
   ]
  },
  {
   "cell_type": "code",
   "execution_count": null,
   "id": "a6268f8a",
   "metadata": {},
   "outputs": [],
   "source": [
    "setattr(tc,\"name\",\"Mr. Gumby\")"
   ]
  },
  {
   "cell_type": "code",
   "execution_count": null,
   "id": "e3d65862",
   "metadata": {},
   "outputs": [],
   "source": [
    "tc.name"
   ]
  },
  {
   "cell_type": "code",
   "execution_count": null,
   "id": "85247bfd",
   "metadata": {},
   "outputs": [],
   "source": [
    "from abc import ABC, abstractmethod\n",
    "\n",
    "class Talker(ABC):\n",
    "    @abstractmethod\n",
    "    def tak(self):\n",
    "        pass"
   ]
  },
  {
   "cell_type": "code",
   "execution_count": null,
   "id": "1fb046a4",
   "metadata": {},
   "outputs": [],
   "source": [
    "Talker()"
   ]
  },
  {
   "cell_type": "code",
   "execution_count": null,
   "id": "b50a0656",
   "metadata": {},
   "outputs": [],
   "source": [
    "class Knigget(Talker):\n",
    "    pass"
   ]
  },
  {
   "cell_type": "code",
   "execution_count": null,
   "id": "82729b0d",
   "metadata": {},
   "outputs": [],
   "source": [
    "class Knigget(Talker):\n",
    "    def talk(self):\n",
    "        print(\"Ni!\")"
   ]
  },
  {
   "cell_type": "code",
   "execution_count": null,
   "id": "507ffc71",
   "metadata": {},
   "outputs": [],
   "source": [
    "Knigget()"
   ]
  },
  {
   "cell_type": "code",
   "execution_count": null,
   "id": "8a42e87f",
   "metadata": {},
   "outputs": [],
   "source": [
    "k = Knigget()"
   ]
  },
  {
   "cell_type": "code",
   "execution_count": null,
   "id": "ef2c186c",
   "metadata": {},
   "outputs": [],
   "source": [
    "1/0"
   ]
  },
  {
   "cell_type": "code",
   "execution_count": null,
   "id": "c7937e36",
   "metadata": {},
   "outputs": [],
   "source": [
    "raise Exception"
   ]
  },
  {
   "cell_type": "code",
   "execution_count": null,
   "id": "bf242d16",
   "metadata": {},
   "outputs": [],
   "source": [
    "raise Exception(\"Hyperdrive Overload\")"
   ]
  },
  {
   "cell_type": "code",
   "execution_count": null,
   "id": "e6b8dc7b",
   "metadata": {},
   "outputs": [],
   "source": [
    "raise ArithmeticError"
   ]
  },
  {
   "cell_type": "code",
   "execution_count": null,
   "id": "ec523dd8",
   "metadata": {},
   "outputs": [],
   "source": [
    "try:\n",
    "    x = int(input(\"Enter First Number: \"))\n",
    "    y = int(input(\"Enter Second Number: \"))\n",
    "    print(x/y)\n",
    "except ZeroDivisionError:\n",
    "    print(\"<<The Second number can't be zero!>>\")"
   ]
  },
  {
   "cell_type": "code",
   "execution_count": null,
   "id": "86a3d145",
   "metadata": {},
   "outputs": [],
   "source": [
    "x = int(input(\"Enter First Number: \"))\n",
    "y = int(input(\"Enter Second Number: \"))\n",
    "if y == 0:\n",
    "    print(\"<<The Second number can't be zero!>>\")\n",
    "else:\n",
    "    print(x/y)\n"
   ]
  },
  {
   "cell_type": "code",
   "execution_count": null,
   "id": "3dc14727",
   "metadata": {},
   "outputs": [],
   "source": [
    "class MuffledCalculator:\n",
    "    muffled = False\n",
    "    def calc(self, expr):\n",
    "        try:\n",
    "            return eval(expr)\n",
    "        except ZeroDivisionError:\n",
    "            if self.muffled:\n",
    "                print(\"Division by zero is illegal\")\n",
    "            else:\n",
    "                raise"
   ]
  },
  {
   "cell_type": "code",
   "execution_count": null,
   "id": "93ea688f",
   "metadata": {},
   "outputs": [],
   "source": [
    "calculator = MuffledCalculator()"
   ]
  },
  {
   "cell_type": "code",
   "execution_count": null,
   "id": "f70bcb4e",
   "metadata": {},
   "outputs": [],
   "source": [
    "calculator.calc('10/2')"
   ]
  },
  {
   "cell_type": "code",
   "execution_count": null,
   "id": "0fcb1662",
   "metadata": {},
   "outputs": [],
   "source": [
    "calculator.calc('10/0')"
   ]
  },
  {
   "cell_type": "code",
   "execution_count": null,
   "id": "0e25bc68",
   "metadata": {},
   "outputs": [],
   "source": [
    "calculator.muffled = True"
   ]
  },
  {
   "cell_type": "code",
   "execution_count": null,
   "id": "fdc73a49",
   "metadata": {},
   "outputs": [],
   "source": [
    "calculator.calc('10/0')"
   ]
  },
  {
   "cell_type": "code",
   "execution_count": null,
   "id": "651b62f6",
   "metadata": {},
   "outputs": [],
   "source": [
    "try:\n",
    "    1/0\n",
    "except ZeroDivisionError:\n",
    "    raise ValueError"
   ]
  },
  {
   "cell_type": "code",
   "execution_count": null,
   "id": "7bdc2756",
   "metadata": {},
   "outputs": [],
   "source": [
    "try:\n",
    "    1/0\n",
    "except ZeroDivisionError:\n",
    "    raise ValueError from None"
   ]
  },
  {
   "cell_type": "code",
   "execution_count": null,
   "id": "dcefe2d6",
   "metadata": {},
   "outputs": [],
   "source": [
    "try:\n",
    "    x = int(input(\"Enter First Number: \"))\n",
    "    y = int(input(\"Enter Second Number: \"))\n",
    "    print(x/y)\n",
    "except ZeroDivisionError:\n",
    "    print(\"<<The Second number can't be zero!>>\")"
   ]
  },
  {
   "cell_type": "code",
   "execution_count": null,
   "id": "6747fbfb",
   "metadata": {},
   "outputs": [],
   "source": [
    "try:\n",
    "    x = int(input(\"Enter First Number: \"))\n",
    "    y = int(input(\"Enter Second Number: \"))\n",
    "    print(x/y)\n",
    "except ZeroDivisionError:\n",
    "    print(\"<<The Second number can't be zero!>>\")\n",
    "except ValueError:\n",
    "    print(\"<<That Wasn't a Number!>>\")"
   ]
  },
  {
   "cell_type": "code",
   "execution_count": null,
   "id": "0dd568d3",
   "metadata": {},
   "outputs": [],
   "source": [
    "try:\n",
    "    x = int(input(\"Enter First Number: \"))\n",
    "    y = int(input(\"Enter Second Number: \"))\n",
    "    print(x/y)\n",
    "except (ZeroDivisionError, ValueError, NameError):\n",
    "    print(\"<<Your Program has Errors!>>\")"
   ]
  },
  {
   "cell_type": "code",
   "execution_count": null,
   "id": "0374753f",
   "metadata": {},
   "outputs": [],
   "source": [
    "try:\n",
    "    x = int(input(\"Enter First Number: \"))\n",
    "    y = int(input(\"Enter Second Number: \"))\n",
    "    print(x/y)\n",
    "except (ZeroDivisionError, ValueError) as e:\n",
    "    print(e)"
   ]
  },
  {
   "cell_type": "code",
   "execution_count": null,
   "id": "bba7753c",
   "metadata": {},
   "outputs": [],
   "source": [
    "while True:\n",
    "    try:\n",
    "        x = int(input(\"Enter First Number: \"))\n",
    "        y = int(input(\"Enter Second Number: \"))\n",
    "        value = x / y\n",
    "        print(\"x / y is\",value)\n",
    "    except:\n",
    "        print(\"Invalid Input, Please Try Again!\")\n",
    "    else:\n",
    "        break      "
   ]
  },
  {
   "cell_type": "code",
   "execution_count": null,
   "id": "87f0e13e",
   "metadata": {},
   "outputs": [],
   "source": [
    "while True:\n",
    "    try:\n",
    "        x = int(input(\"Enter First Number: \"))\n",
    "        y = int(input(\"Enter Second Number: \"))\n",
    "        value = x / y\n",
    "        print(\"x / y is\",value)\n",
    "    except Exception as e:\n",
    "        print(\"Invalid Input:\", e)\n",
    "        print(\"Please Try Again!\")        \n",
    "    else:\n",
    "        break      "
   ]
  },
  {
   "cell_type": "code",
   "execution_count": null,
   "id": "32ea8e12",
   "metadata": {},
   "outputs": [],
   "source": [
    "x = None\n",
    "try:\n",
    "    x = 1/0\n",
    "finally:\n",
    "    print(\"Cleaning up....\")\n",
    "    del x"
   ]
  },
  {
   "cell_type": "code",
   "execution_count": null,
   "id": "1ede2675",
   "metadata": {},
   "outputs": [],
   "source": [
    "def describe_person(person):\n",
    "    print(\"Description of\",person[\"name\"])\n",
    "    print(\"Age:\", person[\"age\"])\n",
    "if \"occcupation\" in person:\n",
    "    print(\"Occupation:\", person[\"occupation\"])"
   ]
  },
  {
   "cell_type": "code",
   "execution_count": 22,
   "id": "f78c4a1d",
   "metadata": {},
   "outputs": [],
   "source": [
    "class Family:\n",
    "    \n",
    "    def set_name_grand(self,grand_father_name):\n",
    "        self.grand_father_name = grand_father_name\n",
    "        \n",
    "    def set_name_father(self,father_name):\n",
    "        self.father_name = father_name\n",
    "        \n",
    "    def set_name_child(self,child_name):\n",
    "        self.child_name = child_name\n",
    "        \n",
    "    #def get_name_family(self):\n",
    "        #return self.grand_father_name\n",
    "        #return self.father_name\n",
    "        #return self.child_name\n",
    "        \n",
    "    \n",
    "    def greet_grand_father(self):\n",
    "        print(\"Hello Grand Father Mr. {}.\".format(self.grand_father_name))\n",
    "        \n",
    "    def greet_father(self):\n",
    "        print(\"Hello Father Mr. {}.\".format(self.father_name))\n",
    "        \n",
    "    def greet_child(self):\n",
    "        print(\"Hello Man Mr. {}.\".format(self.child_name))  \n",
    "    \n",
    "    def family_tree(self):\n",
    "        print(\"{}. is the father of is the father of\",self.family_tree)"
   ]
  },
  {
   "cell_type": "code",
   "execution_count": 23,
   "id": "1ce1753d",
   "metadata": {},
   "outputs": [],
   "source": [
    "gr = Family()\n",
    "fa = Family()\n",
    "ch = Family()\n",
    "fa = Family()"
   ]
  },
  {
   "cell_type": "code",
   "execution_count": 24,
   "id": "4d3501ee",
   "metadata": {},
   "outputs": [],
   "source": [
    "gr.set_name_grand(\"Muhammad Yousuf\")\n",
    "fa.set_name_father(\"Abdul Salam\")\n",
    "ch.set_name_child(\"Atif Salam\")"
   ]
  },
  {
   "cell_type": "code",
   "execution_count": 25,
   "id": "483660e8",
   "metadata": {},
   "outputs": [
    {
     "name": "stdout",
     "output_type": "stream",
     "text": [
      "Hello Grand Father Mr. Muhammad Yousuf.\n"
     ]
    }
   ],
   "source": [
    "gr.greet_grand_father()"
   ]
  },
  {
   "cell_type": "code",
   "execution_count": 26,
   "id": "2d6afd26",
   "metadata": {},
   "outputs": [
    {
     "name": "stdout",
     "output_type": "stream",
     "text": [
      "Hello Father Mr. Abdul Salam.\n"
     ]
    }
   ],
   "source": [
    "fa.greet_father()"
   ]
  },
  {
   "cell_type": "code",
   "execution_count": 27,
   "id": "4886b3f9",
   "metadata": {},
   "outputs": [
    {
     "name": "stdout",
     "output_type": "stream",
     "text": [
      "Hello Man Mr. Atif Salam.\n"
     ]
    }
   ],
   "source": [
    "ch.greet_child()"
   ]
  },
  {
   "cell_type": "code",
   "execution_count": 16,
   "id": "b80a92b2",
   "metadata": {},
   "outputs": [],
   "source": [
    "class Person:\n",
    "    def set_name(self,name):\n",
    "        self.name = name\n",
    "        \n",
    "    #def get_name(self):\n",
    "        #return self.name\n",
    "        \n",
    "    def greet(self):\n",
    "        print(\"Hello, World! I am {}.\".format(self.name))"
   ]
  },
  {
   "cell_type": "code",
   "execution_count": 19,
   "id": "6d1e797b",
   "metadata": {},
   "outputs": [],
   "source": [
    "foo = Person()\n",
    "bar = Person()\n",
    "car = Person()"
   ]
  },
  {
   "cell_type": "code",
   "execution_count": 20,
   "id": "590e7139",
   "metadata": {},
   "outputs": [],
   "source": [
    "foo.set_name(\"Like Skywalker\")\n",
    "bar.set_name(\"Anakin Skywalker\")\n",
    "car.set_name(\"Atif Salam\")"
   ]
  },
  {
   "cell_type": "code",
   "execution_count": 21,
   "id": "a3027b26",
   "metadata": {},
   "outputs": [
    {
     "name": "stdout",
     "output_type": "stream",
     "text": [
      "Hello, World! I am Anakin Skywalker.\n"
     ]
    }
   ],
   "source": [
    "bar.greet()"
   ]
  },
  {
   "cell_type": "code",
   "execution_count": 28,
   "id": "c0ebf8c3",
   "metadata": {},
   "outputs": [],
   "source": [
    "class Bird:\n",
    "    song = \"SquaawK!\"\n",
    "    def sing(self):\n",
    "        print(self.song)"
   ]
  },
  {
   "cell_type": "code",
   "execution_count": 29,
   "id": "788390da",
   "metadata": {},
   "outputs": [],
   "source": [
    "bird = Bird()"
   ]
  },
  {
   "cell_type": "code",
   "execution_count": 30,
   "id": "3dc08b03",
   "metadata": {},
   "outputs": [
    {
     "name": "stdout",
     "output_type": "stream",
     "text": [
      "SquaawK!\n"
     ]
    }
   ],
   "source": [
    "bird.sing()"
   ]
  },
  {
   "cell_type": "code",
   "execution_count": 32,
   "id": "78e49e6e",
   "metadata": {},
   "outputs": [],
   "source": [
    "birdsong = bird.sing"
   ]
  },
  {
   "cell_type": "code",
   "execution_count": 33,
   "id": "c21c7264",
   "metadata": {},
   "outputs": [
    {
     "name": "stdout",
     "output_type": "stream",
     "text": [
      "SquaawK!\n"
     ]
    }
   ],
   "source": [
    "birdsong()"
   ]
  },
  {
   "cell_type": "code",
   "execution_count": 29,
   "id": "434af427",
   "metadata": {},
   "outputs": [],
   "source": [
    "class Person:\n",
    "    def set_name(self,name):\n",
    "        self.name = name\n",
    "    def get_name(self):\n",
    "        return self.name\n",
    "    def greet(self):\n",
    "        print(\"Hello World! I'm {}\".format(self.name))"
   ]
  },
  {
   "cell_type": "code",
   "execution_count": 30,
   "id": "84d8a87e",
   "metadata": {},
   "outputs": [],
   "source": [
    "foo = Person()\n",
    "bar = Person()\n",
    "foo.set_name(\"Luke Skywalker\")\n",
    "bar.set_name(\"Anakin Skywalker\")"
   ]
  },
  {
   "cell_type": "code",
   "execution_count": 31,
   "id": "8d99c7df",
   "metadata": {},
   "outputs": [
    {
     "name": "stdout",
     "output_type": "stream",
     "text": [
      "Hello World! I'm Luke Skywalker\n",
      "Hello World! I'm Anakin Skywalker\n"
     ]
    }
   ],
   "source": [
    "foo.greet()\n",
    "bar.greet()"
   ]
  },
  {
   "cell_type": "code",
   "execution_count": 11,
   "id": "40deac25",
   "metadata": {},
   "outputs": [],
   "source": [
    "at = Person()\n",
    "at.set_name(\"Atif Salam\")"
   ]
  },
  {
   "cell_type": "code",
   "execution_count": 12,
   "id": "bfd77475",
   "metadata": {},
   "outputs": [
    {
     "name": "stdout",
     "output_type": "stream",
     "text": [
      "Hello World! I'm Atif Salam\n"
     ]
    }
   ],
   "source": [
    "at.greet()"
   ]
  },
  {
   "cell_type": "code",
   "execution_count": 20,
   "id": "63f86dec",
   "metadata": {},
   "outputs": [],
   "source": [
    "fa = Person()\n",
    "fa.set_name(\"Faiza Atif Salam\")"
   ]
  },
  {
   "cell_type": "code",
   "execution_count": 21,
   "id": "ad9b2df5",
   "metadata": {},
   "outputs": [
    {
     "name": "stdout",
     "output_type": "stream",
     "text": [
      "Hello World! I'm Faiza Atif Salam\n"
     ]
    }
   ],
   "source": [
    "fa.greet()"
   ]
  },
  {
   "cell_type": "code",
   "execution_count": 50,
   "id": "088715da",
   "metadata": {},
   "outputs": [],
   "source": [
    "class FooBar:\n",
    "    def __init__(self):\n",
    "        self.somevar = 42"
   ]
  },
  {
   "cell_type": "code",
   "execution_count": 51,
   "id": "105131fb",
   "metadata": {},
   "outputs": [],
   "source": [
    "f = FooBar()"
   ]
  },
  {
   "cell_type": "code",
   "execution_count": 52,
   "id": "16a95df2",
   "metadata": {},
   "outputs": [
    {
     "data": {
      "text/plain": [
       "42"
      ]
     },
     "execution_count": 52,
     "metadata": {},
     "output_type": "execute_result"
    }
   ],
   "source": [
    "f.somevar"
   ]
  }
 ],
 "metadata": {
  "kernelspec": {
   "display_name": "Python 3 (ipykernel)",
   "language": "python",
   "name": "python3"
  },
  "language_info": {
   "codemirror_mode": {
    "name": "ipython",
    "version": 3
   },
   "file_extension": ".py",
   "mimetype": "text/x-python",
   "name": "python",
   "nbconvert_exporter": "python",
   "pygments_lexer": "ipython3",
   "version": "3.9.7"
  }
 },
 "nbformat": 4,
 "nbformat_minor": 5
}
