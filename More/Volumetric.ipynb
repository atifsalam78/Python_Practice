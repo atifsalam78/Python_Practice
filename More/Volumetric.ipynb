{
 "cells": [
  {
   "cell_type": "code",
   "execution_count": 3,
   "id": "26e5a07e",
   "metadata": {},
   "outputs": [
    {
     "name": "stdout",
     "output_type": "stream",
     "text": [
      "                         Volumetric Weight Calculator\n",
      "\n",
      "\n",
      "                          First Proof Your identity\n",
      "\n",
      "\n",
      "Enter Your User Name:- atif\n",
      "User Recognized\n",
      "Enter Your Pin:- 1003\n",
      "Pin Found\n",
      "Authenticated!\n",
      "****************************************************************************************************\n",
      "Length: 305\n",
      "Width: 322\n",
      "Height: 165\n",
      "Inches OR Centimeter? cm\n",
      "volumetric Weight respect of Centimeters:  3.24093\n"
     ]
    }
   ],
   "source": [
    "#**************************************\n",
    "# Login Authentication\n",
    "#**************************************\n",
    "space1=' '*25\n",
    "space2=' '*26\n",
    "user='atif'\n",
    "pas=1003\n",
    "print('%sVolumetric Weight Calculator'%space1)\n",
    "print('\\n')\n",
    "print('%sFirst Proof Your identity'%space2)\n",
    "print('\\n')\n",
    "login_name=input('Enter Your User Name:- ')\n",
    "if login_name==user:\n",
    "    print('User Recognized')\n",
    "    login_pw=int(input('Enter Your Pin:- '))\n",
    "    if login_pw==pas and login_name==user:\n",
    "        print('Pin Found')\n",
    "        print('Authenticated!')\n",
    "        print('*'*100)\n",
    "#**************************************\n",
    "#Volumetric Weight Calculator\n",
    "#**************************************\n",
    "        const_inch=305\n",
    "        const_cm=5000\n",
    "        inch_con=25.4\n",
    "        cm_con=10\n",
    "\n",
    "        l=float(input('Length: '))\n",
    "        li=(l)/inch_con\n",
    "        lc=(l)/cm_con\n",
    "        w=float(input('Width: '))\n",
    "        wi=(w)/inch_con\n",
    "        wc=(w)/cm_con\n",
    "        h=float(input('Height: '))\n",
    "        hi=(h)/inch_con\n",
    "        hc=(h)/cm_con\n",
    "\n",
    "        selec=input('Inches OR Centimeter? ')\n",
    "        if selec=='in':\n",
    "            vol_weight_inch=(li*wi*hi)/const_inch\n",
    "            print('Volumetric Weight respect of Inches:',vol_weight_inch)\n",
    "        elif selec=='cm':\n",
    "            vol_weight_cm=(lc*wc*hc)/const_cm\n",
    "            print('volumetric Weight respect of Centimeters: ',vol_weight_cm)\n",
    "        else:\n",
    "            print('Re-check what would you like to do?')\n",
    "    else:\n",
    "        print('Wrong Pin!')\n",
    "    \n",
    "else:\n",
    "    print('Wrong User Name!')\n",
    "    "
   ]
  },
  {
   "cell_type": "code",
   "execution_count": null,
   "id": "72dde9b3",
   "metadata": {},
   "outputs": [],
   "source": []
  },
  {
   "cell_type": "code",
   "execution_count": null,
   "id": "7c9a4989",
   "metadata": {},
   "outputs": [],
   "source": []
  },
  {
   "cell_type": "code",
   "execution_count": null,
   "id": "a29ba546",
   "metadata": {},
   "outputs": [],
   "source": []
  }
 ],
 "metadata": {
  "kernelspec": {
   "display_name": "Python 3 (ipykernel)",
   "language": "python",
   "name": "python3"
  },
  "language_info": {
   "codemirror_mode": {
    "name": "ipython",
    "version": 3
   },
   "file_extension": ".py",
   "mimetype": "text/x-python",
   "name": "python",
   "nbconvert_exporter": "python",
   "pygments_lexer": "ipython3",
   "version": "3.9.7"
  }
 },
 "nbformat": 4,
 "nbformat_minor": 5
}
