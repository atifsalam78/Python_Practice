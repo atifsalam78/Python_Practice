{
 "cells": [
  {
   "cell_type": "code",
   "execution_count": 1,
   "id": "8c16b4c4",
   "metadata": {
    "scrolled": true
   },
   "outputs": [
    {
     "name": "stdout",
     "output_type": "stream",
     "text": [
      "xELLO, WORLD! TxIS IS FOR xUNGRY MAN\n"
     ]
    }
   ],
   "source": [
    "#init1='AtifSalam'\n",
    "#print(init1)\n",
    "#len1=len(init1)\n",
    "#conv1='x'\n",
    "#for conv1 in range(len1):\n",
    " #   print(conv1)\n",
    "    \n",
    "txt1=\"Hello, World! This is for Hungry man\"\n",
    "txt2=txt1.upper()\n",
    "txt3=txt2.replace(\"H\", 'x')\n",
    "print(txt3)"
   ]
  },
  {
   "cell_type": "code",
   "execution_count": 2,
   "id": "b71b5797",
   "metadata": {
    "scrolled": true
   },
   "outputs": [
    {
     "name": "stdout",
     "output_type": "stream",
     "text": [
      "AATIF IS BOLD AND CREATIVE AND HAS DYNAMIC PERSONALITY\n",
      "11TIF IS BOLD 1ND CRE1TIVE 1ND H1S DYN1MIC PERSON1LITYAATIF IS 2OLD AND CREATIVE AND HAS DYNAMIC PERSONALITYAATIF IS BOLD AND 3REATIVE AND HAS DYNAMI3 PERSONALITYAATIF IS BOL4 AN4 CREATIVE AN4 HAS 4YNAMIC PERSONALITY\n"
     ]
    }
   ],
   "source": [
    "nam=\"aatif is bold and creative and has dynamic personality\"\n",
    "nam2=nam.upper()\n",
    "cou=len(nam)\n",
    "a1=nam2.replace(\"A\",\"1\")\n",
    "a2=nam2.replace(\"B\",\"2\")\n",
    "a3=nam2.replace(\"C\",\"3\")\n",
    "a4=nam2.replace(\"D\",\"4\")\n",
    "print(nam2)\n",
    "print(a1+a2+a3+a4)"
   ]
  },
  {
   "cell_type": "code",
   "execution_count": null,
   "id": "51ab084f",
   "metadata": {},
   "outputs": [],
   "source": [
    "a=\"atif is bold and creative and has dynamic personality\"\n",
    "b=len(a)\n",
    "c=a.replace(a,'1'*b)\n",
    "print(c)"
   ]
  }
 ],
 "metadata": {
  "kernelspec": {
   "display_name": "Python 3 (ipykernel)",
   "language": "python",
   "name": "python3"
  },
  "language_info": {
   "codemirror_mode": {
    "name": "ipython",
    "version": 3
   },
   "file_extension": ".py",
   "mimetype": "text/x-python",
   "name": "python",
   "nbconvert_exporter": "python",
   "pygments_lexer": "ipython3",
   "version": "3.9.7"
  }
 },
 "nbformat": 4,
 "nbformat_minor": 5
}
