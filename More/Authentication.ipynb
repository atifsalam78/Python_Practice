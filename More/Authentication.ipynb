{
 "cells": [
  {
   "cell_type": "code",
   "execution_count": null,
   "id": "63d0933a",
   "metadata": {},
   "outputs": [
    {
     "name": "stdout",
     "output_type": "stream",
     "text": [
      "Who is That? kno\n",
      "No Body at the Door...\n"
     ]
    }
   ],
   "source": [
    "door='knock knock'\n",
    "door=input('Who is That? ')\n",
    "if door=='knock knock':\n",
    "    a=input('What is your name?')\n",
    "    \n",
    "else:\n",
    "    print('No Body at the Door...')\n",
    "if a=='atif salam':\n",
    "    \n",
    "        b=int(input('Enter Your Pin...'))\n",
    "        if b==1003:\n",
    "            print('You are Authenticated')\n",
    "else:\n",
    "        print('Name is correct but entered Pin is wrong')\n",
    "            \n",
    "\n"
   ]
  },
  {
   "cell_type": "code",
   "execution_count": null,
   "id": "11d4db6b",
   "metadata": {},
   "outputs": [],
   "source": []
  },
  {
   "cell_type": "code",
   "execution_count": null,
   "id": "dbff9a4d",
   "metadata": {},
   "outputs": [],
   "source": []
  }
 ],
 "metadata": {
  "kernelspec": {
   "display_name": "Python 3 (ipykernel)",
   "language": "python",
   "name": "python3"
  },
  "language_info": {
   "codemirror_mode": {
    "name": "ipython",
    "version": 3
   },
   "file_extension": ".py",
   "mimetype": "text/x-python",
   "name": "python",
   "nbconvert_exporter": "python",
   "pygments_lexer": "ipython3",
   "version": "3.9.7"
  }
 },
 "nbformat": 4,
 "nbformat_minor": 5
}
