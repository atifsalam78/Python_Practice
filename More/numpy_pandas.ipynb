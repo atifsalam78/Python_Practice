{
 "cells": [
  {
   "cell_type": "markdown",
   "id": "4ccc4e88",
   "metadata": {},
   "source": [
    "# Numpy Tutorial"
   ]
  },
  {
   "cell_type": "code",
   "execution_count": null,
   "id": "86b4a762",
   "metadata": {},
   "outputs": [],
   "source": [
    "%lsmagic"
   ]
  },
  {
   "cell_type": "code",
   "execution_count": null,
   "id": "7d5007ac",
   "metadata": {},
   "outputs": [],
   "source": [
    "!mkdir this"
   ]
  },
  {
   "cell_type": "code",
   "execution_count": null,
   "id": "f5b3f284",
   "metadata": {},
   "outputs": [],
   "source": [
    "%ls"
   ]
  },
  {
   "cell_type": "code",
   "execution_count": null,
   "id": "99b2f984",
   "metadata": {},
   "outputs": [],
   "source": [
    "%%HTML\n",
    "<h1> This is a heading</h1>"
   ]
  },
  {
   "cell_type": "code",
   "execution_count": null,
   "id": "e746e16d",
   "metadata": {},
   "outputs": [],
   "source": [
    "%matplotlib inline"
   ]
  },
  {
   "cell_type": "code",
   "execution_count": null,
   "id": "c7141418",
   "metadata": {},
   "outputs": [],
   "source": [
    "import matplotlib.pyplot as plt\n",
    "import numpy as np\n",
    "\n",
    "t = np.arange(0.0, 2.0, 0.01)\n",
    "s = 1 + np.sin(2*np.pi*t)\n",
    "plt.plot(t, s)\n",
    "\n",
    "plt.xlabel('time (s)')\n",
    "plt.ylabel('voltage (mV)')\n",
    "plt.title('About as simple as it gets, folks')\n",
    "plt.grid(True)\n",
    "plt.savefig(\"test.png\")\n",
    "plt.show()"
   ]
  },
  {
   "cell_type": "code",
   "execution_count": null,
   "id": "7ee08b58",
   "metadata": {},
   "outputs": [],
   "source": [
    "%time print(\"Atif Salam\")"
   ]
  },
  {
   "cell_type": "code",
   "execution_count": null,
   "id": "0f0deaf5",
   "metadata": {},
   "outputs": [],
   "source": [
    "%timeit print(\"Atif Salam\")"
   ]
  },
  {
   "cell_type": "markdown",
   "id": "3dbf02d7",
   "metadata": {},
   "source": [
    "# Numpy - Array"
   ]
  },
  {
   "cell_type": "markdown",
   "id": "96b09d25",
   "metadata": {},
   "source": [
    "*\n",
    "There are 6 general mechanisms for creating arrays:\n",
    "\n",
    "Conversion from other Python structures (i.e. lists and tuples)\n",
    "\n",
    "Intrinsic NumPy array creation functions (e.g. arange, ones, zeros, etc.)\n",
    "\n",
    "Replicating, joining, or mutating existing arrays\n",
    "\n",
    "Reading arrays from disk, either from standard or custom formats\n",
    "\n",
    "Creating arrays from raw bytes through the use of strings or buffers\n",
    "\n",
    "Use of special library functions (e.g., random)\n",
    "\n",
    "You can use these methods to create ndarrays or Structured arrays. This document will cover general methods for ndarray creation.\n",
    "*"
   ]
  },
  {
   "cell_type": "code",
   "execution_count": null,
   "id": "0b99885b",
   "metadata": {},
   "outputs": [],
   "source": [
    "import numpy as np #from numpy import * is not recomended"
   ]
  },
  {
   "cell_type": "code",
   "execution_count": null,
   "id": "f27c3457",
   "metadata": {},
   "outputs": [],
   "source": [
    "arr =np.arange(1000000) # Numpy array used C binaries in backhand which gives us more speed"
   ]
  },
  {
   "cell_type": "code",
   "execution_count": null,
   "id": "c40b235c",
   "metadata": {},
   "outputs": [],
   "source": [
    "pylist = list(range(1000000))"
   ]
  },
  {
   "cell_type": "code",
   "execution_count": null,
   "id": "b9f8e9e1",
   "metadata": {},
   "outputs": [],
   "source": [
    "%time for _ in range(10): [item*3 for item in pylist]"
   ]
  },
  {
   "cell_type": "code",
   "execution_count": null,
   "id": "e95f51ca",
   "metadata": {},
   "outputs": [],
   "source": [
    "%time for _ in range(10): arr = arr * 3"
   ]
  },
  {
   "cell_type": "code",
   "execution_count": null,
   "id": "74f3308c",
   "metadata": {},
   "outputs": [],
   "source": [
    "np.array([3,4,5,6,7,8,9])"
   ]
  },
  {
   "cell_type": "code",
   "execution_count": null,
   "id": "07d86313",
   "metadata": {},
   "outputs": [],
   "source": [
    "array1 = np.array([[1,2,3,4],[5,6,7,8]])"
   ]
  },
  {
   "cell_type": "code",
   "execution_count": null,
   "id": "d472861d",
   "metadata": {},
   "outputs": [],
   "source": [
    "print(array1)"
   ]
  },
  {
   "cell_type": "code",
   "execution_count": null,
   "id": "a078c28a",
   "metadata": {},
   "outputs": [],
   "source": [
    "print(type(array1))"
   ]
  },
  {
   "cell_type": "markdown",
   "id": "f4aed4c9",
   "metadata": {},
   "source": [
    "# Numpy - Functions"
   ]
  },
  {
   "cell_type": "code",
   "execution_count": null,
   "id": "bff2aa05",
   "metadata": {},
   "outputs": [],
   "source": [
    "\"\"\"\n",
    "Memory Management\n",
    "Should be careful when we implicitly define while creating an array\n",
    "\n",
    "array1 = np.array([[1,2,3,4],[5,6,7,8]], dtype=\"int32\")\n",
    "\"\"\"\n",
    "array1.dtype"
   ]
  },
  {
   "cell_type": "code",
   "execution_count": null,
   "id": "195ee26f",
   "metadata": {},
   "outputs": [],
   "source": [
    "xx = np.array([3,4,6,8,9], np.int8)"
   ]
  },
  {
   "cell_type": "code",
   "execution_count": null,
   "id": "c378ce84",
   "metadata": {},
   "outputs": [],
   "source": [
    "xx"
   ]
  },
  {
   "cell_type": "code",
   "execution_count": null,
   "id": "1da7127c",
   "metadata": {},
   "outputs": [],
   "source": [
    "array1.shape"
   ]
  },
  {
   "cell_type": "code",
   "execution_count": null,
   "id": "f37c88af",
   "metadata": {},
   "outputs": [],
   "source": [
    "np.zeros((4,6))"
   ]
  },
  {
   "cell_type": "code",
   "execution_count": null,
   "id": "7251aec0",
   "metadata": {},
   "outputs": [],
   "source": [
    "np.ones((4,5))"
   ]
  },
  {
   "cell_type": "code",
   "execution_count": null,
   "id": "83fdef6b",
   "metadata": {},
   "outputs": [],
   "source": [
    "np.empty((4,6)) # this is not just as zeros it doesn't convert value into zeros it just allocate memory"
   ]
  },
  {
   "cell_type": "code",
   "execution_count": null,
   "id": "e12f54b0",
   "metadata": {},
   "outputs": [],
   "source": [
    "emp_like = np.empty_like(array1)"
   ]
  },
  {
   "cell_type": "code",
   "execution_count": null,
   "id": "cca04249",
   "metadata": {},
   "outputs": [],
   "source": [
    "emp_like"
   ]
  },
  {
   "cell_type": "code",
   "execution_count": null,
   "id": "602c14cb",
   "metadata": {},
   "outputs": [],
   "source": [
    "ide = np.identity(45)"
   ]
  },
  {
   "cell_type": "code",
   "execution_count": null,
   "id": "455c9c40",
   "metadata": {},
   "outputs": [],
   "source": [
    "ide"
   ]
  },
  {
   "cell_type": "code",
   "execution_count": null,
   "id": "8630297f",
   "metadata": {},
   "outputs": [],
   "source": [
    "axr = np.arange(45)"
   ]
  },
  {
   "cell_type": "code",
   "execution_count": null,
   "id": "f1ff7ac2",
   "metadata": {},
   "outputs": [],
   "source": [
    "axr"
   ]
  },
  {
   "cell_type": "code",
   "execution_count": null,
   "id": "855d2337",
   "metadata": {},
   "outputs": [],
   "source": [
    "axr = axr.reshape(5,9)"
   ]
  },
  {
   "cell_type": "code",
   "execution_count": null,
   "id": "09c853fc",
   "metadata": {},
   "outputs": [],
   "source": [
    "axr"
   ]
  },
  {
   "cell_type": "code",
   "execution_count": null,
   "id": "add0c016",
   "metadata": {},
   "outputs": [],
   "source": [
    "axr.ravel()"
   ]
  },
  {
   "cell_type": "code",
   "execution_count": null,
   "id": "2e8fd7a2",
   "metadata": {},
   "outputs": [],
   "source": [
    "ar1 = np.array([[1,2,3],\n",
    "              [4,5,6]])"
   ]
  },
  {
   "cell_type": "code",
   "execution_count": null,
   "id": "1724c877",
   "metadata": {},
   "outputs": [],
   "source": [
    "lspac = np.linspace(1,5,12)"
   ]
  },
  {
   "cell_type": "code",
   "execution_count": null,
   "id": "69b465ea",
   "metadata": {},
   "outputs": [],
   "source": [
    "lspac"
   ]
  },
  {
   "cell_type": "code",
   "execution_count": null,
   "id": "0e098966",
   "metadata": {},
   "outputs": [],
   "source": [
    "ar1.sum(axis = 1) # axis = 1 is for rows"
   ]
  },
  {
   "cell_type": "code",
   "execution_count": null,
   "id": "82409c11",
   "metadata": {},
   "outputs": [],
   "source": [
    "ar1.sum(axis = 0) # axis = 1 is for columns"
   ]
  },
  {
   "cell_type": "code",
   "execution_count": null,
   "id": "f1fd73bb",
   "metadata": {},
   "outputs": [],
   "source": [
    "ar2 = np.array([[7,8,9],\n",
    "              [10,11,12]])"
   ]
  },
  {
   "cell_type": "code",
   "execution_count": null,
   "id": "0ff6f227",
   "metadata": {},
   "outputs": [],
   "source": [
    "ar1.shape"
   ]
  },
  {
   "cell_type": "code",
   "execution_count": null,
   "id": "04567605",
   "metadata": {},
   "outputs": [],
   "source": [
    "ar2.shape"
   ]
  },
  {
   "cell_type": "code",
   "execution_count": null,
   "id": "a6eeab99",
   "metadata": {},
   "outputs": [],
   "source": [
    "ar1.dot(ar2)"
   ]
  },
  {
   "cell_type": "code",
   "execution_count": null,
   "id": "073c9245",
   "metadata": {},
   "outputs": [],
   "source": [
    "\"\"\"\n",
    "To avoid this error we have to transpose second array to 3 x 2\n",
    "becasue (2 x 3) x (2 x 3) is not possible due to matrices multiplication property (2 x 3) x (3 x 2) is possible\n",
    "\"\"\"\n",
    "ar1.dot(ar2.transpose())"
   ]
  },
  {
   "cell_type": "code",
   "execution_count": null,
   "id": "35909d71",
   "metadata": {},
   "outputs": [],
   "source": [
    "dir(np)"
   ]
  },
  {
   "cell_type": "code",
   "execution_count": null,
   "id": "13b5593a",
   "metadata": {},
   "outputs": [],
   "source": [
    "np.cross(ar1,ar2)"
   ]
  },
  {
   "cell_type": "code",
   "execution_count": null,
   "id": "09430acc",
   "metadata": {},
   "outputs": [],
   "source": [
    "ar1 = np.array([[11,2,3],\n",
    "              [4,15,6]])"
   ]
  },
  {
   "cell_type": "code",
   "execution_count": null,
   "id": "9620ba88",
   "metadata": {},
   "outputs": [],
   "source": [
    "np.sort(ar1) # Default this sort in axis = 1 means rows wise"
   ]
  },
  {
   "cell_type": "code",
   "execution_count": null,
   "id": "1ac991ab",
   "metadata": {},
   "outputs": [],
   "source": [
    "%%time\n",
    "np.sort(ar1, axis=0) # this sort column wise"
   ]
  },
  {
   "cell_type": "code",
   "execution_count": null,
   "id": "02f53a65",
   "metadata": {},
   "outputs": [],
   "source": [
    "%%time\n",
    "np.sort(ar1, axis=0, kind=\"mergesort\")"
   ]
  },
  {
   "cell_type": "code",
   "execution_count": null,
   "id": "a4ba790f",
   "metadata": {},
   "outputs": [],
   "source": [
    "%%time\n",
    "np.sort(ar1, axis=0, kind=\"quicksort\")"
   ]
  },
  {
   "cell_type": "code",
   "execution_count": null,
   "id": "17f9714c",
   "metadata": {},
   "outputs": [],
   "source": [
    "import numpy as np\n",
    "x = np.array([1,45,89,45,65,78,65,32,66,54,1,2,5,8,7,9,10,11])"
   ]
  },
  {
   "cell_type": "code",
   "execution_count": null,
   "id": "02873a5f",
   "metadata": {},
   "outputs": [],
   "source": [
    "# x.reshape(6,3)"
   ]
  },
  {
   "cell_type": "code",
   "execution_count": null,
   "id": "4d38f3a2",
   "metadata": {},
   "outputs": [],
   "source": [
    "x"
   ]
  },
  {
   "cell_type": "code",
   "execution_count": null,
   "id": "048e19e3",
   "metadata": {},
   "outputs": [],
   "source": [
    "np.argsort(x) # these are those indices which sort our array"
   ]
  },
  {
   "cell_type": "code",
   "execution_count": null,
   "id": "d14b7ff2",
   "metadata": {},
   "outputs": [],
   "source": [
    "np.argmin(x)"
   ]
  },
  {
   "cell_type": "code",
   "execution_count": null,
   "id": "d645e0e5",
   "metadata": {},
   "outputs": [],
   "source": [
    "np.argmax(x)"
   ]
  },
  {
   "cell_type": "code",
   "execution_count": null,
   "id": "0155743d",
   "metadata": {},
   "outputs": [],
   "source": [
    "x = np.array([1,45,89,45,65,78,65,32,66,54,1,2,5,8,7,9,10,11])\n",
    "x = x.reshape(6,3)"
   ]
  },
  {
   "cell_type": "code",
   "execution_count": null,
   "id": "67c84da7",
   "metadata": {},
   "outputs": [],
   "source": [
    "np.argsort(x) # It checks indices in row wise"
   ]
  },
  {
   "cell_type": "code",
   "execution_count": null,
   "id": "d797e15d",
   "metadata": {},
   "outputs": [],
   "source": [
    "np.argsort(x, axis=0) # It checks indices in Column wise"
   ]
  },
  {
   "cell_type": "code",
   "execution_count": null,
   "id": "6d6dd866",
   "metadata": {},
   "outputs": [],
   "source": [
    "np.argmin(x)"
   ]
  },
  {
   "cell_type": "code",
   "execution_count": null,
   "id": "4db0e5df",
   "metadata": {},
   "outputs": [],
   "source": [
    "np.argmax(x)"
   ]
  },
  {
   "cell_type": "markdown",
   "id": "b049ac2c",
   "metadata": {},
   "source": [
    "# Array - Arithmetic"
   ]
  },
  {
   "cell_type": "code",
   "execution_count": null,
   "id": "1d64e8e6",
   "metadata": {},
   "outputs": [],
   "source": [
    "# In normal python list we can't perfomr arithmetic operations but numpy array will do this is for us\n",
    "a = [1,2]\n",
    "b = [2,4]\n",
    "a+b"
   ]
  },
  {
   "cell_type": "code",
   "execution_count": null,
   "id": "821871c9",
   "metadata": {},
   "outputs": [],
   "source": [
    "array1*array1 #It is not like matrix multiplication but it multiply element wise"
   ]
  },
  {
   "cell_type": "code",
   "execution_count": null,
   "id": "fa40242a",
   "metadata": {},
   "outputs": [],
   "source": [
    "array1 + array1 #It is not like matrix addition but it add element wise"
   ]
  },
  {
   "cell_type": "code",
   "execution_count": null,
   "id": "84c05b2b",
   "metadata": {},
   "outputs": [],
   "source": [
    "array1 - array1 #It is not like matrix subtraction but it subtract element wise"
   ]
  },
  {
   "cell_type": "code",
   "execution_count": null,
   "id": "3de72ddf",
   "metadata": {},
   "outputs": [],
   "source": [
    "array1 / array1 #It is not like matrix division but it division element wise"
   ]
  },
  {
   "cell_type": "code",
   "execution_count": null,
   "id": "4023d2f6",
   "metadata": {},
   "outputs": [],
   "source": [
    "array1 ** array1"
   ]
  },
  {
   "cell_type": "code",
   "execution_count": null,
   "id": "3068168e",
   "metadata": {},
   "outputs": [],
   "source": [
    "1/array1"
   ]
  },
  {
   "cell_type": "code",
   "execution_count": null,
   "id": "e853d1b1",
   "metadata": {},
   "outputs": [],
   "source": [
    "array1 = np.array([[1,2,3],[4,5,6]])"
   ]
  },
  {
   "cell_type": "code",
   "execution_count": null,
   "id": "2250b280",
   "metadata": {},
   "outputs": [],
   "source": [
    "np.sqrt(array1)"
   ]
  },
  {
   "cell_type": "code",
   "execution_count": null,
   "id": "d5e55c27",
   "metadata": {},
   "outputs": [],
   "source": [
    "array1.sum()"
   ]
  },
  {
   "cell_type": "code",
   "execution_count": null,
   "id": "c17ac25d",
   "metadata": {},
   "outputs": [],
   "source": [
    "array1.min()"
   ]
  },
  {
   "cell_type": "code",
   "execution_count": null,
   "id": "42f45e91",
   "metadata": {},
   "outputs": [],
   "source": [
    "array1.max()"
   ]
  },
  {
   "cell_type": "code",
   "execution_count": null,
   "id": "8a1ee957",
   "metadata": {},
   "outputs": [],
   "source": [
    "# Find in array\n",
    "np.where(array1>5)"
   ]
  },
  {
   "cell_type": "code",
   "execution_count": null,
   "id": "3c63c7a2",
   "metadata": {},
   "outputs": [],
   "source": [
    "np.count_nonzero(array1)"
   ]
  },
  {
   "cell_type": "code",
   "execution_count": null,
   "id": "3d0e34ea",
   "metadata": {},
   "outputs": [],
   "source": [
    "np.nonzero(array1)"
   ]
  },
  {
   "cell_type": "code",
   "execution_count": null,
   "id": "0c856bd8",
   "metadata": {},
   "outputs": [],
   "source": [
    "# check Size\n",
    "import sys\n",
    "py_ar = [45,65,85]"
   ]
  },
  {
   "cell_type": "code",
   "execution_count": null,
   "id": "5c140443",
   "metadata": {},
   "outputs": [],
   "source": [
    "np_ar = np.array(py_ar)"
   ]
  },
  {
   "cell_type": "code",
   "execution_count": null,
   "id": "1390a1a4",
   "metadata": {},
   "outputs": [],
   "source": [
    "sys.getsizeof(1) * len(py_ar)"
   ]
  },
  {
   "cell_type": "code",
   "execution_count": null,
   "id": "06216031",
   "metadata": {},
   "outputs": [],
   "source": [
    "np_ar.itemsize * np_ar.size"
   ]
  },
  {
   "cell_type": "markdown",
   "id": "2e4b07d2",
   "metadata": {},
   "source": [
    "# Array - Slicing"
   ]
  },
  {
   "cell_type": "code",
   "execution_count": null,
   "id": "a76d351a",
   "metadata": {},
   "outputs": [],
   "source": [
    "array2 = np.array([64,98,15,78,32,21])"
   ]
  },
  {
   "cell_type": "code",
   "execution_count": null,
   "id": "06b4e1e0",
   "metadata": {},
   "outputs": [],
   "source": [
    "array2"
   ]
  },
  {
   "cell_type": "code",
   "execution_count": null,
   "id": "9c1a9a59",
   "metadata": {},
   "outputs": [],
   "source": [
    "x = array2[4:6] # Numpy array silicing is just a view not a copy"
   ]
  },
  {
   "cell_type": "code",
   "execution_count": null,
   "id": "24754518",
   "metadata": {},
   "outputs": [],
   "source": [
    "x"
   ]
  },
  {
   "cell_type": "code",
   "execution_count": null,
   "id": "3e970f70",
   "metadata": {},
   "outputs": [],
   "source": [
    "x[0] = 101"
   ]
  },
  {
   "cell_type": "code",
   "execution_count": null,
   "id": "54a09209",
   "metadata": {},
   "outputs": [],
   "source": [
    "array2 # This is because the silicing in numpy array is just a view not a copy"
   ]
  },
  {
   "cell_type": "code",
   "execution_count": null,
   "id": "3359f9a3",
   "metadata": {},
   "outputs": [],
   "source": [
    "# To avoid this we use\n",
    "\n",
    "x = array2[4:6].copy()"
   ]
  },
  {
   "cell_type": "code",
   "execution_count": null,
   "id": "7bdb3cf1",
   "metadata": {},
   "outputs": [],
   "source": [
    "x"
   ]
  },
  {
   "cell_type": "code",
   "execution_count": null,
   "id": "f88394bf",
   "metadata": {},
   "outputs": [],
   "source": [
    "x[0] = 5"
   ]
  },
  {
   "cell_type": "code",
   "execution_count": null,
   "id": "b4d7b8b5",
   "metadata": {},
   "outputs": [],
   "source": [
    "x"
   ]
  },
  {
   "cell_type": "code",
   "execution_count": null,
   "id": "1ffdf6a4",
   "metadata": {},
   "outputs": [],
   "source": [
    "array2"
   ]
  },
  {
   "cell_type": "code",
   "execution_count": null,
   "id": "3b9bffd4",
   "metadata": {},
   "outputs": [],
   "source": [
    "array1[0,3]"
   ]
  },
  {
   "cell_type": "code",
   "execution_count": null,
   "id": "8a17c15f",
   "metadata": {},
   "outputs": [],
   "source": [
    "axr"
   ]
  },
  {
   "cell_type": "code",
   "execution_count": null,
   "id": "d66551a4",
   "metadata": {},
   "outputs": [],
   "source": [
    "# Transpose\n",
    "axr.T"
   ]
  },
  {
   "cell_type": "code",
   "execution_count": null,
   "id": "0e14c665",
   "metadata": {},
   "outputs": [],
   "source": [
    "# Iterator\n",
    "axr.flat"
   ]
  },
  {
   "cell_type": "code",
   "execution_count": null,
   "id": "6ca5fd0c",
   "metadata": {},
   "outputs": [],
   "source": [
    "for item in axr.flat:\n",
    "    print(item)"
   ]
  },
  {
   "cell_type": "code",
   "execution_count": null,
   "id": "46943be1",
   "metadata": {},
   "outputs": [],
   "source": [
    "axr.ndim"
   ]
  },
  {
   "cell_type": "code",
   "execution_count": null,
   "id": "5ef4422f",
   "metadata": {},
   "outputs": [],
   "source": [
    "axr.size"
   ]
  },
  {
   "cell_type": "code",
   "execution_count": null,
   "id": "9304d77d",
   "metadata": {},
   "outputs": [],
   "source": [
    "axr.nbytes"
   ]
  },
  {
   "cell_type": "code",
   "execution_count": null,
   "id": "93be4dfb",
   "metadata": {},
   "outputs": [],
   "source": []
  },
  {
   "cell_type": "markdown",
   "id": "95ae31ac",
   "metadata": {},
   "source": [
    "# Pandas Tutorial"
   ]
  },
  {
   "cell_type": "code",
   "execution_count": null,
   "id": "236758ee",
   "metadata": {},
   "outputs": [],
   "source": [
    "import pandas as pd"
   ]
  },
  {
   "cell_type": "code",
   "execution_count": null,
   "id": "df127de6",
   "metadata": {},
   "outputs": [],
   "source": [
    "df = pd.DataFrame()"
   ]
  },
  {
   "cell_type": "code",
   "execution_count": null,
   "id": "8a0c9e57",
   "metadata": {},
   "outputs": [],
   "source": [
    "df"
   ]
  },
  {
   "cell_type": "code",
   "execution_count": null,
   "id": "75ec6392",
   "metadata": {},
   "outputs": [],
   "source": [
    "print(df)"
   ]
  },
  {
   "cell_type": "code",
   "execution_count": null,
   "id": "653a4a44",
   "metadata": {},
   "outputs": [],
   "source": [
    "df1 = pd.DataFrame([[1,2,3,4],[5,6,7,8],[9,10,11,12],[13,14,15,16]])"
   ]
  },
  {
   "cell_type": "code",
   "execution_count": null,
   "id": "c71a6981",
   "metadata": {},
   "outputs": [],
   "source": [
    "df1"
   ]
  },
  {
   "cell_type": "code",
   "execution_count": null,
   "id": "bafd9404",
   "metadata": {},
   "outputs": [],
   "source": [
    "df1.head(3)"
   ]
  },
  {
   "cell_type": "code",
   "execution_count": null,
   "id": "acd264dc",
   "metadata": {},
   "outputs": [],
   "source": [
    "df1.tail(2)"
   ]
  },
  {
   "cell_type": "markdown",
   "id": "88f8b636",
   "metadata": {},
   "source": [
    "# Dataframe - Slicing, Adding Columns"
   ]
  },
  {
   "cell_type": "code",
   "execution_count": null,
   "id": "a9808f75",
   "metadata": {},
   "outputs": [],
   "source": [
    "df1.shape"
   ]
  },
  {
   "cell_type": "code",
   "execution_count": null,
   "id": "a60630af",
   "metadata": {},
   "outputs": [],
   "source": [
    "df1"
   ]
  },
  {
   "cell_type": "code",
   "execution_count": null,
   "id": "5add0efb",
   "metadata": {},
   "outputs": [],
   "source": [
    "df1.shape"
   ]
  },
  {
   "cell_type": "code",
   "execution_count": null,
   "id": "a426caee",
   "metadata": {},
   "outputs": [],
   "source": [
    "df1.iloc[0,1]"
   ]
  },
  {
   "cell_type": "code",
   "execution_count": null,
   "id": "58dd2e25",
   "metadata": {},
   "outputs": [],
   "source": [
    "df1.iloc[0:1,0:2]"
   ]
  },
  {
   "cell_type": "code",
   "execution_count": null,
   "id": "75666d6d",
   "metadata": {},
   "outputs": [],
   "source": [
    "df1.iloc[0:2,1:3]"
   ]
  },
  {
   "cell_type": "code",
   "execution_count": null,
   "id": "868d13ae",
   "metadata": {},
   "outputs": [],
   "source": [
    "df2 = pd.DataFrame([[1,2,3,4,5],[6,7,8,9,10],[11,12,13,14,15],[16,17,18,19,20]],columns=[\"A\", \"B\", \"C\",\"D\", \"E\"])"
   ]
  },
  {
   "cell_type": "code",
   "execution_count": null,
   "id": "78434fab",
   "metadata": {},
   "outputs": [],
   "source": [
    "df2"
   ]
  },
  {
   "cell_type": "code",
   "execution_count": null,
   "id": "af405fb7",
   "metadata": {},
   "outputs": [],
   "source": [
    "df = pd.read_csv(\"Invoice.csv\")"
   ]
  },
  {
   "cell_type": "code",
   "execution_count": null,
   "id": "b9c28a1d",
   "metadata": {},
   "outputs": [],
   "source": [
    "df"
   ]
  },
  {
   "cell_type": "code",
   "execution_count": null,
   "id": "dd182aad",
   "metadata": {},
   "outputs": [],
   "source": [
    "df.head()"
   ]
  },
  {
   "cell_type": "code",
   "execution_count": null,
   "id": "8f41a05c",
   "metadata": {},
   "outputs": [],
   "source": [
    "print(df[\"Serial No\"])"
   ]
  },
  {
   "cell_type": "code",
   "execution_count": null,
   "id": "8b9a3eb2",
   "metadata": {},
   "outputs": [],
   "source": [
    "print(df[\"Serial No\"].dtype)"
   ]
  },
  {
   "cell_type": "code",
   "execution_count": null,
   "id": "c955fa98",
   "metadata": {},
   "outputs": [],
   "source": [
    "dat = pd.read_csv(\"Data.csv\")"
   ]
  },
  {
   "cell_type": "code",
   "execution_count": null,
   "id": "5ffd7906",
   "metadata": {},
   "outputs": [],
   "source": [
    "dat.head()"
   ]
  },
  {
   "cell_type": "code",
   "execution_count": null,
   "id": "fe1bacd5",
   "metadata": {},
   "outputs": [],
   "source": [
    "dt = pd.DataFrame([[1,2,3,4,5],[6,7,8,9,10],[11,12,13,14,15],[16,17,18,19,20]],columns=[\"A\", \"B\", \"C\",\"D\", \"E\"])"
   ]
  },
  {
   "cell_type": "code",
   "execution_count": null,
   "id": "86b278e4",
   "metadata": {},
   "outputs": [],
   "source": [
    "dt.head()"
   ]
  },
  {
   "cell_type": "code",
   "execution_count": null,
   "id": "300dd74a",
   "metadata": {},
   "outputs": [],
   "source": [
    "dt.to_csv(\"export.csv\")"
   ]
  },
  {
   "cell_type": "code",
   "execution_count": null,
   "id": "fd3a0924",
   "metadata": {},
   "outputs": [],
   "source": [
    "dt.to_csv(\"export.csv\", index=False)"
   ]
  },
  {
   "cell_type": "code",
   "execution_count": null,
   "id": "fc32b866",
   "metadata": {},
   "outputs": [],
   "source": [
    "df1 = pd.DataFrame([[1,2,3]],columns=[\"A\", \"B\", \"C\"])"
   ]
  },
  {
   "cell_type": "code",
   "execution_count": null,
   "id": "5ea45e57",
   "metadata": {},
   "outputs": [],
   "source": [
    "df1"
   ]
  },
  {
   "cell_type": "code",
   "execution_count": null,
   "id": "473e36fc",
   "metadata": {},
   "outputs": [],
   "source": [
    "df2 = pd.DataFrame([[11,12,3]],columns=[\"X\",\"Y\", \"Z\"])"
   ]
  },
  {
   "cell_type": "code",
   "execution_count": null,
   "id": "e5aaf60d",
   "metadata": {},
   "outputs": [],
   "source": [
    "df2"
   ]
  },
  {
   "cell_type": "code",
   "execution_count": null,
   "id": "b257752f",
   "metadata": {},
   "outputs": [],
   "source": [
    "df3 = pd.merge(df1, df2, right_on=\"Z\", left_on=\"C\")"
   ]
  },
  {
   "cell_type": "code",
   "execution_count": null,
   "id": "e93bd054",
   "metadata": {},
   "outputs": [],
   "source": [
    "print(df3)"
   ]
  },
  {
   "cell_type": "code",
   "execution_count": null,
   "id": "29ee06fb",
   "metadata": {},
   "outputs": [],
   "source": [
    "df1 = pd.DataFrame({'lkey': ['foo', 'bar', 'baz', 'foo'],\n",
    "                    'value': [1, 2, 3, 5]})"
   ]
  },
  {
   "cell_type": "code",
   "execution_count": null,
   "id": "89c3a7e8",
   "metadata": {},
   "outputs": [],
   "source": [
    "df1"
   ]
  },
  {
   "cell_type": "code",
   "execution_count": null,
   "id": "b79bdd7f",
   "metadata": {},
   "outputs": [],
   "source": [
    "df2 = pd.DataFrame({'rkey': ['foo', 'bar', 'baz', 'foo'],\n",
    "                    'value': [5, 6, 7, 8]})"
   ]
  },
  {
   "cell_type": "code",
   "execution_count": null,
   "id": "1b40c846",
   "metadata": {},
   "outputs": [],
   "source": [
    "df2"
   ]
  },
  {
   "cell_type": "code",
   "execution_count": null,
   "id": "8195fe0d",
   "metadata": {},
   "outputs": [],
   "source": [
    "df3 = pd.merge(df1, df2, left_on=\"lkey\", right_on=\"rkey\", how=\"left\")"
   ]
  },
  {
   "cell_type": "code",
   "execution_count": null,
   "id": "b322281b",
   "metadata": {},
   "outputs": [],
   "source": [
    "df3"
   ]
  },
  {
   "cell_type": "markdown",
   "id": "d6e731f7",
   "metadata": {},
   "source": [
    "# Matplotlib"
   ]
  },
  {
   "cell_type": "code",
   "execution_count": 2,
   "id": "fd720044",
   "metadata": {},
   "outputs": [
    {
     "data": {
      "image/png": "[encoded data removed]",
      "text/plain": [
       "<Figure size 432x288 with 1 Axes>"
      ]
     },
     "metadata": {
      "needs_background": "light"
     },
     "output_type": "display_data"
    }
   ],
   "source": [
    "%matplotlib inline\n",
    "from matplotlib import pyplot as plt\n",
    "plt.plot([1,2,3],[2,5,7])\n",
    "plt.show()"
   ]
  },
  {
   "cell_type": "code",
   "execution_count": 9,
   "id": "980530ab",
   "metadata": {},
   "outputs": [
    {
     "data": {
      "image/png": "[encoded data removed]",
      "text/plain": [
       "<Figure size 432x288 with 1 Axes>"
      ]
     },
     "metadata": {
      "needs_background": "light"
     },
     "output_type": "display_data"
    }
   ],
   "source": [
    "%matplotlib inline\n",
    "from matplotlib import pyplot as plt\n",
    "plt.plot([1,2,3],[2,5,7])\n",
    "plt.title(\"Atif's Data\")\n",
    "plt.xlabel(\"This is 'X'\")\n",
    "plt.ylabel(\"This is 'Y'\")\n",
    "plt.show()"
   ]
  },
  {
   "cell_type": "code",
   "execution_count": 12,
   "id": "3ae43444",
   "metadata": {},
   "outputs": [
    {
     "data": {
      "image/png": "[encoded data removed]",
      "text/plain": [
       "<Figure size 432x288 with 1 Axes>"
      ]
     },
     "metadata": {
      "needs_background": "light"
     },
     "output_type": "display_data"
    }
   ],
   "source": [
    "from matplotlib import pyplot as plt\n",
    "x1 = [1,2,3]\n",
    "y1 = [9,8,7]\n",
    "x2 = [5,6,7]\n",
    "y2 = [10,8,9]\n",
    "plt.plot(x1, y1)\n",
    "plt.plot(x2, y2)\n",
    "plt.title(\"Atif's Data\")\n",
    "plt.xlabel(\"This is 'X'\")\n",
    "plt.ylabel(\"This is 'Y'\")\n",
    "plt.show()"
   ]
  },
  {
   "cell_type": "code",
   "execution_count": 13,
   "id": "550e14ff",
   "metadata": {},
   "outputs": [
    {
     "data": {
      "image/png": "[encoded data removed]",
      "text/plain": [
       "<Figure size 432x288 with 1 Axes>"
      ]
     },
     "metadata": {},
     "output_type": "display_data"
    }
   ],
   "source": [
    "from matplotlib import pyplot as plt\n",
    "from matplotlib import style\n",
    "style.use('ggplot')\n",
    "x1 = [1,2,3]\n",
    "y1 = [9,8,7]\n",
    "x2 = [5,6,7]\n",
    "y2 = [10,8,9]\n",
    "plt.plot(x1, y1)\n",
    "plt.plot(x2, y2)\n",
    "plt.title(\"Atif's Data\")\n",
    "plt.xlabel(\"This is 'X'\")\n",
    "plt.ylabel(\"This is 'Y'\")\n",
    "plt.show()"
   ]
  },
  {
   "cell_type": "code",
   "execution_count": 14,
   "id": "2a689e57",
   "metadata": {},
   "outputs": [
    {
     "data": {
      "image/png": "[encoded data removed]",
      "text/plain": [
       "<Figure size 432x288 with 1 Axes>"
      ]
     },
     "metadata": {},
     "output_type": "display_data"
    }
   ],
   "source": [
    "from matplotlib import pyplot as plt\n",
    "from matplotlib import style\n",
    "style.use('dark_background')\n",
    "x1 = [1,2,3]\n",
    "y1 = [9,8,7]\n",
    "x2 = [5,6,7]\n",
    "y2 = [10,8,9]\n",
    "plt.plot(x1, y1)\n",
    "plt.plot(x2, y2)\n",
    "plt.title(\"Atif's Data\")\n",
    "plt.xlabel(\"This is 'X'\")\n",
    "plt.ylabel(\"This is 'Y'\")\n",
    "plt.show()"
   ]
  },
  {
   "cell_type": "code",
   "execution_count": 15,
   "id": "99b2afb8",
   "metadata": {},
   "outputs": [
    {
     "data": {
      "image/png": "[encoded data removed]",
      "text/plain": [
       "<Figure size 432x288 with 1 Axes>"
      ]
     },
     "metadata": {},
     "output_type": "display_data"
    }
   ],
   "source": [
    "from matplotlib import pyplot as plt\n",
    "from matplotlib import style\n",
    "style.use('dark_background')\n",
    "x1 = [1,2,3]\n",
    "y1 = [9,8,7]\n",
    "x2 = [5,6,7]\n",
    "y2 = [10,8,9]\n",
    "plt.plot(x1, y1, label=\"First\")\n",
    "plt.plot(x2, y2, label=\"Second\")\n",
    "plt.legend()\n",
    "plt.title(\"Atif's Data\")\n",
    "plt.xlabel(\"This is 'X'\")\n",
    "plt.ylabel(\"This is 'Y'\")\n",
    "plt.show()"
   ]
  },
  {
   "cell_type": "code",
   "execution_count": 16,
   "id": "440e57cb",
   "metadata": {},
   "outputs": [
    {
     "data": {
      "image/png": "[encoded data removed]",
      "text/plain": [
       "<Figure size 432x288 with 1 Axes>"
      ]
     },
     "metadata": {},
     "output_type": "display_data"
    }
   ],
   "source": [
    "from matplotlib import pyplot as plt\n",
    "from matplotlib import style\n",
    "style.use('ggplot')\n",
    "x1 = [1,2,3]\n",
    "y1 = [9,8,7]\n",
    "x2 = [5,6,7]\n",
    "y2 = [10,8,9]\n",
    "plt.plot(x1, y1, label=\"First\", linewidth=4)\n",
    "plt.plot(x2, y2, label=\"Second\")\n",
    "plt.legend()\n",
    "plt.title(\"Atif's Data\")\n",
    "plt.xlabel(\"This is 'X'\")\n",
    "plt.ylabel(\"This is 'Y'\")\n",
    "plt.show()"
   ]
  },
  {
   "cell_type": "code",
   "execution_count": 17,
   "id": "d6e87586",
   "metadata": {},
   "outputs": [
    {
     "data": {
      "image/png": "[encoded data removed]",
      "text/plain": [
       "<Figure size 432x288 with 1 Axes>"
      ]
     },
     "metadata": {},
     "output_type": "display_data"
    }
   ],
   "source": [
    "from matplotlib import pyplot as plt\n",
    "from matplotlib import style\n",
    "style.use('ggplot')\n",
    "x1 = [1,2,3]\n",
    "y1 = [9,8,7]\n",
    "x2 = [5,6,7]\n",
    "y2 = [10,8,9]\n",
    "plt.scatter(x1, y1, label=\"First\", linewidth=4)\n",
    "plt.scatter(x2, y2, label=\"Second\")\n",
    "plt.legend()\n",
    "plt.title(\"Atif's Data\")\n",
    "plt.xlabel(\"This is 'X'\")\n",
    "plt.ylabel(\"This is 'Y'\")\n",
    "plt.show()"
   ]
  },
  {
   "cell_type": "code",
   "execution_count": null,
   "id": "baf5c36c",
   "metadata": {},
   "outputs": [],
   "source": []
  }
 ],
 "metadata": {
  "kernelspec": {
   "display_name": "Python 3 (ipykernel)",
   "language": "python",
   "name": "python3"
  },
  "language_info": {
   "codemirror_mode": {
    "name": "ipython",
    "version": 3
   },
   "file_extension": ".py",
   "mimetype": "text/x-python",
   "name": "python",
   "nbconvert_exporter": "python",
   "pygments_lexer": "ipython3",
   "version": "3.9.7"
  }
 },
 "nbformat": 4,
 "nbformat_minor": 5
}
