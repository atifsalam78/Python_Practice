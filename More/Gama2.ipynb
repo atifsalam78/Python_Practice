{
 "cells": [
  {
   "cell_type": "code",
   "execution_count": null,
   "id": "b7e68aa4",
   "metadata": {},
   "outputs": [],
   "source": [
    "fourth = input('Year ')[3]\n",
    "fourth"
   ]
  },
  {
   "cell_type": "code",
   "execution_count": null,
   "id": "64cac5ac",
   "metadata": {},
   "outputs": [],
   "source": [
    "# Print out a date, given year, month, and day as numbers\n",
    "months = [\n",
    "'January',\n",
    "'February',\n",
    "'March',\n",
    "'April',\n",
    "'May',\n",
    "'June',\n",
    "'July',\n",
    "'August',\n",
    "'September',\n",
    "'October',\n",
    "'November',\n",
    "'December'\n",
    "]\n",
    "# A list with one ending for each number from 1 to 31\n",
    "endings = ['st', 'nd', 'rd'] + 17 * ['th'] \\\n",
    "+ ['st', 'nd', 'rd'] + 7 * ['th'] \\\n",
    "+ ['st']\n",
    "year = input('Year: ')\n",
    "month = input('Month (1-12): ')\n",
    "day = input('Day (1-31): ')\n",
    "month_number = int(month)\n",
    "day_number = int(day)\n",
    "# Remember to subtract 1 from month and day to get a correct index\n",
    "month_name = months[month_number-1]\n",
    "ordinal = day + endings[day_number-1]\n",
    "print(month_name + ' ' + ordinal + ', ' + year)"
   ]
  },
  {
   "cell_type": "code",
   "execution_count": null,
   "id": "f0b81527",
   "metadata": {},
   "outputs": [],
   "source": [
    "number = int(input('Enter Number (even / odd): '))\n",
    "check = int(input('Enter number to checl: '))\n",
    "if number % 4 == 0:\n",
    "    print('Number is divisible by 4')\n",
    "elif number / 2 and number % 2 == 0:\n",
    "    print('Even number')\n",
    "else:\n",
    "    print('Odd Number')"
   ]
  },
  {
   "cell_type": "code",
   "execution_count": null,
   "id": "17155a3c",
   "metadata": {},
   "outputs": [],
   "source": [
    "my_list = [1, 1, 2, 3, 5, 8, 13, 21, 34, 55, 89]\n",
    "new_list = []\n",
    "check = int(input('Enter for checking: '))\n",
    "for item in my_list:\n",
    "    if item <= check:\n",
    "        new_list.append(item)\n",
    "print(new_list)\n",
    "        "
   ]
  },
  {
   "cell_type": "code",
   "execution_count": null,
   "id": "ea3ad633",
   "metadata": {},
   "outputs": [],
   "source": [
    "import datetime\n",
    "x = datetime.datetime.now()\n",
    "name = input('Enter Your Name: ')\n",
    "age = int(input('Enter your Age: '))\n",
    "calculate_age = 100 - age\n",
    "year_go = x.year + calculate_age\n",
    "print('Hello',name,'you will become 100 years old in the year',year_go)"
   ]
  },
  {
   "cell_type": "code",
   "execution_count": null,
   "id": "f53d7614",
   "metadata": {},
   "outputs": [],
   "source": [
    "# First Method\n",
    "number = int(input('Enter Number: '))\n",
    "new_list = []\n",
    "for item in range(1,number+1):\n",
    "    if number % item == 0:\n",
    "        new_list.append(item)\n",
    "print(new_list)"
   ]
  },
  {
   "cell_type": "code",
   "execution_count": null,
   "id": "6917abe8",
   "metadata": {},
   "outputs": [],
   "source": [
    "#Second Method\n",
    "\n",
    "number = int(input('Enter Number: '))\n",
    "div_list = (list(range(1,number+1)))\n",
    "new_list = []\n",
    "for item in div_list:\n",
    "    if number % item == 0:\n",
    "        new_list.append(item)\n",
    "print(new_list)"
   ]
  },
  {
   "cell_type": "code",
   "execution_count": null,
   "id": "07e7b84f",
   "metadata": {},
   "outputs": [],
   "source": [
    "start = 0\n",
    "stop = 14\n",
    "step = 2\n",
    "print(list(range(start,stop,step)))\n"
   ]
  },
  {
   "cell_type": "code",
   "execution_count": null,
   "id": "62264ce2",
   "metadata": {},
   "outputs": [],
   "source": [
    "start = 0\n",
    "stop = -14\n",
    "step = -2\n",
    "print(list(range(start,stop,step)))\n",
    "print(list(range(start,14,step)))\n"
   ]
  },
  {
   "cell_type": "code",
   "execution_count": null,
   "id": "4246f5fe",
   "metadata": {},
   "outputs": [],
   "source": [
    "x = range(2,11)\n",
    "for elem in x:\n",
    "    print(elem)"
   ]
  },
  {
   "cell_type": "code",
   "execution_count": null,
   "id": "1ac0c7e6",
   "metadata": {},
   "outputs": [],
   "source": [
    "#First Method - Palindrome\n",
    "\n",
    "x = input('Enter Text: ')\n",
    "my_list = []\n",
    "se_list = []\n",
    "\n",
    "for item in x:\n",
    "    my_list.append(item)\n",
    "se_list = list(reversed(my_list))\n",
    "\n",
    "if my_list == se_list:\n",
    "    print('This is Palindrome text!')\n",
    "else:\n",
    "    print('This is normal text')"
   ]
  },
  {
   "cell_type": "code",
   "execution_count": null,
   "id": "44e1eb31",
   "metadata": {},
   "outputs": [],
   "source": [
    "# Second Method - Palindrome\n",
    "\n",
    "c = list(input('Enter Text: '))\n",
    "d = []\n",
    "\n",
    "d = list(reversed(c))\n",
    "\n",
    "if c == d:\n",
    "    print('This is Palindrome text!')\n",
    "else:\n",
    "    print('This is normal text')"
   ]
  },
  {
   "cell_type": "code",
   "execution_count": null,
   "id": "f6593b08",
   "metadata": {},
   "outputs": [],
   "source": [
    "# List Duplication Check\n",
    "\n",
    "l1 = [1, 1, 2, 3, 5, 8, 13, 21, 14, 55, 89]\n",
    "l2 = [1, 2, 3, 4, 5, 6, 7, 8, 9, 11, 10, 13, 12]\n",
    "list(set(l1+l2))\n"
   ]
  },
  {
   "cell_type": "code",
   "execution_count": null,
   "id": "c34dee98",
   "metadata": {},
   "outputs": [],
   "source": [
    "# Even Numbers - First Method\n",
    "\n",
    "even_list = []\n",
    "for l in range(100):\n",
    "    if l % 2 == 0:\n",
    "        even_list.append(l)\n",
    "print(even_list)"
   ]
  },
  {
   "cell_type": "code",
   "execution_count": null,
   "id": "7e980997",
   "metadata": {},
   "outputs": [],
   "source": [
    "# Even Numbers - Second Method\n",
    "\n",
    "a = [1, 4, 9, 16, 25, 36, 49, 64, 81, 100]\n",
    "b = []\n",
    "for new_list in a:\n",
    "    if new_list % 2 == 0:\n",
    "        b.append(new_list)\n",
    "print(b)"
   ]
  },
  {
   "cell_type": "code",
   "execution_count": null,
   "id": "8d03924f",
   "metadata": {},
   "outputs": [],
   "source": [
    "# Odd Numbers - First Method\n",
    "\n",
    "odd_list = []\n",
    "for l2 in range(100):\n",
    "    if l2 % 2 != 0:\n",
    "        odd_list.append(l2)\n",
    "print(odd_list)"
   ]
  },
  {
   "cell_type": "code",
   "execution_count": null,
   "id": "82806324",
   "metadata": {},
   "outputs": [],
   "source": [
    "aa = [1, 4, 9, 16, 25, 36, 49, 64, 81, 100]\n",
    "odd_list = []\n",
    "for new_list in aa:\n",
    "    if new_list % 2 != 0:\n",
    "        odd_list.append(new_list)\n",
    "print(odd_list)"
   ]
  },
  {
   "cell_type": "code",
   "execution_count": null,
   "id": "5e490128",
   "metadata": {},
   "outputs": [],
   "source": [
    "# Rock Paper Scissor Scissors\n",
    "\n",
    "    \n",
    "player1 = input('Player_1 Enter: ')\n",
    "player2 = input('Player_2 Enter: ')\n",
    "    \n",
    "if player1 == 'rock' or player1 == 'scissors' or player1 == 'paper':\n",
    "    \n",
    "    \n",
    "    print('Player1 Congratulations you Wins!')\n",
    "    \n",
    "elif player2 == 'rock' or player2 == 'scissors' or player2 == 'paper':\n",
    "    \n",
    "    print('Player2 Congratulations you Wins!')"
   ]
  },
  {
   "cell_type": "code",
   "execution_count": null,
   "id": "6dde7228",
   "metadata": {},
   "outputs": [],
   "source": [
    "print('Player1 Congratulations you Wins!')\n",
    "\n",
    "Rock beats scissors\n",
    "Scissors beats paper\n",
    "Paper beats rock"
   ]
  },
  {
   "cell_type": "code",
   "execution_count": null,
   "id": "9a336114",
   "metadata": {},
   "outputs": [],
   "source": [
    "player1 = input('Player_1 Enter: ')\n",
    "player2 = input('Player_2 Enter: ')\n",
    "\n",
    " \n",
    "if player1 == 'rock' and player2 == 'scissors':\n",
    "    print('Player1 Congratulations you Wins!')\n",
    "\n",
    "if player1 == 'scissors' and player2 == 'paper':        print('Player1 Congratulations you Wins!')\n",
    "    \n",
    "    if player1 == 'paper' and player2 == 'rocks':\n",
    "        print('Player1 Congratulations you Wins!')\n",
    "    else:\n",
    "        print('Player2 Congratulations you Wins!')\n",
    "    \n",
    "if c == 'n':\n",
    "    print('The End')\n",
    "    \n",
    "    #c = (input('''Continue (y/n)'''))\n",
    "    \n",
    "#if c == 'y':\n",
    "#count +=1\n",
    "#elif c == 'n':\n",
    "    #break\n"
   ]
  },
  {
   "cell_type": "code",
   "execution_count": null,
   "id": "7596e774",
   "metadata": {},
   "outputs": [],
   "source": [
    "count = 0\n",
    "while count < 1:\n",
    "    \n",
    "    player1 = input('Player_1 Enter: ')\n",
    "    player2 = input('Player_2 Enter: ')\n",
    "    c = input('''Continnue (y/n)''')\n",
    "if c == 'y':\n",
    "    count += 1\n",
    "else:\n",
    "    break\n",
    "        "
   ]
  },
  {
   "cell_type": "code",
   "execution_count": null,
   "id": "5aed45cb",
   "metadata": {},
   "outputs": [],
   "source": [
    "x = 1\n",
    "while x <= 10:\n",
    "    print(x)\n",
    "    x +=1"
   ]
  },
  {
   "cell_type": "code",
   "execution_count": null,
   "id": "16e17f5d",
   "metadata": {},
   "outputs": [],
   "source": [
    "permissions ='rw'"
   ]
  },
  {
   "cell_type": "code",
   "execution_count": null,
   "id": "4fbebdba",
   "metadata": {},
   "outputs": [],
   "source": [
    "'w' in permissions"
   ]
  },
  {
   "cell_type": "code",
   "execution_count": null,
   "id": "a94428d4",
   "metadata": {},
   "outputs": [],
   "source": [
    "'x' in permissions"
   ]
  },
  {
   "cell_type": "code",
   "execution_count": null,
   "id": "25552099",
   "metadata": {},
   "outputs": [],
   "source": [
    "a = \"\"\n",
    "a = input(\"Imput any string: \")[:5]\n",
    "print(a)\n"
   ]
  },
  {
   "cell_type": "code",
   "execution_count": null,
   "id": "cb4a91b6",
   "metadata": {},
   "outputs": [],
   "source": [
    "while True:\n",
    "    answer = input(\"What's up, doc? \")\n",
    "    if len(answer) <= 10:\n",
    "        break\n",
    "    else:\n",
    "        print(\"Too much info - keep it shorter!\")"
   ]
  },
  {
   "cell_type": "code",
   "execution_count": null,
   "id": "31d7477a",
   "metadata": {},
   "outputs": [],
   "source": [
    "txt = \"The best things in life are free!\"\n",
    "if \"spam\" in txt:\n",
    "    print(\"Blocked!\")\n",
    "else:\n",
    "    print(\"Go Ahead\")"
   ]
  },
  {
   "cell_type": "code",
   "execution_count": null,
   "id": "4ac3f289",
   "metadata": {},
   "outputs": [],
   "source": [
    "import re\n",
    "\n",
    "input_str = input(\"Please provide some info: \")\n",
    "if not re.match(\"^[a-z]*$\", input_str):\n",
    "    print (\"Error! Only letters a-z allowed!\")\n",
    "r = re.compile(\"^[a-z]{1,15}$\")\n",
    "input(\"\")"
   ]
  },
  {
   "cell_type": "code",
   "execution_count": null,
   "id": "f57e175d",
   "metadata": {},
   "outputs": [],
   "source": [
    "while True:\n",
    "    x = input(\"\")\n",
    "    if len(x) >= 10:\n",
    "        print(\"Limit Corossed!\")\n",
    "        continue\n",
    "    \n",
    "    else:\n",
    "        print(x)\n",
    "        print(\"Great\")\n",
    "        break\n",
    "        print(\"Done\")"
   ]
  },
  {
   "cell_type": "code",
   "execution_count": null,
   "id": "2aa6d8a2",
   "metadata": {},
   "outputs": [],
   "source": [
    "x = input(\"\")[:10]\n",
    "print(x)\n",
    "print(x."
   ]
  },
  {
   "cell_type": "code",
   "execution_count": null,
   "id": "d3719e5b",
   "metadata": {},
   "outputs": [],
   "source": [
    "con = True\n",
    "while con:\n",
    "    import random, string\n",
    "    score_cow = 0\n",
    "    score_bull = 0\n",
    "    guess = 0\n",
    "    \n",
    "    \n",
    "    ran_num = \"\".join(random.sample(string.digits,4))\n",
    "    \n",
    "    print(\"Random Number Generated by Computer:\", ran_num) # Just for check should be remove in final version\n",
    "\n",
    "\n",
    "    guess_num = str(input(\"Guess all the 4 digits: \"))\n",
    "    \n",
    "    for index, string in enumerate(ran_num):\n",
    "        \n",
    "        if guess_num[index] == ran_num[index]:\n",
    "            score_cow += 1\n",
    "            guess += 1\n",
    "            if score_cow == 4:\n",
    "                con = False\n",
    "                break\n",
    "\n",
    "        else:\n",
    "            score_bull += 1\n",
    "            #guess += 1\n",
    "            print(\"Keep Trying you guessed wrong!\")\n",
    "\n",
    "        \n",
    "print(\"You guessed in:\",guess)\n",
    "print(\"Number Guessed by the Player:\",guess_num) # Just for check should be remove in final version  \n",
    "print(\"Cow Score:\",score_cow)\n",
    "print(\"Bull Score:\",score_bull)"
   ]
  },
  {
   "cell_type": "code",
   "execution_count": null,
   "id": "052b7171",
   "metadata": {},
   "outputs": [],
   "source": [
    "# Python program to illustrate\n",
    "# enumerate function\n",
    "l1 = [\"eat\", \"sleep\", \"repeat\"]\n",
    "s1 = \"geek\"\n",
    "  \n",
    "# creating enumerate objects\n",
    "obj1 = enumerate(l1)\n",
    "obj2 = enumerate(s1)\n",
    "  \n",
    "print (\"Return type:\", type(obj1))\n",
    "print (list(enumerate(l1)))\n",
    "  \n",
    "# changing start index to 2 from 0\n",
    "print (list(enumerate(s1, 2)))"
   ]
  },
  {
   "cell_type": "code",
   "execution_count": null,
   "id": "f558a925",
   "metadata": {},
   "outputs": [],
   "source": [
    "import random\n",
    "  \n",
    "# prints a random value from the list\n",
    "list1 = [1, 2, 3, 4, 5, 6]\n",
    "print(random.choice(list1))"
   ]
  },
  {
   "cell_type": "code",
   "execution_count": null,
   "id": "d7d5ac36",
   "metadata": {},
   "outputs": [],
   "source": [
    "import random, string\n",
    "\"\"\"\n",
    "ran_num = \"\".join(random.sample(string.digits,4))\n",
    "num1 = \"-\".join(random.sample(string.digits,5))\n",
    "print(string.digits)\n",
    "print(\"Random Number Generated by Computer:\", num1)\n",
    "\n",
    "\n",
    "myTuple = (\"John\", \"Peter\", \"Vicky\")\n",
    "\n",
    "x = \"#\".join(myTuple)\n",
    "\n",
    "print(x)\n",
    "\n",
    "\"\"\"\n",
    "\n",
    "\n",
    "myDict = {\"name\": \"John\", \"country\": \"Norway\"}\n",
    "mySeparator = \"-\"\n",
    "\n",
    "x = mySeparator.join(myDict)\n",
    "string.ascii_le\n",
    "print(x)"
   ]
  },
  {
   "cell_type": "code",
   "execution_count": null,
   "id": "bbd0d917",
   "metadata": {},
   "outputs": [],
   "source": [
    "myDict = {\"name\": \"John\", \"country\": \"Norway\"}\n",
    "mySeparator = \"-\"\n",
    "\n",
    "x = mySeparator.join(myDict)\n",
    "\n",
    "print(x)"
   ]
  },
  {
   "cell_type": "code",
   "execution_count": null,
   "id": "bfc70088",
   "metadata": {},
   "outputs": [],
   "source": [
    "\"\"\" Complete the solution so that it returns true if the first argument(string) passed in ends with the 2nd argument\n",
    "(also a string).\"\"\"\n",
    "def solution(string, ending):\n",
    "    return string.endswith(ending)\n",
    "pass\n",
    "\n",
    "#solution('abc', 'bc') # returns true\n",
    "#solution('abc', 'd') # returns false\n",
    "\n"
   ]
  },
  {
   "cell_type": "code",
   "execution_count": null,
   "id": "70ee89c4",
   "metadata": {},
   "outputs": [],
   "source": [
    "x = solution(\"xxxsssdefrtyuiop\",\"op\")\n",
    "print(x)"
   ]
  },
  {
   "cell_type": "code",
   "execution_count": null,
   "id": "67557b7b",
   "metadata": {},
   "outputs": [],
   "source": [
    "\"\"\" Your task is to make a function that can take any non-negative integer as an argument \n",
    "and return it with its digits in descending order. Essentially,\n",
    "rearrange the digits to create the highest possible number.\n",
    "\n",
    "Examples:\n",
    "Input: 42145 Output: 54421\n",
    "\n",
    "Input: 145263 Output: 654321\n",
    "\n",
    "Input: 123456789 Output: 987654321\"\"\""
   ]
  },
  {
   "cell_type": "code",
   "execution_count": null,
   "id": "d5b9d2ce",
   "metadata": {},
   "outputs": [],
   "source": [
    "num=\"\"\n",
    "int_num = list(str(4568))\n",
    "int_num.reverse()\n",
    "#print(int_num)\n",
    "t = num.join(int_num)\n",
    "t = int(t)\n",
    "print(t)\n",
    "type(t)"
   ]
  },
  {
   "cell_type": "code",
   "execution_count": null,
   "id": "00a3527f",
   "metadata": {},
   "outputs": [],
   "source": [
    "def descending_order(num):\n",
    "    num = list(str(num))\n",
    "    num.reverse()\n",
    "    list_string_join = \"\".join(num)\n",
    "    list_string_join = int(list_string_join)\n",
    "    return list_string_join"
   ]
  },
  {
   "cell_type": "code",
   "execution_count": null,
   "id": "be3a7a7e",
   "metadata": {},
   "outputs": [],
   "source": [
    "xx = descending_order(123456789)\n",
    "print(xx)"
   ]
  },
  {
   "cell_type": "code",
   "execution_count": null,
   "id": "ccd70df4",
   "metadata": {},
   "outputs": [],
   "source": [
    "def Descending_Order(num):\n",
    "    return int(\"\".join(sorted(str(num), reverse=True)))"
   ]
  },
  {
   "cell_type": "code",
   "execution_count": null,
   "id": "dfe2903c",
   "metadata": {},
   "outputs": [],
   "source": [
    "print(Descending_Order(123456789))"
   ]
  },
  {
   "cell_type": "code",
   "execution_count": null,
   "id": "5404502f",
   "metadata": {},
   "outputs": [],
   "source": [
    "\"\"\" The goal of this exercise is to convert a string to a new string\n",
    "where each character in the new string is \"(\" if that character appears\n",
    "only once in the original string, or \")\" if that character appears more\n",
    "than once in the original string. Ignore capitalization when determining if a character is a duplicate.\n",
    "\n",
    "Examples\n",
    "\"din\"      =>  \"(((\"\n",
    "\"recede\"   =>  \"()()()\"\n",
    "\"Success\"  =>  \")())())\"\n",
    "\"(( @\"     =>  \"))((\" \n",
    "\n",
    "Notes\n",
    "Assertion messages may be unclear about what they display in some languages.\n",
    "If you read \"...It Should encode XXX\", the \"XXX\" is the expected result, not the input!\n",
    "\n",
    "\"\"\"\n",
    "strin = \"recede\"\n",
    "strin = strin.translate(\"/\")\n",
    "strin_list = list(strin)\n",
    "\n",
    "#print(strin_list)\n",
    "\n",
    "for index,strings in enumerate(strin_list):\n",
    "    if strin_list[index] in strings:\n",
    "        strin_list[index] = [\"(\"]        \n",
    "        [x for x in strin_list]\n",
    "        pass\n",
    "print(strin_list)\n",
    "print(x)"
   ]
  },
  {
   "cell_type": "code",
   "execution_count": null,
   "id": "2d607e94",
   "metadata": {},
   "outputs": [],
   "source": [
    "names = ['gumby', 'smith', 'jones']\n",
    "name = 'gumby '\n",
    "if name.strip() in names: print('Found it')"
   ]
  },
  {
   "cell_type": "code",
   "execution_count": null,
   "id": "224829a0",
   "metadata": {},
   "outputs": [],
   "source": [
    "strin = list(\"recede\")\n",
    "strin[:] = list(\"(\")\n",
    "print(strin)"
   ]
  },
  {
   "cell_type": "code",
   "execution_count": null,
   "id": "55de20d9",
   "metadata": {},
   "outputs": [],
   "source": [
    "\"\"\" Implement a function that accepts 3 integer values a, b, c.\n",
    "The function should return true if a triangle can be built with the sides\n",
    "of given length and false in any other case.\n",
    "(In this case, all triangles must have surface greater than 0 to be accepted).\n",
    "\"\"\"\n",
    "\n",
    "def is_triangle(a,b,c):\n",
    "    return (a<b+c) and (b<a+c)and (c<a+b)"
   ]
  },
  {
   "cell_type": "code",
   "execution_count": null,
   "id": "c032c4e5",
   "metadata": {},
   "outputs": [],
   "source": [
    "zz = is_triangle(1,1,2)\n",
    "print(zz)"
   ]
  },
  {
   "cell_type": "code",
   "execution_count": null,
   "id": "579d99a0",
   "metadata": {},
   "outputs": [],
   "source": [
    "\"\"\" Simple, given a string of words, return the length of the shortest word(s).\n",
    "\n",
    "String will never be empty and you do not need to account for different data types.\"\"\"\n",
    "\n",
    "#string = \"Atif salam is a good boy     \"\n",
    "def short_word(string):    \n",
    "    return min(len(x) for x in string.split())\n",
    "    #for min(len(index)),strings in enumerate(a):\n",
    "        #print(len(a[index]))    \n",
    "       # b = len(a[index])\n",
    "       # print(b)\n",
    "        "
   ]
  },
  {
   "cell_type": "code",
   "execution_count": null,
   "id": "e4dc925d",
   "metadata": {},
   "outputs": [],
   "source": [
    "zx = short_word(\"Atif salam is a good boy\")\n",
    "print(zx)"
   ]
  },
  {
   "cell_type": "code",
   "execution_count": null,
   "id": "f0df3efe",
   "metadata": {},
   "outputs": [],
   "source": [
    "def find_short(s):\n",
    "    return min(len(x) for x in s.split())"
   ]
  },
  {
   "cell_type": "code",
   "execution_count": null,
   "id": "a6fd9f3f",
   "metadata": {},
   "outputs": [],
   "source": [
    "zx = find_short(\"Atif salam is good boy\")\n",
    "print(zx)"
   ]
  },
  {
   "cell_type": "code",
   "execution_count": null,
   "id": "ae02fe1d",
   "metadata": {},
   "outputs": [],
   "source": [
    "[1 for x in range(10)]"
   ]
  },
  {
   "cell_type": "code",
   "execution_count": null,
   "id": "aa27cdc8",
   "metadata": {},
   "outputs": [],
   "source": [
    "results = [1*2 for x in range(1,10)]\n",
    "#results = []\n",
    "print(results)"
   ]
  },
  {
   "cell_type": "code",
   "execution_count": null,
   "id": "dfa0a0ff",
   "metadata": {},
   "outputs": [],
   "source": [
    "\"\"\" \n",
    "You live in the city of Cartesia where all roads are laid out in a perfect grid. \n",
    "You arrived ten minutes too early to an appointment, so you decided to take the opportunity\n",
    "to go for a short walk. The city provides its citizens with a Walk Generating App on their phones\n",
    "-- everytime you press the button it sends you an array of one-letter strings representing directions\n",
    "to walk (eg. ['n', 's', 'w', 'e']). You always walk only a single block for each letter (direction) \n",
    "and you know it takes you one minute to traverse one city block, so create a function that will return\n",
    "true if the walk the app gives you will take you exactly ten minutes (you don't want to be early or late!)\n",
    "and will, of course, return you to your starting point. Return false otherwise.\n",
    "\n",
    "Note: you will always receive a valid array containing a random assortment of direction\n",
    "letters ('n', 's', 'e', or 'w' only). It will never give you an empty array\n",
    "(that's not a walk, that's standing still!).\n",
    "\n",
    "test.expect(is_valid_walk(['n','s','n','s','n','s','n','s','n','s']), 'should return True');\n",
    "test.expect(not is_valid_walk(['w','e','w','e','w','e','w','e','w','e','w','e']), 'should return False');\n",
    "test.expect(not is_valid_walk(['w']), 'should return False');\n",
    "test.expect(not is_valid_walk(['n','n','n','s','n','s','n','s','n','s']), 'should return False');\n",
    "\"\"\""
   ]
  },
  {
   "cell_type": "code",
   "execution_count": null,
   "id": "fe9ff8c1",
   "metadata": {},
   "outputs": [],
   "source": [
    "sub_maths = input(\"Maths Passed (y/n)\\n\")\n",
    "sub_science = input(\"Science Passed (y/n)\\n\")\n",
    "sub_english = input(\"English Passed (y/n)\\n\")\n",
    "\n",
    "if sub_maths == \"y\":\n",
    "    if sub_science == \"y\":\n",
    "        print(\"You Got Rs. 45 as a Gift!\")\n",
    "else:\n",
    "    print(\"You Got Rs. 15 as a Gift!\")\n",
    "\n",
    "print(\"The End\")"
   ]
  },
  {
   "cell_type": "code",
   "execution_count": null,
   "id": "7b51fbd3",
   "metadata": {},
   "outputs": [],
   "source": [
    "user = {\"atif\":'1001',\"faisal\":'1002',\"arshad\":'1003'}\n",
    "print(user)\n",
    "\n",
    "# sign up\n",
    "confirm = input(\"\"\"Do You Want to \"Sign In\" or \"Sign Up? (I/U)\"\"\")\n",
    "if confirm == \"I\":\n",
    "    print(\"Sign up!\")\n",
    "    user_name = input(\"Create User Name: \")\n",
    "    user_pin = input(\"Create User PIN: \")\n",
    "    if user_name not in user:\n",
    "        user[user_name] = user_pin\n",
    "    elif user_name in user:\n",
    "        print(\"exit\")\n",
    "\n",
    "elif confirm == \"U\":\n",
    "    \n",
    "    print(\"Sign In!\")\n",
    "\n",
    "print(user)"
   ]
  },
  {
   "cell_type": "code",
   "execution_count": null,
   "id": "7b4bf241",
   "metadata": {},
   "outputs": [],
   "source": [
    "a = 1\n",
    "while a <= 10:\n",
    "    print(a)\n",
    "    a +=1\n",
    "    "
   ]
  },
  {
   "cell_type": "code",
   "execution_count": null,
   "id": "a67ed4af",
   "metadata": {},
   "outputs": [],
   "source": [
    "print(\"Number Pattern \")\n",
    "\n",
    "# Decide the row count. (above pattern contains 5 rows)\n",
    "row = 5\n",
    "# start: 1\n",
    "# stop: row+1 (range never include stop number in result)\n",
    "# step: 1\n",
    "# run loop 5 times\n",
    "for i in range(1, row + 1, 1):\n",
    "    # Run inner loop i+1 times\n",
    "    for j in range(1, i + 1):\n",
    "        print(j, end=' ')\n",
    "    # empty line after each row\n",
    "    print(\"\")"
   ]
  },
  {
   "cell_type": "code",
   "execution_count": null,
   "id": "9b793fd4",
   "metadata": {},
   "outputs": [],
   "source": [
    "row = 10\n",
    "for i in range(1, row + 1,1):\n",
    "    for j in range (1, i + 1,1):\n",
    "        print(j,end=\" \")\n",
    "    print(\"\")"
   ]
  },
  {
   "cell_type": "code",
   "execution_count": null,
   "id": "67568c58",
   "metadata": {},
   "outputs": [],
   "source": [
    "n = int(input(\"Enter Number: \"))\n",
    "total = 0\n",
    "for num in range(1,n+1,1):        \n",
    "        total = total + num\n",
    "print(total)"
   ]
  },
  {
   "cell_type": "code",
   "execution_count": null,
   "id": "c5c294cf",
   "metadata": {},
   "outputs": [],
   "source": [
    "while True:\n",
    "    email = input(\"email: \")\n",
    "    if \"@\" and \".\" not in email:\n",
    "        print(\"Enter Valid email\")\n",
    "        continue\n",
    "                    \n",
    "    else:\n",
    "        print(\"Done\")\n",
    "        break\n",
    "print(email)"
   ]
  },
  {
   "cell_type": "code",
   "execution_count": null,
   "id": "93aae97c",
   "metadata": {},
   "outputs": [],
   "source": [
    "\"\"\"\n",
    "Exercise 5: Display numbers from a list using loop\n",
    "Write a program to display only those numbers from a list that satisfy the following conditions\n",
    "\n",
    "The number must be divisible by five\n",
    "If the number is greater than 150, then skip it and move to the next number\n",
    "If the number is greater than 500, then stop the loop\n",
    "Given:\n",
    "\n",
    "numbers = [12, 75, 150, 180, 145, 525, 50]\n",
    "Expected output:\n",
    "\n",
    "75\n",
    "150\n",
    "145\n",
    "\"\"\"\n",
    "\n",
    "numbers = [12, 75, 150, 180, 145, 525, 50]\n",
    "for x in numbers:\n",
    "    if x > 500:\n",
    "        break\n",
    "    elif x > 150:\n",
    "        continue\n",
    "    elif x % 5 == 0:\n",
    "        print(x)"
   ]
  },
  {
   "cell_type": "code",
   "execution_count": null,
   "id": "c9627ac3",
   "metadata": {},
   "outputs": [],
   "source": [
    "num = 5\n",
    "k = 5\n",
    "for item in range(0,num+1):\n",
    "    for item2 in range(k-item,0,-1):        \n",
    "        print(item2,end=\"\")\n",
    "    print()"
   ]
  },
  {
   "cell_type": "code",
   "execution_count": null,
   "id": "2f348ada",
   "metadata": {},
   "outputs": [],
   "source": [
    "row = 5\n",
    "for num1 in range(1,row+1,1):\n",
    "    for num2 in range (1,num1+1,1):\n",
    "        print(num2, end=\"\")\n",
    "    print(\"\")"
   ]
  },
  {
   "cell_type": "code",
   "execution_count": null,
   "id": "3ce33735",
   "metadata": {},
   "outputs": [],
   "source": [
    "new_row = 5\n",
    "z = 5\n",
    "for num3 in range(0,new_row+1):\n",
    "    for num4 in range(z-num3,0,-1):\n",
    "        print(\"*\", end=\"\")\n",
    "    print()"
   ]
  },
  {
   "cell_type": "code",
   "execution_count": null,
   "id": "60d3d623",
   "metadata": {},
   "outputs": [],
   "source": [
    "a = 5\n",
    "for i in range(1,a+1,1):\n",
    "    for ix in range(1,i+1,1):\n",
    "        print(ix,end=\"\")\n",
    "    print()"
   ]
  },
  {
   "cell_type": "code",
   "execution_count": null,
   "id": "a606eae5",
   "metadata": {},
   "outputs": [],
   "source": [
    "a = [10, 20, 30, 40, 50]\n",
    "a.reverse()\n",
    "[seq for seq in a]"
   ]
  },
  {
   "cell_type": "code",
   "execution_count": null,
   "id": "d2fdddbd",
   "metadata": {},
   "outputs": [],
   "source": [
    "list1 = [10, 20, 30, 40, 50]\n",
    "# reverse list\n",
    "new_list = reversed(list1)\n",
    "# iterate reversed list\n",
    "for item in new_list:\n",
    "    print(item)"
   ]
  },
  {
   "cell_type": "code",
   "execution_count": null,
   "id": "c0ef8be9",
   "metadata": {},
   "outputs": [],
   "source": [
    "text = \"radar\"\n",
    "text2 = [x for x in text[-4:]]\n",
    "for y in text2:\n",
    "    print(y,end=\"\")"
   ]
  },
  {
   "cell_type": "code",
   "execution_count": null,
   "id": "e8f3789e",
   "metadata": {},
   "outputs": [],
   "source": [
    "table = int(input(\"Number: \"))\n",
    "for x in range(1,11,1):\n",
    "    print(table * x)"
   ]
  },
  {
   "cell_type": "code",
   "execution_count": null,
   "id": "328304dc",
   "metadata": {},
   "outputs": [],
   "source": [
    "numbers = [12, 75, 150, 180, 145, 525, 50]\n",
    "for x in numbers:\n",
    "    if x > 500:\n",
    "        break\n",
    "    \n",
    "    elif x > 150:\n",
    "        continue\n",
    "        \n",
    "    elif x % 5 == 0:\n",
    "        print(x)"
   ]
  },
  {
   "cell_type": "code",
   "execution_count": null,
   "id": "58c247e0",
   "metadata": {},
   "outputs": [],
   "source": [
    "row = 5\n",
    "num = 5\n",
    "bol = {\"T\": True, \"F\": False}\n",
    "print(\"\"\" \"T\" For Asscending Order and \"F\" For Descending Order \"\"\")\n",
    "selection = bol[input(\"Enter Selection (1/2): \")]\n",
    "\n",
    "if selection == True:\n",
    "    \n",
    "    for a in range(1,row+1,1):\n",
    "        for b in range(1,a+1,1):\n",
    "            print(b,end=\"\")\n",
    "        print()\n",
    "\n",
    "elif selection == False:    \n",
    "    \n",
    "    for c in range(0,row+1):\n",
    "        for d in range(num-c,0,-1):\n",
    "            print(d,end=\"\")\n",
    "        print()\n"
   ]
  },
  {
   "cell_type": "code",
   "execution_count": null,
   "id": "24871b1e",
   "metadata": {},
   "outputs": [],
   "source": [
    "do = {\"1\":\"Log\",\"2\":\"Retreive\"}\n",
    "client = {\"1\":\"Harry\",\"2\":\"Rohan\",\"3\":\"Hammad\"}\n",
    "opt = {\"1\":\"Diet\", \"2\":\"Excercise\"}\n",
    "\n",
    "def getdate():\n",
    "    import datetime\n",
    "    return datetime.datetime.now()\n",
    "\n",
    "choice1 = do[input(\"Want do you want do (Log / Retreive: ): \")]\n",
    "\n",
    "if choice1 == \"Log\":\n",
    "    print(\"Log\")\n",
    "    print(\"Time Stamp:\",getdate())\n",
    "    time_date = str(getdate())\n",
    "    f = open(\"C:\\Officeup\\Diet.txt\",\"w\")\n",
    "    f.write(time_date)\n",
    "    f.write(input(\"\"))\n",
    "    f.close()\n",
    "    \n",
    "elif choice1 == \"Retreive\":\n",
    "    print(\"Retreive\")\n",
    "\n",
    "choice2 = client[input(\"to whom you want to? \")]\n",
    "\n",
    "if choice2 == \"Harry\":\n",
    "    print(\"Harry\")\n",
    "    \n",
    "elif choice2 == \"Rohan\":\n",
    "    print(\"Rohan\")\n",
    "\n",
    "elif choice2 == \"Hammad\":\n",
    "    print(\"Hammad\")\n",
    "    \n",
    "choice3 = opt[input(\"What you want to (Diet/Excercise)? \")]\n",
    "\n",
    "if choice3 == \"Diet\":\n",
    "    print(\"Diet\")\n",
    "    \n",
    "elif choice3 == \"Excercise\":\n",
    "    print(\"Excercise\")\n",
    "\n",
    "print(\"Thankyou for using Health Management System\")"
   ]
  },
  {
   "cell_type": "code",
   "execution_count": null,
   "id": "400aee78",
   "metadata": {},
   "outputs": [],
   "source": [
    "def getdate():\n",
    "    import datetime\n",
    "    return datetime.datetime.now()\n",
    "time_date = str(getdate())\n",
    "a = input(\"\")\n",
    "f = open(\"C:\\Officeup\\diet.txt\",\"a\")\n",
    "f.write(\"\\n\")\n",
    "f.write(a)\n",
    "f.write(\"\\n\")\n",
    "f.write(time_date)\n",
    "f.close()"
   ]
  },
  {
   "cell_type": "code",
   "execution_count": null,
   "id": "bec41749",
   "metadata": {},
   "outputs": [],
   "source": [
    "f = open(r\"C:\\Officeup\\diet.txt\")\n",
    "for i in f.readlines():\n",
    "    print(str(i),end=\"\")"
   ]
  },
  {
   "cell_type": "code",
   "execution_count": null,
   "id": "328ab6c9",
   "metadata": {},
   "outputs": [],
   "source": [
    "def signature():\n",
    "    thank = \"Thankyou for using health management\"\n",
    "    create = \"Created by:\"\n",
    "    name = \"Atif Salam\"\n",
    "    date = \"30-08-2022\"\n",
    "    aster = \"*\" * len(thank)\n",
    "    print(aster)\n",
    "    print(thank)\n",
    "    print(create)\n",
    "    print(name)\n",
    "    getdate()\n",
    "    print(aster)"
   ]
  },
  {
   "cell_type": "code",
   "execution_count": null,
   "id": "3d58ba10",
   "metadata": {},
   "outputs": [],
   "source": [
    "signature()"
   ]
  },
  {
   "cell_type": "code",
   "execution_count": null,
   "id": "1b08f10a",
   "metadata": {},
   "outputs": [],
   "source": [
    "print(\"Health Management System\")\n",
    "\n",
    "do = {\"1\": \"Log\", \"2\": \"Retrieve\"}\n",
    "opt = {\"1\": \"Diet\", \"2\": \"Exercise\"}\n",
    "client_detail = {\"1\": \"Harry\", \"2\": \"Rohan\", \"3\": \"Hammad\"}\n",
    "\n",
    "def getdate():\n",
    "    \"\"\" Return current date and time \"\"\"\n",
    "    import datetime\n",
    "    return datetime.datetime.now()\n",
    "\n",
    "def signature():\n",
    "    project = \"Thankyou for using health management system\"\n",
    "    dev_name = \"Atif Salam\"\n",
    "    sep = \"*\" * len(project)\n",
    "    print(sep)\n",
    "    print(project)\n",
    "    print(\"Created By:\",dev_name)\n",
    "    print(getdate())\n",
    "    print(sep)\n",
    "\n",
    "def write_log(file_name):\n",
    "    \"\"\" Update Log, taking file name as argument \"\"\"\n",
    "    time_date = str(getdate())\n",
    "    f = open(file_name, \"a\")\n",
    "\n",
    "    f.write(\"\\n\")\n",
    "    f.write(client_name)\n",
    "    f.write(\"\\n\")\n",
    "\n",
    "    f.write(choice3)\n",
    "    f.write(\"\\n\")\n",
    "\n",
    "    time_date_str = \"[\"+time_date+\"]\"\n",
    "    f.write(time_date_str)\n",
    "    f.write(\"\\n\")\n",
    "\n",
    "    if choice3 == \"Diet\":\n",
    "        f.write(diet_detail)\n",
    "    elif choice3 == \"Exercise\":\n",
    "        f.write(ex_detail)\n",
    "\n",
    "    f.write(\"\\n**********\")\n",
    "    f.close()\n",
    "    \n",
    "def client():\n",
    "    \"\"\" Selection of client \"\"\"\n",
    "    client_name = client_detail[input(\"to whom you want to? \")]\n",
    "\n",
    "\n",
    "def client_sel_diet():\n",
    "    \"\"\" Selection of client Diet \"\"\"\n",
    "    client()\n",
    "    if client_name == \"Harry\":\n",
    "        \n",
    "        write_log(\"harry_diet.txt\")\n",
    "\n",
    "    elif client_name == \"Rohan\":\n",
    "        \n",
    "        write_log(\"rohan_diet.txt\")\n",
    "\n",
    "    elif client_name == \"Hammad\":\n",
    "        \n",
    "        write_log(\"hammad_diet.txt\")\n",
    "\n",
    "def client_sel_ex():\n",
    "    \"\"\" Selection of client Excercise\"\"\"\n",
    "    client()\n",
    "    if client_name == \"Harry\":\n",
    "        \n",
    "        write_log(\"harry_ex.txt\")\n",
    "\n",
    "    elif client_name == \"Rohan\":\n",
    "        \n",
    "        write_log(\"rohan_ex.txt\")\n",
    "\n",
    "    elif client_name == \"Hammad\":\n",
    "        \n",
    "        write_log(\"hammad_ex.txt\")\n",
    "\n",
    "def retrieve_log(ret_file):\n",
    "    \"\"\" Retrieve log file, taking file name as argument\"\"\"\n",
    "    print(\"Retrieve\")\n",
    "    f = open(ret_file)\n",
    "    for lines in f.readlines():\n",
    "        print(str(lines),end=\"\")\n",
    "\n",
    "while True:\n",
    "    try:\n",
    "        choice1 = do[input(\"Do you want to (Log / Retrieve: ): \")] # Select option for log or retrieve\n",
    "        if choice1 == \"Log\":\n",
    "            print(\"Log\")    \n",
    "\n",
    "            choice3 = opt[input(\"What you want to (Diet/Exercise)? \")] # Selection between Diet or Exercise\n",
    "            if choice3 == \"Diet\":\n",
    "                diet_detail = input(\"Diet Detail: \")\n",
    "                client_sel_diet()\n",
    "\n",
    "            elif choice3 == \"Exercise\":\n",
    "                ex_detail = input(\"Exercise Detail: \")\n",
    "                client_sel_ex()\n",
    "\n",
    "        elif choice1 == \"Retrieve\":\n",
    "            ret_opt = opt[input(\"What you want to (Diet/Exercise)? \")]\n",
    "            client_file = client_detail[input(\"to whom you want to? \")]\n",
    "\n",
    "            if client_file == \"Harry\" and ret_opt == \"Diet\":\n",
    "                retrieve_log(\"harry_diet.txt\")\n",
    "\n",
    "            elif client_file == \"Rohan\" and ret_opt == \"Diet\":\n",
    "                retrieve_log(\"rohan_diet.txt\")\n",
    "\n",
    "            elif client_file == \"Hammad\" and ret_opt == \"Diet\":\n",
    "                retrieve_log(\"hammad_diet.txt\")\n",
    "\n",
    "            elif client_file == \"Harry\" and ret_opt == \"Exercise\":\n",
    "                retrieve_log(\"harry_ex.txt\")\n",
    "\n",
    "            elif client_file == \"Rohan\" and ret_opt == \"Exercise\":\n",
    "                retrieve_log(\"rohan_ex.txt\")\n",
    "\n",
    "            elif client_file == \"Hammad\" and ret_opt == \"Exercise\":\n",
    "                retrieve_log(\"hammad_ex.txt\")\n",
    "\n",
    "        cont = input(\"\\nDo you want to continue (Y/N): \")\n",
    "        if cont == \"y\" or cont == \"Y\":\n",
    "            continue\n",
    "            \n",
    "\n",
    "        else:\n",
    "            #print(\"Exit\")\n",
    "            signature()\n",
    "            break\n",
    "            \n",
    "    except KeyError:\n",
    "            print(\"Enter Valid Key\")"
   ]
  },
  {
   "cell_type": "code",
   "execution_count": null,
   "id": "8e062cb1",
   "metadata": {},
   "outputs": [],
   "source": [
    "print(\"Health Management System\")\n",
    "\n",
    "do = {\"1\": \"Log\", \"2\": \"Retrieve\"}\n",
    "opt = {\"1\": \"Diet\", \"2\": \"Exercise\"}\n",
    "client_detail = {\"1\": \"Harry\", \"2\": \"Rohan\", \"3\": \"Hammad\"}\n",
    "\n",
    "def getdate():\n",
    "    \"\"\" Return current date and time \"\"\"\n",
    "    import datetime\n",
    "    return datetime.datetime.now()\n",
    "\n",
    "def write_log(file_name):\n",
    "    \"\"\" Update Log, taking file name as argument \"\"\"\n",
    "    time_date = str(getdate())\n",
    "    f = open(file_name, \"a\")\n",
    "\n",
    "    f.write(\"\\n\")\n",
    "    f.write(client_name)\n",
    "    f.write(\"\\n\")\n",
    "\n",
    "    f.write(choice3)\n",
    "    f.write(\"\\n\")\n",
    "\n",
    "    time_date_str = \"[\"+time_date+\"]\"\n",
    "    f.write(time_date_str)\n",
    "    f.write(\"\\n\")\n",
    "\n",
    "    if choice3 == \"Diet\":\n",
    "        f.write(diet_detail)\n",
    "    elif choice3 == \"Exercise\":\n",
    "        f.write(ex_detail)\n",
    "\n",
    "    f.write(\"\\n**********\")\n",
    "    f.close()\n",
    "    \n",
    "def client():\n",
    "    \"\"\" Selection of client \"\"\"\n",
    "    client_name = client_detail[input(\"to whom you want to? \")]\n",
    "\n",
    "\n",
    "def client_diet_log():\n",
    "    \"\"\" Maintain client's diet log \"\"\"\n",
    "    client()\n",
    "    if client_name == \"Harry\":\n",
    "        \n",
    "        write_log(\"harry_diet.txt\")\n",
    "\n",
    "    elif client_name == \"Rohan\":\n",
    "        \n",
    "        write_log(\"rohan_diet.txt\")\n",
    "\n",
    "    elif client_name == \"Hammad\":\n",
    "        \n",
    "        write_log(\"hammad_diet.txt\")\n",
    "\n",
    "def client_ex_log():\n",
    "    \"\"\" Maintain client's excercise log \"\"\"\n",
    "    client()\n",
    "    if client_name == \"Harry\":\n",
    "        \n",
    "        write_log(\"harry_ex.txt\")\n",
    "\n",
    "    elif client_name == \"Rohan\":\n",
    "        \n",
    "        write_log(\"rohan_ex.txt\")\n",
    "\n",
    "    elif client_name == \"Hammad\":\n",
    "        \n",
    "        write_log(\"hammad_ex.txt\")\n",
    "\n",
    "def retrieve_log(ret_file):\n",
    "    \"\"\" Retrieve log file, taking file name as argument\"\"\"\n",
    "    print(\"Retrieve\")\n",
    "    f = open(ret_file)\n",
    "    for lines in f.readlines():\n",
    "        print(str(lines),end=\"\")\n",
    "\n",
    "def sel_diet_ex():\n",
    "    choice3 = opt[input(\"What you want to (Diet/Exercise)? \")]\n",
    "    \n",
    "while True:\n",
    "    try:\n",
    "        choice1 = do[input(\"Do you want to (Log / Retrieve: ): \")] # Select option for log or retrieve\n",
    "        if choice1 == \"Log\":\n",
    "            print(\"Log\")    \n",
    "\n",
    "            sel_diet_ex()\n",
    "            if choice3 == \"Diet\":\n",
    "                diet_detail = input(\"Diet Detail: \")\n",
    "                client_diet_log()\n",
    "\n",
    "            elif choice3 == \"Exercise\":\n",
    "                ex_detail = input(\"Exercise Detail: \")\n",
    "                client_ex_log()\n",
    "\n",
    "        elif choice1 == \"Retrieve\":\n",
    "            \n",
    "            sel_diet_ex()            \n",
    "            client_file = client_detail[input(\"to whom you want to? \")]\n",
    "\n",
    "            if client_file == \"Harry\" and choice3 == \"Diet\":\n",
    "                retrieve_log(\"harry_diet.txt\")\n",
    "\n",
    "            elif client_file == \"Rohan\" and choice3 == \"Diet\":\n",
    "                retrieve_log(\"rohan_diet.txt\")\n",
    "\n",
    "            elif client_file == \"Hammad\" and choice3 == \"Diet\":\n",
    "                retrieve_log(\"hammad_diet.txt\")\n",
    "\n",
    "            elif client_file == \"Harry\" and choice3 == \"Exercise\":\n",
    "                retrieve_log(\"harry_ex.txt\")\n",
    "\n",
    "            elif client_file == \"Rohan\" and choice3 == \"Exercise\":\n",
    "                retrieve_log(\"rohan_ex.txt\")\n",
    "\n",
    "            elif client_file == \"Hammad\" and choice3 == \"Exercise\":\n",
    "                retrieve_log(\"hammad_ex.txt\")\n",
    "\n",
    "        cont = input(\"Do you want to continue (Y/N): \")\n",
    "        if cont == \"y\" or cont == \"Y\":\n",
    "            print(\"Continue\")\n",
    "            continue\n",
    "\n",
    "        else:\n",
    "            print(\"Exit\")\n",
    "            break\n",
    "    except KeyError:\n",
    "            print(\"Enter Valid Key\")"
   ]
  },
  {
   "cell_type": "code",
   "execution_count": null,
   "id": "f70f5394",
   "metadata": {},
   "outputs": [],
   "source": [
    "n=int(input(\"Enter number:\"))\n",
    "temp=n\n",
    "rev=0\n",
    "\n",
    "while(n>0):\n",
    "    dig=n%10\n",
    "    rev=rev*10+dig\n",
    "    n=n//10\n",
    "print(temp)\n",
    "print(rev)    \n",
    "\n",
    "if(temp==rev):\n",
    "    print(\"The number is a palindrome!\")\n",
    "else:\n",
    "    print(\"The number isn't a palindrome!\")"
   ]
  },
  {
   "cell_type": "code",
   "execution_count": null,
   "id": "4697ba52",
   "metadata": {},
   "outputs": [],
   "source": [
    "print(dig)"
   ]
  },
  {
   "cell_type": "code",
   "execution_count": null,
   "id": "f2fdd7c9",
   "metadata": {},
   "outputs": [],
   "source": [
    "# # 11%10\n",
    "# 11//10\n",
    "0*10+1"
   ]
  },
  {
   "cell_type": "code",
   "execution_count": null,
   "id": "21dc251a",
   "metadata": {},
   "outputs": [],
   "source": [
    "Program Explanation\n",
    "\n",
    "1. User must first enter the value of the integer and store it in a variable.\n",
    "2. The value of the integer is then stored in another temporary variable.\n",
    "3. The while loop is used and the last digit of the number is obtained by using the modulus operator.\n",
    "4. The last digit is then stored at the one’s place, second last at the ten’s place and so on.\n",
    "5. The last digit is then removed by truly dividing the number with 10.\n",
    "6. This loop terminates when the value of the number is 0.\n",
    "7. The reverse of the number is then compared with the integer value stored in the temporary variable.\n",
    "8. If both are equal, the number is a palindrome.\n",
    "9. If both aren’t equal, the number isn’t a palindrome.\n",
    "10. The final result is then printed."
   ]
  },
  {
   "cell_type": "code",
   "execution_count": null,
   "id": "4411e93c",
   "metadata": {},
   "outputs": [],
   "source": [
    "list1 = [111, 6 , 88, 43]\n",
    "# a = [x for x in list1 if x > 10 ]\n",
    "# print(a)\n",
    "\n",
    "for num in list1:\n",
    "    num1 = num // 10\n",
    "    num2 = num % 10\n",
    "    if num1 == num2:\n",
    "        print(\"Palindrome\")\n",
    "    else:\n",
    "        print(\"Not\")"
   ]
  },
  {
   "cell_type": "code",
   "execution_count": null,
   "id": "7d7528a0",
   "metadata": {},
   "outputs": [],
   "source": [
    "print(num1)"
   ]
  },
  {
   "cell_type": "code",
   "execution_count": null,
   "id": "79135930",
   "metadata": {},
   "outputs": [],
   "source": [
    "print(num2)"
   ]
  },
  {
   "cell_type": "code",
   "execution_count": null,
   "id": "99565191",
   "metadata": {},
   "outputs": [],
   "source": []
  },
  {
   "cell_type": "code",
   "execution_count": null,
   "id": "34982a34",
   "metadata": {},
   "outputs": [],
   "source": [
    "# user_input = input(\"Enter Thje number of the list: \")\n",
    "# lst = list(user_input)\n",
    "\n",
    "\n",
    "\n",
    "lst = [6, 7, 8, 34, 5]\n",
    "# lst1 = [0,0,0,0,0]\n",
    "\n",
    "# First Method\n",
    "lst1 = lst[:]\n",
    "lst1.reverse()\n",
    "print(lst1)\n",
    "\n",
    "# Second Method\n",
    "lst2 = lst[::-1]\n",
    "print(lst2)\n",
    "\n",
    "# Third Method\n",
    "# print(list(reversed(lst1)))\n",
    "\n",
    "#Fourth Method(Swap)\n",
    "lst3 = lst[:]\n",
    "lst3[0] = lst[-1]\n",
    "lst3[1] = lst[-2]\n",
    "lst3[2] = lst[-3]\n",
    "lst3[3] = lst[-4]\n",
    "lst3[4] = lst[-5]\n",
    "\n",
    "print(lst3)\n",
    "\n"
   ]
  },
  {
   "cell_type": "code",
   "execution_count": null,
   "id": "90d8ea98",
   "metadata": {},
   "outputs": [],
   "source": [
    "print(5/2)\n",
    "print(5//2)\n",
    "print(5%2)"
   ]
  },
  {
   "cell_type": "code",
   "execution_count": null,
   "id": "ba99ff0d",
   "metadata": {},
   "outputs": [],
   "source": [
    "list1 = [4,5,6,7,8]\n",
    "rev = list1[:]\n",
    "for i in range(len(rev)):\n",
    "    print(rev[i], rev[len(rev) -i -1])\n",
    "#     = rev[len(rev) -i -1], rev[i]\n",
    "# print(list1)\n",
    "# print(rev)"
   ]
  },
  {
   "cell_type": "code",
   "execution_count": 33,
   "id": "1c96c40d",
   "metadata": {},
   "outputs": [
    {
     "name": "stdout",
     "output_type": "stream",
     "text": [
      "\n",
      " [8, 7, 6, 5, 4]\n"
     ]
    }
   ],
   "source": [
    "a = [4,5,6,7,8]\n",
    "for i in range(len(a)//2):\n",
    "    a[i], a[len(a) -i -1] = a[len(a) -i -1], a[i]\n",
    "#     print(f\"{x} , {y}\\n\")\n",
    "print(\"\\n\",a)"
   ]
  },
  {
   "cell_type": "code",
   "execution_count": null,
   "id": "63a3d7d0",
   "metadata": {},
   "outputs": [],
   "source": []
  }
 ],
 "metadata": {
  "kernelspec": {
   "display_name": "Python 3 (ipykernel)",
   "language": "python",
   "name": "python3"
  },
  "language_info": {
   "codemirror_mode": {
    "name": "ipython",
    "version": 3
   },
   "file_extension": ".py",
   "mimetype": "text/x-python",
   "name": "python",
   "nbconvert_exporter": "python",
   "pygments_lexer": "ipython3",
   "version": "3.9.7"
  }
 },
 "nbformat": 4,
 "nbformat_minor": 5
}
