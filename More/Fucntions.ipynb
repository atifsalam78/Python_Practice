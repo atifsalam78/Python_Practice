{
 "cells": [
  {
   "cell_type": "code",
   "execution_count": 8,
   "id": "aa002257",
   "metadata": {},
   "outputs": [
    {
     "name": "stdout",
     "output_type": "stream",
     "text": [
      "Hello from a function\n"
     ]
    }
   ],
   "source": [
    "def my_function():\n",
    "    print(\"Hello from a function\")\n",
    "my_function()"
   ]
  },
  {
   "cell_type": "code",
   "execution_count": 10,
   "id": "dd87a85f",
   "metadata": {},
   "outputs": [
    {
     "name": "stdout",
     "output_type": "stream",
     "text": [
      "Emily Robert\n",
      "John Robert\n",
      "Julia Robert\n"
     ]
    }
   ],
   "source": [
    "def func1(fname):\n",
    "    print(fname+\"Robert\")\n",
    "func1(\"Emily \")\n",
    "func1(\"John \")\n",
    "func1(\"Julia \")\n"
   ]
  },
  {
   "cell_type": "code",
   "execution_count": 15,
   "id": "d155f307",
   "metadata": {},
   "outputs": [
    {
     "name": "stdout",
     "output_type": "stream",
     "text": [
      "Enter First Name: Atif\n",
      "Enter Last Name: Salam\n",
      "Atif Salam\n"
     ]
    }
   ],
   "source": [
    "def func2(fname, lname):\n",
    "    print(fname + \" \" + lname)\n",
    "func2(input(\"Enter First Name: \"),input(\"Enter Last Name: \"))"
   ]
  },
  {
   "cell_type": "code",
   "execution_count": 16,
   "id": "b25d02ef",
   "metadata": {},
   "outputs": [
    {
     "name": "stdout",
     "output_type": "stream",
     "text": [
      "I am from Pakistan\n",
      "I am from Sweden\n",
      "I am from Norway\n",
      "I am from China\n"
     ]
    }
   ],
   "source": [
    "def func3(country = \"Norway\"):\n",
    "    print(\"I am from \" + country)\n",
    "func3(\"Pakistan\")\n",
    "func3(\"Sweden\")\n",
    "func3()\n",
    "func3(\"China\")"
   ]
  },
  {
   "cell_type": "code",
   "execution_count": 35,
   "id": "30e2144c",
   "metadata": {},
   "outputs": [
    {
     "name": "stdout",
     "output_type": "stream",
     "text": [
      "Atif Salam\n",
      "Atif Salam\n",
      "Atif Salam\n",
      "Atif Salam\n",
      "Atif Salam\n",
      "Atif Salam\n",
      "Atif Salam\n",
      "Atif Salam\n",
      "Atif Salam\n",
      "Atif Salam\n"
     ]
    }
   ],
   "source": [
    "def cal(x=0):\n",
    "    for x in range (0,10):\n",
    "        print(\"Atif Salam\")\n",
    "cal()"
   ]
  },
  {
   "cell_type": "code",
   "execution_count": 38,
   "id": "66307e27",
   "metadata": {},
   "outputs": [
    {
     "name": "stdout",
     "output_type": "stream",
     "text": [
      "The youngest child is John\n"
     ]
    }
   ],
   "source": [
    "def func4(*kid):\n",
    "    print(\"The youngest child is \" + kid[1])\n",
    "func4(\"Emily\", \"John\",\"Julia\")"
   ]
  },
  {
   "cell_type": "code",
   "execution_count": 43,
   "id": "11d7b0b6",
   "metadata": {},
   "outputs": [
    {
     "name": "stdout",
     "output_type": "stream",
     "text": [
      "The Youngest child is John\n"
     ]
    }
   ],
   "source": [
    "kid1=\"emily\"\n",
    "kid2=\"John\"\n",
    "kid3=\"Julia\"\n",
    "print(\"The Youngest child is %s\"%kid2)"
   ]
  },
  {
   "cell_type": "code",
   "execution_count": 44,
   "id": "c6af8422",
   "metadata": {},
   "outputs": [
    {
     "name": "stdout",
     "output_type": "stream",
     "text": [
      "The Youngest Child is Julia\n"
     ]
    }
   ],
   "source": [
    "def func5(child3, child2, child1):\n",
    "    print(\"The Youngest Child is \"+child3)\n",
    "func5(child1=\"Emily\", child2=\"John\",child3=\"Julia\")"
   ]
  },
  {
   "cell_type": "code",
   "execution_count": 45,
   "id": "919b0365",
   "metadata": {},
   "outputs": [
    {
     "name": "stdout",
     "output_type": "stream",
     "text": [
      "The Youngest Child is Julia\n"
     ]
    }
   ],
   "source": [
    "def func6(keywargs):\n",
    "    print(\"The Youngest Child is \"+child3)\n",
    "func5(child1=\"Emily\", child2=\"John\",child3=\"Julia\")"
   ]
  },
  {
   "cell_type": "code",
   "execution_count": 47,
   "id": "e63ef2a4",
   "metadata": {},
   "outputs": [
    {
     "name": "stdout",
     "output_type": "stream",
     "text": [
      "His Last name is Salam\n"
     ]
    }
   ],
   "source": [
    "def func6(**child):\n",
    "    print(\"His Last name is \"+child[\"lname\"])\n",
    "func6(fname=\"Atif\", lname=\"Salam\")"
   ]
  },
  {
   "cell_type": "code",
   "execution_count": 50,
   "id": "a3c110b5",
   "metadata": {},
   "outputs": [
    {
     "name": "stdout",
     "output_type": "stream",
     "text": [
      "Apple\n",
      "Banana\n",
      "Mango\n"
     ]
    }
   ],
   "source": [
    "def func7(food):\n",
    "    for x in food:\n",
    "        print(x)\n",
    "fruits=[\"Apple\", \"Banana\", \"Mango\"]\n",
    "func7(fruits)"
   ]
  },
  {
   "cell_type": "code",
   "execution_count": 57,
   "id": "cccbb35d",
   "metadata": {},
   "outputs": [
    {
     "name": "stdout",
     "output_type": "stream",
     "text": [
      "10\n",
      "15\n",
      "25\n",
      "45\n",
      "45\n"
     ]
    }
   ],
   "source": [
    "def func8(x):\n",
    "    return 5*x\n",
    "print(func8(2))\n",
    "print(func8(3))\n",
    "print(func8(5))\n",
    "print(func8(9))\n",
    "print(func8(x))"
   ]
  },
  {
   "cell_type": "code",
   "execution_count": 70,
   "id": "46c14b56",
   "metadata": {},
   "outputs": [
    {
     "name": "stdout",
     "output_type": "stream",
     "text": [
      "\n",
      "\n",
      "Recursion Example Results\n",
      "1\n",
      "3\n",
      "6\n",
      "10\n",
      "15\n",
      "21\n"
     ]
    },
    {
     "data": {
      "text/plain": [
       "21"
      ]
     },
     "execution_count": 70,
     "metadata": {},
     "output_type": "execute_result"
    }
   ],
   "source": [
    "def func9(k):\n",
    "    if(k > 0):\n",
    "        result = k + func9(k - 1)\n",
    "        print(result)\n",
    "    else:\n",
    "        result = 0\n",
    "    return result\n",
    "print(\"\\n\\nRecursion Example Results\")\n",
    "func9(6)"
   ]
  },
  {
   "cell_type": "code",
   "execution_count": null,
   "id": "613e56b4",
   "metadata": {},
   "outputs": [],
   "source": []
  }
 ],
 "metadata": {
  "kernelspec": {
   "display_name": "Python 3 (ipykernel)",
   "language": "python",
   "name": "python3"
  },
  "language_info": {
   "codemirror_mode": {
    "name": "ipython",
    "version": 3
   },
   "file_extension": ".py",
   "mimetype": "text/x-python",
   "name": "python",
   "nbconvert_exporter": "python",
   "pygments_lexer": "ipython3",
   "version": "3.9.7"
  }
 },
 "nbformat": 4,
 "nbformat_minor": 5
}
