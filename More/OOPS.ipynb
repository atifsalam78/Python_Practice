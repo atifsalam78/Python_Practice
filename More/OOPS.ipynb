{
 "cells": [
  {
   "cell_type": "code",
   "execution_count": null,
   "id": "24277d57",
   "metadata": {},
   "outputs": [],
   "source": [
    "# Creating a class\n",
    "\n",
    "class Employee:\n",
    "    no_of_leaves = 15    \n",
    "    pass\n",
    "\n",
    "# Creating object/instance of class Employee\n",
    "\n",
    "atif = Employee()\n",
    "danish = Employee()\n",
    "\n",
    "# initializing instance variable\n",
    "\n",
    "atif.name = \"Atif Salam\"\n",
    "atif.emp_id = 825\n",
    "atif.desg = \"Associate Manager Procurement\"\n",
    "\n",
    "danish.name = \"Syed Danish Ali\"\n",
    "danish.emp_id = 112\n",
    "danish.desg = \"Manager Procurement\"\n",
    "\n",
    "\n",
    "\n",
    "print(atif.no_of_leaves)\n",
    "print(danish.no_of_leaves)\n",
    "print(Employee.__dict__)\n",
    "Employee.no_of_leaves = 30\n",
    "print(Employee.__dict__)\n",
    "print(Employee.no_of_leaves)\n",
    "atif.no_of_leaves = 20\n",
    "print(atif.no_of_leaves)\n",
    "print(danish.no_of_leaves)\n"
   ]
  },
  {
   "cell_type": "code",
   "execution_count": null,
   "id": "db8b9369",
   "metadata": {},
   "outputs": [],
   "source": [
    "# Creating a class\n",
    "\n",
    "class Employee:\n",
    "    no_of_leaves = 15    \n",
    "    pass\n",
    "\n",
    "# Creating Method\n",
    "\n",
    "    def set_name(self,name):\n",
    "        self.name = name\n",
    "    \n",
    "    def greet(self):\n",
    "        print(\"Hello World! I'm {}\".format(self.name))"
   ]
  },
  {
   "cell_type": "code",
   "execution_count": null,
   "id": "f6f97e01",
   "metadata": {},
   "outputs": [],
   "source": [
    "atif = Employee()\n",
    "danish = Employee()\n",
    "atif.set_name(\"Atif Salam\")\n",
    "danish.set_name(\"Syed Danish Ali\")"
   ]
  },
  {
   "cell_type": "code",
   "execution_count": null,
   "id": "45921c8d",
   "metadata": {},
   "outputs": [],
   "source": [
    "atif.greet()"
   ]
  },
  {
   "cell_type": "code",
   "execution_count": null,
   "id": "20fd9e1c",
   "metadata": {},
   "outputs": [],
   "source": [
    "# Creating Class\n",
    "\n",
    "class Employee:\n",
    "    no_of_leaves = 15    \n",
    "    pass\n",
    "    \n",
    "# Create Constructor\n",
    "\n",
    "    def __init__(self,name,emp_id,desg):\n",
    "        self.name = name\n",
    "        self.emp_id = emp_id\n",
    "        self.desg = desg\n",
    "        \n",
    "# Create Method\n",
    "    \n",
    "    def print_details(self):\n",
    "        return f\"My name is: {self.name}, My employee ID is: {self.emp_id}, My designation is: {self.desg}\""
   ]
  },
  {
   "cell_type": "code",
   "execution_count": null,
   "id": "8c8f7dd5",
   "metadata": {},
   "outputs": [],
   "source": [
    "emp1 = Employee(\"Atif Salam\",825,\"Associate Manager Procurement\")"
   ]
  },
  {
   "cell_type": "code",
   "execution_count": null,
   "id": "15758447",
   "metadata": {},
   "outputs": [],
   "source": [
    "emp1.print_details()"
   ]
  },
  {
   "cell_type": "code",
   "execution_count": null,
   "id": "cf5eb025",
   "metadata": {},
   "outputs": [],
   "source": [
    "emp2 = Employee(\"Danish Ali\",112,\"Manager Procurement\")"
   ]
  },
  {
   "cell_type": "code",
   "execution_count": null,
   "id": "b8902779",
   "metadata": {},
   "outputs": [],
   "source": [
    "emp2.print_details()"
   ]
  },
  {
   "cell_type": "code",
   "execution_count": null,
   "id": "a6d4d1fe",
   "metadata": {},
   "outputs": [],
   "source": [
    "# Creating Class\n",
    "\n",
    "class Employee:\n",
    "    no_of_leaves = 15    \n",
    "    pass\n",
    "    \n",
    "# Create Constructor\n",
    "\n",
    "    def __init__(self,name,emp_id,desg):\n",
    "        self.name = name\n",
    "        self.emp_id = emp_id\n",
    "        self.desg = desg\n",
    "        \n",
    "# Create Method\n",
    "    \n",
    "    def print_details(self):\n",
    "        return f\"My name is: {self.name}, My employee ID is: {self.emp_id}, My designation is: {self.desg}\"\n",
    "    \n",
    "# Creating Class Method\n",
    "\n",
    "    @classmethod\n",
    "    def change_leaves(cls, newleaves):\n",
    "        cls.no_of_leaves = newleaves"
   ]
  },
  {
   "cell_type": "code",
   "execution_count": null,
   "id": "6d015dfd",
   "metadata": {},
   "outputs": [],
   "source": [
    "emp1 = Employee(\"Atif Salam\",825,\"Associate Manager Procurement\")\n",
    "emp2 = Employee(\"Danish Ali\",112,\"Manager Procurement\")"
   ]
  },
  {
   "cell_type": "code",
   "execution_count": null,
   "id": "641f4031",
   "metadata": {},
   "outputs": [],
   "source": [
    "print(emp1.print_details(),\"\\n\",emp2.print_details(),\"\\n\",Employee.no_of_leaves)"
   ]
  },
  {
   "cell_type": "code",
   "execution_count": null,
   "id": "3708dfd1",
   "metadata": {},
   "outputs": [],
   "source": [
    "emp1.change_leaves(30)"
   ]
  },
  {
   "cell_type": "code",
   "execution_count": null,
   "id": "ea5880b0",
   "metadata": {},
   "outputs": [],
   "source": [
    "print(emp1.print_details(),Employee.no_of_leaves)\n",
    "print(emp2.print_details(),Employee.no_of_leaves)"
   ]
  },
  {
   "cell_type": "code",
   "execution_count": null,
   "id": "c1233dd2",
   "metadata": {},
   "outputs": [],
   "source": [
    "class Simple:\n",
    "    pass\n",
    "\n",
    "# Creating Instance\n",
    "\n",
    "atif = Simple()\n",
    "faisal = Simple()\n",
    "\n",
    "# Initializing Instance Variables\n",
    "\n",
    "atif.name = \"Atif Salam\"\n",
    "atif.add = \"Shah Faisal Town\"\n",
    "\n",
    "faisal.name = \"Faisal Shah\"\n",
    "faisal.add = \"GulShan-e-Iqbal\"\n",
    "\n"
   ]
  },
  {
   "cell_type": "code",
   "execution_count": null,
   "id": "6b17218a",
   "metadata": {},
   "outputs": [],
   "source": [
    "print(atif.name)\n",
    "print(atif.add)"
   ]
  },
  {
   "cell_type": "code",
   "execution_count": null,
   "id": "897313e5",
   "metadata": {},
   "outputs": [],
   "source": [
    "print(faisal.name)\n",
    "print(faisal.add)"
   ]
  },
  {
   "cell_type": "code",
   "execution_count": null,
   "id": "307b9829",
   "metadata": {},
   "outputs": [],
   "source": [
    "class Book:\n",
    "    pass\n",
    "    \n",
    "    def set_details(self,title,author,pages,page_type,width,height):\n",
    "        self.title = title\n",
    "        self.author = author\n",
    "        self.pages = pages\n",
    "        self.page_type = page_type\n",
    "        self.width = width\n",
    "        self.height = height    \n",
    "       \n",
    "    def print_details(self):\n",
    "        return f\"\"\"This book has title {self.title},\n",
    "written by the author named {self.author} having {self.pages} pages,\n",
    "and type of pages is {self.page_type} width of book is {self.width} and height is {self.height}\"\"\"\n",
    "        "
   ]
  },
  {
   "cell_type": "code",
   "execution_count": null,
   "id": "5de9edf4",
   "metadata": {},
   "outputs": [],
   "source": [
    "book1 = Book()\n",
    "book1.set_details(\"Begining Python\",\"Magnus Lie Hetland\",\"527\",\"matt\",\"7.2\",\"9.4\")\n",
    "print(book1.print_details())"
   ]
  },
  {
   "cell_type": "code",
   "execution_count": null,
   "id": "e6e48696",
   "metadata": {},
   "outputs": [],
   "source": [
    "class Book_Another:\n",
    "    pass\n",
    "    \n",
    "    def __init__(self,btitle,bauthor,bpages,bpage_type,bwidth,bheight):\n",
    "        self.book_title = btitle\n",
    "        self.book_author = bauthor\n",
    "        self.book_pages = bpages\n",
    "        self.book_page_type = bpage_type\n",
    "        self.book_width = bwidth\n",
    "        self.book_height = bheight       \n",
    "    \n",
    "    def print_details_another(self):\n",
    "        return f\"\"\"This book has title {self.book_title},\n",
    "written by the author named {self.book_author} having {self.book_pages} pages,\n",
    "and type of pages is {self.book_page_type} width of book is {self.book_width} and height is {self.book_height}\"\"\"\n",
    "        "
   ]
  },
  {
   "cell_type": "code",
   "execution_count": null,
   "id": "99a64dfd",
   "metadata": {},
   "outputs": [],
   "source": [
    "book1_another = Book_Another(\"Automate The Booring Stuff\",\"Ai Sweigart\",\"547\",\"80gsm Opaque\",\"7\",\"9\")\n",
    "print(book1_another.print_details_another())"
   ]
  },
  {
   "cell_type": "code",
   "execution_count": null,
   "id": "0337a192",
   "metadata": {},
   "outputs": [],
   "source": [
    "class Book_Another_Cv:\n",
    "    \n",
    "    generes = \"Python Programming\"\n",
    "    \n",
    "    pass\n",
    "    \n",
    "    def __init__(self,cvtitle,cvauthor,cvpages,cvpage_type,cvwidth,cvheight):\n",
    "        self.book_title_cv = cvtitle\n",
    "        self.book_author_cv = cvauthor\n",
    "        self.book_pages_cv = cvpages\n",
    "        self.book_page_type_cv = cvpage_type\n",
    "        self.book_width_cv = cvwidth\n",
    "        self.book_height_cv = cvheight       \n",
    "    \n",
    "    def print_details_another_cv(self):\n",
    "        return f\"\"\"The generes of this book is {self.generes} has title {self.book_title_cv},\n",
    "written by the author named {self.book_author_cv} having {self.book_pages_cv} pages,\n",
    "and type of pages is {self.book_page_type_cv} width of book is {self.book_width_cv}\n",
    "and height is {self.book_height_cv}\"\"\"\n",
    "        "
   ]
  },
  {
   "cell_type": "code",
   "execution_count": null,
   "id": "0c2deffa",
   "metadata": {},
   "outputs": [],
   "source": [
    "book1_another_cv = Book_Another_Cv(\"Automate The Booring Stuff\",\"Ai Sweigart\",\"547\",\"80gsm Opaque\",\"7\",\"9\")\n",
    "print(book1_another_cv.print_details_another_cv())"
   ]
  },
  {
   "cell_type": "code",
   "execution_count": null,
   "id": "c68286b1",
   "metadata": {},
   "outputs": [],
   "source": [
    "book2_another_cv = Book_Another_Cv(\"Fluent Python\",\"Luciano Ramalho\",\"766\",\"Photo Paper\",\"8\",\"9\")\n",
    "print(book2_another_cv.print_details_another_cv())"
   ]
  },
  {
   "cell_type": "code",
   "execution_count": null,
   "id": "0c95bc1b",
   "metadata": {},
   "outputs": [],
   "source": [
    "book3_another_cv = Book_Another_Cv(\"Data Science and Machine Learning\",\"Dirik P. Kroese\",\"513\",\"80gsm Opaque\",\"7.5\",\"9.4\")\n",
    "print(book3_another_cv.print_details_another_cv())"
   ]
  },
  {
   "cell_type": "code",
   "execution_count": null,
   "id": "da2adee6",
   "metadata": {},
   "outputs": [],
   "source": [
    "print(book3_another_cv.__dict__)"
   ]
  },
  {
   "cell_type": "code",
   "execution_count": null,
   "id": "244c2fd6",
   "metadata": {},
   "outputs": [],
   "source": [
    "# New instance varible has been created for changing class variable\n",
    "\n",
    "book3_another_cv.generes = \"Data Science\"\n",
    "print(book3_another_cv.__dict__)"
   ]
  },
  {
   "cell_type": "code",
   "execution_count": null,
   "id": "41d1190b",
   "metadata": {},
   "outputs": [],
   "source": [
    "print(book2_another_cv.__dict__)"
   ]
  },
  {
   "cell_type": "code",
   "execution_count": null,
   "id": "5de0f027",
   "metadata": {},
   "outputs": [],
   "source": [
    "print(Book_Another_Cv.generes)"
   ]
  },
  {
   "cell_type": "code",
   "execution_count": null,
   "id": "fe99edbb",
   "metadata": {},
   "outputs": [],
   "source": [
    "# Made changes in class variable through class\n",
    "# Class variables can not be change through instance\n",
    "# Only can access through instance\n",
    "\n",
    "Book_Another_Cv.generes = \"Data Science\""
   ]
  },
  {
   "cell_type": "code",
   "execution_count": null,
   "id": "632d916c",
   "metadata": {},
   "outputs": [],
   "source": [
    "book1_another_cv = Book_Another_Cv(\"Automate The Booring Stuff\",\"Ai Sweigart\",\"547\",\"80gsm Opaque\",\"7\",\"9\")\n",
    "print(book1_another_cv.print_details_another_cv())"
   ]
  },
  {
   "cell_type": "code",
   "execution_count": null,
   "id": "37106582",
   "metadata": {},
   "outputs": [],
   "source": [
    "book2_another_cv = Book_Another_Cv(\"Fluent Python\",\"Luciano Ramalho\",\"766\",\"Photo Paper\",\"8\",\"9\")\n",
    "print(book2_another_cv.print_details_another_cv())"
   ]
  },
  {
   "cell_type": "code",
   "execution_count": null,
   "id": "dfb2d374",
   "metadata": {},
   "outputs": [],
   "source": [
    "book3_another_cv = Book_Another_Cv(\"Data Science and Machine Learning\",\"Dirik P. Kroese\",\"513\",\"80gsm Opaque\",\"7.5\",\"9.4\")\n",
    "print(book3_another_cv.print_details_another_cv())"
   ]
  },
  {
   "cell_type": "code",
   "execution_count": null,
   "id": "f3523aac",
   "metadata": {},
   "outputs": [],
   "source": [
    "print(Book_Another_Cv.__dict__)"
   ]
  },
  {
   "cell_type": "code",
   "execution_count": 1,
   "id": "f564f0d1",
   "metadata": {},
   "outputs": [],
   "source": [
    "class Book_Cm:\n",
    "    \n",
    "    generes_cm = \"Python Programming\"\n",
    "    \n",
    "    pass\n",
    "    \n",
    "    def __init__(self,cmtitle,cmauthor,cmpages,cmpage_type,cmwidth,cmheight):\n",
    "        self.book_title_cm = cmtitle\n",
    "        self.book_author_cm = cmauthor\n",
    "        self.book_pages_cm = cmpages\n",
    "        self.book_page_type_cm = cmpage_type\n",
    "        self.book_width_cm = cmwidth\n",
    "        self.book_height_cm = cmheight       \n",
    "    \n",
    "    @classmethod\n",
    "    def change_generes(cls,newgeneres):\n",
    "        cls.generes_cm = newgeneres\n",
    "    \n",
    "    def print_details_cm(self):\n",
    "        return f\"\"\"The generes of this book is {self.generes_cm} has title {self.book_title_cm},\n",
    "written by the author named {self.book_author_cm} having {self.book_pages_cm} pages,\n",
    "and type of pages is {self.book_page_type_cm} width of book is {self.book_width_cm}\n",
    "and height is {self.book_height_cm}\"\"\""
   ]
  },
  {
   "cell_type": "code",
   "execution_count": 2,
   "id": "1ccaf4ff",
   "metadata": {},
   "outputs": [
    {
     "name": "stdout",
     "output_type": "stream",
     "text": [
      "The generes of this book is Python Programming has title Data Science and Machine Learning,\n",
      "written by the author named Dirik P. Kroese having 513 pages,\n",
      "and type of pages is 80gsm Opaque width of book is 7.5\n",
      "and height is 9.4\n"
     ]
    }
   ],
   "source": [
    "book1_cm = Book_Cm(\"Data Science and Machine Learning\",\"Dirik P. Kroese\",\"513\",\"80gsm Opaque\",\"7.5\",\"9.4\")\n",
    "print(book1_cm.print_details_cm())"
   ]
  },
  {
   "cell_type": "code",
   "execution_count": 3,
   "id": "9ce56c1d",
   "metadata": {},
   "outputs": [
    {
     "name": "stdout",
     "output_type": "stream",
     "text": [
      "{'__module__': '__main__', 'generes_cm': 'Python Programming', '__init__': <function Book_Cm.__init__ at 0x7efd702c23a0>, 'change_generes': <classmethod object at 0x7efd702b32b0>, 'print_details_cm': <function Book_Cm.print_details_cm at 0x7efd702c20d0>, '__dict__': <attribute '__dict__' of 'Book_Cm' objects>, '__weakref__': <attribute '__weakref__' of 'Book_Cm' objects>, '__doc__': None}\n"
     ]
    }
   ],
   "source": [
    "print(Book_Cm.__dict__)"
   ]
  },
  {
   "cell_type": "code",
   "execution_count": 4,
   "id": "6c1e687a",
   "metadata": {},
   "outputs": [
    {
     "name": "stdout",
     "output_type": "stream",
     "text": [
      "{'book_title_cm': 'Data Science and Machine Learning', 'book_author_cm': 'Dirik P. Kroese', 'book_pages_cm': '513', 'book_page_type_cm': '80gsm Opaque', 'book_width_cm': '7.5', 'book_height_cm': '9.4'}\n"
     ]
    }
   ],
   "source": [
    "print(book1_cm.__dict__)"
   ]
  },
  {
   "cell_type": "code",
   "execution_count": 5,
   "id": "3bf267a6",
   "metadata": {},
   "outputs": [
    {
     "name": "stdout",
     "output_type": "stream",
     "text": [
      "The generes of this book is Python Programming has title Fluent Python,\n",
      "written by the author named Luciano Ramalho having 766 pages,\n",
      "and type of pages is Photo Paper width of book is 8\n",
      "and height is 9\n"
     ]
    }
   ],
   "source": [
    "book2_cm = Book_Cm(\"Fluent Python\",\"Luciano Ramalho\",\"766\",\"Photo Paper\",\"8\",\"9\")\n",
    "print(book2_cm.print_details_cm())"
   ]
  },
  {
   "cell_type": "code",
   "execution_count": 6,
   "id": "7485d03b",
   "metadata": {},
   "outputs": [
    {
     "name": "stdout",
     "output_type": "stream",
     "text": [
      "The generes of this book is Python Programming has title Automate The Booring Stuff,\n",
      "written by the author named Ai Sweigart having 547 pages,\n",
      "and type of pages is 80gsm Opaque width of book is 7\n",
      "and height is 9\n"
     ]
    }
   ],
   "source": [
    "book3_cm = Book_Cm(\"Automate The Booring Stuff\",\"Ai Sweigart\",\"547\",\"80gsm Opaque\",\"7\",\"9\")\n",
    "print(book3_cm.print_details_cm())"
   ]
  },
  {
   "cell_type": "code",
   "execution_count": 7,
   "id": "c6b9a149",
   "metadata": {},
   "outputs": [],
   "source": [
    "book1_cm.change_generes(\"Data Science\")"
   ]
  },
  {
   "cell_type": "code",
   "execution_count": 8,
   "id": "d929fd81",
   "metadata": {},
   "outputs": [
    {
     "name": "stdout",
     "output_type": "stream",
     "text": [
      "{'book_title_cm': 'Data Science and Machine Learning', 'book_author_cm': 'Dirik P. Kroese', 'book_pages_cm': '513', 'book_page_type_cm': '80gsm Opaque', 'book_width_cm': '7.5', 'book_height_cm': '9.4'}\n"
     ]
    }
   ],
   "source": [
    "print(book1_cm.__dict__)"
   ]
  },
  {
   "cell_type": "code",
   "execution_count": 9,
   "id": "05c356bd",
   "metadata": {},
   "outputs": [
    {
     "name": "stdout",
     "output_type": "stream",
     "text": [
      "{'__module__': '__main__', 'generes_cm': 'Data Science', '__init__': <function Book_Cm.__init__ at 0x7efd702c23a0>, 'change_generes': <classmethod object at 0x7efd702b32b0>, 'print_details_cm': <function Book_Cm.print_details_cm at 0x7efd702c20d0>, '__dict__': <attribute '__dict__' of 'Book_Cm' objects>, '__weakref__': <attribute '__weakref__' of 'Book_Cm' objects>, '__doc__': None}\n"
     ]
    }
   ],
   "source": [
    "print(Book_Cm.__dict__)"
   ]
  },
  {
   "cell_type": "code",
   "execution_count": 10,
   "id": "d85eec85",
   "metadata": {},
   "outputs": [
    {
     "name": "stdout",
     "output_type": "stream",
     "text": [
      "The generes of this book is Data Science has title Data Science and Machine Learning,\n",
      "written by the author named Dirik P. Kroese having 513 pages,\n",
      "and type of pages is 80gsm Opaque width of book is 7.5\n",
      "and height is 9.4\n"
     ]
    }
   ],
   "source": [
    "book1_cm = Book_Cm(\"Data Science and Machine Learning\",\"Dirik P. Kroese\",\"513\",\"80gsm Opaque\",\"7.5\",\"9.4\")\n",
    "print(book1_cm.print_details_cm())"
   ]
  },
  {
   "cell_type": "code",
   "execution_count": 11,
   "id": "222fefd7",
   "metadata": {},
   "outputs": [
    {
     "name": "stdout",
     "output_type": "stream",
     "text": [
      "The generes of this book is Data Science has title Fluent Python,\n",
      "written by the author named Luciano Ramalho having 766 pages,\n",
      "and type of pages is Photo Paper width of book is 8\n",
      "and height is 9\n"
     ]
    }
   ],
   "source": [
    "book2_cm = Book_Cm(\"Fluent Python\",\"Luciano Ramalho\",\"766\",\"Photo Paper\",\"8\",\"9\")\n",
    "print(book2_cm.print_details_cm())"
   ]
  },
  {
   "cell_type": "code",
   "execution_count": 12,
   "id": "b8623fb7",
   "metadata": {},
   "outputs": [
    {
     "name": "stdout",
     "output_type": "stream",
     "text": [
      "The generes of this book is Data Science has title Automate The Booring Stuff,\n",
      "written by the author named Ai Sweigart having 547 pages,\n",
      "and type of pages is 80gsm Opaque width of book is 7\n",
      "and height is 9\n"
     ]
    }
   ],
   "source": [
    "book3_cm = Book_Cm(\"Automate The Booring Stuff\",\"Ai Sweigart\",\"547\",\"80gsm Opaque\",\"7\",\"9\")\n",
    "print(book3_cm.print_details_cm())"
   ]
  },
  {
   "cell_type": "code",
   "execution_count": 28,
   "id": "c4d90d60",
   "metadata": {},
   "outputs": [],
   "source": [
    "# Functions\n",
    "\n",
    "def funcret(num):\n",
    "    if num == 0:\n",
    "        return print\n",
    "    if num == 1:\n",
    "        return sum"
   ]
  },
  {
   "cell_type": "code",
   "execution_count": 30,
   "id": "261bf2fa",
   "metadata": {},
   "outputs": [
    {
     "name": "stdout",
     "output_type": "stream",
     "text": [
      "<built-in function print>\n"
     ]
    }
   ],
   "source": [
    "a = funcret(0)\n",
    "print(a)"
   ]
  },
  {
   "cell_type": "code",
   "execution_count": 32,
   "id": "3c976c3b",
   "metadata": {},
   "outputs": [
    {
     "name": "stdout",
     "output_type": "stream",
     "text": [
      "<built-in function sum>\n"
     ]
    }
   ],
   "source": [
    "a = funcret(1)\n",
    "print(a)"
   ]
  },
  {
   "cell_type": "code",
   "execution_count": 33,
   "id": "48e6c483",
   "metadata": {},
   "outputs": [],
   "source": [
    "def executor(func):\n",
    "    func(\"This is Executor\")"
   ]
  },
  {
   "cell_type": "code",
   "execution_count": 40,
   "id": "991512aa",
   "metadata": {},
   "outputs": [
    {
     "name": "stdout",
     "output_type": "stream",
     "text": [
      "This is Executor\n"
     ]
    }
   ],
   "source": [
    "executor(print)"
   ]
  },
  {
   "cell_type": "code",
   "execution_count": 18,
   "id": "3884c086",
   "metadata": {},
   "outputs": [],
   "source": [
    "# Decorators\n",
    "\n",
    "def inner1(func):\n",
    "    def inner2():\n",
    "        print(\"Before Function Execution\")\n",
    "        func()\n",
    "        print(\"After Function Execution\")\n",
    "    return inner2\n",
    "\n",
    "def function_to_be_used():\n",
    "    print(\"This is inside the function\")"
   ]
  },
  {
   "cell_type": "code",
   "execution_count": 19,
   "id": "90941af6",
   "metadata": {},
   "outputs": [
    {
     "name": "stdout",
     "output_type": "stream",
     "text": [
      "This is inside the function\n"
     ]
    }
   ],
   "source": [
    "function_to_be_used()"
   ]
  },
  {
   "cell_type": "code",
   "execution_count": 22,
   "id": "d40ca3e4",
   "metadata": {},
   "outputs": [],
   "source": [
    "def inner1(func):\n",
    "    def inner2():\n",
    "        print(\"Before Function Execution\")\n",
    "        func()\n",
    "        print(\"After Function Execution\")\n",
    "    return inner2\n",
    "\n",
    "def function_to_be_used():\n",
    "    print(\"This is inside the function\")\n",
    "    \n",
    "function_to_be_used = inner1(function_to_be_used)"
   ]
  },
  {
   "cell_type": "code",
   "execution_count": 23,
   "id": "d81ac8f3",
   "metadata": {},
   "outputs": [
    {
     "name": "stdout",
     "output_type": "stream",
     "text": [
      "Before Function Execution\n",
      "This is inside the function\n",
      "After Function Execution\n"
     ]
    }
   ],
   "source": [
    "function_to_be_used()"
   ]
  },
  {
   "cell_type": "code",
   "execution_count": 26,
   "id": "cef1df7b",
   "metadata": {},
   "outputs": [],
   "source": [
    "def inner1(func):\n",
    "    def inner2():\n",
    "        print(\"Before Execution\")\n",
    "        func()\n",
    "        print(\"After Execution\")\n",
    "    return inner2\n",
    "\n",
    "@inner1\n",
    "def function_to_be_used():\n",
    "    print(\"Inside the function\")\n",
    "    \n",
    "#function_to_be_used = inner1(function_to_be_used)"
   ]
  },
  {
   "cell_type": "code",
   "execution_count": 27,
   "id": "867824a2",
   "metadata": {},
   "outputs": [
    {
     "name": "stdout",
     "output_type": "stream",
     "text": [
      "Before Execution\n",
      "Inside the function\n",
      "After Execution\n"
     ]
    }
   ],
   "source": [
    "function_to_be_used()"
   ]
  }
 ],
 "metadata": {
  "kernelspec": {
   "display_name": "Python 3 (ipykernel)",
   "language": "python",
   "name": "python3"
  },
  "language_info": {
   "codemirror_mode": {
    "name": "ipython",
    "version": 3
   },
   "file_extension": ".py",
   "mimetype": "text/x-python",
   "name": "python",
   "nbconvert_exporter": "python",
   "pygments_lexer": "ipython3",
   "version": "3.9.13"
  }
 },
 "nbformat": 4,
 "nbformat_minor": 5
}
