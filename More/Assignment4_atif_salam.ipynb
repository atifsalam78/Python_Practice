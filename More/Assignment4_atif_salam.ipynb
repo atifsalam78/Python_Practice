{
 "cells": [
  {
   "cell_type": "markdown",
   "id": "dbeb14e1",
   "metadata": {},
   "source": [
    "---\n",
    "\n",
    "## Advanced Regular Expression Assignments\n",
    "\n",
    "### Assignment 1: Extracting Phone Numbers\n",
    "\n",
    "**Raw Text:** \n",
    "Extract all valid Pakistani phone numbers from a given text.\n",
    "\n",
    "**Example:**\n",
    "```\n",
    "Text: Please contact me at 0301-1234567 or 042-35678901 for further details.\n",
    "```\n",
    "\n"
   ]
  },
  {
   "cell_type": "code",
   "execution_count": 1,
   "id": "a3fe6ac2-107a-4ef9-9201-6835277b8685",
   "metadata": {},
   "outputs": [
    {
     "name": "stdout",
     "output_type": "stream",
     "text": [
      "0301-1234567\n",
      "042-35678901\n"
     ]
    }
   ],
   "source": [
    "import re\n",
    "text = \"Please contact me at 0301-1234567 or 042-35678901 for further details.\"\n",
    "pattern = (r\"\\d{3,4}-\\d{7,8}\")\n",
    "contact_num = re.findall(pattern, text)\n",
    "for match in contact_num:\n",
    "    print(match)"
   ]
  },
  {
   "cell_type": "markdown",
   "id": "dd34fb2f",
   "metadata": {},
   "source": [
    "### Assignment 2: Validating Email Addresses\n",
    "\n",
    "**Raw Text:** \n",
    "Validate email addresses according to Pakistani domain extensions (.pk).\n",
    "\n",
    "**Example:**\n",
    "```\n",
    "Text: Contact us at info@example.com or support@domain.pk for assistance.\n",
    "```\n",
    "\n"
   ]
  },
  {
   "cell_type": "code",
   "execution_count": 2,
   "id": "64cf6883",
   "metadata": {},
   "outputs": [
    {
     "name": "stdout",
     "output_type": "stream",
     "text": [
      "support@domain.pk\n"
     ]
    }
   ],
   "source": [
    "import re\n",
    "text = \"Contact us at info@example.com or support@domain.pk for assistance.\"\n",
    "pattern = r'\\b[\\w]+@[\\w]+\\.pk\\b'\n",
    "\n",
    "domain_pk = re.findall(pattern, text)\n",
    "for match in domain_pk:\n",
    "    print(match)"
   ]
  },
  {
   "cell_type": "markdown",
   "id": "0bd2f6f3",
   "metadata": {},
   "source": [
    "### Assignment 3: Extracting CNIC Numbers\n",
    "\n",
    "**Raw Text:** \n",
    "Extract all Pakistani CNIC (Computerized National Identity Card) numbers from a given text.\n",
    "\n",
    "**Example:**\n",
    "```\n",
    "Text: My CNIC is 12345-6789012-3 and another one is 34567-8901234-5.\n",
    "```\n"
   ]
  },
  {
   "cell_type": "code",
   "execution_count": 3,
   "id": "b825834e",
   "metadata": {},
   "outputs": [
    {
     "name": "stdout",
     "output_type": "stream",
     "text": [
      "12345-6789012-3\n",
      "34567-8901234-5\n",
      "34567 8901234 5\n"
     ]
    }
   ],
   "source": [
    "import re\n",
    "text = \"My CNIC is 12345-6789012-3 and another one is 34567-8901234-5, 34567 8901234 5.\"\n",
    "pattern = (r\"\\d+.\\d+.\\d+\")\n",
    "cnic = re.findall(pattern, text)\n",
    "\n",
    "for match in cnic:\n",
    "    print(match)"
   ]
  },
  {
   "cell_type": "markdown",
   "id": "f21a0a2f",
   "metadata": {},
   "source": [
    "\n",
    "### Assignment 4: Identifying Urdu Words\n",
    "\n",
    "**Raw Text:** \n",
    "Identify and extract Urdu words from a mixed English-Urdu text.\n",
    "\n",
    "**Example:**\n",
    "```\n",
    "Text: یہ sentence میں کچھ English words بھی ہیں۔\n",
    "```\n",
    "\n"
   ]
  },
  {
   "cell_type": "code",
   "execution_count": 4,
   "id": "b4263cfb",
   "metadata": {},
   "outputs": [
    {
     "name": "stdout",
     "output_type": "stream",
     "text": [
      "یہ\n",
      "میں\n",
      "کچھ\n",
      "بھی\n",
      "ہیں\n"
     ]
    }
   ],
   "source": [
    "text = \"یہ sentence میں کچھ English words بھی ہیں۔\"\n",
    "\n",
    "pattern = (r\"\\b[\\u0600-\\u06FF]+\\b\")\n",
    "\n",
    "urdu_words = re.findall(pattern, text)\n",
    "\n",
    "for match in urdu_words:\n",
    "    print(match)"
   ]
  },
  {
   "cell_type": "markdown",
   "id": "421405e8",
   "metadata": {},
   "source": [
    "### Assignment 5: Finding Dates\n",
    "\n",
    "**Raw Text:** \n",
    "Find and extract dates in the format DD-MM-YYYY from a given text.\n",
    "\n",
    "**Example:**\n",
    "```\n",
    "Text: The event will take place on 15-08-2023 and 23-09-2023.\n",
    "```\n",
    "\n"
   ]
  },
  {
   "cell_type": "code",
   "execution_count": 5,
   "id": "c2f9d8bf",
   "metadata": {},
   "outputs": [
    {
     "name": "stdout",
     "output_type": "stream",
     "text": [
      "15-08-2023\n",
      "23-09-2023\n",
      "2023\n"
     ]
    }
   ],
   "source": [
    "text = \"The event will take place on 15-08-2023 and 23-09-2023 19 09 2023\"\n",
    "\n",
    "pattern = (r\"\\d{1,2}-?\\d{1,2}-?\\d{2,4}\")\n",
    "\n",
    "date_match = re.findall(pattern, text)\n",
    "\n",
    "for match in date_match:\n",
    "    print(match)"
   ]
  },
  {
   "cell_type": "markdown",
   "id": "6b817815",
   "metadata": {},
   "source": [
    "### Assignment 6: Extracting URLs\n",
    "\n",
    "**Raw Text:** \n",
    "Extract all URLs from a text that belong to Pakistani domains.\n",
    "\n",
    "**Example:**\n",
    "```\n",
    "Text: Visit http://www.example.pk or https://website.com.pk for more information.\n",
    "```\n",
    "\n"
   ]
  },
  {
   "cell_type": "code",
   "execution_count": 6,
   "id": "c2ba10ac",
   "metadata": {},
   "outputs": [
    {
     "name": "stdout",
     "output_type": "stream",
     "text": [
      "http://www.example.pk\n",
      "https://website.com.pk\n"
     ]
    }
   ],
   "source": [
    "text = \"Visit http://www.example.pk or https://website.com.pk for more information.\"\n",
    "pattern = r'\\b[\\w://]+[\\w\\.]+\\.pk\\b'\n",
    "\n",
    "domain_pk = re.findall(pattern, text)\n",
    "\n",
    "for match in domain_pk:\n",
    "    print(match)"
   ]
  },
  {
   "cell_type": "markdown",
   "id": "7ff1dc07",
   "metadata": {},
   "source": [
    "### Assignment 7: Analyzing Currency\n",
    "\n",
    "**Raw Text:** \n",
    "Extract and analyze currency amounts in Pakistani Rupees (PKR) from a given text.\n",
    "\n",
    "**Example:**\n",
    "```\n",
    "Text: The product costs PKR 1500, while the deluxe version is priced at Rs. 2500.\n",
    "```\n",
    "\n"
   ]
  },
  {
   "cell_type": "code",
   "execution_count": 7,
   "id": "28769652",
   "metadata": {},
   "outputs": [
    {
     "name": "stdout",
     "output_type": "stream",
     "text": [
      "1500\n",
      "2500\n"
     ]
    }
   ],
   "source": [
    "text = \"The product costs PKR 1500, while the deluxe version is priced at Rs. 2500.\"\n",
    "\n",
    "pattern = r\"\\d{4,}\"\n",
    "currency = re.findall(pattern, text)\n",
    "for match in currency:\n",
    "    print(match)"
   ]
  },
  {
   "cell_type": "markdown",
   "id": "651c8b5d",
   "metadata": {},
   "source": [
    "### Assignment 8: Removing Punctuation\n",
    "\n",
    "**Raw Text:** \n",
    "Remove all punctuation marks from a text while preserving Urdu characters.\n",
    "\n",
    "**Example:**\n",
    "```\n",
    "Text: کیا! آپ, یہاں؟\n",
    "```\n",
    "\n"
   ]
  },
  {
   "cell_type": "code",
   "execution_count": 9,
   "id": "96350bf0",
   "metadata": {},
   "outputs": [
    {
     "name": "stdout",
     "output_type": "stream",
     "text": [
      "ک ی ا آ پ ی ہ ا ں "
     ]
    }
   ],
   "source": [
    "text = \"کیا! آپ, یہاں؟\"\n",
    "pattern = r\"[\\u0600-\\u06FF]\"\n",
    "remove_punc_urdu = re.findall(pattern, text)\n",
    "\n",
    "for match in remove_punc_urdu:\n",
    "    if match != \"؟\":\n",
    "        print(match, end=\" \")"
   ]
  },
  {
   "cell_type": "markdown",
   "id": "8cc27684",
   "metadata": {},
   "source": [
    "### Assignment 9: Extracting City Names\n",
    "\n",
    "**Raw Text:** \n",
    "Extract names of Pakistani cities from a given text.\n",
    "\n",
    "**Example:**\n",
    "```\n",
    "Text: Lahore, Karachi, Islamabad, and Peshawar are major cities of Pakistan.\n",
    "```\n"
   ]
  },
  {
   "cell_type": "code",
   "execution_count": 9,
   "id": "a81035ed",
   "metadata": {},
   "outputs": [
    {
     "name": "stdout",
     "output_type": "stream",
     "text": [
      "Lahore\n",
      "Karachi\n",
      "Islamabad\n",
      "Peshawar\n"
     ]
    }
   ],
   "source": [
    "text = \"Lahore, Karachi, Islamabad, and Peshawar are major cities of Pakistan.\"\n",
    "pattern = r\"(\\b[A-Z][a-z]+\\b)\"\n",
    "\n",
    "pak_cities = re.findall(pattern, text)\n",
    "\n",
    "for match in pak_cities:\n",
    "    if match != \"Pakistan\":\n",
    "          print(match)"
   ]
  },
  {
   "cell_type": "markdown",
   "id": "219b6c4c",
   "metadata": {},
   "source": [
    "\n",
    "### Assignment 10: Analyzing Vehicle Numbers\n",
    "\n",
    "**Raw Text:** \n",
    "Identify and extract Pakistani vehicle registration numbers (e.g., ABC-123) from a text.\n",
    "\n",
    "**Example:**\n",
    "```\n",
    "Text: I saw a car with the number plate LEA-567 near the market.\n",
    "```"
   ]
  },
  {
   "cell_type": "code",
   "execution_count": 21,
   "id": "33e1e5ba",
   "metadata": {},
   "outputs": [
    {
     "name": "stdout",
     "output_type": "stream",
     "text": [
      "LEA-567\n"
     ]
    }
   ],
   "source": [
    "text = \"I saw a car with the number plate LEA-567 near the market.\"\n",
    "pattern =r\"([A-Z]+-\\d+)\"\n",
    "\n",
    "number_plate = re.findall(pattern, text)\n",
    "\n",
    "for match in number_plate:\n",
    "    print(match)"
   ]
  },
  {
   "cell_type": "code",
   "execution_count": null,
   "id": "9907dbe2-6089-4861-a658-5677471a3a2b",
   "metadata": {},
   "outputs": [],
   "source": []
  }
 ],
 "metadata": {
  "kernelspec": {
   "display_name": "Python 3 (ipykernel)",
   "language": "python",
   "name": "python3"
  },
  "language_info": {
   "codemirror_mode": {
    "name": "ipython",
    "version": 3
   },
   "file_extension": ".py",
   "mimetype": "text/x-python",
   "name": "python",
   "nbconvert_exporter": "python",
   "pygments_lexer": "ipython3",
   "version": "3.9.13"
  }
 },
 "nbformat": 4,
 "nbformat_minor": 5
}
