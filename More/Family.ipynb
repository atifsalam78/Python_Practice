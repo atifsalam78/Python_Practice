{
 "cells": [
  {
   "cell_type": "code",
   "execution_count": 1,
   "id": "a0f8273e",
   "metadata": {},
   "outputs": [
    {
     "name": "stdout",
     "output_type": "stream",
     "text": [
      "Who is that? Atif\n",
      "No Worry Better Luck Next Time, May be Spelling Mistake:\n"
     ]
    }
   ],
   "source": [
    "#Family Tree: Creating family tree for recognizing family members and identify guests and seperate strangers\n",
    "\n",
    "det_a =' '\n",
    "a = input('Who is that? ')\n",
    "if a=='Atif Salam':\n",
    "    print('It\\'s you dude!')\n",
    "    det_a=input('Do you wanted to know more about you? ')\n",
    "    if det_a=='yes':\n",
    "        print('You are 43 years old! ')\n",
    "    else:\n",
    "        print('Ok! Good Bye')\n",
    "elif a=='Faiza Atif':\n",
    "    print('''She's your wife!''')\n",
    "elif a=='Manahil Atif':\n",
    "    print('''She's your elder daughter''')\n",
    "elif a=='Ayesha Atif':\n",
    "    print('''She's your younger daughter''')\n",
    "else:\n",
    "    print('No Worry Better Luck Next Time, May be Spelling Mistake:')"
   ]
  },
  {
   "cell_type": "code",
   "execution_count": null,
   "id": "377debe9",
   "metadata": {},
   "outputs": [],
   "source": []
  },
  {
   "cell_type": "code",
   "execution_count": null,
   "id": "7bf43ea9",
   "metadata": {},
   "outputs": [],
   "source": []
  }
 ],
 "metadata": {
  "kernelspec": {
   "display_name": "Python 3 (ipykernel)",
   "language": "python",
   "name": "python3"
  },
  "language_info": {
   "codemirror_mode": {
    "name": "ipython",
    "version": 3
   },
   "file_extension": ".py",
   "mimetype": "text/x-python",
   "name": "python",
   "nbconvert_exporter": "python",
   "pygments_lexer": "ipython3",
   "version": "3.9.7"
  }
 },
 "nbformat": 4,
 "nbformat_minor": 5
}
