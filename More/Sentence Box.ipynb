{
 "cells": [
  {
   "cell_type": "code",
   "execution_count": null,
   "id": "fa8f5799",
   "metadata": {},
   "outputs": [],
   "source": [
    "sentence = input('Enter Any Sentence: ')\n",
    "screen_width = 80\n",
    "text_width = len(sentence)\n",
    "box_width = text_width + 6\n",
    "left_margin = (screen_width - text_width) // 2\n",
    "\n",
    "print()\n",
    "print(' ' * left_margin + '+'   + '-' * (box_width-2) +   '+')\n",
    "print(' ' * left_margin + '|  ' + ' ' * text_width    + '  |')\n",
    "print(' ' * left_margin + '|  ' +       sentence      + '  |')\n",
    "print(' ' * left_margin + '|  ' + ' ' * text_width    + '  |')\n",
    "print(' ' * left_margin + '+'   + '-' * (box_width-2) +   '+')\n",
    "print()"
   ]
  },
  {
   "cell_type": "code",
   "execution_count": null,
   "id": "1d51d1c7",
   "metadata": {},
   "outputs": [],
   "source": [
    "a = list('Hello')\n",
    "print(a)\n",
    "b = list(reversed(a))\n",
    "print(b)"
   ]
  },
  {
   "cell_type": "code",
   "execution_count": null,
   "id": "4c72e221",
   "metadata": {},
   "outputs": [],
   "source": [
    "''.join(a)"
   ]
  },
  {
   "cell_type": "code",
   "execution_count": null,
   "id": "70696515",
   "metadata": {},
   "outputs": [],
   "source": [
    "''.join(b)"
   ]
  },
  {
   "cell_type": "code",
   "execution_count": null,
   "id": "5896a98f",
   "metadata": {},
   "outputs": [],
   "source": [
    "name = list('perl')\n",
    "name"
   ]
  },
  {
   "cell_type": "code",
   "execution_count": null,
   "id": "f4af35f0",
   "metadata": {},
   "outputs": [],
   "source": [
    "name[2:] = list('ya')"
   ]
  },
  {
   "cell_type": "code",
   "execution_count": null,
   "id": "593c4ac0",
   "metadata": {},
   "outputs": [],
   "source": [
    "name"
   ]
  },
  {
   "cell_type": "code",
   "execution_count": null,
   "id": "bd126d36",
   "metadata": {},
   "outputs": [],
   "source": [
    "list_num = [1,2,3,4,5,6,7,8,9,10]\n",
    "list_num"
   ]
  },
  {
   "cell_type": "code",
   "execution_count": null,
   "id": "192ad6a9",
   "metadata": {},
   "outputs": [],
   "source": [
    "del list_num[2:9]"
   ]
  },
  {
   "cell_type": "code",
   "execution_count": null,
   "id": "839e2df2",
   "metadata": {},
   "outputs": [],
   "source": [
    "print(list_num)"
   ]
  },
  {
   "cell_type": "code",
   "execution_count": null,
   "id": "0d92ea5b",
   "metadata": {},
   "outputs": [],
   "source": [
    "num_list = [1,2,3,4,5,6,7,8,9,10]\n",
    "num_list"
   ]
  },
  {
   "cell_type": "code",
   "execution_count": null,
   "id": "65317be4",
   "metadata": {},
   "outputs": [],
   "source": [
    "num_list[2:9] = []"
   ]
  },
  {
   "cell_type": "code",
   "execution_count": null,
   "id": "3889aef7",
   "metadata": {},
   "outputs": [],
   "source": [
    "num_list"
   ]
  },
  {
   "cell_type": "code",
   "execution_count": null,
   "id": "38d00b9d",
   "metadata": {},
   "outputs": [],
   "source": [
    "list1 = [1,2,3]\n",
    "#list1.clear()"
   ]
  },
  {
   "cell_type": "code",
   "execution_count": null,
   "id": "fc7d8bbc",
   "metadata": {},
   "outputs": [],
   "source": [
    "list1"
   ]
  },
  {
   "cell_type": "code",
   "execution_count": null,
   "id": "b5711f02",
   "metadata": {},
   "outputs": [],
   "source": [
    "list1.clear()"
   ]
  },
  {
   "cell_type": "code",
   "execution_count": null,
   "id": "f3dafed5",
   "metadata": {},
   "outputs": [],
   "source": [
    "list1"
   ]
  },
  {
   "cell_type": "code",
   "execution_count": null,
   "id": "b05b30e9",
   "metadata": {},
   "outputs": [],
   "source": [
    "list2 = [1,2,3]\n",
    "list2"
   ]
  },
  {
   "cell_type": "code",
   "execution_count": null,
   "id": "953f0431",
   "metadata": {},
   "outputs": [],
   "source": [
    "list2[:] = []\n",
    "list2"
   ]
  },
  {
   "cell_type": "code",
   "execution_count": 1,
   "id": "1dad35c6",
   "metadata": {},
   "outputs": [],
   "source": [
    "def calc_sum(n):\n",
    "    if n == 1:\n",
    "        return 1\n",
    "    else:\n",
    "        return n + calc_sum(n-1)"
   ]
  },
  {
   "cell_type": "code",
   "execution_count": 7,
   "id": "a271dafb",
   "metadata": {},
   "outputs": [
    {
     "data": {
      "text/plain": [
       "6"
      ]
     },
     "execution_count": 7,
     "metadata": {},
     "output_type": "execute_result"
    }
   ],
   "source": [
    "calc_sum(3)"
   ]
  },
  {
   "cell_type": "markdown",
   "id": "2020a740",
   "metadata": {},
   "source": [
    "list1"
   ]
  }
 ],
 "metadata": {
  "kernelspec": {
   "display_name": "Python 3 (ipykernel)",
   "language": "python",
   "name": "python3"
  },
  "language_info": {
   "codemirror_mode": {
    "name": "ipython",
    "version": 3
   },
   "file_extension": ".py",
   "mimetype": "text/x-python",
   "name": "python",
   "nbconvert_exporter": "python",
   "pygments_lexer": "ipython3",
   "version": "3.9.7"
  }
 },
 "nbformat": 4,
 "nbformat_minor": 5
}
