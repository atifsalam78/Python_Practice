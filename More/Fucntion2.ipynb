{
 "cells": [
  {
   "cell_type": "code",
   "execution_count": 6,
   "id": "f0ec163c",
   "metadata": {},
   "outputs": [
    {
     "name": "stdout",
     "output_type": "stream",
     "text": [
      "Hello this is just for fun only!\n"
     ]
    }
   ],
   "source": [
    "# Define only function\n",
    "\n",
    "def fun1():\n",
    "    print(\"Hello this is just for fun only!\")\n",
    "    \n",
    "fun1() # Just calling a function  "
   ]
  },
  {
   "cell_type": "code",
   "execution_count": 12,
   "id": "5a2e976b",
   "metadata": {},
   "outputs": [
    {
     "name": "stdout",
     "output_type": "stream",
     "text": [
      "Faiza Atif\n",
      "Manahil Atif\n",
      "Ayesha Atif\n"
     ]
    }
   ],
   "source": [
    "# Defining Function\n",
    "\n",
    "def name1 (fname):\n",
    "    print(fname +\"Atif\")\n",
    "    \n",
    "# Calling Function\n",
    "\n",
    "name1(\"Faiza \")\n",
    "name1(\"Manahil \")\n",
    "name1(\"Ayesha \")"
   ]
  },
  {
   "cell_type": "code",
   "execution_count": 17,
   "id": "4f637e26",
   "metadata": {},
   "outputs": [
    {
     "name": "stdout",
     "output_type": "stream",
     "text": [
      "Atif Salam\n"
     ]
    }
   ],
   "source": [
    "# Defining Function\n",
    "\n",
    "def flname(fname,lname):\n",
    "    print(fname+\" \"+lname)\n",
    "# Calling Function\n",
    "\n",
    "flname(\"Atif\",\"Salam\")"
   ]
  },
  {
   "cell_type": "code",
   "execution_count": 22,
   "id": "d9654bb8",
   "metadata": {},
   "outputs": [
    {
     "name": "stdout",
     "output_type": "stream",
     "text": [
      "I am from Norway\n",
      "I am from Saudia Arabia\n",
      "I am from Afghanistan\n",
      "I am from Pakistan\n"
     ]
    }
   ],
   "source": [
    "# Defining Function\n",
    "\n",
    "def cname(country=\"Pakistan\"):\n",
    "    print(\"I am from \"+country)\n",
    "\n",
    "    # Calling Function\n",
    "\n",
    "cname(\"Norway\")\n",
    "cname(\"Saudia Arabia\")\n",
    "cname(\"Afghanistan\")\n",
    "cname()\n",
    "    "
   ]
  },
  {
   "cell_type": "code",
   "execution_count": 26,
   "id": "d42b7bed",
   "metadata": {},
   "outputs": [
    {
     "name": "stdout",
     "output_type": "stream",
     "text": [
      "The elder child name is: Manahil\n"
     ]
    }
   ],
   "source": [
    "# Definig Fucntion\n",
    "\n",
    "def ykid(*kid):\n",
    "    print(\"The elder child name is: \"+kid[1])\n",
    "    \n",
    "# Calling Function\n",
    "ykid(\"Faiza\",\"Manahil\",\"Ayesha\")"
   ]
  },
  {
   "cell_type": "code",
   "execution_count": 28,
   "id": "5d580636",
   "metadata": {},
   "outputs": [
    {
     "name": "stdout",
     "output_type": "stream",
     "text": [
      "The younger child name is Hashir\n"
     ]
    }
   ],
   "source": [
    "def kid1(child3,child1,child2):\n",
    "    print(\"The younger child name is \"+child3)\n",
    "kid1(child1=\"Manahil\",child2=\"Ayesha\",child3=\"Hashir\")"
   ]
  },
  {
   "cell_type": "code",
   "execution_count": 31,
   "id": "a89f8b24",
   "metadata": {},
   "outputs": [
    {
     "name": "stdout",
     "output_type": "stream",
     "text": [
      "His last name is Salam\n"
     ]
    }
   ],
   "source": [
    "def kid2(**child):\n",
    "    print(\"His last name is \"+child[\"lname2\"])\n",
    "kid2(fname1=\"Atif\",lname2=\"Salam\")"
   ]
  },
  {
   "cell_type": "code",
   "execution_count": 34,
   "id": "ca3e8358",
   "metadata": {},
   "outputs": [
    {
     "name": "stdout",
     "output_type": "stream",
     "text": [
      "Apple\n",
      "Mango\n",
      "Banana\n",
      "Pineapple\n"
     ]
    }
   ],
   "source": [
    "def my_food(food):\n",
    "    for x in food:\n",
    "        print(x)\n",
    "fruits=[\"Apple\",\"Mango\",\"Banana\",'Pineapple']\n",
    "my_food(fruits)"
   ]
  },
  {
   "cell_type": "code",
   "execution_count": 39,
   "id": "2ec20cac",
   "metadata": {},
   "outputs": [
    {
     "name": "stdout",
     "output_type": "stream",
     "text": [
      "15\n",
      "20\n",
      "102.75\n"
     ]
    }
   ],
   "source": [
    "def my_return(x):\n",
    "    return 5*x\n",
    "print(my_return(3))\n",
    "print(my_return(4))\n",
    "print(my_return(20.55))"
   ]
  },
  {
   "cell_type": "code",
   "execution_count": 41,
   "id": "1a7696bd",
   "metadata": {},
   "outputs": [
    {
     "name": "stdout",
     "output_type": "stream",
     "text": [
      "\n",
      "\n",
      "Recursion Example Results\n",
      "1\n",
      "3\n",
      "6\n",
      "10\n",
      "15\n",
      "21\n"
     ]
    },
    {
     "data": {
      "text/plain": [
       "21"
      ]
     },
     "execution_count": 41,
     "metadata": {},
     "output_type": "execute_result"
    }
   ],
   "source": [
    "def tri_recursion(k):\n",
    "    if (k > 0):\n",
    "        result = k + tri_recursion(k-1)\n",
    "        print(result)\n",
    "    else:\n",
    "        result = 0\n",
    "    return result\n",
    "print(\"\\n\\nRecursion Example Results\")\n",
    "tri_recursion(6)"
   ]
  }
 ],
 "metadata": {
  "kernelspec": {
   "display_name": "Python 3 (ipykernel)",
   "language": "python",
   "name": "python3"
  },
  "language_info": {
   "codemirror_mode": {
    "name": "ipython",
    "version": 3
   },
   "file_extension": ".py",
   "mimetype": "text/x-python",
   "name": "python",
   "nbconvert_exporter": "python",
   "pygments_lexer": "ipython3",
   "version": "3.9.7"
  }
 },
 "nbformat": 4,
 "nbformat_minor": 5
}
