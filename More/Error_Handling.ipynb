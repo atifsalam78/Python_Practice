{
 "cells": [
  {
   "cell_type": "code",
   "execution_count": 8,
   "id": "1ed4d31a",
   "metadata": {},
   "outputs": [
    {
     "name": "stdout",
     "output_type": "stream",
     "text": [
      "You can not divide any number by zero!\n"
     ]
    }
   ],
   "source": [
    "#Exception Handling\n",
    "\n",
    "try:\n",
    "    1/0\n",
    "except ZeroDivisionError:\n",
    "    print('You can not divide any number by zero!')"
   ]
  },
  {
   "cell_type": "code",
   "execution_count": 15,
   "id": "9f5da0f7",
   "metadata": {},
   "outputs": [
    {
     "name": "stdout",
     "output_type": "stream",
     "text": [
      "See What happend!\n"
     ]
    }
   ],
   "source": [
    "try:\n",
    "    1/0\n",
    "except :\n",
    "    print('See What happend!')"
   ]
  },
  {
   "cell_type": "code",
   "execution_count": 18,
   "id": "e2710c63",
   "metadata": {},
   "outputs": [
    {
     "name": "stdout",
     "output_type": "stream",
     "text": [
      "String can not be perform arithmetic operations!\n"
     ]
    }
   ],
   "source": [
    "try:\n",
    "    n/0\n",
    "except NameError:\n",
    "    print('String can not be perform arithmetic operations!')"
   ]
  },
  {
   "cell_type": "code",
   "execution_count": 7,
   "id": "f4c1cd10",
   "metadata": {},
   "outputs": [
    {
     "name": "stdout",
     "output_type": "stream",
     "text": [
      "Enter Your Request: a\n",
      "The finaly statement has executed!\n"
     ]
    }
   ],
   "source": [
    "my_dict = {'a':1,'b':2,'c':3,'d':4}\n",
    "\n",
    "try:\n",
    "    value = my_dict[(input('Enter Your Request: '))]\n",
    "\n",
    "except KeyError:\n",
    "    print('This Key Does not Exist!')\n",
    "    \n",
    "finally:\n",
    "    print('The finaly statement has executed!')\n",
    "    "
   ]
  },
  {
   "cell_type": "code",
   "execution_count": 11,
   "id": "3558393c",
   "metadata": {},
   "outputs": [
    {
     "name": "stdout",
     "output_type": "stream",
     "text": [
      "Enter Your Request: 1\n",
      "This Key Does not Exist!\n",
      "The finaly statement has executed!\n"
     ]
    }
   ],
   "source": [
    "your_dict = {'a':1,'b':2,'c':3,'d':4}\n",
    "\n",
    "try:\n",
    "    value = my_dict[(input('Enter Your Request: '))]\n",
    "\n",
    "except KeyError:\n",
    "    print('This Key Does not Exist!')\n",
    "\n",
    "else:\n",
    "    print('No Error occured!')\n",
    "    \n",
    "finally:\n",
    "    print('The finaly statement has executed!')"
   ]
  },
  {
   "cell_type": "code",
   "execution_count": 15,
   "id": "cb10a41d",
   "metadata": {},
   "outputs": [
    {
     "name": "stdout",
     "output_type": "stream",
     "text": [
      "The length of the list is:  4\n",
      "The Code has executed.\n"
     ]
    },
    {
     "ename": "IndexError",
     "evalue": "list index out of range",
     "output_type": "error",
     "traceback": [
      "\u001b[0;31m---------------------------------------------------------------------------\u001b[0m",
      "\u001b[0;31mIndexError\u001b[0m                                Traceback (most recent call last)",
      "\u001b[0;32m/tmp/ipykernel_13971/1557128825.py\u001b[0m in \u001b[0;36m<module>\u001b[0;34m\u001b[0m\n\u001b[1;32m      2\u001b[0m \u001b[0mprint\u001b[0m\u001b[0;34m(\u001b[0m\u001b[0;34m'The length of the list is: '\u001b[0m\u001b[0;34m,\u001b[0m\u001b[0mlen\u001b[0m\u001b[0;34m(\u001b[0m\u001b[0mmy_numbers\u001b[0m\u001b[0;34m)\u001b[0m\u001b[0;34m)\u001b[0m\u001b[0;34m\u001b[0m\u001b[0;34m\u001b[0m\u001b[0m\n\u001b[1;32m      3\u001b[0m \u001b[0mprint\u001b[0m\u001b[0;34m(\u001b[0m\u001b[0;34m'The Code has executed.'\u001b[0m\u001b[0;34m)\u001b[0m\u001b[0;34m\u001b[0m\u001b[0;34m\u001b[0m\u001b[0m\n\u001b[0;32m----> 4\u001b[0;31m \u001b[0mmy_numbers\u001b[0m\u001b[0;34m[\u001b[0m\u001b[0;36m4\u001b[0m\u001b[0;34m]\u001b[0m\u001b[0;34m\u001b[0m\u001b[0;34m\u001b[0m\u001b[0m\n\u001b[0m",
      "\u001b[0;31mIndexError\u001b[0m: list index out of range"
     ]
    }
   ],
   "source": [
    "my_numbers = [1,2,3,4]\n",
    "print('The length of the list is: ',len(my_numbers))\n",
    "print('The Code has executed.')\n",
    "my_numbers[4]"
   ]
  },
  {
   "cell_type": "code",
   "execution_count": 17,
   "id": "082b1c5a",
   "metadata": {},
   "outputs": [
    {
     "name": "stdout",
     "output_type": "stream",
     "text": [
      "The length of the list is:  4\n",
      "The index you used in invalid or out of range\n",
      "The code is executed\n"
     ]
    }
   ],
   "source": [
    "my_numbers = [1,2,3,4]\n",
    "\n",
    "print('The length of the list is: ',len(my_numbers))\n",
    "\n",
    "try:\n",
    "    my_numbers[4]\n",
    "    \n",
    "except IndexError:\n",
    "    \n",
    "    print('The index you used in invalid or out of range')\n",
    "    \n",
    "print('The code is executed')"
   ]
  },
  {
   "cell_type": "code",
   "execution_count": 24,
   "id": "04f9d4a8",
   "metadata": {},
   "outputs": [
    {
     "name": "stdout",
     "output_type": "stream",
     "text": [
      "Enter Your First Number: 1\n",
      "Enter Your Second Number: 2\n"
     ]
    },
    {
     "ename": "TypeError",
     "evalue": "unsupported operand type(s) for /: 'str' and 'str'",
     "output_type": "error",
     "traceback": [
      "\u001b[0;31m---------------------------------------------------------------------------\u001b[0m",
      "\u001b[0;31mTypeError\u001b[0m                                 Traceback (most recent call last)",
      "\u001b[0;32m/tmp/ipykernel_13971/3285638885.py\u001b[0m in \u001b[0;36m<module>\u001b[0;34m\u001b[0m\n\u001b[1;32m      2\u001b[0m \u001b[0my\u001b[0m \u001b[0;34m=\u001b[0m \u001b[0minput\u001b[0m\u001b[0;34m(\u001b[0m\u001b[0;34m'Enter Your Second Number: '\u001b[0m\u001b[0;34m)\u001b[0m\u001b[0;34m\u001b[0m\u001b[0;34m\u001b[0m\u001b[0m\n\u001b[1;32m      3\u001b[0m \u001b[0;34m\u001b[0m\u001b[0m\n\u001b[0;32m----> 4\u001b[0;31m \u001b[0mprint\u001b[0m\u001b[0;34m(\u001b[0m\u001b[0mx\u001b[0m\u001b[0;34m/\u001b[0m\u001b[0my\u001b[0m\u001b[0;34m)\u001b[0m\u001b[0;34m\u001b[0m\u001b[0;34m\u001b[0m\u001b[0m\n\u001b[0m",
      "\u001b[0;31mTypeError\u001b[0m: unsupported operand type(s) for /: 'str' and 'str'"
     ]
    }
   ],
   "source": [
    "x = input('Enter Your First Number: ')\n",
    "y = input('Enter Your Second Number: ')\n",
    "\n",
    "print(x/y)"
   ]
  },
  {
   "cell_type": "code",
   "execution_count": 25,
   "id": "01b175d9",
   "metadata": {},
   "outputs": [
    {
     "name": "stdout",
     "output_type": "stream",
     "text": [
      "Enter Your First Number: 1\n",
      "Enter Your Second Number: 2\n",
      "Can not perform arthimetic operations on strings\n"
     ]
    }
   ],
   "source": [
    "x = input('Enter Your First Number: ')\n",
    "y = input('Enter Your Second Number: ')\n",
    "\n",
    "try:\n",
    "    print(x/y)\n",
    "    \n",
    "except TypeError:\n",
    "    \n",
    "    print('Can not perform arthimetic operations on strings')"
   ]
  },
  {
   "cell_type": "code",
   "execution_count": 26,
   "id": "36eb4da0",
   "metadata": {},
   "outputs": [
    {
     "name": "stdout",
     "output_type": "stream",
     "text": [
      "Enter Your First Number: 1\n",
      "Enter Your Second Number: 0\n"
     ]
    },
    {
     "ename": "ZeroDivisionError",
     "evalue": "division by zero",
     "output_type": "error",
     "traceback": [
      "\u001b[0;31m---------------------------------------------------------------------------\u001b[0m",
      "\u001b[0;31mZeroDivisionError\u001b[0m                         Traceback (most recent call last)",
      "\u001b[0;32m/tmp/ipykernel_13971/944760614.py\u001b[0m in \u001b[0;36m<module>\u001b[0;34m\u001b[0m\n\u001b[1;32m      3\u001b[0m \u001b[0;34m\u001b[0m\u001b[0m\n\u001b[1;32m      4\u001b[0m \u001b[0;34m\u001b[0m\u001b[0m\n\u001b[0;32m----> 5\u001b[0;31m \u001b[0mprint\u001b[0m\u001b[0;34m(\u001b[0m\u001b[0mx\u001b[0m\u001b[0;34m/\u001b[0m\u001b[0my\u001b[0m\u001b[0;34m)\u001b[0m\u001b[0;34m\u001b[0m\u001b[0;34m\u001b[0m\u001b[0m\n\u001b[0m",
      "\u001b[0;31mZeroDivisionError\u001b[0m: division by zero"
     ]
    }
   ],
   "source": [
    "x = int(input('Enter Your First Number: '))\n",
    "y = int(input('Enter Your Second Number: '))\n",
    "\n",
    "\n",
    "print(x/y)"
   ]
  },
  {
   "cell_type": "code",
   "execution_count": 30,
   "id": "5050e13c",
   "metadata": {},
   "outputs": [
    {
     "name": "stdout",
     "output_type": "stream",
     "text": [
      "Enter Your First Number: 1\n",
      "Enter Your Second Number: 0\n",
      "Can not divide by zero!\n"
     ]
    }
   ],
   "source": [
    "x = int(input('Enter Your First Number: '))\n",
    "y = int(input('Enter Your Second Number: '))\n",
    "\n",
    "try:\n",
    "    print(x/y)\n",
    "except ZeroDivisionError:\n",
    "    print('Can not divide by zero!')"
   ]
  },
  {
   "cell_type": "code",
   "execution_count": 1,
   "id": "ac49d818",
   "metadata": {},
   "outputs": [
    {
     "data": {
      "text/plain": [
       "'Æ'"
      ]
     },
     "execution_count": 1,
     "metadata": {},
     "output_type": "execute_result"
    }
   ],
   "source": [
    "\"\\u00C6\""
   ]
  },
  {
   "cell_type": "code",
   "execution_count": 4,
   "id": "aaef9eb1",
   "metadata": {},
   "outputs": [
    {
     "data": {
      "text/plain": [
       "'😊'"
      ]
     },
     "execution_count": 4,
     "metadata": {},
     "output_type": "execute_result"
    }
   ],
   "source": [
    "\"\\U0001F60A\""
   ]
  },
  {
   "cell_type": "code",
   "execution_count": 5,
   "id": "27ad2899",
   "metadata": {},
   "outputs": [
    {
     "data": {
      "text/plain": [
       "'This is a cat: 🐈'"
      ]
     },
     "execution_count": 5,
     "metadata": {},
     "output_type": "execute_result"
    }
   ],
   "source": [
    "\"This is a cat: \\N{Cat}\""
   ]
  },
  {
   "cell_type": "code",
   "execution_count": 8,
   "id": "802a88c2",
   "metadata": {},
   "outputs": [
    {
     "data": {
      "text/plain": [
       "'o'"
      ]
     },
     "execution_count": 8,
     "metadata": {},
     "output_type": "execute_result"
    }
   ],
   "source": [
    "greeting = 'Hello'\n",
    "greeting[-1]"
   ]
  }
 ],
 "metadata": {
  "kernelspec": {
   "display_name": "Python 3 (ipykernel)",
   "language": "python",
   "name": "python3"
  },
  "language_info": {
   "codemirror_mode": {
    "name": "ipython",
    "version": 3
   },
   "file_extension": ".py",
   "mimetype": "text/x-python",
   "name": "python",
   "nbconvert_exporter": "python",
   "pygments_lexer": "ipython3",
   "version": "3.9.7"
  }
 },
 "nbformat": 4,
 "nbformat_minor": 5
}
