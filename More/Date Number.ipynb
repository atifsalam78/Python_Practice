{
 "cells": [
  {
   "cell_type": "code",
   "execution_count": 35,
   "id": "4b480533",
   "metadata": {},
   "outputs": [
    {
     "name": "stdout",
     "output_type": "stream",
     "text": [
      "Year: 2022\n",
      "Month (1-12): 5\n",
      "Day (1-31): 25\n",
      "May 25th 2022\n"
     ]
    }
   ],
   "source": [
    "# Print out Date, given year, month, and day as numbers\n",
    "\n",
    "months = [\n",
    "    'January','Febraury','March','April','May','June','July',\n",
    "    'August','September','October','November','December'\n",
    "]\n",
    "\n",
    "# A list with one ending for each number from 1 to 31\n",
    "\n",
    "endings = ['st','nd','rd'] + 17 * ['th'] \\\n",
    "        + ['st','nd','rd'] + 7 * ['th'] \\\n",
    "        + ['st']\n",
    "\n",
    "# Taking input from user\n",
    "\n",
    "year = input('Year: ')\n",
    "month = input('Month (1-12): ')\n",
    "day = input('Day (1-31): ')\n",
    "\n",
    "# Converting Month and Day into integer\n",
    "\n",
    "month_number = int(month)\n",
    "day_number = int(day)\n",
    "\n",
    "# Subtract 1 from Month and Day to get a correct indexing\n",
    "\n",
    "month_name = months[month_number-1]\n",
    "ordinal = day + endings[day_number-1]\n",
    "\n",
    "print(month_name + ' ' + ordinal + ' ' + year)\n"
   ]
  },
  {
   "cell_type": "code",
   "execution_count": null,
   "id": "072c8635",
   "metadata": {},
   "outputs": [],
   "source": []
  },
  {
   "cell_type": "code",
   "execution_count": null,
   "id": "fdfac3dc",
   "metadata": {},
   "outputs": [],
   "source": []
  },
  {
   "cell_type": "code",
   "execution_count": null,
   "id": "2f675fc4",
   "metadata": {},
   "outputs": [],
   "source": []
  }
 ],
 "metadata": {
  "kernelspec": {
   "display_name": "Python 3 (ipykernel)",
   "language": "python",
   "name": "python3"
  },
  "language_info": {
   "codemirror_mode": {
    "name": "ipython",
    "version": 3
   },
   "file_extension": ".py",
   "mimetype": "text/x-python",
   "name": "python",
   "nbconvert_exporter": "python",
   "pygments_lexer": "ipython3",
   "version": "3.9.7"
  }
 },
 "nbformat": 4,
 "nbformat_minor": 5
}
