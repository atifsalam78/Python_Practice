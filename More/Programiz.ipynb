{
 "cells": [
  {
   "cell_type": "code",
   "execution_count": 6,
   "id": "edaac6fb",
   "metadata": {},
   "outputs": [
    {
     "name": "stdout",
     "output_type": "stream",
     "text": [
      "Enter Number1: -9\n",
      "Enter Number2: -8\n",
      "Enter Number3: -7\n",
      "The Largest Number is:  -7\n"
     ]
    }
   ],
   "source": [
    "# Finding the Largest Number\n",
    "\n",
    "num1 = int(input('Enter Number1: '))\n",
    "num2 = int(input('Enter Number2: '))\n",
    "num3 = int(input('Enter Number3: '))\n",
    "if (num1 >= num2) and (num1 >= num3):\n",
    "    largest = num1\n",
    "elif (num2 >= num1) and (num2 >= num3):\n",
    "    largest = num2\n",
    "else:\n",
    "    largest = num3\n",
    "print('The Largest Number is: ',largest)"
   ]
  },
  {
   "cell_type": "code",
   "execution_count": 13,
   "id": "87797b75",
   "metadata": {},
   "outputs": [
    {
     "name": "stdout",
     "output_type": "stream",
     "text": [
      "Enter Year: 1900\n",
      "1900 is not a leap year\n"
     ]
    }
   ],
   "source": [
    "'''Check Leap Year\n",
    "A Leap year is excatly divisble by 4 except for century years(i.e. years ending with 00).\n",
    "The century year is a leap year only if it is perfectly divisible by 400. For Example,\n",
    "2017 is not a leap year\n",
    "1900 is not a leap year\n",
    "2012 is a leap year\n",
    "2000 is a leap year'''\n",
    "\n",
    "year = int(input('Enter Year: '))\n",
    "\n",
    "if (year % 4) == 0:\n",
    "    if (year % 100) == 0:\n",
    "        if (year % 400) == 0:\n",
    "            print(year, 'is a leap year')\n",
    "    \n",
    "        else:\n",
    "            print(year, 'is not a leap year')\n",
    "    else:\n",
    "        print(year,'is a leap year')\n",
    "else:\n",
    "    print(year,'is not a leap year')\n"
   ]
  }
 ],
 "metadata": {
  "kernelspec": {
   "display_name": "Python 3 (ipykernel)",
   "language": "python",
   "name": "python3"
  },
  "language_info": {
   "codemirror_mode": {
    "name": "ipython",
    "version": 3
   },
   "file_extension": ".py",
   "mimetype": "text/x-python",
   "name": "python",
   "nbconvert_exporter": "python",
   "pygments_lexer": "ipython3",
   "version": "3.9.7"
  }
 },
 "nbformat": 4,
 "nbformat_minor": 5
}
