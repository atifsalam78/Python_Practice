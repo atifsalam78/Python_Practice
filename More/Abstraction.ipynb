{
 "cells": [
  {
   "cell_type": "code",
   "execution_count": null,
   "id": "677468ac",
   "metadata": {},
   "outputs": [],
   "source": [
    "storage = {}\n",
    "storage['first'] = {}\n",
    "storage['middle'] = {}\n",
    "storage['last'] = {}"
   ]
  },
  {
   "cell_type": "code",
   "execution_count": null,
   "id": "0e8116db",
   "metadata": {},
   "outputs": [],
   "source": [
    "me = 'Magnus Lie Hetland'\n",
    "storage['first']['Magnus'] = [me]\n",
    "storage['middle']['Lie'] = [me]\n",
    "storage['last']['Hetland'] = [me]"
   ]
  },
  {
   "cell_type": "code",
   "execution_count": null,
   "id": "cd8bb474",
   "metadata": {},
   "outputs": [],
   "source": [
    "storage['middle']['Lie']"
   ]
  },
  {
   "cell_type": "code",
   "execution_count": null,
   "id": "59f47f3b",
   "metadata": {},
   "outputs": [],
   "source": [
    "my_sister = 'Anne Lie Hetland'\n",
    "storage['first'].setdefault('Anne',[]).append(my_sister)\n",
    "storage['middle'].setdefault('Lie', []).append(my_sister)\n",
    "storage['last'].setdefault('Hetland', []).append(my_sister)"
   ]
  },
  {
   "cell_type": "code",
   "execution_count": null,
   "id": "7674584f",
   "metadata": {},
   "outputs": [],
   "source": [
    "storage['first']['Anne']"
   ]
  },
  {
   "cell_type": "code",
   "execution_count": null,
   "id": "8a7d12ba",
   "metadata": {},
   "outputs": [],
   "source": [
    "storage['middle']['Lie']"
   ]
  },
  {
   "cell_type": "code",
   "execution_count": null,
   "id": "c6361cab",
   "metadata": {},
   "outputs": [],
   "source": [
    "def init(data):\n",
    "    data['first'] = {}\n",
    "    data['middle'] = {}\n",
    "    data['last'] = {}"
   ]
  },
  {
   "cell_type": "code",
   "execution_count": null,
   "id": "4639e52b",
   "metadata": {},
   "outputs": [],
   "source": [
    "storage = {}\n",
    "init(storage)\n",
    "storage"
   ]
  },
  {
   "cell_type": "code",
   "execution_count": null,
   "id": "8d665035",
   "metadata": {},
   "outputs": [],
   "source": [
    "def lookup(data,label,name):\n",
    "    return data[label].get(name)"
   ]
  },
  {
   "cell_type": "code",
   "execution_count": null,
   "id": "68639279",
   "metadata": {},
   "outputs": [],
   "source": [
    "lookup(storage,'middle','Lie')"
   ]
  },
  {
   "cell_type": "code",
   "execution_count": null,
   "id": "7439669f",
   "metadata": {},
   "outputs": [],
   "source": [
    "def store(data,full_name):\n",
    "    names = full_name.split()\n",
    "    if len(names) == 2: names.insert(1,'')\n",
    "    labels = 'first','middle','last'\n",
    "    \n",
    "    for label, name in zip(labels, names):\n",
    "        people = lookup(data, label, name)\n",
    "        if people:\n",
    "            people.append(full_name)\n",
    "        else:\n",
    "            data[label][name] = [full_name]"
   ]
  },
  {
   "cell_type": "code",
   "execution_count": null,
   "id": "f8675215",
   "metadata": {},
   "outputs": [],
   "source": [
    "MyNames = {}\n",
    "init(MyNames)\n",
    "store(MyNames, 'Magnus Lie Hetland')\n",
    "lookup(MyNames,'middle','Lie')"
   ]
  },
  {
   "cell_type": "code",
   "execution_count": null,
   "id": "28fe5e86",
   "metadata": {},
   "outputs": [],
   "source": [
    "store(MyNames, 'Robin Hood')\n",
    "store(MyNames,'Robin Locksley')"
   ]
  },
  {
   "cell_type": "code",
   "execution_count": null,
   "id": "330802ec",
   "metadata": {},
   "outputs": [],
   "source": [
    "lookup(MyNames,'first','Robin')"
   ]
  },
  {
   "cell_type": "code",
   "execution_count": null,
   "id": "68629322",
   "metadata": {},
   "outputs": [],
   "source": [
    "store(MyNames,'Mr. Gumby')"
   ]
  },
  {
   "cell_type": "code",
   "execution_count": null,
   "id": "0b3a6860",
   "metadata": {},
   "outputs": [],
   "source": [
    "lookup(MyNames,'middle','')"
   ]
  },
  {
   "cell_type": "code",
   "execution_count": null,
   "id": "71481340",
   "metadata": {},
   "outputs": [],
   "source": [
    "def inc(x): return x + 1\n",
    "foo = 10\n",
    "foo = inc(foo)\n",
    "foo"
   ]
  },
  {
   "cell_type": "code",
   "execution_count": null,
   "id": "ee8f3243",
   "metadata": {},
   "outputs": [],
   "source": [
    "def inc(x): x[0] = x[0] + 1\n",
    "foo = [10]\n",
    "inc(foo)\n",
    "foo"
   ]
  },
  {
   "cell_type": "code",
   "execution_count": null,
   "id": "275ff0cf",
   "metadata": {},
   "outputs": [],
   "source": [
    "def hello_1(greeting, name):\n",
    "    print('{},{}!'.format(greeting, name))\n",
    "def hello_2(name, greeting):\n",
    "    print('{},{}!'.format(name, greeting))"
   ]
  },
  {
   "cell_type": "code",
   "execution_count": null,
   "id": "7afeb889",
   "metadata": {},
   "outputs": [],
   "source": [
    "hello_1('hello','world')"
   ]
  },
  {
   "cell_type": "code",
   "execution_count": null,
   "id": "b8014770",
   "metadata": {},
   "outputs": [],
   "source": [
    "hello_2('Hello','World')"
   ]
  },
  {
   "cell_type": "code",
   "execution_count": null,
   "id": "a20f832a",
   "metadata": {},
   "outputs": [],
   "source": [
    "hello_1(greeting='Hello', name='World')"
   ]
  },
  {
   "cell_type": "code",
   "execution_count": null,
   "id": "b176ea47",
   "metadata": {},
   "outputs": [],
   "source": [
    "hello_1(name='World', greeting='Hello')"
   ]
  },
  {
   "cell_type": "code",
   "execution_count": null,
   "id": "36ae0353",
   "metadata": {},
   "outputs": [],
   "source": [
    "hello_2(name='world',greeting='hello')"
   ]
  },
  {
   "cell_type": "code",
   "execution_count": null,
   "id": "ae7d24a4",
   "metadata": {},
   "outputs": [],
   "source": [
    "store('Mr. Brainsample',10, 20, 13, 5)"
   ]
  },
  {
   "cell_type": "code",
   "execution_count": null,
   "id": "07ce4a8b",
   "metadata": {},
   "outputs": [],
   "source": [
    "def hello_3(greeting='Hello', name ='World'):\n",
    "    print('{},{}!'.format(greeting, name))"
   ]
  },
  {
   "cell_type": "code",
   "execution_count": null,
   "id": "935e7703",
   "metadata": {},
   "outputs": [],
   "source": [
    "hello_3()"
   ]
  },
  {
   "cell_type": "code",
   "execution_count": null,
   "id": "25b99b08",
   "metadata": {},
   "outputs": [],
   "source": [
    "hello_3('Greetings')"
   ]
  },
  {
   "cell_type": "code",
   "execution_count": null,
   "id": "cfd6c40f",
   "metadata": {},
   "outputs": [],
   "source": [
    "hello_3('Greeting','Universe')"
   ]
  },
  {
   "cell_type": "code",
   "execution_count": null,
   "id": "badb18e9",
   "metadata": {},
   "outputs": [],
   "source": [
    "hello_3(name='Gumby')"
   ]
  },
  {
   "cell_type": "code",
   "execution_count": null,
   "id": "aec8b594",
   "metadata": {},
   "outputs": [],
   "source": [
    "def hello_4(name, greeting = 'Hello', punctuation ='!'):\n",
    "    print('{}, {}{}'.format(greeting, name, punctuation))"
   ]
  },
  {
   "cell_type": "code",
   "execution_count": null,
   "id": "b7cefd7e",
   "metadata": {},
   "outputs": [],
   "source": [
    "hello_4('Mars')"
   ]
  },
  {
   "cell_type": "code",
   "execution_count": null,
   "id": "0920f2c2",
   "metadata": {},
   "outputs": [],
   "source": [
    "hello_4('Mars', 'Howdy')"
   ]
  },
  {
   "cell_type": "code",
   "execution_count": null,
   "id": "6810c479",
   "metadata": {},
   "outputs": [],
   "source": [
    "hello_4('Mars', 'Howdy','...')"
   ]
  },
  {
   "cell_type": "code",
   "execution_count": null,
   "id": "ba26e9e2",
   "metadata": {},
   "outputs": [],
   "source": [
    "hello_4('Mars','Howdy','.')"
   ]
  },
  {
   "cell_type": "code",
   "execution_count": null,
   "id": "e09709da",
   "metadata": {},
   "outputs": [],
   "source": [
    "hello_4('Mars', greeting = 'Top of the morning to ya')"
   ]
  },
  {
   "cell_type": "code",
   "execution_count": null,
   "id": "2adaa099",
   "metadata": {},
   "outputs": [],
   "source": [
    "hello_4('Atif')"
   ]
  },
  {
   "cell_type": "code",
   "execution_count": null,
   "id": "a5716276",
   "metadata": {},
   "outputs": [],
   "source": [
    "hello_4()"
   ]
  },
  {
   "cell_type": "code",
   "execution_count": null,
   "id": "f4d5b1d4",
   "metadata": {},
   "outputs": [],
   "source": [
    "def print_params(*params):\n",
    "    print(params)"
   ]
  },
  {
   "cell_type": "code",
   "execution_count": null,
   "id": "8e8c5f6c",
   "metadata": {},
   "outputs": [],
   "source": [
    "print_params('Testing')"
   ]
  },
  {
   "cell_type": "code",
   "execution_count": null,
   "id": "5d81958c",
   "metadata": {},
   "outputs": [],
   "source": [
    "print_params(1,2,3)"
   ]
  },
  {
   "cell_type": "code",
   "execution_count": null,
   "id": "9031e1c8",
   "metadata": {},
   "outputs": [],
   "source": [
    "def print_params_2(title,*params):\n",
    "    print(title)\n",
    "    print(params)"
   ]
  },
  {
   "cell_type": "code",
   "execution_count": null,
   "id": "b19bbb00",
   "metadata": {},
   "outputs": [],
   "source": [
    "print_params_2('Params:',1,2,3)"
   ]
  },
  {
   "cell_type": "code",
   "execution_count": null,
   "id": "158ca956",
   "metadata": {},
   "outputs": [],
   "source": [
    "print_params_2('Nothing:')"
   ]
  },
  {
   "cell_type": "code",
   "execution_count": null,
   "id": "eb5afd72",
   "metadata": {},
   "outputs": [],
   "source": [
    "def in_the_middle(x,*y,z):\n",
    "    print(x,y,z)"
   ]
  },
  {
   "cell_type": "code",
   "execution_count": null,
   "id": "497348a9",
   "metadata": {},
   "outputs": [],
   "source": [
    "in_the_middle(1,2,3,4,5,z=7)"
   ]
  },
  {
   "cell_type": "code",
   "execution_count": null,
   "id": "d992f338",
   "metadata": {},
   "outputs": [],
   "source": [
    "in_the_middle(1,2,3,4,5,7)"
   ]
  },
  {
   "cell_type": "code",
   "execution_count": null,
   "id": "1fb1712c",
   "metadata": {},
   "outputs": [],
   "source": [
    "in_the_middle(1,2,3,4,5,7,z = 8)"
   ]
  },
  {
   "cell_type": "code",
   "execution_count": null,
   "id": "3a9c77e3",
   "metadata": {},
   "outputs": [],
   "source": [
    "print_params_2('Hmm...',something=42)"
   ]
  },
  {
   "cell_type": "code",
   "execution_count": null,
   "id": "7a7a7a48",
   "metadata": {},
   "outputs": [],
   "source": [
    "print_params_2('Hmmm...',42)"
   ]
  },
  {
   "cell_type": "code",
   "execution_count": null,
   "id": "1a8ade0f",
   "metadata": {},
   "outputs": [],
   "source": [
    "def print_params_3(**params):\n",
    "    print(params)"
   ]
  },
  {
   "cell_type": "code",
   "execution_count": null,
   "id": "a43d6e1f",
   "metadata": {},
   "outputs": [],
   "source": [
    "print_params_3(x=1, y=2, z=3)"
   ]
  },
  {
   "cell_type": "code",
   "execution_count": null,
   "id": "9067ef8d",
   "metadata": {},
   "outputs": [],
   "source": [
    "def print_params_4(x, y, z=3, *pospar, **keypar):\n",
    "    print(x,y,z)\n",
    "    print(pospar)\n",
    "    print(keypar)"
   ]
  },
  {
   "cell_type": "code",
   "execution_count": null,
   "id": "13098295",
   "metadata": {},
   "outputs": [],
   "source": [
    "print_params_4(1,2,3,5,6,7, foo=1, bar=2)"
   ]
  },
  {
   "cell_type": "code",
   "execution_count": null,
   "id": "d6d3ef23",
   "metadata": {},
   "outputs": [],
   "source": [
    "print_params_4(1,2)"
   ]
  },
  {
   "cell_type": "code",
   "execution_count": null,
   "id": "5ad44990",
   "metadata": {},
   "outputs": [],
   "source": [
    "def store(data, *full_names):\n",
    "    for full_name in full_names:\n",
    "        names = full_name.split()\n",
    "        if len(names) == 2: names.insert(1,'')\n",
    "        labels = 'first', 'middle', 'last'\n",
    "        for label, name in zip(labels, names):\n",
    "            people = lookup(data, label, name)\n",
    "            if people:\n",
    "                people.append(full_name)\n",
    "            else:\n",
    "                data[label][name] = [full_name]"
   ]
  },
  {
   "cell_type": "code",
   "execution_count": null,
   "id": "1689c7ec",
   "metadata": {},
   "outputs": [],
   "source": [
    "d = {}\n",
    "init(d)\n",
    "store(d, 'Han Solo')"
   ]
  },
  {
   "cell_type": "code",
   "execution_count": null,
   "id": "26eb3427",
   "metadata": {},
   "outputs": [],
   "source": [
    "def inc(x): return x + 1"
   ]
  },
  {
   "cell_type": "code",
   "execution_count": null,
   "id": "4a46ab28",
   "metadata": {},
   "outputs": [],
   "source": [
    "foo = 10"
   ]
  },
  {
   "cell_type": "code",
   "execution_count": null,
   "id": "4cdeb3ee",
   "metadata": {},
   "outputs": [],
   "source": [
    "foo = inc(foo)"
   ]
  },
  {
   "cell_type": "code",
   "execution_count": null,
   "id": "c2d94a39",
   "metadata": {},
   "outputs": [],
   "source": [
    "foo"
   ]
  },
  {
   "cell_type": "code",
   "execution_count": null,
   "id": "709c3232",
   "metadata": {},
   "outputs": [],
   "source": [
    "def inc(x): x[0] = x[0] + 1"
   ]
  },
  {
   "cell_type": "code",
   "execution_count": null,
   "id": "306a7413",
   "metadata": {},
   "outputs": [],
   "source": [
    "foo = [12]"
   ]
  },
  {
   "cell_type": "code",
   "execution_count": null,
   "id": "3f4ff177",
   "metadata": {},
   "outputs": [],
   "source": [
    "inc(foo)"
   ]
  },
  {
   "cell_type": "code",
   "execution_count": null,
   "id": "9fbd3298",
   "metadata": {},
   "outputs": [],
   "source": [
    "foo"
   ]
  },
  {
   "cell_type": "code",
   "execution_count": null,
   "id": "1df4167a",
   "metadata": {},
   "outputs": [],
   "source": [
    "def hello_1(greeting, name):\n",
    "    print('{}, {}!'.format(greeting, name))"
   ]
  },
  {
   "cell_type": "code",
   "execution_count": null,
   "id": "b064aee6",
   "metadata": {},
   "outputs": [],
   "source": [
    "hello_1('Hello','Atif')"
   ]
  },
  {
   "cell_type": "code",
   "execution_count": null,
   "id": "84c140cc",
   "metadata": {},
   "outputs": [],
   "source": [
    "def hello_2(name, greeting):\n",
    "    print('{}, {}!'.format(name, greeting))"
   ]
  },
  {
   "cell_type": "code",
   "execution_count": null,
   "id": "e4673201",
   "metadata": {},
   "outputs": [],
   "source": [
    "hello_2('Hello','Atif Salam')"
   ]
  },
  {
   "cell_type": "code",
   "execution_count": null,
   "id": "9b04d012",
   "metadata": {},
   "outputs": [],
   "source": [
    "hello_1(greeting = 'Hello', name = 'Atif Salam')"
   ]
  },
  {
   "cell_type": "code",
   "execution_count": null,
   "id": "7ef0d8fd",
   "metadata": {},
   "outputs": [],
   "source": [
    "hello_1(name ='Atif Salam', greeting = 'Hello')"
   ]
  },
  {
   "cell_type": "code",
   "execution_count": null,
   "id": "5703558e",
   "metadata": {},
   "outputs": [],
   "source": [
    "hello_2(greeting = 'Hello', name = 'Atif Salam')"
   ]
  },
  {
   "cell_type": "code",
   "execution_count": null,
   "id": "7fd1eec6",
   "metadata": {},
   "outputs": [],
   "source": [
    "def hello_3(greeting = 'Hello', name = 'Atif Salam'):\n",
    "    print('{}, {}!'.format(greeting, name))"
   ]
  },
  {
   "cell_type": "code",
   "execution_count": null,
   "id": "cdf337cf",
   "metadata": {},
   "outputs": [],
   "source": [
    "hello_3()"
   ]
  },
  {
   "cell_type": "code",
   "execution_count": null,
   "id": "eb8843be",
   "metadata": {},
   "outputs": [],
   "source": [
    "hello_3('Greetings')"
   ]
  },
  {
   "cell_type": "code",
   "execution_count": null,
   "id": "3df3f09b",
   "metadata": {},
   "outputs": [],
   "source": [
    "hello_3('Greetings', 'Universe')"
   ]
  },
  {
   "cell_type": "code",
   "execution_count": null,
   "id": "91d957c3",
   "metadata": {},
   "outputs": [],
   "source": [
    "def hello_4(name, greeting='Hello', punctutation='!'):\n",
    "    print('{}, {}{}'.format(greeting, name, punctutation))"
   ]
  },
  {
   "cell_type": "code",
   "execution_count": null,
   "id": "9848fb71",
   "metadata": {},
   "outputs": [],
   "source": [
    "hello_4('Mars', 'Howdy')"
   ]
  },
  {
   "cell_type": "code",
   "execution_count": null,
   "id": "798fe37b",
   "metadata": {},
   "outputs": [],
   "source": [
    "hello_4('Mars','Howdy','...')"
   ]
  },
  {
   "cell_type": "code",
   "execution_count": null,
   "id": "cb8a07e4",
   "metadata": {},
   "outputs": [],
   "source": [
    "hello_4('Mars', punctutation='.')"
   ]
  },
  {
   "cell_type": "code",
   "execution_count": null,
   "id": "5842e8d9",
   "metadata": {},
   "outputs": [],
   "source": [
    "hello_4() #If I had given name a default value as well, this example wouldn't have raised exception"
   ]
  },
  {
   "cell_type": "code",
   "execution_count": null,
   "id": "c8cce53e",
   "metadata": {},
   "outputs": [],
   "source": [
    "def print_params(*params):\n",
    "    print(params)"
   ]
  },
  {
   "cell_type": "code",
   "execution_count": null,
   "id": "5ef33a02",
   "metadata": {},
   "outputs": [],
   "source": [
    "print_params('Testing')"
   ]
  },
  {
   "cell_type": "code",
   "execution_count": null,
   "id": "5509ba38",
   "metadata": {},
   "outputs": [],
   "source": [
    "print_params(1,2,3)"
   ]
  },
  {
   "cell_type": "code",
   "execution_count": null,
   "id": "9372fffa",
   "metadata": {},
   "outputs": [],
   "source": [
    "def print_params_2(title,*params):\n",
    "    print(title)\n",
    "    print(params)"
   ]
  },
  {
   "cell_type": "code",
   "execution_count": null,
   "id": "01dc6ead",
   "metadata": {},
   "outputs": [],
   "source": [
    "print_params_2('Params', 1,2,3)"
   ]
  },
  {
   "cell_type": "code",
   "execution_count": null,
   "id": "ad333add",
   "metadata": {},
   "outputs": [],
   "source": [
    "print_params_2('Nothing:')"
   ]
  },
  {
   "cell_type": "code",
   "execution_count": null,
   "id": "56edefe9",
   "metadata": {},
   "outputs": [],
   "source": [
    "def in_the_middle(x, *y, z):\n",
    "    print(x,y,z)"
   ]
  },
  {
   "cell_type": "code",
   "execution_count": null,
   "id": "8d97caed",
   "metadata": {},
   "outputs": [],
   "source": [
    "in_the_middle(1,2,3,4,5, z = 7)"
   ]
  },
  {
   "cell_type": "code",
   "execution_count": null,
   "id": "2efef0f3",
   "metadata": {},
   "outputs": [],
   "source": [
    "in_the_middle(1,2,3,4,5,7)"
   ]
  },
  {
   "cell_type": "code",
   "execution_count": null,
   "id": "4fe3c5df",
   "metadata": {},
   "outputs": [],
   "source": [
    "print_params_2('Hmm...', something=42)"
   ]
  },
  {
   "cell_type": "code",
   "execution_count": null,
   "id": "114d6d23",
   "metadata": {},
   "outputs": [],
   "source": [
    "def print_params_3(**params):\n",
    "    print(params)"
   ]
  },
  {
   "cell_type": "code",
   "execution_count": null,
   "id": "b2408d4f",
   "metadata": {},
   "outputs": [],
   "source": [
    "print_params_3(x=1, y=2, z=3)"
   ]
  },
  {
   "cell_type": "code",
   "execution_count": null,
   "id": "9e1a0555",
   "metadata": {},
   "outputs": [],
   "source": [
    "def print_params_4(x, y, z=3, *pospar, **keypar):\n",
    "    print(x, y, z)\n",
    "    print(pospar)\n",
    "    print(keypar)"
   ]
  },
  {
   "cell_type": "code",
   "execution_count": null,
   "id": "ca1f621e",
   "metadata": {},
   "outputs": [],
   "source": [
    "print_params_4(1,2,3,4,5,6,7, foo=1, bar=2)"
   ]
  },
  {
   "cell_type": "code",
   "execution_count": null,
   "id": "e452c622",
   "metadata": {},
   "outputs": [],
   "source": [
    "print_params_4(1,2)"
   ]
  },
  {
   "cell_type": "code",
   "execution_count": null,
   "id": "274f02d0",
   "metadata": {},
   "outputs": [],
   "source": [
    "# Initializing Data Structure\n",
    "\n",
    "def init(data):\n",
    "    data['first'] = {}\n",
    "    data['middle'] = {}\n",
    "    data['last'] = {}"
   ]
  },
  {
   "cell_type": "code",
   "execution_count": null,
   "id": "018f54d6",
   "metadata": {},
   "outputs": [],
   "source": [
    "# For geeting names\n",
    "\n",
    "def lookup(data, label, name):\n",
    "    return data[label].get(name)"
   ]
  },
  {
   "cell_type": "code",
   "execution_count": null,
   "id": "d2c5ce58",
   "metadata": {},
   "outputs": [],
   "source": [
    "# For Storing data\n",
    "\n",
    "def store(data, *full_names):\n",
    "    for full_name in full_names:\n",
    "        names = full_name.split()\n",
    "        if len(names) == 2: names.insert(1, '')\n",
    "        labels = 'first', 'middle', 'last'\n",
    "        for label, name in zip(labels, names):\n",
    "            people = lookup(data, label, name)\n",
    "            if people:\n",
    "                people.append(full_name)\n",
    "            else:\n",
    "                data[label][name] = [full_name]"
   ]
  },
  {
   "cell_type": "code",
   "execution_count": null,
   "id": "36667d89",
   "metadata": {},
   "outputs": [],
   "source": [
    "d = {}\n",
    "init(d)\n",
    "store(d, 'Han Solo')"
   ]
  },
  {
   "cell_type": "code",
   "execution_count": null,
   "id": "c29cc1d6",
   "metadata": {},
   "outputs": [],
   "source": [
    "store(d, 'Luke Skywalker', 'Anakin Skywalker')"
   ]
  },
  {
   "cell_type": "code",
   "execution_count": null,
   "id": "2ceb8c3b",
   "metadata": {},
   "outputs": [],
   "source": [
    "lookup(d, 'last', 'Skywalker')"
   ]
  },
  {
   "cell_type": "code",
   "execution_count": null,
   "id": "fe31f05c",
   "metadata": {},
   "outputs": [],
   "source": [
    "def add(x,y):\n",
    "    return x + y"
   ]
  },
  {
   "cell_type": "code",
   "execution_count": null,
   "id": "089b874f",
   "metadata": {},
   "outputs": [],
   "source": [
    "params = (1,2)"
   ]
  },
  {
   "cell_type": "code",
   "execution_count": null,
   "id": "01b5b813",
   "metadata": {},
   "outputs": [],
   "source": [
    "add(*params)"
   ]
  },
  {
   "cell_type": "code",
   "execution_count": null,
   "id": "35172e99",
   "metadata": {},
   "outputs": [],
   "source": [
    "params = {'name': 'Sir Robin', 'greeting': 'Well met'}"
   ]
  },
  {
   "cell_type": "code",
   "execution_count": null,
   "id": "3136a481",
   "metadata": {},
   "outputs": [],
   "source": [
    "hello_3(**params)"
   ]
  },
  {
   "cell_type": "code",
   "execution_count": null,
   "id": "3f148c1b",
   "metadata": {},
   "outputs": [],
   "source": [
    "def with_stars(**kwds):\n",
    "    print(kwds['name'], 'is', kwds['age'], 'years old')"
   ]
  },
  {
   "cell_type": "code",
   "execution_count": null,
   "id": "6dad259c",
   "metadata": {},
   "outputs": [],
   "source": [
    "def without_stars(kwds):\n",
    "    print(kwds['name'], 'is', kwds['age'], 'years old')"
   ]
  },
  {
   "cell_type": "code",
   "execution_count": null,
   "id": "617bd1d3",
   "metadata": {},
   "outputs": [],
   "source": [
    "args = {'name':'Mr. Gumby', 'age': 42}"
   ]
  },
  {
   "cell_type": "code",
   "execution_count": null,
   "id": "a51c2434",
   "metadata": {},
   "outputs": [],
   "source": [
    "with_stars(**args)"
   ]
  },
  {
   "cell_type": "code",
   "execution_count": null,
   "id": "ddccb639",
   "metadata": {},
   "outputs": [],
   "source": [
    "without_stars(args)"
   ]
  },
  {
   "cell_type": "code",
   "execution_count": null,
   "id": "10123c5e",
   "metadata": {},
   "outputs": [],
   "source": [
    "def foo(x, y, z, m=0, n=0):\n",
    "    print(x,y,z,m,n)"
   ]
  },
  {
   "cell_type": "code",
   "execution_count": null,
   "id": "e2735026",
   "metadata": {},
   "outputs": [],
   "source": [
    "def call_foo(*args, **kwds):\n",
    "    print('Calling foo!')\n",
    "    foo(*args, **kwds)"
   ]
  },
  {
   "cell_type": "code",
   "execution_count": null,
   "id": "bc127baa",
   "metadata": {},
   "outputs": [],
   "source": [
    "# parameter Pracetic\n",
    "\n",
    "def story(**kwds):\n",
    "    return 'Once upon a time there was a '\\\n",
    "            '{job} called {name}.'.format_map(kwds)"
   ]
  },
  {
   "cell_type": "code",
   "execution_count": null,
   "id": "2bd42598",
   "metadata": {},
   "outputs": [],
   "source": [
    "def power(x,y, *others):\n",
    "    if others:\n",
    "        print('Received redundant prameters:',others)\n",
    "    return pow(x,y)"
   ]
  },
  {
   "cell_type": "code",
   "execution_count": null,
   "id": "dd0b5e45",
   "metadata": {},
   "outputs": [],
   "source": [
    "def interval(start, stop=None, step=1):\n",
    "    'imitates range () for step > 0'\n",
    "    if stop is None:\n",
    "        start, stop = 0, start\n",
    "    result = []\n",
    "    \n",
    "    i = start\n",
    "    while i < stop:\n",
    "        result.append(i)\n",
    "        i += step\n",
    "    return result"
   ]
  },
  {
   "cell_type": "code",
   "execution_count": null,
   "id": "8063e3d6",
   "metadata": {},
   "outputs": [],
   "source": [
    "print(story(job='King', name='Atif Salam'))"
   ]
  },
  {
   "cell_type": "code",
   "execution_count": null,
   "id": "b8322ef0",
   "metadata": {},
   "outputs": [],
   "source": [
    "print(story(name='Robin', job='Brave Knight'))"
   ]
  },
  {
   "cell_type": "code",
   "execution_count": null,
   "id": "b594c021",
   "metadata": {},
   "outputs": [],
   "source": [
    "params = {'job':'Language', 'name':'Python'}"
   ]
  },
  {
   "cell_type": "code",
   "execution_count": null,
   "id": "ab10284b",
   "metadata": {},
   "outputs": [],
   "source": [
    "print(story(**params))"
   ]
  },
  {
   "cell_type": "code",
   "execution_count": null,
   "id": "61256c50",
   "metadata": {},
   "outputs": [],
   "source": [
    "del params['job']"
   ]
  },
  {
   "cell_type": "code",
   "execution_count": null,
   "id": "2fcc3aad",
   "metadata": {},
   "outputs": [],
   "source": [
    "print(story(job='Stroke of genius', **params))"
   ]
  },
  {
   "cell_type": "code",
   "execution_count": null,
   "id": "712c3e7b",
   "metadata": {},
   "outputs": [],
   "source": [
    "power(2,3)"
   ]
  },
  {
   "cell_type": "code",
   "execution_count": null,
   "id": "051cca40",
   "metadata": {},
   "outputs": [],
   "source": [
    "power(3,2)"
   ]
  },
  {
   "cell_type": "code",
   "execution_count": null,
   "id": "ea166211",
   "metadata": {},
   "outputs": [],
   "source": [
    "power(y=3, x=2)"
   ]
  },
  {
   "cell_type": "code",
   "execution_count": null,
   "id": "5378885a",
   "metadata": {},
   "outputs": [],
   "source": [
    "params = (5,) *2"
   ]
  },
  {
   "cell_type": "code",
   "execution_count": null,
   "id": "669755be",
   "metadata": {},
   "outputs": [],
   "source": [
    "power(*params)"
   ]
  },
  {
   "cell_type": "code",
   "execution_count": null,
   "id": "863a44ca",
   "metadata": {},
   "outputs": [],
   "source": [
    "power(3,3, \"Hello World\")"
   ]
  },
  {
   "cell_type": "code",
   "execution_count": null,
   "id": "12a145c0",
   "metadata": {},
   "outputs": [],
   "source": [
    "interval(10)"
   ]
  },
  {
   "cell_type": "code",
   "execution_count": null,
   "id": "d241a436",
   "metadata": {},
   "outputs": [],
   "source": [
    "interval(1,5)"
   ]
  },
  {
   "cell_type": "code",
   "execution_count": null,
   "id": "863ce2ed",
   "metadata": {},
   "outputs": [],
   "source": [
    "interval(3,12,4)"
   ]
  },
  {
   "cell_type": "code",
   "execution_count": null,
   "id": "f9200508",
   "metadata": {},
   "outputs": [],
   "source": [
    "power(*interval(3,7))"
   ]
  },
  {
   "cell_type": "code",
   "execution_count": null,
   "id": "60f36819",
   "metadata": {},
   "outputs": [],
   "source": [
    "x = 1\n",
    "scope = vars()"
   ]
  },
  {
   "cell_type": "code",
   "execution_count": null,
   "id": "0644116c",
   "metadata": {},
   "outputs": [],
   "source": [
    "scope['x']"
   ]
  },
  {
   "cell_type": "code",
   "execution_count": null,
   "id": "0ae3dffb",
   "metadata": {},
   "outputs": [],
   "source": [
    "scope['x'] +=1"
   ]
  },
  {
   "cell_type": "code",
   "execution_count": null,
   "id": "109199ea",
   "metadata": {},
   "outputs": [],
   "source": [
    "x"
   ]
  },
  {
   "cell_type": "code",
   "execution_count": null,
   "id": "fc143f0d",
   "metadata": {},
   "outputs": [],
   "source": [
    "def foo (): x = 42"
   ]
  },
  {
   "cell_type": "code",
   "execution_count": null,
   "id": "d8fda46b",
   "metadata": {},
   "outputs": [],
   "source": [
    "x = 1\n",
    "foo()"
   ]
  },
  {
   "cell_type": "code",
   "execution_count": null,
   "id": "2c770019",
   "metadata": {},
   "outputs": [],
   "source": [
    "x"
   ]
  },
  {
   "cell_type": "code",
   "execution_count": null,
   "id": "52ed265a",
   "metadata": {},
   "outputs": [],
   "source": [
    "def output(x): print(x)"
   ]
  },
  {
   "cell_type": "code",
   "execution_count": null,
   "id": "230f23cd",
   "metadata": {},
   "outputs": [],
   "source": [
    "x = 1\n",
    "y = 2"
   ]
  },
  {
   "cell_type": "code",
   "execution_count": null,
   "id": "767f1c76",
   "metadata": {},
   "outputs": [],
   "source": [
    "output(y)"
   ]
  },
  {
   "cell_type": "code",
   "execution_count": null,
   "id": "1d6dba7f",
   "metadata": {},
   "outputs": [],
   "source": [
    "def combine(parameter): print(parameter + external)"
   ]
  },
  {
   "cell_type": "code",
   "execution_count": null,
   "id": "b79482af",
   "metadata": {},
   "outputs": [],
   "source": [
    "external ='berry'"
   ]
  },
  {
   "cell_type": "code",
   "execution_count": null,
   "id": "891c4f11",
   "metadata": {},
   "outputs": [],
   "source": [
    "combine('shurb')"
   ]
  },
  {
   "cell_type": "code",
   "execution_count": null,
   "id": "c4f3fb6c",
   "metadata": {},
   "outputs": [],
   "source": [
    "def combine(parameter):\n",
    "    print(parameter + globals()['parameter'])    "
   ]
  },
  {
   "cell_type": "code",
   "execution_count": null,
   "id": "f5e18055",
   "metadata": {},
   "outputs": [],
   "source": [
    "parameter = 'berry'"
   ]
  },
  {
   "cell_type": "code",
   "execution_count": null,
   "id": "9917ad1e",
   "metadata": {},
   "outputs": [],
   "source": [
    "combine('shurb')"
   ]
  },
  {
   "cell_type": "code",
   "execution_count": null,
   "id": "5cf495ed",
   "metadata": {},
   "outputs": [],
   "source": [
    "x = 1\n",
    "def change_global():\n",
    "    global x\n",
    "    x = x + 1"
   ]
  },
  {
   "cell_type": "code",
   "execution_count": null,
   "id": "eaada0d1",
   "metadata": {},
   "outputs": [],
   "source": [
    "change_global()"
   ]
  },
  {
   "cell_type": "code",
   "execution_count": null,
   "id": "46d8304d",
   "metadata": {},
   "outputs": [],
   "source": [
    "x"
   ]
  },
  {
   "cell_type": "code",
   "execution_count": null,
   "id": "5861dd5c",
   "metadata": {},
   "outputs": [],
   "source": [
    "def foo():\n",
    "    def bar():\n",
    "        print(\"Hello World\")\n",
    "    bar()"
   ]
  },
  {
   "cell_type": "code",
   "execution_count": null,
   "id": "44e2702f",
   "metadata": {},
   "outputs": [],
   "source": [
    "def multiplier(factor):\n",
    "    def multiplyByFactor(number):\n",
    "        return number * factor\n",
    "    return multiplyByFactor"
   ]
  },
  {
   "cell_type": "code",
   "execution_count": null,
   "id": "db20dd76",
   "metadata": {},
   "outputs": [],
   "source": [
    "double = multiplier(2)"
   ]
  },
  {
   "cell_type": "code",
   "execution_count": null,
   "id": "6d6f33a7",
   "metadata": {},
   "outputs": [],
   "source": [
    "double(5)"
   ]
  },
  {
   "cell_type": "code",
   "execution_count": null,
   "id": "f71b5d21",
   "metadata": {},
   "outputs": [],
   "source": [
    "triple = multiplier(3)"
   ]
  },
  {
   "cell_type": "code",
   "execution_count": null,
   "id": "8d05be58",
   "metadata": {},
   "outputs": [],
   "source": [
    "triple(3)"
   ]
  },
  {
   "cell_type": "code",
   "execution_count": null,
   "id": "f27d45ef",
   "metadata": {},
   "outputs": [],
   "source": [
    "multiplier(5)(4)"
   ]
  },
  {
   "cell_type": "code",
   "execution_count": 10,
   "id": "3f8d4a1e",
   "metadata": {},
   "outputs": [],
   "source": [
    "def factorial(n):\n",
    "    result = n\n",
    "    for i in range(1,n):\n",
    "        result *= i\n",
    "    return result"
   ]
  },
  {
   "cell_type": "code",
   "execution_count": 13,
   "id": "97c22ca1",
   "metadata": {},
   "outputs": [
    {
     "data": {
      "text/plain": [
       "24"
      ]
     },
     "execution_count": 13,
     "metadata": {},
     "output_type": "execute_result"
    }
   ],
   "source": [
    "factorial(4)"
   ]
  },
  {
   "cell_type": "code",
   "execution_count": 14,
   "id": "22179eec",
   "metadata": {},
   "outputs": [],
   "source": [
    "def factorial(n):\n",
    "    if n == 1:\n",
    "        return 1\n",
    "    else:\n",
    "        return n * factorial(n-1)"
   ]
  },
  {
   "cell_type": "code",
   "execution_count": 20,
   "id": "e2490675",
   "metadata": {},
   "outputs": [
    {
     "data": {
      "text/plain": [
       "120"
      ]
     },
     "execution_count": 20,
     "metadata": {},
     "output_type": "execute_result"
    }
   ],
   "source": [
    "factorial(5)"
   ]
  },
  {
   "cell_type": "code",
   "execution_count": 21,
   "id": "9520df57",
   "metadata": {},
   "outputs": [],
   "source": [
    "def power(x,n):\n",
    "    result = 1\n",
    "    for i in range(n):\n",
    "        result *= x\n",
    "    return result"
   ]
  },
  {
   "cell_type": "code",
   "execution_count": 28,
   "id": "dc2912b4",
   "metadata": {},
   "outputs": [
    {
     "data": {
      "text/plain": [
       "625"
      ]
     },
     "execution_count": 28,
     "metadata": {},
     "output_type": "execute_result"
    }
   ],
   "source": [
    "power(5,5)"
   ]
  },
  {
   "cell_type": "code",
   "execution_count": 26,
   "id": "3eb86c5b",
   "metadata": {},
   "outputs": [],
   "source": [
    "def power(x,n):\n",
    "    if n == 1:\n",
    "        return 1\n",
    "    else:\n",
    "        return x *power(x, n-1)"
   ]
  },
  {
   "cell_type": "code",
   "execution_count": 27,
   "id": "8a1ab7e2",
   "metadata": {},
   "outputs": [
    {
     "data": {
      "text/plain": [
       "625"
      ]
     },
     "execution_count": 27,
     "metadata": {},
     "output_type": "execute_result"
    }
   ],
   "source": [
    "power(5,5)"
   ]
  },
  {
   "cell_type": "code",
   "execution_count": 53,
   "id": "cc725c08",
   "metadata": {},
   "outputs": [],
   "source": [
    "def search(sequence, number, lower, upper):\n",
    "    if lower == upper:\n",
    "        assert number == sequence[upper]\n",
    "        return upper\n",
    "    else:\n",
    "        middle = (lower + upper) // 2\n",
    "        if number > sequence[middle]:\n",
    "            return search(sequence, number, middle+1, upper)\n",
    "        else:\n",
    "            return search(sequence, number, lower, middle)"
   ]
  },
  {
   "cell_type": "code",
   "execution_count": 54,
   "id": "345f851f",
   "metadata": {},
   "outputs": [],
   "source": [
    "def search(sequence, number, lower = 0, upper = None):\n",
    "    if upper is None: upper = len(sequence)-1"
   ]
  },
  {
   "cell_type": "code",
   "execution_count": 55,
   "id": "3f24d75a",
   "metadata": {},
   "outputs": [],
   "source": [
    "seq = [34,67,8,123,4,100,95]\n",
    "seq.sort()"
   ]
  },
  {
   "cell_type": "code",
   "execution_count": 56,
   "id": "f3394da2",
   "metadata": {},
   "outputs": [
    {
     "data": {
      "text/plain": [
       "[4, 8, 34, 67, 95, 100, 123]"
      ]
     },
     "execution_count": 56,
     "metadata": {},
     "output_type": "execute_result"
    }
   ],
   "source": [
    "seq"
   ]
  },
  {
   "cell_type": "code",
   "execution_count": 58,
   "id": "61d8b4ff",
   "metadata": {},
   "outputs": [],
   "source": [
    "search(seq, 34)"
   ]
  },
  {
   "cell_type": "code",
   "execution_count": 65,
   "id": "6928a469",
   "metadata": {},
   "outputs": [
    {
     "data": {
      "text/plain": [
       "['0', '1', '2', '3', '4', '5', '6', '7', '8', '9']"
      ]
     },
     "execution_count": 65,
     "metadata": {},
     "output_type": "execute_result"
    }
   ],
   "source": [
    "list(map(str, range(10)))"
   ]
  },
  {
   "cell_type": "code",
   "execution_count": 72,
   "id": "221e03d7",
   "metadata": {},
   "outputs": [
    {
     "data": {
      "text/plain": [
       "['0', '1', '2', '3', '4', '5', '6', '7', '8', '9']"
      ]
     },
     "execution_count": 72,
     "metadata": {},
     "output_type": "execute_result"
    }
   ],
   "source": [
    "[str(i) for i in range(10)]"
   ]
  },
  {
   "cell_type": "code",
   "execution_count": 69,
   "id": "8f98eb36",
   "metadata": {},
   "outputs": [],
   "source": [
    "def func(x):\n",
    "    return x.isalnum()"
   ]
  },
  {
   "cell_type": "code",
   "execution_count": 70,
   "id": "626961e0",
   "metadata": {},
   "outputs": [],
   "source": [
    "seq = ['foo', 'X41', '?!', '***']"
   ]
  },
  {
   "cell_type": "code",
   "execution_count": 71,
   "id": "244bc93d",
   "metadata": {},
   "outputs": [
    {
     "data": {
      "text/plain": [
       "['foo', 'X41']"
      ]
     },
     "execution_count": 71,
     "metadata": {},
     "output_type": "execute_result"
    }
   ],
   "source": [
    "list(filter(func, seq))"
   ]
  },
  {
   "cell_type": "code",
   "execution_count": 73,
   "id": "30f6d988",
   "metadata": {},
   "outputs": [
    {
     "data": {
      "text/plain": [
       "['foo', 'X41']"
      ]
     },
     "execution_count": 73,
     "metadata": {},
     "output_type": "execute_result"
    }
   ],
   "source": [
    "[x for x in seq if x.isalnum()]"
   ]
  },
  {
   "cell_type": "code",
   "execution_count": 76,
   "id": "01ef46a2",
   "metadata": {},
   "outputs": [
    {
     "data": {
      "text/plain": [
       "<filter at 0x7f78840562b0>"
      ]
     },
     "execution_count": 76,
     "metadata": {},
     "output_type": "execute_result"
    }
   ],
   "source": [
    "filter(lambda x: x.isalnum(), seq)"
   ]
  },
  {
   "cell_type": "code",
   "execution_count": 80,
   "id": "5f21474e",
   "metadata": {},
   "outputs": [],
   "source": [
    "numbers = [72, 101, 108, 108, 111, 44, 32, 119, 111, 114, 108, 100, 33]"
   ]
  },
  {
   "cell_type": "code",
   "execution_count": 81,
   "id": "8d38b9e7",
   "metadata": {},
   "outputs": [
    {
     "data": {
      "text/plain": [
       "1161"
      ]
     },
     "execution_count": 81,
     "metadata": {},
     "output_type": "execute_result"
    }
   ],
   "source": [
    "from functools import reduce\n",
    "reduce(lambda x,y: x + y, numbers)"
   ]
  },
  {
   "cell_type": "code",
   "execution_count": 89,
   "id": "24743baa",
   "metadata": {},
   "outputs": [
    {
     "data": {
      "text/plain": [
       "1"
      ]
     },
     "execution_count": 89,
     "metadata": {},
     "output_type": "execute_result"
    }
   ],
   "source": [
    "'abc'.count('a')"
   ]
  },
  {
   "cell_type": "code",
   "execution_count": 90,
   "id": "d211cc56",
   "metadata": {},
   "outputs": [
    {
     "data": {
      "text/plain": [
       "1"
      ]
     },
     "execution_count": 90,
     "metadata": {},
     "output_type": "execute_result"
    }
   ],
   "source": [
    "[1,2,2,'a'].count('a')"
   ]
  },
  {
   "cell_type": "code",
   "execution_count": 91,
   "id": "050e7dfa",
   "metadata": {},
   "outputs": [],
   "source": [
    "from random import choice\n",
    "x = choice(['Hello World!', [1,2,'e','e',4]])"
   ]
  },
  {
   "cell_type": "code",
   "execution_count": 92,
   "id": "53099c00",
   "metadata": {},
   "outputs": [
    {
     "data": {
      "text/plain": [
       "1"
      ]
     },
     "execution_count": 92,
     "metadata": {},
     "output_type": "execute_result"
    }
   ],
   "source": [
    "x.count('e')"
   ]
  },
  {
   "cell_type": "code",
   "execution_count": 93,
   "id": "81291488",
   "metadata": {},
   "outputs": [],
   "source": [
    "def length_message(x):\n",
    "    print('The Length of', repr(x), 'is', len(x))"
   ]
  },
  {
   "cell_type": "code",
   "execution_count": 94,
   "id": "d19d3eba",
   "metadata": {},
   "outputs": [
    {
     "name": "stdout",
     "output_type": "stream",
     "text": [
      "The Length of 'Fnord' is 5\n"
     ]
    }
   ],
   "source": [
    "length_message('Fnord')"
   ]
  },
  {
   "cell_type": "code",
   "execution_count": 96,
   "id": "4965f3d8",
   "metadata": {},
   "outputs": [
    {
     "name": "stdout",
     "output_type": "stream",
     "text": [
      "The Length of [1, 2, 3] is 3\n"
     ]
    }
   ],
   "source": [
    "length_message([1,2,3])"
   ]
  },
  {
   "cell_type": "code",
   "execution_count": null,
   "id": "4998c08f",
   "metadata": {},
   "outputs": [],
   "source": []
  },
  {
   "cell_type": "code",
   "execution_count": null,
   "id": "627c36cf",
   "metadata": {},
   "outputs": [],
   "source": []
  }
 ],
 "metadata": {
  "kernelspec": {
   "display_name": "Python 3 (ipykernel)",
   "language": "python",
   "name": "python3"
  },
  "language_info": {
   "codemirror_mode": {
    "name": "ipython",
    "version": 3
   },
   "file_extension": ".py",
   "mimetype": "text/x-python",
   "name": "python",
   "nbconvert_exporter": "python",
   "pygments_lexer": "ipython3",
   "version": "3.9.7"
  }
 },
 "nbformat": 4,
 "nbformat_minor": 5
}
