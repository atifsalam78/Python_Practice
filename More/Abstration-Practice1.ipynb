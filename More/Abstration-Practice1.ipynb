{
 "cells": [
  {
   "cell_type": "code",
   "execution_count": 4,
   "id": "12103c75",
   "metadata": {},
   "outputs": [],
   "source": [
    "'''Write a program that stores names and that allows you to look up \n",
    "people by thier first name, middle or last names,\n",
    "by using data strtucture'''\n",
    "\n",
    "\n",
    "# Function to initiliaze a data structure\n",
    "\n",
    "def init(data):\n",
    "    data['first'] = {}\n",
    "    data['middle'] = {}\n",
    "    data['last'] = {}\n",
    "    \n",
    "# Function to getting names\n",
    "\n",
    "def lookup(data, label, name):\n",
    "    return data[label].get(name)\n",
    "\n",
    "# Function that store names\n",
    "\n",
    "def store(data, full_name):\n",
    "    names = full_name.split() # Splitting full_name into list\n",
    "    if len(names) == 2: names.insert(1, '') # Checking length of list named 'names', and insert empty on index 1\n",
    "    labels = 'first', 'middle', 'last' # Creating Tuple\n",
    "            \n",
    "    for label, name in zip(labels, names): # ZIP List and Tuple\n",
    "        people = lookup(data, label, name) # Store lookup function into variable names 'people'\n",
    "        if people: # Checking if TRUE\n",
    "            people.append(full_name) # Adding data\n",
    "        else:\n",
    "            data[label][name] = [full_name] # found data\n",
    "            \n",
    "# Program End!"
   ]
  },
  {
   "cell_type": "code",
   "execution_count": 2,
   "id": "368604b0",
   "metadata": {},
   "outputs": [],
   "source": [
    "MyNames = {}\n",
    "init(MyNames)"
   ]
  },
  {
   "cell_type": "code",
   "execution_count": null,
   "id": "9d195086",
   "metadata": {},
   "outputs": [],
   "source": [
    "MyNames"
   ]
  },
  {
   "cell_type": "code",
   "execution_count": 5,
   "id": "fe28ebbe",
   "metadata": {},
   "outputs": [],
   "source": [
    "store(MyNames, 'Atif Abdul Salam')"
   ]
  },
  {
   "cell_type": "code",
   "execution_count": null,
   "id": "76fcafb2",
   "metadata": {},
   "outputs": [],
   "source": [
    "lookup(MyNames, 'middle', 'Abdul')"
   ]
  },
  {
   "cell_type": "code",
   "execution_count": 9,
   "id": "ada6ad44",
   "metadata": {},
   "outputs": [],
   "source": [
    "store(MyNames, 'Amber Abdul Salam')\n",
    "store(MyNames, 'Shamsa Abdul Salam')\n",
    "store(MyNames, 'Abdul Samad')"
   ]
  },
  {
   "cell_type": "code",
   "execution_count": null,
   "id": "e03e1ffc",
   "metadata": {},
   "outputs": [],
   "source": [
    "lookup(MyNames, 'middle', 'Abdul')"
   ]
  },
  {
   "cell_type": "code",
   "execution_count": null,
   "id": "d379d230",
   "metadata": {},
   "outputs": [],
   "source": [
    "lookup(MyNames, 'middle', '')"
   ]
  },
  {
   "cell_type": "code",
   "execution_count": null,
   "id": "453695f8",
   "metadata": {},
   "outputs": [],
   "source": [
    "store(MyNames, 'Faiza Atif Salam')"
   ]
  },
  {
   "cell_type": "code",
   "execution_count": null,
   "id": "67570d09",
   "metadata": {},
   "outputs": [],
   "source": [
    "lookup(MyNames, 'first', 'Faiza')"
   ]
  },
  {
   "cell_type": "code",
   "execution_count": null,
   "id": "39eb1c7c",
   "metadata": {},
   "outputs": [],
   "source": [
    "full_name = 'Atif Salam'"
   ]
  },
  {
   "cell_type": "code",
   "execution_count": null,
   "id": "dc7e5696",
   "metadata": {},
   "outputs": [],
   "source": [
    "names = full_name.split()"
   ]
  },
  {
   "cell_type": "code",
   "execution_count": null,
   "id": "1b50fca4",
   "metadata": {},
   "outputs": [],
   "source": [
    "print(names)"
   ]
  },
  {
   "cell_type": "code",
   "execution_count": null,
   "id": "f7267e49",
   "metadata": {},
   "outputs": [],
   "source": [
    "labels = 'first', 'middle', 'last'"
   ]
  },
  {
   "cell_type": "code",
   "execution_count": null,
   "id": "e2768fa1",
   "metadata": {},
   "outputs": [],
   "source": [
    "labels"
   ]
  },
  {
   "cell_type": "code",
   "execution_count": 12,
   "id": "758d727e",
   "metadata": {},
   "outputs": [
    {
     "data": {
      "text/plain": [
       "['Atif Abdul Salam',\n",
       " 'Amber Abdul Salam',\n",
       " 'Shamsa Abdul Salam',\n",
       " 'Zahida Abdul Salam']"
      ]
     },
     "execution_count": 12,
     "metadata": {},
     "output_type": "execute_result"
    }
   ],
   "source": [
    "lookup(MyNames, 'middle', 'Abdul')"
   ]
  },
  {
   "cell_type": "code",
   "execution_count": 7,
   "id": "aad1d27d",
   "metadata": {},
   "outputs": [
    {
     "ename": "TypeError",
     "evalue": "store() takes 2 positional arguments but 5 were given",
     "output_type": "error",
     "traceback": [
      "\u001b[0;31m---------------------------------------------------------------------------\u001b[0m",
      "\u001b[0;31mTypeError\u001b[0m                                 Traceback (most recent call last)",
      "\u001b[0;32m/tmp/ipykernel_8968/3069690271.py\u001b[0m in \u001b[0;36m<module>\u001b[0;34m\u001b[0m\n\u001b[0;32m----> 1\u001b[0;31m \u001b[0mstore\u001b[0m\u001b[0;34m(\u001b[0m\u001b[0mMyNames\u001b[0m\u001b[0;34m,\u001b[0m \u001b[0;34m'Zahida Abdul Salam'\u001b[0m\u001b[0;34m,\u001b[0m \u001b[0;34m'Faiza Atif Salam'\u001b[0m\u001b[0;34m,\u001b[0m \u001b[0;34m'Manahil Atif Salam'\u001b[0m\u001b[0;34m,\u001b[0m \u001b[0;34m'Ayesha Atif Salam'\u001b[0m\u001b[0;34m)\u001b[0m\u001b[0;34m\u001b[0m\u001b[0;34m\u001b[0m\u001b[0m\n\u001b[0m",
      "\u001b[0;31mTypeError\u001b[0m: store() takes 2 positional arguments but 5 were given"
     ]
    }
   ],
   "source": [
    "store(MyNames, 'Zahida Abdul Salam', 'Faiza Atif Salam', 'Manahil Atif Salam', 'Ayesha Atif Salam')"
   ]
  },
  {
   "cell_type": "code",
   "execution_count": 11,
   "id": "519e97c8",
   "metadata": {},
   "outputs": [],
   "source": [
    "store(MyNames, 'Zahida Abdul Salam')"
   ]
  }
 ],
 "metadata": {
  "kernelspec": {
   "display_name": "Python 3 (ipykernel)",
   "language": "python",
   "name": "python3"
  },
  "language_info": {
   "codemirror_mode": {
    "name": "ipython",
    "version": 3
   },
   "file_extension": ".py",
   "mimetype": "text/x-python",
   "name": "python",
   "nbconvert_exporter": "python",
   "pygments_lexer": "ipython3",
   "version": "3.9.7"
  }
 },
 "nbformat": 4,
 "nbformat_minor": 5
}
