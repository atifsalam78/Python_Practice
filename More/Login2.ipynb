{
 "cells": [
  {
   "cell_type": "code",
   "execution_count": null,
   "id": "12eee196",
   "metadata": {},
   "outputs": [],
   "source": []
  },
  {
   "cell_type": "code",
   "execution_count": 125,
   "id": "dfbabe76",
   "metadata": {},
   "outputs": [
    {
     "name": "stdout",
     "output_type": "stream",
     "text": [
      "User ID: atif\n",
      "Enter your Pin:········\n",
      "Authenticated! \n",
      "Please Wait\n",
      "                         Freight Calculation\n",
      "Enter Distance:- 658\n",
      "Rs. 13210.0\n"
     ]
    }
   ],
   "source": [
    "import getpass, time\n",
    "space=' '*25\n",
    "x=1\n",
    "while x<=3:\n",
    "    usr=input('User ID: ')\n",
    "    psw=int(getpass.getpass('Enter your Pin:'))\n",
    "    if usr=='atif' and psw==1003:\n",
    "        print('Authenticated!','\\nPlease Wait')\n",
    "        \n",
    "#Freight Calculation\n",
    "        time=time.sleep(5)\n",
    "        print('%sFreight Calculation'%space)\n",
    "        booking_charges=50\n",
    "        freight=20\n",
    "        dist=float(input('Enter Distance:- '))\n",
    "        print('Rs.',booking_charges+(freight*dist))\n",
    "        break\n",
    "    else:\n",
    "        print('Re-Enter your User ID and Pin')\n",
    "    x+=1 \n"
   ]
  },
  {
   "cell_type": "code",
   "execution_count": null,
   "id": "dde4c085",
   "metadata": {},
   "outputs": [],
   "source": []
  },
  {
   "cell_type": "code",
   "execution_count": null,
   "id": "45562e2c",
   "metadata": {},
   "outputs": [],
   "source": []
  },
  {
   "cell_type": "code",
   "execution_count": null,
   "id": "0207c616",
   "metadata": {},
   "outputs": [],
   "source": []
  }
 ],
 "metadata": {
  "kernelspec": {
   "display_name": "Python 3 (ipykernel)",
   "language": "python",
   "name": "python3"
  },
  "language_info": {
   "codemirror_mode": {
    "name": "ipython",
    "version": 3
   },
   "file_extension": ".py",
   "mimetype": "text/x-python",
   "name": "python",
   "nbconvert_exporter": "python",
   "pygments_lexer": "ipython3",
   "version": "3.9.7"
  }
 },
 "nbformat": 4,
 "nbformat_minor": 5
}
