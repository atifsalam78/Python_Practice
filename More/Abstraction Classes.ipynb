{
 "cells": [
  {
   "cell_type": "code",
   "execution_count": 1,
   "id": "342adabc",
   "metadata": {},
   "outputs": [],
   "source": [
    "class Person:\n",
    "    def set_name(self, name):\n",
    "        self.name = name\n",
    "    def get_name(self):\n",
    "        return self.name\n",
    "    def greet(self):\n",
    "        print(\"Hello, World! I'm {}.\".format((self.name)))"
   ]
  },
  {
   "cell_type": "code",
   "execution_count": 3,
   "id": "81bb3262",
   "metadata": {},
   "outputs": [],
   "source": [
    "foo = Person()"
   ]
  },
  {
   "cell_type": "code",
   "execution_count": 6,
   "id": "a8660a39",
   "metadata": {},
   "outputs": [],
   "source": [
    "bar = Person()"
   ]
  },
  {
   "cell_type": "code",
   "execution_count": 5,
   "id": "c61543a0",
   "metadata": {},
   "outputs": [],
   "source": [
    "foo.set_name('Luke Skywalker')"
   ]
  },
  {
   "cell_type": "code",
   "execution_count": 7,
   "id": "0a1dcb0a",
   "metadata": {},
   "outputs": [],
   "source": [
    "bar.set_name('Anakin Skywalker')"
   ]
  },
  {
   "cell_type": "code",
   "execution_count": 8,
   "id": "bd921ac6",
   "metadata": {},
   "outputs": [
    {
     "name": "stdout",
     "output_type": "stream",
     "text": [
      "Hello, World! I'm Luke Skywalker.\n"
     ]
    }
   ],
   "source": [
    "foo.greet()"
   ]
  },
  {
   "cell_type": "code",
   "execution_count": 9,
   "id": "e96dc978",
   "metadata": {},
   "outputs": [
    {
     "name": "stdout",
     "output_type": "stream",
     "text": [
      "Hello, World! I'm Anakin Skywalker.\n"
     ]
    }
   ],
   "source": [
    "bar.greet()"
   ]
  },
  {
   "cell_type": "code",
   "execution_count": 10,
   "id": "3e67726c",
   "metadata": {},
   "outputs": [
    {
     "data": {
      "text/plain": [
       "'Luke Skywalker'"
      ]
     },
     "execution_count": 10,
     "metadata": {},
     "output_type": "execute_result"
    }
   ],
   "source": [
    "foo.name"
   ]
  },
  {
   "cell_type": "code",
   "execution_count": 11,
   "id": "03098944",
   "metadata": {},
   "outputs": [
    {
     "name": "stdout",
     "output_type": "stream",
     "text": [
      "Hello, World! I'm Luke Skywalker.\n"
     ]
    }
   ],
   "source": [
    "Person.greet(foo)"
   ]
  },
  {
   "cell_type": "code",
   "execution_count": 1,
   "id": "00b3442e",
   "metadata": {},
   "outputs": [],
   "source": [
    "class Bird:\n",
    "    song = 'Squaawk!'\n",
    "    def sing(self):\n",
    "        print(self.song)"
   ]
  },
  {
   "cell_type": "code",
   "execution_count": 2,
   "id": "06c3628f",
   "metadata": {},
   "outputs": [],
   "source": [
    "bird = Bird()"
   ]
  },
  {
   "cell_type": "code",
   "execution_count": 3,
   "id": "726dfbda",
   "metadata": {},
   "outputs": [
    {
     "name": "stdout",
     "output_type": "stream",
     "text": [
      "Squaawk!\n"
     ]
    }
   ],
   "source": [
    "bird.sing()"
   ]
  },
  {
   "cell_type": "code",
   "execution_count": 4,
   "id": "6edf22dd",
   "metadata": {},
   "outputs": [],
   "source": [
    "class Class:\n",
    "    def method(self):\n",
    "        print('I have a Self!')"
   ]
  },
  {
   "cell_type": "code",
   "execution_count": 5,
   "id": "9cb40ec2",
   "metadata": {},
   "outputs": [],
   "source": [
    "def function():\n",
    "    print(\"I don't....\")"
   ]
  },
  {
   "cell_type": "code",
   "execution_count": 6,
   "id": "a4c3cdb4",
   "metadata": {},
   "outputs": [],
   "source": [
    "instance = Class()"
   ]
  },
  {
   "cell_type": "code",
   "execution_count": 7,
   "id": "331adf6c",
   "metadata": {},
   "outputs": [
    {
     "name": "stdout",
     "output_type": "stream",
     "text": [
      "I have a Self!\n"
     ]
    }
   ],
   "source": [
    "instance.method()"
   ]
  },
  {
   "cell_type": "code",
   "execution_count": 8,
   "id": "6829cd82",
   "metadata": {},
   "outputs": [],
   "source": [
    "instance.method = function"
   ]
  },
  {
   "cell_type": "code",
   "execution_count": 9,
   "id": "aec6ebd9",
   "metadata": {},
   "outputs": [
    {
     "name": "stdout",
     "output_type": "stream",
     "text": [
      "I don't....\n"
     ]
    }
   ],
   "source": [
    "instance.method()"
   ]
  },
  {
   "cell_type": "code",
   "execution_count": 8,
   "id": "81f6f62e",
   "metadata": {},
   "outputs": [
    {
     "data": {
      "text/plain": [
       "'Luke Skywalker'"
      ]
     },
     "execution_count": 8,
     "metadata": {},
     "output_type": "execute_result"
    }
   ],
   "source": [
    "foo.name"
   ]
  },
  {
   "cell_type": "code",
   "execution_count": 12,
   "id": "502b2e10",
   "metadata": {},
   "outputs": [],
   "source": [
    "class Secretive:\n",
    "    def __inaccessible(self):\n",
    "        print(\"Bet you can't see me...\")\n",
    "    def accessible(self):\n",
    "        print(\"The Secret message is:\")\n",
    "        self.__inaccessible()"
   ]
  },
  {
   "cell_type": "code",
   "execution_count": 13,
   "id": "83aff404",
   "metadata": {},
   "outputs": [],
   "source": [
    "s = Secretive()"
   ]
  },
  {
   "cell_type": "code",
   "execution_count": 14,
   "id": "4dbd09e2",
   "metadata": {},
   "outputs": [
    {
     "ename": "AttributeError",
     "evalue": "'Secretive' object has no attribute '_inaccessible'",
     "output_type": "error",
     "traceback": [
      "\u001b[0;31m---------------------------------------------------------------------------\u001b[0m",
      "\u001b[0;31mAttributeError\u001b[0m                            Traceback (most recent call last)",
      "\u001b[0;32m/tmp/ipykernel_17111/1040954742.py\u001b[0m in \u001b[0;36m<module>\u001b[0;34m\u001b[0m\n\u001b[0;32m----> 1\u001b[0;31m \u001b[0ms\u001b[0m\u001b[0;34m.\u001b[0m\u001b[0m_inaccessible\u001b[0m\u001b[0;34m(\u001b[0m\u001b[0;34m)\u001b[0m\u001b[0;34m\u001b[0m\u001b[0;34m\u001b[0m\u001b[0m\n\u001b[0m",
      "\u001b[0;31mAttributeError\u001b[0m: 'Secretive' object has no attribute '_inaccessible'"
     ]
    }
   ],
   "source": [
    "s._inaccessible()"
   ]
  },
  {
   "cell_type": "code",
   "execution_count": 15,
   "id": "950b0393",
   "metadata": {},
   "outputs": [
    {
     "name": "stdout",
     "output_type": "stream",
     "text": [
      "The Secret message is:\n",
      "Bet you can't see me...\n"
     ]
    }
   ],
   "source": [
    "s.accessible()"
   ]
  },
  {
   "cell_type": "code",
   "execution_count": 17,
   "id": "75228915",
   "metadata": {},
   "outputs": [
    {
     "data": {
      "text/plain": [
       "<function __main__.Secretive.__inaccessible(self)>"
      ]
     },
     "execution_count": 17,
     "metadata": {},
     "output_type": "execute_result"
    }
   ],
   "source": [
    "Secretive._Secretive__inaccessible"
   ]
  },
  {
   "cell_type": "code",
   "execution_count": 18,
   "id": "c7b595cf",
   "metadata": {},
   "outputs": [
    {
     "name": "stdout",
     "output_type": "stream",
     "text": [
      "Bet you can't see me...\n"
     ]
    }
   ],
   "source": [
    "s._Secretive__inaccessible()"
   ]
  },
  {
   "cell_type": "code",
   "execution_count": 19,
   "id": "ce1f6cf6",
   "metadata": {},
   "outputs": [],
   "source": [
    "class MemberCounter:\n",
    "    members = 0\n",
    "    def init(self):\n",
    "        MemberCounter.members += 1"
   ]
  },
  {
   "cell_type": "code",
   "execution_count": 20,
   "id": "ac809ee2",
   "metadata": {},
   "outputs": [],
   "source": [
    "m1 = MemberCounter()"
   ]
  },
  {
   "cell_type": "code",
   "execution_count": 21,
   "id": "9979e4af",
   "metadata": {},
   "outputs": [],
   "source": [
    "m1.init()"
   ]
  },
  {
   "cell_type": "code",
   "execution_count": 22,
   "id": "466fd2c4",
   "metadata": {},
   "outputs": [
    {
     "data": {
      "text/plain": [
       "1"
      ]
     },
     "execution_count": 22,
     "metadata": {},
     "output_type": "execute_result"
    }
   ],
   "source": [
    "MemberCounter.members"
   ]
  },
  {
   "cell_type": "code",
   "execution_count": 25,
   "id": "e018dab0",
   "metadata": {},
   "outputs": [],
   "source": [
    "m2 = MemberCounter()\n",
    "m2.init()"
   ]
  },
  {
   "cell_type": "code",
   "execution_count": 27,
   "id": "089117c7",
   "metadata": {},
   "outputs": [
    {
     "data": {
      "text/plain": [
       "2"
      ]
     },
     "execution_count": 27,
     "metadata": {},
     "output_type": "execute_result"
    }
   ],
   "source": [
    "MemberCounter.members"
   ]
  },
  {
   "cell_type": "code",
   "execution_count": 28,
   "id": "395fdbc6",
   "metadata": {},
   "outputs": [
    {
     "data": {
      "text/plain": [
       "2"
      ]
     },
     "execution_count": 28,
     "metadata": {},
     "output_type": "execute_result"
    }
   ],
   "source": [
    "m1.members"
   ]
  },
  {
   "cell_type": "code",
   "execution_count": 29,
   "id": "3d48c983",
   "metadata": {},
   "outputs": [
    {
     "data": {
      "text/plain": [
       "2"
      ]
     },
     "execution_count": 29,
     "metadata": {},
     "output_type": "execute_result"
    }
   ],
   "source": [
    "m2.members"
   ]
  },
  {
   "cell_type": "code",
   "execution_count": 30,
   "id": "69bb867e",
   "metadata": {},
   "outputs": [],
   "source": [
    "m1.members = 'Two'"
   ]
  },
  {
   "cell_type": "code",
   "execution_count": 31,
   "id": "a176eafb",
   "metadata": {},
   "outputs": [
    {
     "data": {
      "text/plain": [
       "'Two'"
      ]
     },
     "execution_count": 31,
     "metadata": {},
     "output_type": "execute_result"
    }
   ],
   "source": [
    "m1.members"
   ]
  },
  {
   "cell_type": "code",
   "execution_count": 32,
   "id": "d819f81b",
   "metadata": {},
   "outputs": [
    {
     "data": {
      "text/plain": [
       "2"
      ]
     },
     "execution_count": 32,
     "metadata": {},
     "output_type": "execute_result"
    }
   ],
   "source": [
    "m2.members"
   ]
  },
  {
   "cell_type": "code",
   "execution_count": 47,
   "id": "ed3c134d",
   "metadata": {},
   "outputs": [],
   "source": [
    "class Filter:\n",
    "    def init(self):\n",
    "        self.blocked = []\n",
    "    def filter(self, sequence):\n",
    "        return [x for x in sequence if x not in self.blocked]\n",
    "class SPAMFilter(Filter): # SPAMFilter is the subclass of Filter\n",
    "    def init(self): # Overrides init method from Filter superclass\n",
    "        self.blocked = ['SPAM']"
   ]
  },
  {
   "cell_type": "code",
   "execution_count": 48,
   "id": "cd608d4c",
   "metadata": {},
   "outputs": [],
   "source": [
    "f = Filter()"
   ]
  },
  {
   "cell_type": "code",
   "execution_count": 49,
   "id": "59f79321",
   "metadata": {},
   "outputs": [],
   "source": [
    "f.init()"
   ]
  },
  {
   "cell_type": "code",
   "execution_count": 37,
   "id": "35ee1cf2",
   "metadata": {},
   "outputs": [
    {
     "data": {
      "text/plain": [
       "[1, 2, 3]"
      ]
     },
     "execution_count": 37,
     "metadata": {},
     "output_type": "execute_result"
    }
   ],
   "source": [
    "f.filter([1,2,3])"
   ]
  },
  {
   "cell_type": "code",
   "execution_count": 39,
   "id": "a8d473a1",
   "metadata": {},
   "outputs": [],
   "source": [
    "s = SPAMFilter()"
   ]
  },
  {
   "cell_type": "code",
   "execution_count": 40,
   "id": "fb513d1d",
   "metadata": {},
   "outputs": [],
   "source": [
    "s.init()"
   ]
  },
  {
   "cell_type": "code",
   "execution_count": 41,
   "id": "2c8183ac",
   "metadata": {},
   "outputs": [
    {
     "data": {
      "text/plain": [
       "['eggs', 'bacon']"
      ]
     },
     "execution_count": 41,
     "metadata": {},
     "output_type": "execute_result"
    }
   ],
   "source": [
    "s.filter(['SPAM','SPAM','SPAM','SPAM','eggs','bacon','SPAM'])"
   ]
  },
  {
   "cell_type": "code",
   "execution_count": 50,
   "id": "41e9b39a",
   "metadata": {},
   "outputs": [
    {
     "data": {
      "text/plain": [
       "['SPAM', 'EGG', 1, 2, 3, 'SPAM']"
      ]
     },
     "execution_count": 50,
     "metadata": {},
     "output_type": "execute_result"
    }
   ],
   "source": [
    "f.filter(['SPAM','EGG',1,2,3,'SPAM'])"
   ]
  },
  {
   "cell_type": "code",
   "execution_count": 52,
   "id": "7bff0a45",
   "metadata": {},
   "outputs": [
    {
     "data": {
      "text/plain": [
       "True"
      ]
     },
     "execution_count": 52,
     "metadata": {},
     "output_type": "execute_result"
    }
   ],
   "source": [
    "issubclass(SPAMFilter, Filter)"
   ]
  },
  {
   "cell_type": "code",
   "execution_count": 53,
   "id": "e5d35c0c",
   "metadata": {},
   "outputs": [
    {
     "data": {
      "text/plain": [
       "False"
      ]
     },
     "execution_count": 53,
     "metadata": {},
     "output_type": "execute_result"
    }
   ],
   "source": [
    "issubclass(Filter, SPAMFilter)"
   ]
  },
  {
   "cell_type": "code",
   "execution_count": 55,
   "id": "590c1624",
   "metadata": {},
   "outputs": [
    {
     "data": {
      "text/plain": [
       "(__main__.Filter,)"
      ]
     },
     "execution_count": 55,
     "metadata": {},
     "output_type": "execute_result"
    }
   ],
   "source": [
    "SPAMFilter.__bases__"
   ]
  },
  {
   "cell_type": "code",
   "execution_count": 56,
   "id": "87aa809c",
   "metadata": {},
   "outputs": [],
   "source": [
    "s = SPAMFilter()"
   ]
  },
  {
   "cell_type": "code",
   "execution_count": 57,
   "id": "89ae5fc9",
   "metadata": {},
   "outputs": [
    {
     "data": {
      "text/plain": [
       "True"
      ]
     },
     "execution_count": 57,
     "metadata": {},
     "output_type": "execute_result"
    }
   ],
   "source": [
    "isinstance(s, SPAMFilter)"
   ]
  },
  {
   "cell_type": "code",
   "execution_count": 58,
   "id": "5cef0f5f",
   "metadata": {},
   "outputs": [
    {
     "data": {
      "text/plain": [
       "True"
      ]
     },
     "execution_count": 58,
     "metadata": {},
     "output_type": "execute_result"
    }
   ],
   "source": [
    "isinstance(s, Filter)"
   ]
  },
  {
   "cell_type": "code",
   "execution_count": 59,
   "id": "77a29b2c",
   "metadata": {},
   "outputs": [
    {
     "data": {
      "text/plain": [
       "False"
      ]
     },
     "execution_count": 59,
     "metadata": {},
     "output_type": "execute_result"
    }
   ],
   "source": [
    "isinstance(s, str)"
   ]
  },
  {
   "cell_type": "code",
   "execution_count": 61,
   "id": "3993e8c8",
   "metadata": {},
   "outputs": [],
   "source": [
    "class Calculator:\n",
    "    def calculate(self, expression):\n",
    "        self.value = eval(expression)\n",
    "        \n",
    "class Talker:\n",
    "    def talk(self):\n",
    "        print('Hi, my value is',self.value)\n",
    "        \n",
    "class TalkingCalculator(Calculator, Talker):\n",
    "    pass"
   ]
  },
  {
   "cell_type": "code",
   "execution_count": 62,
   "id": "507757bd",
   "metadata": {},
   "outputs": [],
   "source": [
    "tc = TalkingCalculator()"
   ]
  },
  {
   "cell_type": "code",
   "execution_count": 63,
   "id": "6db29c48",
   "metadata": {},
   "outputs": [],
   "source": [
    "tc.calculate('1+2*3')"
   ]
  },
  {
   "cell_type": "code",
   "execution_count": 64,
   "id": "f876018b",
   "metadata": {},
   "outputs": [
    {
     "name": "stdout",
     "output_type": "stream",
     "text": [
      "Hi, my value is 7\n"
     ]
    }
   ],
   "source": [
    "tc.talk()"
   ]
  },
  {
   "cell_type": "code",
   "execution_count": 66,
   "id": "1c890667",
   "metadata": {},
   "outputs": [
    {
     "data": {
      "text/plain": [
       "True"
      ]
     },
     "execution_count": 66,
     "metadata": {},
     "output_type": "execute_result"
    }
   ],
   "source": [
    "hasattr(tc, 'talk')"
   ]
  },
  {
   "cell_type": "code",
   "execution_count": 67,
   "id": "5099f254",
   "metadata": {},
   "outputs": [
    {
     "data": {
      "text/plain": [
       "False"
      ]
     },
     "execution_count": 67,
     "metadata": {},
     "output_type": "execute_result"
    }
   ],
   "source": [
    "hasattr(tc, 'Fnord')"
   ]
  },
  {
   "cell_type": "code",
   "execution_count": 69,
   "id": "6f25b0a2",
   "metadata": {},
   "outputs": [
    {
     "data": {
      "text/plain": [
       "True"
      ]
     },
     "execution_count": 69,
     "metadata": {},
     "output_type": "execute_result"
    }
   ],
   "source": [
    "callable(getattr(tc,'talk', None))"
   ]
  },
  {
   "cell_type": "code",
   "execution_count": 70,
   "id": "bbc6fe8c",
   "metadata": {},
   "outputs": [
    {
     "data": {
      "text/plain": [
       "False"
      ]
     },
     "execution_count": 70,
     "metadata": {},
     "output_type": "execute_result"
    }
   ],
   "source": [
    "callable(getattr(tc,'Fnord', None))"
   ]
  },
  {
   "cell_type": "code",
   "execution_count": 71,
   "id": "eb7de93e",
   "metadata": {},
   "outputs": [],
   "source": [
    "from abc import ABC, abstractmethod\n",
    "class Talker(ABC):\n",
    "    @abstractmethod\n",
    "    def talk(self):\n",
    "        pass"
   ]
  },
  {
   "cell_type": "code",
   "execution_count": 72,
   "id": "14075ed9",
   "metadata": {},
   "outputs": [
    {
     "ename": "TypeError",
     "evalue": "Can't instantiate abstract class Talker with abstract method talk",
     "output_type": "error",
     "traceback": [
      "\u001b[0;31m---------------------------------------------------------------------------\u001b[0m",
      "\u001b[0;31mTypeError\u001b[0m                                 Traceback (most recent call last)",
      "\u001b[0;32m/tmp/ipykernel_17111/1101604852.py\u001b[0m in \u001b[0;36m<module>\u001b[0;34m\u001b[0m\n\u001b[0;32m----> 1\u001b[0;31m \u001b[0mTalker\u001b[0m\u001b[0;34m(\u001b[0m\u001b[0;34m)\u001b[0m\u001b[0;34m\u001b[0m\u001b[0;34m\u001b[0m\u001b[0m\n\u001b[0m",
      "\u001b[0;31mTypeError\u001b[0m: Can't instantiate abstract class Talker with abstract method talk"
     ]
    }
   ],
   "source": [
    "Talker()"
   ]
  },
  {
   "cell_type": "code",
   "execution_count": 74,
   "id": "9eb6b1b2",
   "metadata": {},
   "outputs": [],
   "source": [
    "class Knigger(Talker):\n",
    "    pass"
   ]
  },
  {
   "cell_type": "code",
   "execution_count": null,
   "id": "56992cd7",
   "metadata": {},
   "outputs": [],
   "source": [
    "class Knigget(Talker):\n",
    "    def talk(self):\n",
    "        print(\"Ni!\")"
   ]
  },
  {
   "cell_type": "code",
   "execution_count": 75,
   "id": "7b533dbc",
   "metadata": {},
   "outputs": [],
   "source": [
    "k = Knigget()"
   ]
  },
  {
   "cell_type": "code",
   "execution_count": 76,
   "id": "c2fd6524",
   "metadata": {},
   "outputs": [
    {
     "data": {
      "text/plain": [
       "True"
      ]
     },
     "execution_count": 76,
     "metadata": {},
     "output_type": "execute_result"
    }
   ],
   "source": [
    "isinstance(k,Talker)"
   ]
  },
  {
   "cell_type": "code",
   "execution_count": 77,
   "id": "cf19708d",
   "metadata": {},
   "outputs": [
    {
     "name": "stdout",
     "output_type": "stream",
     "text": [
      "Ni!\n"
     ]
    }
   ],
   "source": [
    "k.talk()"
   ]
  },
  {
   "cell_type": "code",
   "execution_count": null,
   "id": "1dbd6d12",
   "metadata": {},
   "outputs": [],
   "source": []
  },
  {
   "cell_type": "code",
   "execution_count": null,
   "id": "dc417e58",
   "metadata": {},
   "outputs": [],
   "source": []
  },
  {
   "cell_type": "code",
   "execution_count": null,
   "id": "52dc3f1c",
   "metadata": {},
   "outputs": [],
   "source": []
  }
 ],
 "metadata": {
  "kernelspec": {
   "display_name": "Python 3 (ipykernel)",
   "language": "python",
   "name": "python3"
  },
  "language_info": {
   "codemirror_mode": {
    "name": "ipython",
    "version": 3
   },
   "file_extension": ".py",
   "mimetype": "text/x-python",
   "name": "python",
   "nbconvert_exporter": "python",
   "pygments_lexer": "ipython3",
   "version": "3.9.7"
  }
 },
 "nbformat": 4,
 "nbformat_minor": 5
}
