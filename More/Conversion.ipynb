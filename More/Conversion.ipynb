{
 "cells": [
  {
   "cell_type": "code",
   "execution_count": 1,
   "id": "e57970c9",
   "metadata": {},
   "outputs": [
    {
     "name": "stdout",
     "output_type": "stream",
     "text": [
      "Millimeter: 305\n",
      "Centimeter:  30.5\n",
      "Meter:  0.305\n"
     ]
    }
   ],
   "source": [
    "#Metric Convertor\n",
    "#Length Conversion\n",
    "\n",
    "cm_to_mm=10\n",
    "mm_to_mtr=1000\n",
    "#dcm =10cm\n",
    "#mtr = 100cm\n",
    "#km = 10dcm\n",
    "#mm = 1000mtr\n",
    "a=input('Millimeter: ')\n",
    "#a1=input(‘Convert To: centimeter‘)\n",
    "conv_cm=int(a)/cm_to_mm\n",
    "conv_mm=int(a)/mm_to_mtr\n",
    "print('Centimeter: ',conv_cm)\n",
    "print('Meter: ',conv_mm)"
   ]
  },
  {
   "cell_type": "code",
   "execution_count": null,
   "id": "56f7c096",
   "metadata": {},
   "outputs": [],
   "source": []
  }
 ],
 "metadata": {
  "kernelspec": {
   "display_name": "Python 3 (ipykernel)",
   "language": "python",
   "name": "python3"
  },
  "language_info": {
   "codemirror_mode": {
    "name": "ipython",
    "version": 3
   },
   "file_extension": ".py",
   "mimetype": "text/x-python",
   "name": "python",
   "nbconvert_exporter": "python",
   "pygments_lexer": "ipython3",
   "version": "3.9.7"
  }
 },
 "nbformat": 4,
 "nbformat_minor": 5
}
