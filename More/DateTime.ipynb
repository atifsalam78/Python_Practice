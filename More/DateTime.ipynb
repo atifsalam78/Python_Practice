{
 "cells": [
  {
   "cell_type": "code",
   "execution_count": 2,
   "id": "6b933a6f",
   "metadata": {},
   "outputs": [
    {
     "data": {
      "text/plain": [
       "datetime.datetime(2022, 3, 13, 1, 5, 16, 452195)"
      ]
     },
     "execution_count": 2,
     "metadata": {},
     "output_type": "execute_result"
    }
   ],
   "source": [
    "# Dates using the imprt function\n",
    "\n",
    "from datetime import datetime\n",
    "\n",
    "datetime.now()"
   ]
  },
  {
   "cell_type": "code",
   "execution_count": 7,
   "id": "50dfee53",
   "metadata": {},
   "outputs": [
    {
     "name": "stdout",
     "output_type": "stream",
     "text": [
      "2022-03-13 01:08:37.552231\n",
      "<attribute 'year' of 'datetime.date' objects>\n",
      "<attribute 'month' of 'datetime.date' objects>\n",
      "<attribute 'day' of 'datetime.date' objects>\n"
     ]
    }
   ],
   "source": [
    "from datetime import datetime\n",
    "\n",
    "my_date = datetime.now()\n",
    "my_year = datetime.year\n",
    "my_month = datetime.month\n",
    "my_day = datetime.day\n",
    "\n",
    "print(my_date)\n",
    "print(my_year)\n",
    "print(my_month)\n",
    "print(my_day)"
   ]
  }
 ],
 "metadata": {
  "kernelspec": {
   "display_name": "Python 3 (ipykernel)",
   "language": "python",
   "name": "python3"
  },
  "language_info": {
   "codemirror_mode": {
    "name": "ipython",
    "version": 3
   },
   "file_extension": ".py",
   "mimetype": "text/x-python",
   "name": "python",
   "nbconvert_exporter": "python",
   "pygments_lexer": "ipython3",
   "version": "3.9.7"
  }
 },
 "nbformat": 4,
 "nbformat_minor": 5
}
