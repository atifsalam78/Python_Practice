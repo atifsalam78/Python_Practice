{
 "cells": [
  {
   "cell_type": "code",
   "execution_count": null,
   "id": "9156e8c7",
   "metadata": {},
   "outputs": [],
   "source": [
    "# https://www.practicepython.org/exercise/2014/01/29/01-character-input.html\n",
    "# Excercise No: 1\n",
    "\n",
    "name = input(\"Enter your Name: \")\n",
    "current_age = int(input(\"Enter your Age: \"))\n",
    "current_year = 2022\n",
    "future_age = 100 - current_age\n",
    "future_year = str(current_year + future_age)\n",
    "\n",
    "print(\"Hello! \" + name + \" You will become 100 years old in the year \" + future_year)\n"
   ]
  },
  {
   "cell_type": "code",
   "execution_count": null,
   "id": "5120ba22",
   "metadata": {},
   "outputs": [],
   "source": [
    "# Excercise No: 1 - Solution\n",
    "\n",
    "name = input(\"What is your name: \")\n",
    "age = int(input(\"How old are you: \"))\n",
    "year = 2014 - age + 100\n",
    "print(name + \", you will be 100 years old in the year \" + str(year))"
   ]
  },
  {
   "cell_type": "code",
   "execution_count": null,
   "id": "7ddc731a",
   "metadata": {},
   "outputs": [],
   "source": [
    "# https://www.practicepython.org/exercise/2014/02/05/02-odd-or-even.html\n",
    "# Excercise No: 2\n",
    "\n",
    "num = int(input(\"Enter The Number: \"))\n",
    "\n",
    "if num % 2 == 0:\n",
    "    print(num,\"Is a Even Number!\")\n",
    "elif num % 4 == 0:\n",
    "    print(num,\"Is a multiple of 4!\")\n",
    "else:\n",
    "    print(num,\"Is a Odd Number!\")\n",
    "\n"
   ]
  },
  {
   "cell_type": "code",
   "execution_count": null,
   "id": "e4ce7cf4",
   "metadata": {},
   "outputs": [],
   "source": [
    "# Excercise No: 2 - Solution-1\n",
    "num = int(input(\"Enter a number: \"))\n",
    "mod = num % 2\n",
    "if mod > 0:\n",
    "    print(\"You picked an odd number.\")\n",
    "else:\n",
    "    print(\"You picked an even number.\")"
   ]
  },
  {
   "cell_type": "code",
   "execution_count": null,
   "id": "17f4b304",
   "metadata": {},
   "outputs": [],
   "source": [
    "# Excercise No: 2 - Solution-2\n",
    "\n",
    "num = int(input(\"give me a number to check: \"))\n",
    "check = int(input(\"give me a number to divide by: \"))\n",
    "\n",
    "if num % 4 == 0:\n",
    "    print(num, \"is a multiple of 4\")\n",
    "elif num % 2 == 0:\n",
    "    print(num, \"is an even number\")\n",
    "else:\n",
    "    print(num, \"is an odd number\")\n",
    "\n",
    "if num % check == 0:\n",
    "    print(num, \"divides evenly by\", check)\n",
    "else:\n",
    "    print(num, \"does not divide evenly by\", check)"
   ]
  },
  {
   "cell_type": "code",
   "execution_count": null,
   "id": "4997f2b0",
   "metadata": {},
   "outputs": [],
   "source": [
    "# https://www.practicepython.org/exercise/2014/02/15/03-list-less-than-ten.html\n",
    "# Excercise No: 3-1\n",
    "list1 = [1,2,3,4,5,6,7,8,9,10,11,12,13,14,15,16,17,18,19,20]\n",
    "for list2 in list1:\n",
    "    if list2 < 5:\n",
    "        print(list2)"
   ]
  },
  {
   "cell_type": "code",
   "execution_count": null,
   "id": "42812460",
   "metadata": {},
   "outputs": [],
   "source": [
    "# Excercise No: 3-2\n",
    "\n",
    "a = [1,2,3,4,5,6,7,8,9,10,11,12,13,14,15,16,17,18,19,20]\n",
    "print( [ x for x in a if x<5 ] )"
   ]
  },
  {
   "cell_type": "code",
   "execution_count": null,
   "id": "97154aaf",
   "metadata": {},
   "outputs": [],
   "source": [
    "# And here is a sample solution that solves the exercise with extra 3\n",
    "\n",
    "#Create lists\n",
    "numbers = [7,3,13,6,8,5,1,2,4,15,9,10,12,14,11]\n",
    "lessFnums = []\n",
    "lessNnums =[]\n",
    "#Instead of printing the elements one by one, make a new list that has all the elements less than 5 from this list in it and print out this new list.\n",
    "for num in numbers:\n",
    "    if num < 5: #Compare numbers in list against 5\n",
    "        lessFnums.append(num) #Add numbers that are less than 5 to our list\n",
    "        lessFnums.sort() # Sort list\n",
    "#Print the List\n",
    "print(lessFnums)\n",
    "print()\n",
    "\n",
    "# Ask the user for a number and return a list that contains only elements from the original list a that are smaller than that number given by the user.\n",
    "num = int(input(\"Enter a number: \")) #Get a number from user\n",
    "for n in numbers:\n",
    "    if n < num: #Compare user number against numbers in list\n",
    "        lessNnums.append(n) #Add numbers that are less than user name to our list\n",
    "        lessNnums.sort() # Sort list\n",
    "#Print the list\n",
    "print(lessNnums)"
   ]
  },
  {
   "cell_type": "code",
   "execution_count": 17,
   "id": "9a166507",
   "metadata": {},
   "outputs": [
    {
     "name": "stdout",
     "output_type": "stream",
     "text": [
      "Enter Number: 10\n",
      "[10, 20, 30, 40, 50, 60, 70, 80, 90, 100]\n"
     ]
    }
   ],
   "source": [
    "# https://www.practicepython.org/exercise/2014/02/26/04-divisors.html\n",
    "# Excercise No: 4-1\n",
    "\n",
    "list1 = []\n",
    "\n",
    "num = int(input(\"Enter Number: \"))\n",
    "\n",
    "for x in range(1,101):\n",
    "    if x % num == 0:\n",
    "        list1.append(x)    \n",
    "print(list1)\n"
   ]
  },
  {
   "cell_type": "code",
   "execution_count": null,
   "id": "5b49eb1d",
   "metadata": {},
   "outputs": [],
   "source": [
    "# Excercise No: 4-2\n",
    "\n",
    "list1 = []\n",
    "\n",
    "num = int(input(\"Enter Number: \"))\n",
    "num2 = [x for x in range(1,101) if x % num == 0]\n",
    "print(num2)\n"
   ]
  },
  {
   "cell_type": "code",
   "execution_count": null,
   "id": "fccc290e",
   "metadata": {},
   "outputs": [],
   "source": [
    "# Excercise No: 4-2\n",
    "\n",
    "list1 = []\n",
    "\n",
    "num = int(input(\"Enter Number: \"))\n",
    "num2 = [x for x in range(1,101) if x % num == 0]\n",
    "print(num2)"
   ]
  },
  {
   "cell_type": "code",
   "execution_count": null,
   "id": "877179c7",
   "metadata": {},
   "outputs": [],
   "source": [
    "# Excercise No: 4-2 (Solution)\n",
    "\n",
    "num = int(input(\"Please choose a number to divide: \"))\n",
    "\n",
    "listRange = list(range(1,num+1))\n",
    "\n",
    "divisorList = []\n",
    "\n",
    "for number in listRange:\n",
    "    if num % number == 0:\n",
    "        divisorList.append(number)\n",
    "\n",
    "print(divisorList)"
   ]
  },
  {
   "cell_type": "code",
   "execution_count": null,
   "id": "df279529",
   "metadata": {},
   "outputs": [],
   "source": [
    "# https://www.practicepython.org/exercise/2014/03/05/05-list-overlap.html\n",
    "\n",
    "\"\"\"write a program that returns a list that contains only the elements that are common between the lists\n",
    "(without duplicates). Make sure your program works on two lists of different sizes.\n",
    "\"\"\"\n",
    "\n",
    "# Excercise No: 5  - Solution - 1\n",
    "\n",
    "a = [1, 1, 2, 3, 5, 8, 13, 21, 34, 55, 89]\n",
    "b = [1, 2, 3, 4, 5, 6, 7, 8, 9, 10, 11, 12, 13]\n",
    "print(set(a[x] for x in range(len(a))if a[x] in b))"
   ]
  },
  {
   "cell_type": "code",
   "execution_count": 1,
   "id": "b4494ec6",
   "metadata": {},
   "outputs": [
    {
     "name": "stdout",
     "output_type": "stream",
     "text": [
      "[1, 2, 3, 5, 8, 13]\n"
     ]
    }
   ],
   "source": [
    "# Excercise No: 5  - Solution - 2\n",
    "\n",
    "list1 = [1, 1, 2, 3, 5, 8, 13, 21, 34, 55, 89]\n",
    "list2 = [1, 2, 3, 4, 5, 6, 7, 8, 9, 10, 11, 12, 13]\n",
    "list3 = []\n",
    "for i in list1:\n",
    "    if i in list2 and i not in list3:\n",
    "        list3.append(i)\n",
    "print(list3)"
   ]
  },
  {
   "cell_type": "code",
   "execution_count": null,
   "id": "579b9367",
   "metadata": {},
   "outputs": [],
   "source": [
    "# Excercise No: 5  - Solution - 3\n",
    "\n",
    "list3 = [1, 1, 2, 3, 5, 8, 13, 21, 34, 55, 89]\n",
    "list4 = [1, 2, 3, 4, 5, 6, 7, 8, 9, 10, 11, 12, 13]\n",
    "\n",
    "print(list(set(list3) & set(list4)))"
   ]
  },
  {
   "cell_type": "code",
   "execution_count": null,
   "id": "078a130b",
   "metadata": {},
   "outputs": [],
   "source": [
    "# Excercise No: 5  - Solution - 4\n",
    "\n",
    "\"\"\" intersection(...)\n",
    "    Return the intersection of two sets as a new set.\n",
    "    (i.e. all elements that are in both sets.)\n",
    " \"\"\"\n",
    "\n",
    "a = [1, 1, 2, 3, 5, 8, 13, 21, 34, 55, 89]\n",
    "b = [1, 2, 3, 4, 5, 6, 7, 8, 9, 10, 11, 12, 13]\n",
    "\n",
    "c=set(a).intersection(set(b))\n",
    "print(list(c))"
   ]
  },
  {
   "cell_type": "code",
   "execution_count": null,
   "id": "3f78b585",
   "metadata": {},
   "outputs": [],
   "source": [
    "# Excercise No: 5  - Solution - 5 (Not Working)\n",
    "\n",
    "#list5 = [1, 1, 2, 3, 5, 8, 13, 21, 34, 55, 89]\n",
    "#list6 = [1, 2, 3, 4, 5, 6, 7, 8, 9, 10, 11, 12, 13]\n",
    "\n",
    "import random\n",
    "auto = [random.randint(1, 20) for _ in range(random.randint(10, 15))]\n",
    "beta = [random.randint(1, 20) for _ in range(random.randint(10, 15))]\n",
    "print(auto, beta)\n",
    "l = []"
   ]
  },
  {
   "cell_type": "code",
   "execution_count": null,
   "id": "ade11788",
   "metadata": {},
   "outputs": [],
   "source": [
    "# https://www.practicepython.org/exercise/2014/03/12/06-string-lists.html\n",
    "# Excercise No: 6\n",
    "\n",
    "list_normal = []\n",
    "list_revers = []\n",
    "string_input = (input(\"Enter any string to check plaindrome! \"))\n",
    "\n",
    "\n",
    "for y in string_input:\n",
    "    list_normal.append(y)\n",
    "    list_reverse = list(reversed(list_normal))\n",
    "    \n",
    "if list_normal == list_reverse:\n",
    "    print(\"Plaindrome String!\")\n",
    "else:\n",
    "    print(\"Normal String!\")"
   ]
  },
  {
   "cell_type": "code",
   "execution_count": null,
   "id": "3edb7f3b",
   "metadata": {},
   "outputs": [],
   "source": [
    "# https://www.practicepython.org/exercise/2014/03/12/06-string-lists.html\n",
    "# Excercise No: 6-2\n",
    "\n",
    "list_normal = list(input(\"Enter any string to check plaindrome! \"))\n",
    "\n",
    "list_reverse = list(reversed(string_input))\n",
    "\n",
    "if list_normal == list_reverse:\n",
    "    print(\"Plaindrome String!\")\n",
    "else:\n",
    "    print(\"Normal_String!\")"
   ]
  },
  {
   "cell_type": "code",
   "execution_count": null,
   "id": "d2073269",
   "metadata": {},
   "outputs": [],
   "source": [
    "# https://www.practicepython.org/exercise/2014/03/12/06-string-lists.html\n",
    "# Excercise No: 6 - Solution -1\n",
    "\n",
    "\n",
    "string1 = input(\"Enter Sting to Check! \")\n",
    "string2 = string1[::-1]\n",
    "\n",
    "if string1 == string2:\n",
    "    print(\"Plaindrome!\")\n",
    "else:\n",
    "    print(\"Normal!\")"
   ]
  },
  {
   "cell_type": "code",
   "execution_count": null,
   "id": "2bf7cbff",
   "metadata": {},
   "outputs": [],
   "source": [
    "# https://www.practicepython.org/exercise/2014/03/12/06-string-lists.html\n",
    "# Excercise No: 6 - Solution -2\n",
    "\n",
    "a = (input(\"Please enter your word: \")).lower()\n",
    "\n",
    "n = len(a)\n",
    "\n",
    "starting_alph = 0\n",
    "ending_alph = -1\n",
    "x = a[starting_alph]\n",
    "y = a[ending_alph]\n",
    "\n",
    "while True:\n",
    "    if n == 1 or (n == 2 and x == y):\n",
    "        print('Yes it is a palindrome.')\n",
    "        break\n",
    "    elif x != y:\n",
    "        print('No it is not a palindrome.')\n",
    "        break\n",
    "    elif x == y:\n",
    "        starting_alph += 1\n",
    "        ending_alph -= 1\n",
    "        n -=1\n",
    "        x = a[starting_alph]\n",
    "        y = a[ending_alph]"
   ]
  },
  {
   "cell_type": "code",
   "execution_count": null,
   "id": "a832323d",
   "metadata": {},
   "outputs": [],
   "source": [
    "# https://www.practicepython.org/exercise/2014/03/12/06-string-lists.html\n",
    "# Excercise No: 6 - Solution -3\n",
    "\n",
    "def reverse(word):\n",
    "    x = ''\n",
    "    for i in range(len(word)):\n",
    "        x += word[len(word)-1-i]\n",
    "    return x\n",
    "\n",
    "word = input('give me a word:\\n')\n",
    "x = reverse(word)\n",
    "if x == word:\n",
    "    print('This is a Palindrome')\n",
    "else:\n",
    "    print('This is NOT a Palindrome')"
   ]
  },
  {
   "cell_type": "code",
   "execution_count": null,
   "id": "0072d9e8",
   "metadata": {},
   "outputs": [],
   "source": [
    "# https://www.practicepython.org/exercise/2014/03/19/07-list-comprehensions.html\n",
    "# Excersice No: 7\n",
    "\n",
    "a = [1, 4, 9, 16, 25, 36, 49, 64, 81, 100]\n",
    "    \n",
    "for x in a:\n",
    "    if x % 2 == 0:\n",
    "        print(x)"
   ]
  },
  {
   "cell_type": "code",
   "execution_count": null,
   "id": "702e1d9e",
   "metadata": {},
   "outputs": [],
   "source": [
    "# https://www.practicepython.org/exercise/2014/03/19/07-list-comprehensions.html\n",
    "# Excersice No: 7-1\n",
    "a = [1, 4, 9, 16, 25, 36, 49, 64, 81, 100]\n",
    "b = [x for x in a if x % 2 == 0]\n",
    "print(b)\n"
   ]
  },
  {
   "cell_type": "code",
   "execution_count": null,
   "id": "ff82c12f",
   "metadata": {},
   "outputs": [],
   "source": [
    "# https://www.practicepython.org/exercise/2014/03/19/07-list-comprehensions.html\n",
    "# Excersice No: 7-2\n",
    "\n",
    "a = [1, 4, 9, 16, 25, 36, 49, 64, 81, 100]\n",
    "print([x for x in a if x % 2 == 0])"
   ]
  },
  {
   "cell_type": "code",
   "execution_count": null,
   "id": "462d0cde",
   "metadata": {},
   "outputs": [],
   "source": [
    "from string import Template\n",
    "temp1 = Template(\"Hello, $who! $what enough for ya?\")\n",
    "temp1.substitute(who=\"Mars\",what=\"Dusty\")"
   ]
  },
  {
   "cell_type": "code",
   "execution_count": null,
   "id": "372208f9",
   "metadata": {},
   "outputs": [],
   "source": [
    "# https://www.practicepython.org/exercise/2014/03/26/08-rock-paper-scissors.html\n",
    "# Excercise No: 8\n",
    "\n",
    "player1 = input(\"What Is Your Name: \")\n",
    "player2 = input(\"What Is Your Name: \")\n",
    "\n",
    "\n",
    "while True:    \n",
    "    player1_answer = input(\"%s What do you want to do (Rock/Paper/Scissors)?: \"%player1)\n",
    "    \n",
    "    player2_answer = input(\"%s What do you want to do (Rock/Paper/Scissors)?: \"%player2)\n",
    "    \n",
    "    if player1_answer == player2_answer:\n",
    "        print(\"Match Tie!\")\n",
    "        \n",
    "    elif player1_answer == \"rock\":\n",
    "        if player2_answer == \"scissors\":\n",
    "            print(\"Rock Wins!\")\n",
    "           \n",
    "        else:\n",
    "            print(\"Paper Wins!\")  \n",
    "            \n",
    "    elif player1_answer == \"scissors\":\n",
    "        if player2_answer == \"paper\":\n",
    "            print(\"Scissors wins!\")\n",
    "        else:\n",
    "            print(\"Rock Wins!\")\n",
    "            \n",
    "    elif player1_answer == \"paper\":\n",
    "        if player2_answer == \"rock\":\n",
    "            print(\"Paper Wins!\")\n",
    "        else:\n",
    "            print(\"Scissors Wins!\")\n",
    "    c = input(\"Do You Want To Continue (y/n): \")\n",
    "    if c == \"y\" or c == \"Y\":\n",
    "        print(\"Hurray....! Play More!\")\n",
    "        continue\n",
    "    else:\n",
    "        print(\"Game Over!\")\n",
    "        break"
   ]
  },
  {
   "cell_type": "code",
   "execution_count": null,
   "id": "46e1e5ed",
   "metadata": {},
   "outputs": [],
   "source": [
    "# https://www.practicepython.org/exercise/2014/03/26/08-rock-paper-scissors.html\n",
    "# Excercise No: 8 - Solution 1\n",
    "\n",
    "import sys\n",
    "\n",
    "user1 = input(\"What's your name?\")\n",
    "user2 = input(\"And your name?\")\n",
    "user1_answer = input(\"%s, do yo want to choose rock, paper or scissors?\" % user1)\n",
    "user2_answer = input(\"%s, do you want to choose rock, paper or scissors?\" % user2)\n",
    "\n",
    "def compare(u1, u2):\n",
    "    if u1 == u2:\n",
    "        return(\"It's a tie!\")\n",
    "    elif u1 == 'rock':\n",
    "        if u2 == 'scissors':\n",
    "            return(\"Rock wins!\")\n",
    "        else:\n",
    "            return(\"Paper wins!\")\n",
    "    elif u1 == 'scissors':\n",
    "        if u2 == 'paper':\n",
    "            return(\"Scissors win!\")\n",
    "        else:\n",
    "            return(\"Rock wins!\")\n",
    "    elif u1 == 'paper':\n",
    "        if u2 == 'rock':\n",
    "            return(\"Paper wins!\")\n",
    "        else:\n",
    "            return(\"Scissors win!\")\n",
    "    else:\n",
    "        return(\"Invalid input! You have not entered rock, paper or scissors, try again.\")\n",
    "        sys.exit()\n",
    "\n",
    "print(compare(user1_answer, user2_answer))"
   ]
  },
  {
   "cell_type": "code",
   "execution_count": null,
   "id": "9c098c74",
   "metadata": {},
   "outputs": [],
   "source": [
    "# https://www.practicepython.org/exercise/2014/03/26/08-rock-paper-scissors.html\n",
    "# Excercise No: 8 - Solution 2\n",
    "\n",
    "print('''Please pick one:\n",
    "            rock\n",
    "            scissors\n",
    "            paper''')\n",
    "\n",
    "while True:\n",
    "    game_dict = {'rock': 1, 'scissors': 2, 'paper': 3}\n",
    "    player_a = str(input(\"Player a: \"))\n",
    "    player_b = str(input(\"Player b: \"))\n",
    "    a = game_dict.get(player_a)\n",
    "    b = game_dict.get(player_b)\n",
    "    dif = a - b\n",
    "\n",
    "    if dif in [-1, 2]:\n",
    "        print('player a wins.')\n",
    "        if str(input('Do you want to play another game, yes or no?\\n')) == 'yes':\n",
    "            continue\n",
    "        else:\n",
    "            print('game over.')\n",
    "            break\n",
    "    elif dif in [-2, 1]:\n",
    "        print('player b wins.')\n",
    "        if str(input('Do you want to play another game, yes or no?\\n')) == 'yes':\n",
    "            continue\n",
    "        else:\n",
    "            print('game over.')\n",
    "            break\n",
    "    else:\n",
    "        print('Draw.Please continue.')\n",
    "        print('')"
   ]
  },
  {
   "cell_type": "code",
   "execution_count": null,
   "id": "8edaff73",
   "metadata": {},
   "outputs": [],
   "source": [
    "names = [\"Alice\",\"Beth\",\"Cecil\",\"Dee-Dee\",\"Earl\"]"
   ]
  },
  {
   "cell_type": "code",
   "execution_count": null,
   "id": "79e51f69",
   "metadata": {},
   "outputs": [],
   "source": [
    "numbers = [\"2341\",\"9102\",\"3158\",\"0142\",\"5551\"]"
   ]
  },
  {
   "cell_type": "code",
   "execution_count": null,
   "id": "ee146c6c",
   "metadata": {},
   "outputs": [],
   "source": [
    "numbers[names.index(\"Cecil\")]"
   ]
  },
  {
   "cell_type": "code",
   "execution_count": null,
   "id": "1e4bfc92",
   "metadata": {},
   "outputs": [],
   "source": [
    "phonebook = {\"Alice\":\"2341\",\"Beth\":\"9102\",\"Cecil\":\"3158\",\"Dee-Dee\":\"0142\",\"Earl\":\"5551\"}"
   ]
  },
  {
   "cell_type": "code",
   "execution_count": null,
   "id": "ecb4cda6",
   "metadata": {},
   "outputs": [],
   "source": [
    "phonebook[\"Cecil\"]"
   ]
  },
  {
   "cell_type": "code",
   "execution_count": null,
   "id": "4d06b500",
   "metadata": {},
   "outputs": [],
   "source": [
    "items = [(\"name\",\"Gumby\"),(\"age\",42)]\n",
    "d = dict(items)"
   ]
  },
  {
   "cell_type": "code",
   "execution_count": null,
   "id": "3020ab94",
   "metadata": {},
   "outputs": [],
   "source": [
    "d['name']"
   ]
  },
  {
   "cell_type": "code",
   "execution_count": null,
   "id": "498c0e7a",
   "metadata": {},
   "outputs": [],
   "source": [
    "d = dict(name = \"Atif Salam\",age = 42)"
   ]
  },
  {
   "cell_type": "code",
   "execution_count": null,
   "id": "72e0031f",
   "metadata": {},
   "outputs": [],
   "source": [
    "print(d)"
   ]
  },
  {
   "cell_type": "code",
   "execution_count": null,
   "id": "43d7e338",
   "metadata": {},
   "outputs": [],
   "source": [
    "x = dict()"
   ]
  },
  {
   "cell_type": "code",
   "execution_count": null,
   "id": "ffe627a0",
   "metadata": {},
   "outputs": [],
   "source": [
    "print(x)"
   ]
  },
  {
   "cell_type": "code",
   "execution_count": null,
   "id": "029a6d99",
   "metadata": {},
   "outputs": [],
   "source": [
    "dic = {1:\"Atif\",2:\"Manahil\"}"
   ]
  },
  {
   "cell_type": "code",
   "execution_count": null,
   "id": "c44ac7f1",
   "metadata": {},
   "outputs": [],
   "source": [
    "print(dic[1])"
   ]
  },
  {
   "cell_type": "code",
   "execution_count": null,
   "id": "828e8496",
   "metadata": {},
   "outputs": [],
   "source": [
    "# A Simple Database\n",
    "\n",
    "people = {\n",
    "    \"Alice\": {\n",
    "        \"phone\":\"2341\",\n",
    "        \"addr\": \"Foo Drive 23\"\n",
    "    },\n",
    "    \"Beth\": {\n",
    "        \"phone\":\"9102\",\n",
    "        \"add\": \"Bar Street 42\"\n",
    "    },\n",
    "    \"Cecil\": {\n",
    "        \"phone\":\"3158\",\n",
    "        \"addr\":\"Baz Avenue 90\"\n",
    "    }\n",
    "}\n",
    "\n",
    "labels = {\n",
    "    \"phone\": \"phone number\",\n",
    "    \"adr\" : \"address\"\n",
    "}\n",
    "\n",
    "name = input(\"Name: \")\n",
    "\n",
    "request = input(\"Phone Number(p) or address(a)? \")\n",
    "\n",
    "if request == \"p\": key = \"phone\"\n",
    "if request == \"a\" : key = \"addr\"\n",
    "\n",
    "if name in people: print(\"{}'s {} is {}.\".format(name,labels[key],people[name][key]))\n",
    "\n"
   ]
  },
  {
   "cell_type": "code",
   "execution_count": null,
   "id": "6ea08876",
   "metadata": {},
   "outputs": [],
   "source": [
    "# https://www.practicepython.org/exercise/2014/04/02/09-guessing-game-one.html\n",
    "# Excercise No: 9\n",
    "\n",
    "import random\n",
    "\n",
    "guess = 0\n",
    "cont = \"\"\n",
    "while True:\n",
    "    rand_number = random.randint(1,9)\n",
    "    user_input = int(input(\"Guess The Number between (1 - 9): \"))\n",
    "    \n",
    "    if user_input == rand_number:\n",
    "        print(\"Hurray! you exactly thinking what computer thinks!\")\n",
    "    \n",
    "    elif user_input < rand_number:\n",
    "        print(\"Lower you guess than computer!\")\n",
    "    \n",
    "    elif user_input > rand_number:\n",
    "        print(\"Higher you guess than computer!\")\n",
    "    guess += 1\n",
    "    cont = input(\"Wanna try again (Y/N): \")\n",
    "    if cont == \"y\" or cont == \"Y\":\n",
    "        continue\n",
    "    else:\n",
    "        print(\"Game Over!\")\n",
    "        print(\"You took only\", guess, \"tries\")\n",
    "        break"
   ]
  },
  {
   "cell_type": "code",
   "execution_count": null,
   "id": "9b99673f",
   "metadata": {},
   "outputs": [],
   "source": [
    "# https://www.practicepython.org/exercise/2014/04/02/09-guessing-game-one.html\n",
    "# Excercise No: 9 - Solution 1\n",
    "\n",
    "import random\n",
    "\n",
    "rd = random.randint(1,9)\n",
    "guess = 0\n",
    "c = 0\n",
    "while guess != rd and guess != \"exit\":\n",
    "    guess = input(\"Enter a guess between 1 to 9\")\n",
    "\n",
    "    if guess == \"exit\":\n",
    "        break\n",
    "\n",
    "    guess = int(guess)\n",
    "    c += 1\n",
    "\n",
    "    if guess < rd:\n",
    "        print(\"Too low\")\n",
    "    elif guess > rd:\n",
    "        print(\"Too high\")\n",
    "    else:\n",
    "        print(\"Right!\")\n",
    "        print(\"You took only\", c, \"tries!\")\n",
    "input()"
   ]
  },
  {
   "cell_type": "code",
   "execution_count": null,
   "id": "11e15e1e",
   "metadata": {},
   "outputs": [],
   "source": [
    "# https://www.practicepython.org/exercise/2014/04/02/09-guessing-game-one.html\n",
    "# Excercise No: 9 - Solution 2\n",
    "\n",
    "import random\n",
    "\n",
    "# Awroken\n",
    "\n",
    "MINIMUM = 1\n",
    "MAXIMUM = 9\n",
    "NUMBER = random.randint(MINIMUM, MAXIMUM)\n",
    "GUESS = None\n",
    "ANOTHER = None\n",
    "TRY = 0\n",
    "RUNNING = True\n",
    "\n",
    "print(\"Alright...\")\n",
    "\n",
    "while RUNNING:\n",
    "    GUESS = input(\"What is your lucky number? \")\n",
    "    if int(GUESS) < NUMBER:\n",
    "        print(\"Wrong, too low.\")\n",
    "    elif int(GUESS) > NUMBER:\n",
    "        print(\"Wrong, too high.\")\n",
    "    elif GUESS.lower() == \"exit\":\n",
    "        print(\"Better luck next time.\")\n",
    "    elif int(GUESS) == NUMBER:\n",
    "        print(\"Yes, that's the one, %s.\" % str(NUMBER))\n",
    "        if TRY < 2:\n",
    "            print(\"Impressive, only %s tries.\" % str(TRY))\n",
    "        elif TRY > 2 and TRY < 10:\n",
    "            print(\"Pretty good, %s tries.\" % str(TRY))\n",
    "        else:\n",
    "            print(\"Bad, %s tries.\" % str(TRY))\n",
    "        RUNNING = False\n",
    "    TRY += 1"
   ]
  },
  {
   "cell_type": "code",
   "execution_count": null,
   "id": "98caee1b",
   "metadata": {},
   "outputs": [],
   "source": [
    "#https://www.practicepython.org/exercise/2014/04/10/10-list-overlap-comprehensions.html\n",
    "# Excercise No: 10 - 1\n",
    "\n",
    "a = [1, 1, 2, 3, 5, 8, 13, 21, 34, 55, 89]\n",
    "b = [1, 2, 3, 4, 5, 6, 7, 8, 9, 10, 11, 12, 13]\n",
    "c = []\n",
    "for x in a:\n",
    "    if x in b:\n",
    "        c.append(x)\n",
    "list(set(c))"
   ]
  },
  {
   "cell_type": "code",
   "execution_count": null,
   "id": "aa316a87",
   "metadata": {},
   "outputs": [],
   "source": [
    "#https://www.practicepython.org/exercise/2014/04/10/10-list-overlap-comprehensions.html\n",
    "# Excercise No: 10 - 2\n",
    "\n",
    "a = [1, 1, 2, 3, 5, 8, 13, 21, 34, 55, 89]\n",
    "b = [1, 2, 3, 4, 5, 6, 7, 8, 9, 10, 11, 12, 13]\n",
    "c = [x for x in a if x in b]\n",
    "list(set(c))"
   ]
  },
  {
   "cell_type": "code",
   "execution_count": null,
   "id": "c62375d3",
   "metadata": {},
   "outputs": [],
   "source": [
    "#https://www.practicepython.org/exercise/2014/04/10/10-list-overlap-comprehensions.html\n",
    "# Excercise No: 10 - Solution 1\n",
    "\n",
    "import random\n",
    " \n",
    "a = random.sample(range(1,30), 12)\n",
    "b = random.sample(range(1,30), 16)\n",
    "result = [i for i in set(a) if i in b]\n",
    "print(a)\n",
    "print(b)\n",
    "print(result)"
   ]
  },
  {
   "cell_type": "code",
   "execution_count": null,
   "id": "2031b7a9",
   "metadata": {},
   "outputs": [],
   "source": [
    "#https://www.practicepython.org/exercise/2014/04/10/10-list-overlap-comprehensions.html\n",
    "# Excercise No: 10 - Solution 2\n",
    "\n",
    "import random\n",
    "ar = random.sample(range(1,30), 12)\n",
    "br = random.sample(range(1,30), 16)\n",
    "result_overlap = [i for i in set(ar) if i in br]\n",
    "result = []\n",
    "for element in result_overlap:\n",
    "    if element not in result:\n",
    "        result.append(element)\n",
    "print(ar)\n",
    "print(br)\n",
    "print(result)"
   ]
  },
  {
   "cell_type": "code",
   "execution_count": null,
   "id": "043a9746",
   "metadata": {},
   "outputs": [],
   "source": [
    "# https://www.practicepython.org/exercise/2014/04/16/11-check-primality-functions.html\n",
    "# Excercise No: 11\n",
    "\n",
    "user_number = int(input(\"Enter Number: \"))\n",
    "if user_number > 0:\n",
    "    for x in range(2,user_number-1):\n",
    "        if user_number % x != 0:\n",
    "            print(\"Prime\")\n",
    "        elif user_number % x == 0:\n",
    "            print(\"Not Prime!\")\n",
    "elif user_number < 0:\n",
    "    print(\"Not Prime\")\n",
    "elif user_number == 0:\n",
    "    print(\"Not Prime\")"
   ]
  },
  {
   "cell_type": "code",
   "execution_count": null,
   "id": "40e4c7f4",
   "metadata": {},
   "outputs": [],
   "source": [
    "# https://www.practicepython.org/exercise/2014/04/16/11-check-primality-functions.html\n",
    "# Excercise No: 11 - Solution 1\n",
    "\n",
    "import sys\n",
    "number = input(\"Please enter a number\" + \"\\n\" + \">>>\")\n",
    "number = int(number)\n",
    "prime = False #initiate boolean for true false, default false\n",
    "if number > 0:\n",
    "    for x in range (2, number - 1): #this range excludes number and 1, both of which number is divisible by\n",
    "        if number % x != 0: #If number isn't evenly divisible by x, start over with the next one\n",
    "            continue \n",
    "        elif number % x == 0: #If number is evenly divisible by x, it can't be prime\n",
    "            sys.exit(\"The number is not prime.\")\n",
    "    sys.exit(\"The number is prime.\") #number wasn't evenly divisible by any x, so it's prime\n",
    "elif number == 0:\n",
    "    sys.exit(\"The number is not prime.\") #According to the Google, 0 is not prime\n",
    "else:#if number is less than 0, the number is not prime (according to the Google).\n",
    "    sys.exit(\"The number is not prime.\")"
   ]
  },
  {
   "cell_type": "code",
   "execution_count": null,
   "id": "3eabb41c",
   "metadata": {},
   "outputs": [],
   "source": [
    "# https://www.practicepython.org/exercise/2014/04/16/11-check-primality-functions.html\n",
    "# Excercise No: 11 - Solution - 2\n",
    "\n",
    "num = int(input('Insert a number: '))\n",
    "a = [x for x in range(2, num) if num % x == 0]\n",
    "\n",
    "def is_prime(n):\n",
    "    if num > 1:\n",
    "        if len(a) == 0:\n",
    "            print(\"Prime\")\n",
    "        else:\n",
    "            print(\"Not Prime\")\n",
    "    else:\n",
    "        print(\"Not Prime\")\n",
    "is_prime(num)"
   ]
  },
  {
   "cell_type": "code",
   "execution_count": 12,
   "id": "47684db6",
   "metadata": {},
   "outputs": [
    {
     "name": "stdout",
     "output_type": "stream",
     "text": [
      "[[1, 30]]\n"
     ]
    }
   ],
   "source": [
    "# https://www.practicepython.org/exercise/2014/04/25/12-list-ends.html\n",
    "# Excercise No: 12 - 1\n",
    "\n",
    "list1 = [1,1,2,3,5,8,11,19,30]\n",
    "list2 = []\n",
    "list2.append(list1[::8])\n",
    "print(list2)"
   ]
  },
  {
   "cell_type": "code",
   "execution_count": null,
   "id": "c087648b",
   "metadata": {},
   "outputs": [],
   "source": [
    "# https://www.practicepython.org/exercise/2014/04/25/12-list-ends.html\n",
    "# Excercise No: 12 - 2\n",
    "\n",
    "list1 = [i for i in range(0,10)]\n",
    "list2 = [x for x in list1[::len(list1)-1]]\n",
    "print(list1)\n",
    "print(list2)"
   ]
  },
  {
   "cell_type": "code",
   "execution_count": null,
   "id": "0b2d5b8b",
   "metadata": {},
   "outputs": [],
   "source": [
    "# https://www.practicepython.org/exercise/2014/04/25/12-list-ends.html\n",
    "# Excercise No: 12 - 3\n",
    "import random\n",
    "\n",
    "list_one = [random.randint(1,100) for i in range(0,10)]\n",
    "list_two = []\n",
    "\n",
    "def listfunc (n):\n",
    "    list_two = [x for x in list_one[::len(list_one)-1]]\n",
    "    print(list_one)\n",
    "    print(list_two)\n",
    "    \n",
    "listfunc(list_two)"
   ]
  },
  {
   "cell_type": "code",
   "execution_count": null,
   "id": "5fb997fc",
   "metadata": {},
   "outputs": [],
   "source": [
    "# https://www.practicepython.org/exercise/2014/04/25/12-list-ends.html\n",
    "# Excercise No: 12 - Solution 1\n",
    "\n",
    "x_list = [1,1,2,3,5,8,11,19,30]\n",
    "a_list = []\n",
    "def list_ends(a_list):\n",
    "    return [x_list[0], x_list[len(x_list)-1]]\n",
    "list_ends(a_list)"
   ]
  },
  {
   "cell_type": "code",
   "execution_count": 120,
   "id": "8f21bdf3",
   "metadata": {},
   "outputs": [
    {
     "name": "stdout",
     "output_type": "stream",
     "text": [
      "How many fibonacci number: 10\n",
      "Fibonacci Sequence upto 10 :\n",
      "0, 1, 1, 2, 3, 5, 8, 13, 21, 34, \n"
     ]
    }
   ],
   "source": [
    "#https://www.practicepython.org/exercise/2014/04/30/13-fibonacci.html\n",
    "# Excersice No: 13\n",
    "\n",
    "n_terms = int(input(\"How many fibonacci number: \"))\n",
    "\n",
    "# First two terms\n",
    "n1 = 0\n",
    "n2 = 1\n",
    "count = 0\n",
    "\n",
    "print('Fibonacci Sequence upto',n_terms,\":\")\n",
    "while count < n_terms:\n",
    "    print(n1, end=', ')\n",
    "    nth = n1 + n2\n",
    "    \n",
    "    # update Values\n",
    "    n1 = n2\n",
    "    n2 = nth\n",
    "    count +=1\n",
    "print()\n",
    "\n",
    "\n"
   ]
  },
  {
   "cell_type": "code",
   "execution_count": 121,
   "id": "1bd1f12c",
   "metadata": {},
   "outputs": [
    {
     "name": "stdout",
     "output_type": "stream",
     "text": [
      "How many fibonacci numbers would you like to generate? 10\n"
     ]
    },
    {
     "data": {
      "text/plain": [
       "[1, 1, 2, 3, 5, 8, 13, 21, 34, 55]"
      ]
     },
     "execution_count": 121,
     "metadata": {},
     "output_type": "execute_result"
    }
   ],
   "source": [
    "#https://www.practicepython.org/exercise/2014/04/30/13-fibonacci.html\n",
    "# Excersice No: 13 - solution\n",
    "\n",
    "def gen_fib():\n",
    "    count = int(input(\"How many fibonacci numbers would you like to generate? \"))\n",
    "    i = 1\n",
    "    if count == 0:\n",
    "        fib = []\n",
    "    elif count == 1:\n",
    "        fib = [1]\n",
    "    elif count == 2:\n",
    "        fib = [1,1]\n",
    "    elif count > 2:\n",
    "        fib = [1,1]\n",
    "        while i < (count - 1):\n",
    "            fib.append(fib[i] + fib[i-1])\n",
    "            i += 1\n",
    "\n",
    "    return fib\n",
    "gen_fib()"
   ]
  },
  {
   "cell_type": "code",
   "execution_count": 1,
   "id": "bc965651",
   "metadata": {},
   "outputs": [
    {
     "name": "stdout",
     "output_type": "stream",
     "text": [
      "Enter your message: Atif $alam\n",
      "Spam Message!\n"
     ]
    }
   ],
   "source": [
    "msg = input (\"Enter your message: \")\n",
    "if \"$\" in msg:\n",
    "    print(\"Spam Message!\")\n",
    "else:\n",
    "    print(\"Not Spam!\")"
   ]
  },
  {
   "cell_type": "code",
   "execution_count": 16,
   "id": "9a4c453d",
   "metadata": {},
   "outputs": [
    {
     "name": "stdout",
     "output_type": "stream",
     "text": [
      "Please enter your name:  \n",
      "Hello, !\n"
     ]
    }
   ],
   "source": [
    "name = ''\n",
    "while not name.isspace():\n",
    "    name = input('Please enter your name: ')\n",
    "print('Hello,{}!'.format(name))"
   ]
  },
  {
   "cell_type": "code",
   "execution_count": 17,
   "id": "6b713eb6",
   "metadata": {},
   "outputs": [
    {
     "name": "stdout",
     "output_type": "stream",
     "text": [
      "this\n",
      "is\n",
      "an\n",
      "ex\n",
      "parrot\n"
     ]
    }
   ],
   "source": [
    "words = ['this','is','an','ex', 'parrot']\n",
    "for word in words:\n",
    "    print(word)"
   ]
  },
  {
   "cell_type": "code",
   "execution_count": 2,
   "id": "a090a26e",
   "metadata": {},
   "outputs": [
    {
     "name": "stdout",
     "output_type": "stream",
     "text": [
      "x corresponds to 1\n",
      "y corresponds to 2\n",
      "z corresponds to 3\n"
     ]
    }
   ],
   "source": [
    "d = {'x':1,'y':2,'z':3}\n",
    "for key in d:\n",
    "    print(key, 'corresponds to', d[key])"
   ]
  },
  {
   "cell_type": "code",
   "execution_count": 7,
   "id": "65ea36b8",
   "metadata": {},
   "outputs": [
    {
     "data": {
      "text/plain": [
       "<function dict.items>"
      ]
     },
     "execution_count": 7,
     "metadata": {},
     "output_type": "execute_result"
    }
   ],
   "source": [
    "d.items"
   ]
  },
  {
   "cell_type": "code",
   "execution_count": 8,
   "id": "2f061d29",
   "metadata": {},
   "outputs": [
    {
     "name": "stdout",
     "output_type": "stream",
     "text": [
      "x corresponds to 1\n",
      "y corresponds to 2\n",
      "z corresponds to 3\n"
     ]
    }
   ],
   "source": [
    "for key, value in d.items():\n",
    "    print(key, 'corresponds to', value)"
   ]
  },
  {
   "cell_type": "code",
   "execution_count": 24,
   "id": "282c3ad4",
   "metadata": {},
   "outputs": [
    {
     "name": "stdout",
     "output_type": "stream",
     "text": [
      "81\n"
     ]
    }
   ],
   "source": [
    "from math import sqrt\n",
    "for n in range(99,0,-1):\n",
    "    root = sqrt(n)\n",
    "    if root == int(root):\n",
    "        print(n)\n",
    "        break"
   ]
  },
  {
   "cell_type": "code",
   "execution_count": 82,
   "id": "ad95646b",
   "metadata": {},
   "outputs": [
    {
     "name": "stdout",
     "output_type": "stream",
     "text": [
      "[1, 2, 3, 4, 5, 6, 8, 10]\n"
     ]
    }
   ],
   "source": [
    "# https://www.practicepython.org/exercise/2014/05/15/14-list-remove-duplicates.html\n",
    "# Excersice No: 14 (With Set)\n",
    "list1 = [1, 2, 3, 4, 5, 6, 4, 8, 3, 10,2]\n",
    "list2 = []\n",
    "\n",
    "\n",
    "a = set(list1)\n",
    "for x in a:\n",
    "    list2.append(x)\n",
    "print(list2)\n"
   ]
  },
  {
   "cell_type": "code",
   "execution_count": 81,
   "id": "fbf51334",
   "metadata": {},
   "outputs": [
    {
     "name": "stdout",
     "output_type": "stream",
     "text": [
      "[]\n"
     ]
    }
   ],
   "source": [
    "# https://www.practicepython.org/exercise/2014/05/15/14-list-remove-duplicates.html\n",
    "# Excersice No: 14 (With loop)\n",
    "list1 = [1, 2, 3, 4, 5, 6, 4, 8, 3, 10,2]\n",
    "list2 = []\n",
    "for x in list1:\n",
    "    if x == list1:\n",
    "        list1.append(x)\n",
    "print(list2)\n"
   ]
  },
  {
   "cell_type": "code",
   "execution_count": 77,
   "id": "ef3caef6",
   "metadata": {},
   "outputs": [
    {
     "name": "stdout",
     "output_type": "stream",
     "text": [
      "[1, 2, 4, 9, 10]\n"
     ]
    }
   ],
   "source": [
    "list1 = [1, 1, 1, 2, 2, 3, 4, 8, 9, 9, 10]\n",
    "for number in list1:\n",
    "    for number2 in list1:\n",
    "        if number == number2:\n",
    "            list1.remove(number)\n",
    "\n",
    "print(list1)"
   ]
  },
  {
   "cell_type": "code",
   "execution_count": 85,
   "id": "d100f800",
   "metadata": {},
   "outputs": [
    {
     "data": {
      "text/plain": [
       "[0, 1, 4, 9, 16, 25, 36, 49, 64, 81]"
      ]
     },
     "execution_count": 85,
     "metadata": {},
     "output_type": "execute_result"
    }
   ],
   "source": [
    "[x * x for x in range(10)]"
   ]
  },
  {
   "cell_type": "code",
   "execution_count": 86,
   "id": "a668ee42",
   "metadata": {},
   "outputs": [
    {
     "data": {
      "text/plain": [
       "[0, 9, 36, 81]"
      ]
     },
     "execution_count": 86,
     "metadata": {},
     "output_type": "execute_result"
    }
   ],
   "source": [
    "[x * x for x in range(10) if x % 3 == 0 ]"
   ]
  },
  {
   "cell_type": "code",
   "execution_count": 87,
   "id": "fce1ed1d",
   "metadata": {},
   "outputs": [
    {
     "data": {
      "text/plain": [
       "[(0, 0), (0, 1), (0, 2), (1, 0), (1, 1), (1, 2), (2, 0), (2, 1), (2, 2)]"
      ]
     },
     "execution_count": 87,
     "metadata": {},
     "output_type": "execute_result"
    }
   ],
   "source": [
    "[(x,y) for x in range(3) for y in range(3)]"
   ]
  },
  {
   "cell_type": "code",
   "execution_count": 90,
   "id": "185dd3cc",
   "metadata": {},
   "outputs": [
    {
     "name": "stdout",
     "output_type": "stream",
     "text": [
      "[(0, 0), (0, 1), (0, 2), (1, 0), (1, 1), (1, 2), (2, 0), (2, 1), (2, 2)]\n"
     ]
    }
   ],
   "source": [
    "result = []\n",
    "for x in range(3):\n",
    "    for y in range(3):\n",
    "        result.append((x,y))\n",
    "print(result)"
   ]
  },
  {
   "cell_type": "code",
   "execution_count": 92,
   "id": "aa7282f0",
   "metadata": {},
   "outputs": [
    {
     "data": {
      "text/plain": [
       "['chris+clarice', 'arnold+alice', 'bob+bernice']"
      ]
     },
     "execution_count": 92,
     "metadata": {},
     "output_type": "execute_result"
    }
   ],
   "source": [
    "girls = ['alice','bernice','clarice']\n",
    "boys = ['chris','arnold','bob']\n",
    "[b+'+'+g for b in boys for g in girls if b[0] == g[0]]"
   ]
  },
  {
   "cell_type": "code",
   "execution_count": 94,
   "id": "d0d8599b",
   "metadata": {},
   "outputs": [
    {
     "name": "stdout",
     "output_type": "stream",
     "text": [
      "['chris+clarice', 'arnold+alice', 'bob+brnice']\n"
     ]
    }
   ],
   "source": [
    "girls = ['alice','brnice','clarice']\n",
    "boys = ['chris','arnold','bob']\n",
    "lettergirls = {}\n",
    "for girl in girls:\n",
    "    lettergirls.setdefault(girl[0],[]).append(girl)\n",
    "print([b+'+'+g for b in boys for g in lettergirls[b[0]]])"
   ]
  },
  {
   "cell_type": "code",
   "execution_count": 104,
   "id": "e3039c47",
   "metadata": {},
   "outputs": [
    {
     "data": {
      "text/plain": [
       "'9 squared is 81'"
      ]
     },
     "execution_count": 104,
     "metadata": {},
     "output_type": "execute_result"
    }
   ],
   "source": [
    "squares = {i: \"{} squared is {}\".format(i, i**2) for i in range(10)}\n",
    "squares[9]"
   ]
  },
  {
   "cell_type": "code",
   "execution_count": 1,
   "id": "00fa6da2",
   "metadata": {},
   "outputs": [
    {
     "name": "stdout",
     "output_type": "stream",
     "text": [
      "I_wish_to_register_a_complaint\n"
     ]
    }
   ],
   "source": [
    "print('I','wish','to','register','a','complaint',sep='_')"
   ]
  },
  {
   "cell_type": "code",
   "execution_count": 2,
   "id": "12b3aa1b",
   "metadata": {},
   "outputs": [],
   "source": [
    "values = 1,2,3"
   ]
  },
  {
   "cell_type": "code",
   "execution_count": 4,
   "id": "a4c849b0",
   "metadata": {},
   "outputs": [
    {
     "name": "stdout",
     "output_type": "stream",
     "text": [
      "(1, 2, 3)\n"
     ]
    }
   ],
   "source": [
    "print(values)"
   ]
  },
  {
   "cell_type": "code",
   "execution_count": 21,
   "id": "37ff93f2",
   "metadata": {},
   "outputs": [],
   "source": [
    "def fibs (num):\n",
    "    'Generate Fabonacci Series'\n",
    "    result = [0,1]\n",
    "    for i in range(num-2):\n",
    "        result.append(result[-2] + result[-1])\n",
    "    return result"
   ]
  },
  {
   "cell_type": "code",
   "execution_count": 16,
   "id": "6c978db0",
   "metadata": {},
   "outputs": [
    {
     "data": {
      "text/plain": [
       "[0, 1, 1, 2, 3, 5, 8, 13, 21, 34, 55, 89, 144, 233, 377]"
      ]
     },
     "execution_count": 16,
     "metadata": {},
     "output_type": "execute_result"
    }
   ],
   "source": [
    "fibs(15)"
   ]
  },
  {
   "cell_type": "code",
   "execution_count": 17,
   "id": "38ffdb66",
   "metadata": {},
   "outputs": [],
   "source": [
    "def square(x):\n",
    "    'Calculates the square of the number x'\n",
    "    return x * x"
   ]
  },
  {
   "cell_type": "code",
   "execution_count": 18,
   "id": "a7637c8b",
   "metadata": {},
   "outputs": [
    {
     "data": {
      "text/plain": [
       "100"
      ]
     },
     "execution_count": 18,
     "metadata": {},
     "output_type": "execute_result"
    }
   ],
   "source": [
    "square(10)"
   ]
  },
  {
   "cell_type": "code",
   "execution_count": 22,
   "id": "8f64f695",
   "metadata": {},
   "outputs": [
    {
     "name": "stdout",
     "output_type": "stream",
     "text": [
      "Help on function fibs in module __main__:\n",
      "\n",
      "fibs(num)\n",
      "    Generate Fabonacci Series\n",
      "\n"
     ]
    }
   ],
   "source": [
    "help(fibs)"
   ]
  },
  {
   "cell_type": "code",
   "execution_count": 24,
   "id": "456a6bba",
   "metadata": {},
   "outputs": [],
   "source": [
    "def test():\n",
    "    print(\"This is printed\")\n",
    "    return\n",
    "    print(\"This is not return\")"
   ]
  },
  {
   "cell_type": "code",
   "execution_count": 25,
   "id": "1a02e52b",
   "metadata": {},
   "outputs": [
    {
     "name": "stdout",
     "output_type": "stream",
     "text": [
      "This is printed\n"
     ]
    }
   ],
   "source": [
    "x = test()"
   ]
  },
  {
   "cell_type": "code",
   "execution_count": 27,
   "id": "7c8cd31e",
   "metadata": {},
   "outputs": [
    {
     "name": "stdout",
     "output_type": "stream",
     "text": [
      "None\n"
     ]
    }
   ],
   "source": [
    "print(x)"
   ]
  },
  {
   "cell_type": "code",
   "execution_count": 28,
   "id": "658b1922",
   "metadata": {},
   "outputs": [],
   "source": [
    "def try_to_change(n):\n",
    "    n = 'Mr. Gumby'    "
   ]
  },
  {
   "cell_type": "code",
   "execution_count": 29,
   "id": "aaf90e26",
   "metadata": {},
   "outputs": [],
   "source": [
    "name = 'Mrs Entity'\n",
    "try_to_change(name)"
   ]
  },
  {
   "cell_type": "code",
   "execution_count": 31,
   "id": "e8ebe933",
   "metadata": {},
   "outputs": [
    {
     "data": {
      "text/plain": [
       "'Mrs Entity'"
      ]
     },
     "execution_count": 31,
     "metadata": {},
     "output_type": "execute_result"
    }
   ],
   "source": [
    "name"
   ]
  },
  {
   "cell_type": "code",
   "execution_count": 32,
   "id": "76004902",
   "metadata": {},
   "outputs": [],
   "source": [
    "name = 'Mrs Entity'\n",
    "n = name\n",
    "n = 'Mr. Gumby'"
   ]
  },
  {
   "cell_type": "code",
   "execution_count": 33,
   "id": "b59c8800",
   "metadata": {},
   "outputs": [
    {
     "data": {
      "text/plain": [
       "'Mrs Entity'"
      ]
     },
     "execution_count": 33,
     "metadata": {},
     "output_type": "execute_result"
    }
   ],
   "source": [
    "name"
   ]
  },
  {
   "cell_type": "code",
   "execution_count": 34,
   "id": "06507c09",
   "metadata": {},
   "outputs": [],
   "source": [
    "def change(n):\n",
    "    n[0] = 'Mr. Gumby'"
   ]
  },
  {
   "cell_type": "code",
   "execution_count": 35,
   "id": "0ebefa29",
   "metadata": {},
   "outputs": [],
   "source": [
    "names = ['Mrs. Entity','Mrs. Thing']"
   ]
  },
  {
   "cell_type": "code",
   "execution_count": 36,
   "id": "1e2e4939",
   "metadata": {},
   "outputs": [],
   "source": [
    "change(names)"
   ]
  },
  {
   "cell_type": "code",
   "execution_count": 37,
   "id": "19104b33",
   "metadata": {},
   "outputs": [
    {
     "data": {
      "text/plain": [
       "['Mr. Gumby', 'Mrs. Thing']"
      ]
     },
     "execution_count": 37,
     "metadata": {},
     "output_type": "execute_result"
    }
   ],
   "source": [
    "names"
   ]
  },
  {
   "cell_type": "code",
   "execution_count": 38,
   "id": "ad2e6308",
   "metadata": {},
   "outputs": [],
   "source": [
    "names = ['Mrs. Entity','Mrs. Thing']\n",
    "n = names\n",
    "n[0] = 'Mr. Gumby'"
   ]
  },
  {
   "cell_type": "code",
   "execution_count": 39,
   "id": "8867c6a3",
   "metadata": {},
   "outputs": [
    {
     "data": {
      "text/plain": [
       "['Mr. Gumby', 'Mrs. Thing']"
      ]
     },
     "execution_count": 39,
     "metadata": {},
     "output_type": "execute_result"
    }
   ],
   "source": [
    "names"
   ]
  },
  {
   "cell_type": "code",
   "execution_count": 40,
   "id": "259c77ed",
   "metadata": {},
   "outputs": [],
   "source": [
    "n = names[:]"
   ]
  },
  {
   "cell_type": "code",
   "execution_count": 41,
   "id": "fb304d67",
   "metadata": {},
   "outputs": [
    {
     "data": {
      "text/plain": [
       "False"
      ]
     },
     "execution_count": 41,
     "metadata": {},
     "output_type": "execute_result"
    }
   ],
   "source": [
    "n is names"
   ]
  },
  {
   "cell_type": "code",
   "execution_count": 42,
   "id": "46da93f1",
   "metadata": {},
   "outputs": [
    {
     "data": {
      "text/plain": [
       "True"
      ]
     },
     "execution_count": 42,
     "metadata": {},
     "output_type": "execute_result"
    }
   ],
   "source": [
    "n ==  names"
   ]
  },
  {
   "cell_type": "code",
   "execution_count": 43,
   "id": "3a2f0965",
   "metadata": {},
   "outputs": [],
   "source": [
    "change (names[:])"
   ]
  },
  {
   "cell_type": "code",
   "execution_count": 44,
   "id": "4ffdda60",
   "metadata": {},
   "outputs": [
    {
     "data": {
      "text/plain": [
       "['Mr. Gumby', 'Mrs. Thing']"
      ]
     },
     "execution_count": 44,
     "metadata": {},
     "output_type": "execute_result"
    }
   ],
   "source": [
    "names"
   ]
  },
  {
   "cell_type": "code",
   "execution_count": 46,
   "id": "5ac38726",
   "metadata": {},
   "outputs": [
    {
     "name": "stdout",
     "output_type": "stream",
     "text": [
      "[0, 3, 6, 9]\n"
     ]
    }
   ],
   "source": [
    "list1 = []\n",
    "for i in range(0,10):\n",
    "    if i % 3 == 0:\n",
    "        list1.append(i)\n",
    "print(list1)"
   ]
  },
  {
   "cell_type": "code",
   "execution_count": 1,
   "id": "12d4f387",
   "metadata": {},
   "outputs": [],
   "source": [
    "names = [\"Mrs. Entity\",\"Mrs. Thing\"]\n",
    "n = names\n",
    "n[0] = \"Mr. Gumby\""
   ]
  },
  {
   "cell_type": "code",
   "execution_count": 2,
   "id": "b296527e",
   "metadata": {},
   "outputs": [
    {
     "data": {
      "text/plain": [
       "['Mr. Gumby', 'Mrs. Thing']"
      ]
     },
     "execution_count": 2,
     "metadata": {},
     "output_type": "execute_result"
    }
   ],
   "source": [
    "names"
   ]
  },
  {
   "cell_type": "code",
   "execution_count": 4,
   "id": "4dd3059e",
   "metadata": {},
   "outputs": [],
   "source": [
    "names = [\"Mrs. entity\", \"Mrs. thing\"]\n",
    "n = names[:]"
   ]
  },
  {
   "cell_type": "code",
   "execution_count": 5,
   "id": "01274086",
   "metadata": {},
   "outputs": [
    {
     "data": {
      "text/plain": [
       "False"
      ]
     },
     "execution_count": 5,
     "metadata": {},
     "output_type": "execute_result"
    }
   ],
   "source": [
    "n is names"
   ]
  },
  {
   "cell_type": "code",
   "execution_count": 6,
   "id": "947c6e78",
   "metadata": {},
   "outputs": [
    {
     "data": {
      "text/plain": [
       "True"
      ]
     },
     "execution_count": 6,
     "metadata": {},
     "output_type": "execute_result"
    }
   ],
   "source": [
    "n == names"
   ]
  },
  {
   "cell_type": "code",
   "execution_count": 7,
   "id": "8a8d8e65",
   "metadata": {},
   "outputs": [],
   "source": [
    "n[0] = 'Mr. Gumby'"
   ]
  },
  {
   "cell_type": "code",
   "execution_count": 8,
   "id": "e7d71545",
   "metadata": {},
   "outputs": [
    {
     "data": {
      "text/plain": [
       "['Mr. Gumby', 'Mrs. thing']"
      ]
     },
     "execution_count": 8,
     "metadata": {},
     "output_type": "execute_result"
    }
   ],
   "source": [
    "n"
   ]
  },
  {
   "cell_type": "code",
   "execution_count": 9,
   "id": "2ea8b398",
   "metadata": {},
   "outputs": [
    {
     "data": {
      "text/plain": [
       "['Mrs. entity', 'Mrs. thing']"
      ]
     },
     "execution_count": 9,
     "metadata": {},
     "output_type": "execute_result"
    }
   ],
   "source": [
    "names"
   ]
  },
  {
   "cell_type": "code",
   "execution_count": 21,
   "id": "60ec6798",
   "metadata": {},
   "outputs": [
    {
     "data": {
      "text/plain": [
       "['Mr. Gumby', 'Mrs. Thing']"
      ]
     },
     "execution_count": 21,
     "metadata": {},
     "output_type": "execute_result"
    }
   ],
   "source": [
    "def change(n):\n",
    "    n[0] = \"Mr. Gumby\"\n",
    "names = [\"Mrs. Entity\",\"Mrs. Thing\"]\n",
    "\n",
    "change(names)\n",
    "names"
   ]
  },
  {
   "cell_type": "code",
   "execution_count": 22,
   "id": "7bcee6d7",
   "metadata": {},
   "outputs": [],
   "source": [
    "storage = {}\n",
    "storage[\"first\"] = {}\n",
    "storage[\"middle\"] = {}\n",
    "storage[\"last\"] = {}"
   ]
  },
  {
   "cell_type": "code",
   "execution_count": 34,
   "id": "acb85ad9",
   "metadata": {},
   "outputs": [],
   "source": [
    "me = 'Atif Abdul Salam'\n",
    "storage['first']['Atif'] = [me]\n",
    "storage['middle']['Abdul'] = [me]\n",
    "storage['last']['Salam'] = [me]"
   ]
  },
  {
   "cell_type": "code",
   "execution_count": 35,
   "id": "bf241daa",
   "metadata": {},
   "outputs": [
    {
     "data": {
      "text/plain": [
       "['Atif Abdul Salam']"
      ]
     },
     "execution_count": 35,
     "metadata": {},
     "output_type": "execute_result"
    }
   ],
   "source": [
    "storage['middle']['Abdul']"
   ]
  },
  {
   "cell_type": "code",
   "execution_count": 50,
   "id": "c31d1e4f",
   "metadata": {},
   "outputs": [],
   "source": [
    "my_sister = 'Amber Abdul Salam'\n",
    "storage['first'].setdefault('Amber', []).append(my_sister)\n",
    "storage['middle'].setdefault('Abdul', []).append(my_sister)\n",
    "storage['middle'].setdefault('Salam',[]).append(my_sister)"
   ]
  },
  {
   "cell_type": "code",
   "execution_count": 37,
   "id": "030bfb93",
   "metadata": {},
   "outputs": [
    {
     "data": {
      "text/plain": [
       "['Amber Abdul Salam', 'Amber Abdul Salam']"
      ]
     },
     "execution_count": 37,
     "metadata": {},
     "output_type": "execute_result"
    }
   ],
   "source": [
    "storage['middle']['Salam']"
   ]
  },
  {
   "cell_type": "code",
   "execution_count": 48,
   "id": "65e7fb24",
   "metadata": {},
   "outputs": [],
   "source": [
    "my_sister2 = 'Shamsa Abdul Salam'\n",
    "storage['first'].setdefault('Shamsa', []).append(my_sister2)\n",
    "storage['middle'].setdefault('Abdul', []).append(my_sister2)\n",
    "storage['last'].setdefault('Salam',[]).append(my_sister2)"
   ]
  },
  {
   "cell_type": "code",
   "execution_count": 51,
   "id": "044928e8",
   "metadata": {},
   "outputs": [
    {
     "data": {
      "text/plain": [
       "['Atif Abdul Salam',\n",
       " 'Amber Abdul Salam',\n",
       " 'Shamsa Abdul Salam',\n",
       " 'Shamsa Abdul Salam',\n",
       " 'Shamsa Abdul Salam',\n",
       " 'Shamsa Abdul Salam',\n",
       " 'Amber Abdul Salam']"
      ]
     },
     "execution_count": 51,
     "metadata": {},
     "output_type": "execute_result"
    }
   ],
   "source": [
    "storage['middle']['Abdul']"
   ]
  },
  {
   "cell_type": "code",
   "execution_count": 73,
   "id": "d349e599",
   "metadata": {},
   "outputs": [],
   "source": [
    "def init(data):\n",
    "    data['first'] = {}\n",
    "    data['middle'] = {}\n",
    "    data['last'] = {}"
   ]
  },
  {
   "cell_type": "code",
   "execution_count": 74,
   "id": "480d7293",
   "metadata": {},
   "outputs": [],
   "source": [
    "def lookup(data,label,name):\n",
    "    return data[label].get(name)"
   ]
  },
  {
   "cell_type": "code",
   "execution_count": 75,
   "id": "f18a33d7",
   "metadata": {},
   "outputs": [
    {
     "data": {
      "text/plain": [
       "['Magnus Lie Hetland', 'Anne Lie Hetland']"
      ]
     },
     "execution_count": 75,
     "metadata": {},
     "output_type": "execute_result"
    }
   ],
   "source": [
    "lookup(storage,'middle','Lie')"
   ]
  },
  {
   "cell_type": "code",
   "execution_count": 76,
   "id": "0d98a7d0",
   "metadata": {},
   "outputs": [],
   "source": [
    "def store(data,full_name):\n",
    "    names = full_name.split()\n",
    "    if len(names) == 2: names.insert(1, '')\n",
    "    labels = 'first', 'middle', 'last'\n",
    "        \n",
    "    for label, names in zip(labels, names):\n",
    "        people = lookup(data, label, name)\n",
    "        if people:\n",
    "            people.append(full_name)\n",
    "        else:\n",
    "            data[label][name] = [full_name]\n",
    "        "
   ]
  },
  {
   "cell_type": "code",
   "execution_count": 80,
   "id": "98741cb4",
   "metadata": {},
   "outputs": [
    {
     "ename": "NameError",
     "evalue": "name 'data' is not defined",
     "output_type": "error",
     "traceback": [
      "\u001b[0;31m---------------------------------------------------------------------------\u001b[0m",
      "\u001b[0;31mNameError\u001b[0m                                 Traceback (most recent call last)",
      "\u001b[0;32m/tmp/ipykernel_10705/146642184.py\u001b[0m in \u001b[0;36m<module>\u001b[0;34m\u001b[0m\n\u001b[0;32m----> 1\u001b[0;31m \u001b[0mstore\u001b[0m\u001b[0;34m(\u001b[0m\u001b[0mdata\u001b[0m\u001b[0;34m,\u001b[0m \u001b[0;34m'Atif Salam'\u001b[0m\u001b[0;34m)\u001b[0m\u001b[0;34m\u001b[0m\u001b[0;34m\u001b[0m\u001b[0m\n\u001b[0m",
      "\u001b[0;31mNameError\u001b[0m: name 'data' is not defined"
     ]
    }
   ],
   "source": [
    "store(data, 'Atif Salam')"
   ]
  },
  {
   "cell_type": "code",
   "execution_count": 79,
   "id": "a665acbd",
   "metadata": {},
   "outputs": [
    {
     "ename": "NameError",
     "evalue": "name 'name' is not defined",
     "output_type": "error",
     "traceback": [
      "\u001b[0;31m---------------------------------------------------------------------------\u001b[0m",
      "\u001b[0;31mNameError\u001b[0m                                 Traceback (most recent call last)",
      "\u001b[0;32m/tmp/ipykernel_10705/1417924144.py\u001b[0m in \u001b[0;36m<module>\u001b[0;34m\u001b[0m\n\u001b[1;32m      1\u001b[0m \u001b[0mMyNames\u001b[0m \u001b[0;34m=\u001b[0m \u001b[0;34m{\u001b[0m\u001b[0;34m}\u001b[0m\u001b[0;34m\u001b[0m\u001b[0;34m\u001b[0m\u001b[0m\n\u001b[1;32m      2\u001b[0m \u001b[0minit\u001b[0m\u001b[0;34m(\u001b[0m\u001b[0mMyNames\u001b[0m\u001b[0;34m)\u001b[0m\u001b[0;34m\u001b[0m\u001b[0;34m\u001b[0m\u001b[0m\n\u001b[0;32m----> 3\u001b[0;31m \u001b[0mstore\u001b[0m\u001b[0;34m(\u001b[0m\u001b[0mMyNames\u001b[0m\u001b[0;34m,\u001b[0m\u001b[0;34m'Atif Abdul Salam'\u001b[0m\u001b[0;34m)\u001b[0m\u001b[0;34m\u001b[0m\u001b[0;34m\u001b[0m\u001b[0m\n\u001b[0m\u001b[1;32m      4\u001b[0m \u001b[0mlookup\u001b[0m\u001b[0;34m(\u001b[0m\u001b[0mMyNames\u001b[0m\u001b[0;34m,\u001b[0m\u001b[0;34m'middle'\u001b[0m\u001b[0;34m,\u001b[0m\u001b[0;34m'Abdul'\u001b[0m\u001b[0;34m)\u001b[0m\u001b[0;34m\u001b[0m\u001b[0;34m\u001b[0m\u001b[0m\n",
      "\u001b[0;32m/tmp/ipykernel_10705/1597943174.py\u001b[0m in \u001b[0;36mstore\u001b[0;34m(data, full_name)\u001b[0m\n\u001b[1;32m      5\u001b[0m \u001b[0;34m\u001b[0m\u001b[0m\n\u001b[1;32m      6\u001b[0m     \u001b[0;32mfor\u001b[0m \u001b[0mlabel\u001b[0m\u001b[0;34m,\u001b[0m \u001b[0mnames\u001b[0m \u001b[0;32min\u001b[0m \u001b[0mzip\u001b[0m\u001b[0;34m(\u001b[0m\u001b[0mlabels\u001b[0m\u001b[0;34m,\u001b[0m \u001b[0mnames\u001b[0m\u001b[0;34m)\u001b[0m\u001b[0;34m:\u001b[0m\u001b[0;34m\u001b[0m\u001b[0;34m\u001b[0m\u001b[0m\n\u001b[0;32m----> 7\u001b[0;31m         \u001b[0mpeople\u001b[0m \u001b[0;34m=\u001b[0m \u001b[0mlookup\u001b[0m\u001b[0;34m(\u001b[0m\u001b[0mdata\u001b[0m\u001b[0;34m,\u001b[0m \u001b[0mlabel\u001b[0m\u001b[0;34m,\u001b[0m \u001b[0mname\u001b[0m\u001b[0;34m)\u001b[0m\u001b[0;34m\u001b[0m\u001b[0;34m\u001b[0m\u001b[0m\n\u001b[0m\u001b[1;32m      8\u001b[0m         \u001b[0;32mif\u001b[0m \u001b[0mpeople\u001b[0m\u001b[0;34m:\u001b[0m\u001b[0;34m\u001b[0m\u001b[0;34m\u001b[0m\u001b[0m\n\u001b[1;32m      9\u001b[0m             \u001b[0mpeople\u001b[0m\u001b[0;34m.\u001b[0m\u001b[0mappend\u001b[0m\u001b[0;34m(\u001b[0m\u001b[0mfull_name\u001b[0m\u001b[0;34m)\u001b[0m\u001b[0;34m\u001b[0m\u001b[0;34m\u001b[0m\u001b[0m\n",
      "\u001b[0;31mNameError\u001b[0m: name 'name' is not defined"
     ]
    }
   ],
   "source": [
    "MyNames = {}\n",
    "init(MyNames)\n",
    "store(MyNames,'Atif Abdul Salam')\n",
    "lookup(MyNames,'middle','Abdul')"
   ]
  }
 ],
 "metadata": {
  "kernelspec": {
   "display_name": "Python 3 (ipykernel)",
   "language": "python",
   "name": "python3"
  },
  "language_info": {
   "codemirror_mode": {
    "name": "ipython",
    "version": 3
   },
   "file_extension": ".py",
   "mimetype": "text/x-python",
   "name": "python",
   "nbconvert_exporter": "python",
   "pygments_lexer": "ipython3",
   "version": "3.9.7"
  }
 },
 "nbformat": 4,
 "nbformat_minor": 5
}
