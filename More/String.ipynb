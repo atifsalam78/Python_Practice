{
 "cells": [
  {
   "cell_type": "code",
   "execution_count": null,
   "id": "15abbb70",
   "metadata": {},
   "outputs": [],
   "source": [
    "abubakr='first caliph'\n",
    "print(abubakr)"
   ]
  },
  {
   "cell_type": "code",
   "execution_count": 1,
   "id": "509bf1d7",
   "metadata": {},
   "outputs": [
    {
     "ename": "SyntaxError",
     "evalue": "EOL while scanning string literal (<ipython-input-1-282a66673492>, line 1)",
     "output_type": "error",
     "traceback": [
      "\u001b[1;36m  File \u001b[1;32m\"<ipython-input-1-282a66673492>\"\u001b[1;36m, line \u001b[1;32m1\u001b[0m\n\u001b[1;33m    omer=\"second caliph\u001b[0m\n\u001b[1;37m                       ^\u001b[0m\n\u001b[1;31mSyntaxError\u001b[0m\u001b[1;31m:\u001b[0m EOL while scanning string literal\n"
     ]
    }
   ],
   "source": [
    "omer=\"second caliph\n",
    "A comapanion of prx\"\n",
    "print(omer)"
   ]
  },
  {
   "cell_type": "code",
   "execution_count": null,
   "id": "9b83d433",
   "metadata": {},
   "outputs": [],
   "source": [
    "abubakr='first caliph\n",
    "A companion of Prophet Muhammad Peace be upon him'\n",
    "print(abubakr)"
   ]
  },
  {
   "cell_type": "code",
   "execution_count": null,
   "id": "60ed57d9",
   "metadata": {},
   "outputs": [],
   "source": [
    "abubakr='''first caliph\n",
    "A companion of Prophet Muhammad Peace be upon him'''\n",
    "print(abubakr)"
   ]
  },
  {
   "cell_type": "code",
   "execution_count": null,
   "id": "892b0485",
   "metadata": {},
   "outputs": [],
   "source": [
    "silly_string='He Said, \"Aren't can't shouldn't wouldn't.\"'\n",
    "print(silly_string)"
   ]
  },
  {
   "cell_type": "code",
   "execution_count": null,
   "id": "9fb9618a",
   "metadata": {},
   "outputs": [],
   "source": [
    "silly_string='''He Said, \"Aren't can't shouldn't wouldn't.\"'''\n",
    "print(silly_string)"
   ]
  },
  {
   "cell_type": "code",
   "execution_count": null,
   "id": "994ba1ed",
   "metadata": {},
   "outputs": [],
   "source": [
    "single_quote_str='He Said, \"Aren\\'t can\\'t shouldn\\'t wouldn\\'t.\"'\n",
    "print(single_quote_str)"
   ]
  },
  {
   "cell_type": "code",
   "execution_count": null,
   "id": "bea8d043",
   "metadata": {},
   "outputs": [],
   "source": [
    "double_quote_str=\"He Said, \\\"Aren't can't shouldn't wouldn't.\\\"\"\n",
    "print(double_quote_str)"
   ]
  },
  {
   "cell_type": "code",
   "execution_count": null,
   "id": "3c338b40",
   "metadata": {},
   "outputs": [],
   "source": [
    "myscore=1000\n",
    "message='I Scored %s points'\n",
    "print(message % myscore)"
   ]
  },
  {
   "cell_type": "code",
   "execution_count": null,
   "id": "6c6eae81",
   "metadata": {},
   "outputs": [],
   "source": [
    "nums='What did the number %s say to the number %s? Nice Belt!!'\n",
    "print(nums %(0,8))"
   ]
  },
  {
   "cell_type": "code",
   "execution_count": null,
   "id": "75a98a46",
   "metadata": {},
   "outputs": [],
   "source": [
    "num_zero=0\n",
    "num_eight=8\n",
    "nums='What did the number %s say to the number %s? Nice Belt!!'\n",
    "print(nums %(num_zero,num_eight))"
   ]
  },
  {
   "cell_type": "code",
   "execution_count": null,
   "id": "e25388b7",
   "metadata": {},
   "outputs": [],
   "source": [
    "print(10*'a')"
   ]
  },
  {
   "cell_type": "code",
   "execution_count": 6,
   "id": "cac05b23",
   "metadata": {},
   "outputs": [
    {
     "name": "stdout",
     "output_type": "stream",
     "text": [
      "                         12 DHA Phase 5\n",
      "                         Clifton\n",
      "                         West Snoring\n",
      "\n",
      "\n",
      "Dear Sir\n",
      "\n",
      "I wish to report that tiles are missing from the\n",
      "outside toilet roof\n",
      "I think it was bad wind the other night that blew them away.\n",
      "\n",
      "Regards\n",
      "sharfo\n"
     ]
    }
   ],
   "source": [
    "spaces=' '*25\n",
    "print('%s12 DHA Phase 5'%spaces)\n",
    "print('%sClifton'%spaces)\n",
    "print('%sWest Snoring'%spaces)\n",
    "print()\n",
    "print()\n",
    "print('Dear Sir')\n",
    "print()\n",
    "print('I wish to report that tiles are missing from the')\n",
    "print('outside toilet roof')\n",
    "print('I think it was bad wind the other night that blew them away.')\n",
    "print()\n",
    "print('Regards')\n",
    "print('sharfo')"
   ]
  },
  {
   "cell_type": "code",
   "execution_count": 34,
   "id": "49d99cd0",
   "metadata": {},
   "outputs": [
    {
     "name": "stdout",
     "output_type": "stream",
     "text": [
      "KarachiKarachiKarachiKarachiKarachiKarachiKarachiKarachiKarachiKarachiKarachiKarachiKarachiKarachiKarachiKarachiKarachiKarachiKarachiKarachiKarachiKarachiKarachiKarachiKarachiKarachiKarachiKarachiKarachiKarachiKarachiKarachiKarachiKarachiKarachiKarachiKarachiKarachiKarachiKarachiKarachiKarachiKarachiKarachiKarachiKarachiKarachiKarachiKarachiKarachiKarachiKarachiKarachiKarachiKarachiKarachiKarachiKarachiKarachiKarachiKarachiKarachiKarachiKarachiKarachiKarachiKarachiKarachiKarachiKarachiKarachiKarachiKarachiKarachiKarachiKarachiKarachiKarachiKarachiKarachiKarachiKarachiKarachiKarachiKarachiKarachiKarachiKarachiKarachiKarachiKarachiKarachiKarachiKarachiKarachiKarachiKarachiKarachiKarachiKarachiKarachiKarachiKarachiKarachiKarachiKarachiKarachiKarachiKarachiKarachiKarachiKarachiKarachiKarachiKarachiKarachiKarachiKarachiKarachiKarachiKarachiKarachiKarachiKarachiKarachiKarachiKarachiKarachiKarachiKarachiKarachiKarachiKarachiKarachiKarachiKarachiKarachiKarachiKarachiKarachiKarachiKarachiKarachiKarachiKarachiKarachiKarachiKarachiKarachiKarachiKarachiKarachiKarachiKarachiKarachiKarachiKarachiKarachiKarachiKarachiKarachiKarachiKarachiKarachiKarachiKarachiKarachiKarachiKarachiKarachiKarachiKarachiKarachiKarachiKarachiKarachiKarachiKarachiKarachiKarachiKarachiKarachiKarachiKarachiKarachiKarachiKarachiKarachiKarachiKarachiKarachiKarachiKarachiKarachiKarachiKarachiKarachiKarachiKarachiKarachiKarachiKarachiKarachiKarachiKarachiKarachiKarachiKarachiKarachiKarachiKarachiKarachiKarachiKarachiKarachiKarachiKarachiKarachiKarachiKarachiKarachiKarachiKarachiKarachiKarachiKarachiKarachiKarachiKarachiKarachiKarachiKarachiKarachiKarachiKarachiKarachiKarachiKarachiKarachiKarachiKarachiKarachiKarachiKarachiKarachiKarachiKarachiKarachiKarachiKarachiKarachiKarachiKarachiKarachiKarachiKarachiKarachiKarachiKarachiKarachiKarachiKarachiKarachiKarachiKarachiKarachiKarachiKarachiKarachiKarachiKarachiKarachiKarachiKarachiKarachiKarachiKarachiKarachiKarachiKarachiKarachiKarachiKarachiKarachiKarachiKarachiKarachiKarachiKarachiKarachiKarachiKarachiKarachiKarachiKarachiKarachiKarachiKarachiKarachiKarachiKarachiKarachiKarachiKarachiKarachiKarachiKarachiKarachiKarachiKarachiKarachiKarachiKarachiKarachiKarachiKarachiKarachiKarachiKarachiKarachiKarachiKarachiKarachiKarachiKarachiKarachiKarachiKarachiKarachiKarachiKarachiKarachiKarachiKarachiKarachiKarachiKarachiKarachiKarachiKarachiKarachiKarachiKarachiKarachiKarachiKarachiKarachiKarachiKarachiKarachiKarachiKarachiKarachiKarachiKarachiKarachiKarachiKarachiKarachiKarachiKarachiKarachiKarachiKarachiKarachiKarachiKarachiKarachiKarachiKarachiKarachiKarachiKarachiKarachiKarachiKarachiKarachiKarachiKarachiKarachiKarachiKarachiKarachiKarachiKarachiKarachiKarachiKarachiKarachiKarachiKarachiKarachiKarachiKarachiKarachiKarachiKarachiKarachiKarachiKarachiKarachiKarachiKarachiKarachiKarachiKarachiKarachiKarachiKarachiKarachiKarachiKarachiKarachiKarachiKarachiKarachiKarachiKarachiKarachiKarachiKarachiKarachiKarachiKarachiKarachiKarachiKarachiKarachiKarachiKarachiKarachiKarachiKarachiKarachiKarachiKarachiKarachiKarachiKarachiKarachiKarachiKarachiKarachiKarachiKarachiKarachiKarachiKarachiKarachiKarachiKarachiKarachiKarachiKarachiKarachiKarachiKarachiKarachiKarachiKarachiKarachiKarachiKarachiKarachiKarachiKarachiKarachiKarachiKarachiKarachiKarachiKarachiKarachiKarachiKarachiKarachiKarachiKarachiKarachiKarachiKarachiKarachiKarachiKarachiKarachiKarachiKarachiKarachiKarachiKarachiKarachiKarachiKarachiKarachiKarachiKarachiKarachiKarachiKarachiKarachiKarachiKarachiKarachiKarachiKarachiKarachiKarachiKarachiKarachiKarachiKarachiKarachiKarachiKarachiKarachiKarachiKarachiKarachiKarachiKarachiKarachiKarachiKarachiKarachiKarachiKarachiKarachiKarachiKarachiKarachiKarachiKarachiKarachiKarachiKarachiKarachiKarachiKarachiKarachiKarachiKarachiKarachiKarachiKarachiKarachiKarachiKarachiKarachiKarachiKarachiKarachiKarachiKarachiKarachiKarachiKarachiKarachiKarachiKarachiKarachiKarachiKarachiKarachiKarachiKarachiKarachiKarachiKarachiKarachiKarachiKarachiKarachiKarachiKarachiKarachiKarachiKarachiKarachiKarachiKarachiKarachiKarachiKarachiKarachiKarachiKarachiKarachiKarachiKarachiKarachiKarachiKarachiKarachiKarachiKarachiKarachiKarachiKarachiKarachiKarachiKarachiKarachiKarachiKarachiKarachiKarachiKarachiKarachiKarachiKarachiKarachiKarachiKarachiKarachiKarachiKarachiKarachiKarachiKarachiKarachiKarachiKarachiKarachiKarachiKarachiKarachiKarachiKarachiKarachiKarachiKarachiKarachiKarachiKarachiKarachiKarachiKarachiKarachiKarachiKarachiKarachiKarachiKarachiKarachiKarachiKarachiKarachiKarachiKarachiKarachiKarachiKarachiKarachiKarachiKarachiKarachiKarachiKarachiKarachiKarachiKarachiKarachiKarachiKarachiKarachiKarachiKarachiKarachiKarachiKarachiKarachiKarachiKarachiKarachiKarachiKarachiKarachiKarachiKarachiKarachiKarachiKarachiKarachiKarachiKarachiKarachiKarachiKarachiKarachiKarachiKarachiKarachiKarachiKarachiKarachiKarachiKarachiKarachiKarachiKarachiKarachiKarachiKarachiKarachiKarachiKarachiKarachiKarachiKarachiKarachiKarachiKarachiKarachiKarachiKarachiKarachiKarachiKarachiKarachiKarachiKarachiKarachiKarachiKarachiKarachiKarachiKarachiKarachiKarachiKarachiKarachiKarachiKarachiKarachiKarachiKarachiKarachiKarachiKarachiKarachiKarachiKarachiKarachiKarachiKarachiKarachiKarachiKarachiKarachiKarachiKarachiKarachiKarachiKarachiKarachiKarachiKarachiKarachiKarachiKarachiKarachiKarachiKarachiKarachiKarachiKarachiKarachiKarachiKarachiKarachiKarachiKarachiKarachiKarachiKarachiKarachiKarachiKarachiKarachiKarachiKarachiKarachiKarachiKarachiKarachiKarachiKarachiKarachiKarachiKarachiKarachiKarachiKarachiKarachiKarachiKarachiKarachiKarachiKarachiKarachiKarachiKarachiKarachiKarachiKarachiKarachiKarachiKarachiKarachiKarachiKarachiKarachiKarachiKarachiKarachiKarachiKarachiKarachiKarachiKarachiKarachiKarachiKarachiKarachiKarachiKarachiKarachiKarachiKarachiKarachiKarachiKarachiKarachiKarachiKarachiKarachiKarachiKarachiKarachiKarachiKarachiKarachiKarachiKarachiKarachiKarachiKarachiKarachiKarachiKarachiKarachiKarachiKarachiKarachiKarachiKarachiKarachiKarachiKarachiKarachiKarachiKarachiKarachiKarachiKarachiKarachiKarachiKarachiKarachiKarachiKarachiKarachiKarachiKarachiKarachiKarachiKarachiKarachiKarachiKarachiKarachiKarachiKarachiKarachiKarachiKarachiKarachiKarachiKarachiKarachiKarachiKarachiKarachiKarachiKarachiKarachiKarachiKarachiKarachiKarachiKarachiKarachiKarachiKarachiKarachiKarachiKarachiKarachiKarachiKarachiKarachiKarachiKarachiKarachiKarachiKarachiKarachiKarachiKarachiKarachiKarachiKarachiKarachiKarachiKarachiKarachiKarachiKarachiKarachiKarachiKarachiKarachiKarachiKarachiKarachiKarachiKarachiKarachiKarachiKarachiKarachiKarachiKarachiKarachiKarachiKarachiKarachiKarachiKarachiKarachiKarachiKarachiKarachiKarachiKarachiKarachiKarachiKarachiKarachiKarachiKarachiKarachiKarachiKarachiKarachiKarachiKarachiKarachiKarachiKarachiKarachiKarachiKarachiKarachiKarachiKarachiKarachiKarachiKarachiKarachiKarachiKarachiKarachiKarachiKarachiKarachiKarachiKarachiKarachiKarachiKarachiKarachiKarachiKarachiKarachiKarachiKarachiKarachiKarachiKarachi\n"
     ]
    }
   ],
   "source": [
    "print(1000*'Karachi')"
   ]
  },
  {
   "cell_type": "code",
   "execution_count": 35,
   "id": "e97f72c3",
   "metadata": {},
   "outputs": [
    {
     "name": "stdout",
     "output_type": "stream",
     "text": [
      "Sabzee, Fruit, Aalo, Chai\n"
     ]
    }
   ],
   "source": [
    "sharfo_list='Sabzee, Fruit, Aalo, Chai'\n",
    "print(sharfo_list)"
   ]
  },
  {
   "cell_type": "code",
   "execution_count": 37,
   "id": "ea8587d2",
   "metadata": {},
   "outputs": [
    {
     "name": "stdout",
     "output_type": "stream",
     "text": [
      "Aalo\n"
     ]
    }
   ],
   "source": [
    "sharfo_list=['Sabzee', 'Fruit', 'Aalo', 'Chai']\n",
    "print(sharfo_list[2])"
   ]
  },
  {
   "cell_type": "code",
   "execution_count": 38,
   "id": "69eda60f",
   "metadata": {},
   "outputs": [
    {
     "name": "stdout",
     "output_type": "stream",
     "text": [
      "['Sabzee', 'Fruit', 'Aalo']\n"
     ]
    }
   ],
   "source": [
    "sharfo_list=['Sabzee', 'Fruit', 'Aalo', 'Chai']\n",
    "print(sharfo_list[0:3])"
   ]
  },
  {
   "cell_type": "code",
   "execution_count": 40,
   "id": "801e67be",
   "metadata": {},
   "outputs": [
    {
     "name": "stdout",
     "output_type": "stream",
     "text": [
      "[1, 2, 5, 10, 20]\n",
      "['Which', 'Witch', 'Is', 'Witch']\n"
     ]
    }
   ],
   "source": [
    "some_numbers=[1,2,5,10,20]\n",
    "some_strings=['Which','Witch','Is','Witch']\n",
    "print(some_numbers)\n",
    "print(some_strings)"
   ]
  },
  {
   "cell_type": "code",
   "execution_count": 42,
   "id": "e4a6a151",
   "metadata": {},
   "outputs": [
    {
     "name": "stdout",
     "output_type": "stream",
     "text": [
      "['Why', 'was', 6, 'afraid', 'of', 7, 'because', 'of', 7, 8, 9]\n"
     ]
    }
   ],
   "source": [
    "numbers_and_strings=['Why','was',6,'afraid','of',7,'because','of',7,8,9]\n",
    "print(numbers_and_strings)"
   ]
  },
  {
   "cell_type": "code",
   "execution_count": 45,
   "id": "3ab2de08",
   "metadata": {},
   "outputs": [
    {
     "name": "stdout",
     "output_type": "stream",
     "text": [
      "[[1, 2, 3, 4], ['I', 'kicked', 'my', 'toe', 'and', 'it', 'is', 'sore']]\n"
     ]
    }
   ],
   "source": [
    "numbers=[1,2,3,4]\n",
    "strings=['I', 'kicked','my','toe','and','it','is','sore']\n",
    "mylist=[numbers,strings]\n",
    "print(mylist)"
   ]
  },
  {
   "cell_type": "code",
   "execution_count": 47,
   "id": "a1f53f0b",
   "metadata": {},
   "outputs": [
    {
     "name": "stdout",
     "output_type": "stream",
     "text": [
      "['spider legs', 'toe of frog', 'eye of newt', 'bat wing', 'slug butter', 'snake dandruff']\n"
     ]
    }
   ],
   "source": [
    "wizard_list=['spider legs','toe of frog','eye of newt','bat wing','slug butter','snake dandruff']\n",
    "print(wizard_list)"
   ]
  },
  {
   "cell_type": "code",
   "execution_count": 48,
   "id": "569e0900",
   "metadata": {},
   "outputs": [
    {
     "name": "stdout",
     "output_type": "stream",
     "text": [
      "['spider legs', 'toe of frog', 'eye of newt', 'bat wing', 'slug butter', 'snake dandruff', 'bear burp']\n"
     ]
    }
   ],
   "source": [
    "wizard_list=['spider legs','toe of frog','eye of newt','bat wing','slug butter','snake dandruff']\n",
    "wizard_list.append('bear burp')\n",
    "print(wizard_list)"
   ]
  },
  {
   "cell_type": "code",
   "execution_count": 51,
   "id": "7afdfc29",
   "metadata": {},
   "outputs": [
    {
     "name": "stdout",
     "output_type": "stream",
     "text": [
      "['spider legs', 'toe of frog', 'eye of newt', 'bat wing', 'slug butter', 'snake dandruff', 'bear burp', 'mandrake', 'hemlock', 'swamp gas']\n"
     ]
    }
   ],
   "source": [
    "wizard_list=['spider legs','toe of frog','eye of newt','bat wing','slug butter','snake dandruff']\n",
    "wizard_list.append('bear burp')\n",
    "wizard_list.append('mandrake')\n",
    "wizard_list.append('hemlock')\n",
    "wizard_list.append('swamp gas')\n",
    "print(wizard_list)"
   ]
  },
  {
   "cell_type": "code",
   "execution_count": 60,
   "id": "71553509",
   "metadata": {},
   "outputs": [
    {
     "name": "stdout",
     "output_type": "stream",
     "text": [
      "                          Karachi\n"
     ]
    }
   ],
   "source": [
    "a=' '\n",
    "b=25\n",
    "c='Karachi'\n",
    "print(a*b,c)"
   ]
  },
  {
   "cell_type": "code",
   "execution_count": null,
   "id": "4d9122f8",
   "metadata": {},
   "outputs": [],
   "source": []
  }
 ],
 "metadata": {
  "kernelspec": {
   "display_name": "Python 3 (ipykernel)",
   "language": "python",
   "name": "python3"
  },
  "language_info": {
   "codemirror_mode": {
    "name": "ipython",
    "version": 3
   },
   "file_extension": ".py",
   "mimetype": "text/x-python",
   "name": "python",
   "nbconvert_exporter": "python",
   "pygments_lexer": "ipython3",
   "version": "3.9.7"
  }
 },
 "nbformat": 4,
 "nbformat_minor": 5
}
