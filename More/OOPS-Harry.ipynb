{
 "cells": [
  {
   "cell_type": "code",
   "execution_count": 16,
   "id": "ac9c1326",
   "metadata": {},
   "outputs": [
    {
     "name": "stdout",
     "output_type": "stream",
     "text": [
      "This is good Yupo\n",
      "Thenga\n"
     ]
    }
   ],
   "source": [
    "# Creating class named Employee\n",
    "\n",
    "class Employee:\n",
    "    no_of_leaves = 15 # Class variable (This is the sole property of the class Employee)\n",
    "    \n",
    "    # Creating constructor (Given arguments to class is called constructor)\n",
    "    def __init__(self, aname, asalary, arole):\n",
    "        self.name = aname #(aname is an aurgument and self.name is an instance variable)\n",
    "        self.salary = asalary\n",
    "        self.role = arole\n",
    "        \n",
    "    \n",
    "    # Creating method\n",
    "    def print_details(self): # Self is convention in python programming \n",
    "        return f\"The name is {self.name}. salary is {self.salary} and role is {self.role}\"\n",
    "    \n",
    "    # Creating class method (without using self)    \n",
    "    @classmethod\n",
    "    def change_leaves(cls, new_leaves): #(cls is that class who's instance is the obeject of that class)\n",
    "        cls.no_of_leaves = new_leaves  #(It changes class attributes not instance)\n",
    "        \n",
    "    # Class method as alternative contructor\n",
    "    @classmethod\n",
    "    def from_dash(cls, string):\n",
    "#         params = string.split(\"-\") # convert string into dictionary\n",
    "#         print(params)\n",
    "#         return cls(params[0], params[1], params[2]) # Creating an object using split\n",
    "          return cls(*string.split(\"-\")) # This is one liner solution of above\n",
    "\n",
    "    @staticmethod # static method used when we do not want to use instance variable nor class variables, argument is optional\n",
    "    def print_good(string):\n",
    "        print(\"This is good\" + string)\n",
    "        return \"Thenga\"\n",
    "        \n",
    "# Creating obeject or instance of the class Employee\n",
    "atif = Employee(\"Atif Salam\", 1000, \"Associate Manager\") # After initializing constructor, arguments given to class would be handled by __init__\n",
    "faisal = Employee(\"Faisal Shah\", 2000, \"Manager\")\n",
    "arshad = Employee.from_dash(\"Arshad Shah-3000-Senior Manager\")\n",
    "\n",
    "# Creating instance variables \n",
    "\n",
    "# atif.name = \"Atif Salam\"\n",
    "# atif.role = \"Associate Manager\"\n",
    "# atif.salary = 100\n",
    "\n",
    "# faisal.name = \"Faisal Shah\"\n",
    "# faisal.role = \"Manager\"\n",
    "# faisal.salary = 200\n",
    "# faisal.job = [\"Drafting\", \"Coordination\", \"Meeting\"]\n",
    "# print(faisal.__dict__) # Just for check by __dict__ attribute which return dictionary\n",
    "\n",
    "# faisal.no_of_leaves = 18 # Instance Variable (This is the sole property of instance of the class)\n",
    "# print(faisal.__dict__)\n",
    "\n",
    "# print(atif.name)\n",
    "# print(faisal.job)\n",
    "# print(atif.no_of_leaves)\n",
    "# print(faisal.no_of_leaves)\n",
    "# print(Employee.__dict__)\n",
    "# print(atif.role)               \n",
    "# print(atif.print_details())\n",
    "# print(faisal.salary)\n",
    "# print(faisal.print_details())\n",
    "# print(atif.no_of_leaves)\n",
    "# atif.change_leaves(54)\n",
    "# print(atif.no_of_leaves)\n",
    "# Employee.change_leaves(84)\n",
    "# print(faisal.no_of_leaves)\n",
    "# print(arshad.salary)\n",
    "# print(arshad.print_details())\n",
    "# print(arshad.print_good(\" Atif\")) # static method used with instance\n",
    "# print(Employee.print_good(\" Faisal\")) # Static method can be used from both instance or class\n",
    "print(faisal.print_good(\" Yupo\"))"
   ]
  },
  {
   "cell_type": "code",
   "execution_count": 57,
   "id": "36dc9676",
   "metadata": {},
   "outputs": [],
   "source": [
    "class Vehicle:\n",
    "    color = \"White\" # Class Variable\n",
    "    \n",
    "    # Constructor\n",
    "    def __init__(self, vname, vmodel, vspeed):\n",
    "        self.name = vname\n",
    "        self.model = vmodel\n",
    "        self.speed = vspeed\n",
    "        \n",
    "    # Method\n",
    "    def print_details(self):\n",
    "        return f\"This {self.name} is in {self.color} color and model is {self.model} having max speed is {self.speed}\"\n",
    "    \n",
    "    \n",
    "    @classmethod\n",
    "    def change_color(cls, new_color):\n",
    "        cls.color = new_color\n",
    "        \n",
    "    @staticmethod\n",
    "    def show_room():\n",
    "        print(\"Honda Shahra-e-Faisal\")\n",
    "        return \"Karachi\"\n",
    "        \n",
    "# Instance / Object of the class\n",
    "bus = Vehicle(\"Mazda\", 2018, 120)\n",
    "car = Vehicle(\"Audi Q5\", 2019, 240)\n"
   ]
  },
  {
   "cell_type": "code",
   "execution_count": 50,
   "id": "8491d87b",
   "metadata": {},
   "outputs": [],
   "source": [
    "Vehicle.change_color(\"purple\")"
   ]
  },
  {
   "cell_type": "code",
   "execution_count": 58,
   "id": "40d56436",
   "metadata": {},
   "outputs": [
    {
     "name": "stdout",
     "output_type": "stream",
     "text": [
      "Honda Shahra-e-Faisal\n",
      "Karachi\n"
     ]
    }
   ],
   "source": [
    "print(bus.show_room())"
   ]
  }
 ],
 "metadata": {
  "kernelspec": {
   "display_name": "Python 3 (ipykernel)",
   "language": "python",
   "name": "python3"
  },
  "language_info": {
   "codemirror_mode": {
    "name": "ipython",
    "version": 3
   },
   "file_extension": ".py",
   "mimetype": "text/x-python",
   "name": "python",
   "nbconvert_exporter": "python",
   "pygments_lexer": "ipython3",
   "version": "3.9.7"
  }
 },
 "nbformat": 4,
 "nbformat_minor": 5
}
