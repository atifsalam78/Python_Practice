{
 "cells": [
  {
   "cell_type": "code",
   "execution_count": 25,
   "id": "e7730e3e",
   "metadata": {},
   "outputs": [
    {
     "name": "stdout",
     "output_type": "stream",
     "text": [
      "Enter Your Choice: 1\n",
      "Basic Calculator\n",
      "First Number: 2\n",
      "Second Number: 2\n",
      "+\n",
      "4\n"
     ]
    }
   ],
   "source": [
    "# Calculator Version 1.00\n",
    "\n",
    "import math\n",
    "\n",
    "#Creating Class for Calculator\n",
    "\n",
    "dic = {1:'Basic',2:'Scientific'}\n",
    "choice = int(input('Enter Your Choice: '))\n",
    "\n",
    "class Calculator:\n",
    "    def __init__(self,num1,num2):\n",
    "        self.number1 = num1\n",
    "        self.number2 = num2\n",
    "        \n",
    "        \n",
    "# Defining Fucntion for Basic Calculators\n",
    "       \n",
    "class Basic(Calculator):\n",
    "    def __init__(self,num1,num2):\n",
    "        super().__init__(num1,num2)\n",
    "        \n",
    "        \n",
    "    def add_num(self):\n",
    "        print(self.number1+self.number2)\n",
    "    \n",
    "    def sub_num(self):\n",
    "        print(self.number1-self.number2)\n",
    "        \n",
    "    def mul_num(self):\n",
    "        print(self.number1*self.number2)\n",
    "        \n",
    "    def div_num(self):\n",
    "        print(self.number1/self.number2)\n",
    "\n",
    "        \n",
    "# Defining Fucntion for Scientific Calculators\n",
    "\n",
    "class Scientific(Calculator):\n",
    "    def __init(self,num1,num2):\n",
    "        super().__init__(num1,num2)\n",
    "    \n",
    "# Selection of Basic Calculator   \n",
    "        \n",
    "    if choice == 1:\n",
    "        op = {'+':'Addition','-':'Subtraction','*':'Multiplication','/':'Division'}\n",
    "        print('Basic Calculator')\n",
    "        \n",
    "        result = Basic(int(input('First Number: ')),int(input('Second Number: ')))\n",
    "        op1 = op[input('Operation:')]\n",
    "        \n",
    "        if op1 == 'Addition': \n",
    "            result.add_num()\n",
    "                \n",
    "        elif op1 == 'Subtraction':\n",
    "            result.sub_num()\n",
    "            \n",
    "        elif op1 == 'Multiplication':\n",
    "            result.mul_num()\n",
    "            \n",
    "        elif op1 == 'Division':\n",
    "            result.div_num()\n",
    "\n",
    "if choice == 2:\n",
    "    print('Scientific Calculator')\n",
    "    \n",
    "    result = Scientific(int(input('First Number: ')),int(input('Second Number: ')))\n",
    "    \n",
    "    \n",
    "    \n",
    "    \n",
    "    \n",
    "    \n",
    "    \n",
    "    "
   ]
  },
  {
   "cell_type": "code",
   "execution_count": null,
   "id": "ff3795c7",
   "metadata": {},
   "outputs": [],
   "source": []
  }
 ],
 "metadata": {
  "kernelspec": {
   "display_name": "Python 3 (ipykernel)",
   "language": "python",
   "name": "python3"
  },
  "language_info": {
   "codemirror_mode": {
    "name": "ipython",
    "version": 3
   },
   "file_extension": ".py",
   "mimetype": "text/x-python",
   "name": "python",
   "nbconvert_exporter": "python",
   "pygments_lexer": "ipython3",
   "version": "3.9.7"
  }
 },
 "nbformat": 4,
 "nbformat_minor": 5
}
