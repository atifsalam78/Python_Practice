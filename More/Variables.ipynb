{
 "cells": [
  {
   "cell_type": "code",
   "execution_count": null,
   "id": "624dad60",
   "metadata": {},
   "outputs": [],
   "source": [
    "ali_marbles=20\n",
    "omer_marbles=10\n",
    "usman_marbles=10\n",
    "\n",
    "ali_marbles+omer_marbles+usman_marbles"
   ]
  },
  {
   "cell_type": "code",
   "execution_count": 3,
   "id": "f6cc12c8",
   "metadata": {},
   "outputs": [
    {
     "data": {
      "text/plain": [
       "0"
      ]
     },
     "execution_count": 3,
     "metadata": {},
     "output_type": "execute_result"
    }
   ],
   "source": [
    "ali_marbles-omer_marbles-usman_marbles"
   ]
  },
  {
   "cell_type": "code",
   "execution_count": null,
   "id": "d145ead9",
   "metadata": {},
   "outputs": [],
   "source": []
  }
 ],
 "metadata": {
  "kernelspec": {
   "display_name": "Python 3",
   "language": "python",
   "name": "python3"
  },
  "language_info": {
   "codemirror_mode": {
    "name": "ipython",
    "version": 3
   },
   "file_extension": ".py",
   "mimetype": "text/x-python",
   "name": "python",
   "nbconvert_exporter": "python",
   "pygments_lexer": "ipython3",
   "version": "3.8.8"
  }
 },
 "nbformat": 4,
 "nbformat_minor": 5
}
