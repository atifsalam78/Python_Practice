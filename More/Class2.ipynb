{
 "cells": [
  {
   "cell_type": "code",
   "execution_count": null,
   "id": "650c12c3",
   "metadata": {},
   "outputs": [],
   "source": [
    "class Fruit:\n",
    "    '''A class is defined for fruits,\n",
    "    to create objects of this class..\n",
    "    '''\n",
    "    def __init__(self,name, nutrients):\n",
    "        try:\n",
    "            assert type(nutrients) == list\n",
    "        except AssertionError:\n",
    "            print('Invalid Construction')\n",
    "            raise Exception\n",
    "        self.name=name\n",
    "        self.nutrients=nutrients\n",
    "        self.is_ripe = False\n",
    "    def get_name(self):\n",
    "        return self.name\n",
    "    def get_nutrients(self):\n",
    "        print(self.name +' has followings ntrients')\n",
    "        for value in self.nutrients:\n",
    "            print(value)\n",
    "    def check_ripeness(self):\n",
    "        return self.is_ripe\n",
    "    def ripe_fruit(self):\n",
    "        slef.is_ripe=True\n",
    "# End of Class"
   ]
  },
  {
   "cell_type": "code",
   "execution_count": null,
   "id": "fbe810e6",
   "metadata": {},
   "outputs": [],
   "source": [
    "apple=Fruit(name='Apple',nutrients=['Vitamin D','Vitamin A', 'Vitamin K'])\n",
    "banana=Fruit(name='Banana',nutrients=['Potassium','Vitamin B6'])"
   ]
  },
  {
   "cell_type": "code",
   "execution_count": null,
   "id": "32f55754",
   "metadata": {},
   "outputs": [],
   "source": [
    "banana.get_nutrients()"
   ]
  },
  {
   "cell_type": "code",
   "execution_count": null,
   "id": "7580f4f6",
   "metadata": {},
   "outputs": [],
   "source": [
    "class Person:\n",
    "    def set_name(self, name, age):\n",
    "        self.name = name\n",
    "        self.age = age\n",
    "    def get_name(self):\n",
    "        return self.name\n",
    "    def get_age(self):\n",
    "        return self.age\n",
    "    def greet(self):\n",
    "        print('Hello, World! I am {}.'.format(self.name))\n",
    "        print('And I am {} years old.'.format(self.age))"
   ]
  },
  {
   "cell_type": "code",
   "execution_count": null,
   "id": "16ab975c",
   "metadata": {},
   "outputs": [],
   "source": [
    "p1 = Person()\n",
    "p2 = Person()\n",
    "p1.set_name('Luke Skywalker', 43)\n",
    "p2.set_name('Anakin Skwalker',53)\n",
    "p1.greet()"
   ]
  },
  {
   "cell_type": "code",
   "execution_count": null,
   "id": "e227d455",
   "metadata": {},
   "outputs": [],
   "source": [
    "p2.greet()"
   ]
  },
  {
   "cell_type": "code",
   "execution_count": null,
   "id": "55d06b2e",
   "metadata": {},
   "outputs": [],
   "source": [
    "p1.name"
   ]
  },
  {
   "cell_type": "code",
   "execution_count": null,
   "id": "b15f478a",
   "metadata": {},
   "outputs": [],
   "source": [
    "p2.name"
   ]
  },
  {
   "cell_type": "code",
   "execution_count": null,
   "id": "f326d39f",
   "metadata": {},
   "outputs": [],
   "source": [
    "p2.name = 'Atif Salam'"
   ]
  },
  {
   "cell_type": "code",
   "execution_count": null,
   "id": "88497809",
   "metadata": {},
   "outputs": [],
   "source": [
    "p2.greet()"
   ]
  },
  {
   "cell_type": "code",
   "execution_count": null,
   "id": "95b4e9dd",
   "metadata": {},
   "outputs": [],
   "source": [
    "class Class:\n",
    "    def method(self):\n",
    "        print(\"I am Self!\")\n",
    "def function():\n",
    "    print('''I don't...''')\n",
    "instance = Class()"
   ]
  },
  {
   "cell_type": "code",
   "execution_count": null,
   "id": "f2bf50f3",
   "metadata": {},
   "outputs": [],
   "source": [
    "instance.method()"
   ]
  },
  {
   "cell_type": "code",
   "execution_count": null,
   "id": "87c6be67",
   "metadata": {},
   "outputs": [],
   "source": [
    "instance.method=function"
   ]
  },
  {
   "cell_type": "code",
   "execution_count": null,
   "id": "bd226ffb",
   "metadata": {},
   "outputs": [],
   "source": [
    "instance.method()"
   ]
  },
  {
   "cell_type": "code",
   "execution_count": null,
   "id": "0b082ea0",
   "metadata": {},
   "outputs": [],
   "source": [
    "class Bird:\n",
    "    song = 'Squaawk!'\n",
    "    def sing(self):\n",
    "        print(self.song)"
   ]
  },
  {
   "cell_type": "code",
   "execution_count": null,
   "id": "3144c0b5",
   "metadata": {},
   "outputs": [],
   "source": [
    "b1 = Bird()"
   ]
  },
  {
   "cell_type": "code",
   "execution_count": null,
   "id": "db0cbbc3",
   "metadata": {},
   "outputs": [],
   "source": [
    "b1.sing()"
   ]
  },
  {
   "cell_type": "code",
   "execution_count": null,
   "id": "8ff54f61",
   "metadata": {},
   "outputs": [],
   "source": [
    "birdsong = b1.sing"
   ]
  },
  {
   "cell_type": "code",
   "execution_count": null,
   "id": "ab045c1f",
   "metadata": {},
   "outputs": [],
   "source": [
    "birdsong()"
   ]
  },
  {
   "cell_type": "code",
   "execution_count": null,
   "id": "3b1312ca",
   "metadata": {},
   "outputs": [],
   "source": [
    "# Creating Class\n",
    "\n",
    "class Myclass:\n",
    "    x = 5"
   ]
  },
  {
   "cell_type": "code",
   "execution_count": null,
   "id": "44efd6f4",
   "metadata": {},
   "outputs": [],
   "source": [
    "print(Myclass)"
   ]
  },
  {
   "cell_type": "code",
   "execution_count": null,
   "id": "055273fe",
   "metadata": {},
   "outputs": [],
   "source": [
    "# Creating Object\n",
    "p1 = Myclass()"
   ]
  },
  {
   "cell_type": "code",
   "execution_count": null,
   "id": "400d0d2d",
   "metadata": {},
   "outputs": [],
   "source": [
    "print(p1.x)"
   ]
  },
  {
   "cell_type": "code",
   "execution_count": null,
   "id": "da9dfc31",
   "metadata": {},
   "outputs": [],
   "source": [
    "# Creating Class with __init__ function\n",
    "class Person:\n",
    "    def __init__(self, name, age):\n",
    "        self.name = name\n",
    "        self.age = age"
   ]
  },
  {
   "cell_type": "code",
   "execution_count": null,
   "id": "81a62c03",
   "metadata": {},
   "outputs": [],
   "source": [
    "# Creating Object\n",
    "\n",
    "p1 = Person(\"Atif Salam\",43)"
   ]
  },
  {
   "cell_type": "code",
   "execution_count": null,
   "id": "169dd71c",
   "metadata": {},
   "outputs": [],
   "source": [
    "# Calling name by Class \n",
    "\n",
    "print(p1.name)"
   ]
  },
  {
   "cell_type": "code",
   "execution_count": null,
   "id": "432703eb",
   "metadata": {},
   "outputs": [],
   "source": [
    "# Calling age by Class\n",
    "print(p1.age)"
   ]
  },
  {
   "cell_type": "code",
   "execution_count": null,
   "id": "422834eb",
   "metadata": {},
   "outputs": [],
   "source": [
    "# Class with Object Methods\n",
    "class Person1:\n",
    "    def __init__(self,name,age):\n",
    "        self.name = name\n",
    "        self.age = age\n",
    "    def myfunction(self):\n",
    "        print(\"Hello my name is \"+self.name)\n",
    "        print(\"And my age is %s\"%self.age)"
   ]
  },
  {
   "cell_type": "code",
   "execution_count": null,
   "id": "83360b89",
   "metadata": {},
   "outputs": [],
   "source": [
    "p1 = Person1(\"Faiza Atif\",35)\n",
    "p1.myfunction()"
   ]
  },
  {
   "cell_type": "code",
   "execution_count": null,
   "id": "e56a453c",
   "metadata": {},
   "outputs": [],
   "source": [
    "# Modify Object Properties\n",
    "p1.age=40"
   ]
  },
  {
   "cell_type": "code",
   "execution_count": null,
   "id": "cb670a6a",
   "metadata": {},
   "outputs": [],
   "source": [
    "p1.myfunction()"
   ]
  },
  {
   "cell_type": "code",
   "execution_count": null,
   "id": "9bef8f74",
   "metadata": {},
   "outputs": [],
   "source": [
    "# Dleting Object Properties\n",
    "del p1.age"
   ]
  },
  {
   "cell_type": "code",
   "execution_count": null,
   "id": "4d5a4655",
   "metadata": {},
   "outputs": [],
   "source": [
    "p1.myfunction()"
   ]
  },
  {
   "cell_type": "code",
   "execution_count": null,
   "id": "167309c6",
   "metadata": {},
   "outputs": [],
   "source": [
    "# Delting Object\n",
    "del p1"
   ]
  },
  {
   "cell_type": "code",
   "execution_count": null,
   "id": "bade86f0",
   "metadata": {},
   "outputs": [],
   "source": [
    "print(p1)"
   ]
  },
  {
   "cell_type": "code",
   "execution_count": null,
   "id": "03167c06",
   "metadata": {},
   "outputs": [],
   "source": [
    "class Fruit:\n",
    "    '''A Class is defined for fruits,\n",
    "to create objects of this class..\n",
    "'''\n",
    "    def __init__(self,name,nutrients):\n",
    "        try:\n",
    "            assert type(nutrients) == list\n",
    "        except AssertionError:\n",
    "            print(\"Invalid Construction!\")\n",
    "            raise Exception\n",
    "        self.name = name\n",
    "        self.nutrients = nutrients\n",
    "        self.is_ripe = False\n",
    "    def get_name(self):\n",
    "        return self.name\n",
    "    def get_nutrients(self):\n",
    "        print(self.name+' has following nutrients:')\n",
    "        for value in self.nutrients:\n",
    "            print(value)\n",
    "    def check_repiness(self):\n",
    "        return self.is_ripe\n",
    "    def ripe_fruit(self):\n",
    "        self.is_ripe = True\n",
    "        \n",
    "# End of Class\n",
    "\n",
    "    "
   ]
  },
  {
   "cell_type": "code",
   "execution_count": null,
   "id": "e9053504",
   "metadata": {},
   "outputs": [],
   "source": [
    "apple = Fruit(name='Apple',nutrients=['Vitamin B','Vitamin A','Vitamin K'])"
   ]
  },
  {
   "cell_type": "code",
   "execution_count": null,
   "id": "3cfdc5a7",
   "metadata": {},
   "outputs": [],
   "source": [
    "banana = Fruit(name='Banana',nutrients='Potassium')"
   ]
  },
  {
   "cell_type": "code",
   "execution_count": null,
   "id": "781e1db5",
   "metadata": {},
   "outputs": [],
   "source": [
    "banana=Fruit(name=\"Banana\",nutrients=['Potassium','Vitamin B6'])"
   ]
  },
  {
   "cell_type": "code",
   "execution_count": null,
   "id": "b2358b03",
   "metadata": {},
   "outputs": [],
   "source": [
    "apple.get_name()"
   ]
  },
  {
   "cell_type": "code",
   "execution_count": null,
   "id": "2705a34c",
   "metadata": {},
   "outputs": [],
   "source": [
    "apple.get_nutrients()"
   ]
  },
  {
   "cell_type": "code",
   "execution_count": null,
   "id": "bceac644",
   "metadata": {},
   "outputs": [],
   "source": [
    "apple.check_repiness()"
   ]
  },
  {
   "cell_type": "code",
   "execution_count": null,
   "id": "ed3b2fca",
   "metadata": {},
   "outputs": [],
   "source": [
    "apple.ripe_fruit()"
   ]
  },
  {
   "cell_type": "code",
   "execution_count": null,
   "id": "acb11558",
   "metadata": {},
   "outputs": [],
   "source": [
    "# Parent Class\n",
    "\n",
    "class Person2:\n",
    "    def __init__(self,fname,lname):\n",
    "        self.firstname = fname\n",
    "        self.lastname = lname\n",
    "    def printname(self):\n",
    "        print(self.firstname,self.lastname)\n",
    "x = Person2('John','Robert')\n",
    "x.printname()"
   ]
  },
  {
   "cell_type": "code",
   "execution_count": null,
   "id": "b728c725",
   "metadata": {},
   "outputs": [],
   "source": [
    "# Creating Child Class\n",
    "\n",
    "class Person2:\n",
    "    def __init__(self,fname,lname):\n",
    "        self.firstname = fname\n",
    "        self.lastname = lname\n",
    "    def printname(self):\n",
    "        print(self.firstname,self.lastname)\n",
    "class Student(Person2):\n",
    "    pass\n",
    "x = Student('Mike','Oslen')\n",
    "x.printname()"
   ]
  },
  {
   "cell_type": "code",
   "execution_count": null,
   "id": "e9916636",
   "metadata": {},
   "outputs": [],
   "source": [
    "# Inheritance\n",
    "class Person:\n",
    "    \n",
    "    def __init__(self,fname,lname):\n",
    "        \n",
    "        self.firstname = fname\n",
    "        self.lastname = lname\n",
    "    \n",
    "    def printname(self):\n",
    "        print(self.firstname, self.lastname)\n",
    "        \n",
    "class Student(Person):\n",
    "    pass\n",
    "\n",
    "x = Student(\"Enter Student First Name: \", \"Enter Student Last Name: \")\n",
    "x.printname()\n",
    "\n"
   ]
  },
  {
   "cell_type": "code",
   "execution_count": null,
   "id": "d9d162ca",
   "metadata": {},
   "outputs": [],
   "source": [
    "# Adding Init funtion in child class\n",
    "\n",
    "class Personn:\n",
    "    \n",
    "    def __init__(self,fname,lname):\n",
    "        \n",
    "        self.firstname = fname\n",
    "        self.lastname = lname\n",
    "        \n",
    "    def printname(self):\n",
    "        print(self.firstname, self.lastname)\n",
    "        \n",
    "class Student(Person):\n",
    "    def __init__(self,fname,lname):\n",
    "        Person.__init__(self,fname,lname)\n",
    "\n",
    "        \n",
    "x = Student('Manahil','Atif')\n",
    "x.printname()"
   ]
  },
  {
   "cell_type": "code",
   "execution_count": null,
   "id": "d4c407fd",
   "metadata": {},
   "outputs": [],
   "source": [
    "# Using Super Class\n",
    "\n",
    "class Person:\n",
    "    def __init__(self,fname,lname):\n",
    "        self.firstname = fname\n",
    "        self.lastname = lname\n",
    "        \n",
    "    def printname(self):\n",
    "        print(self.firstname,self.lastname)\n",
    "        \n",
    "class Student(Person):\n",
    "    def __init__(self,fname,lname):\n",
    "        super().__init__(fname,lname)\n",
    "\n",
    "x = Student(\"Ayesha\",\"Atif\")\n",
    "x.printname()"
   ]
  },
  {
   "cell_type": "code",
   "execution_count": null,
   "id": "13424822",
   "metadata": {},
   "outputs": [],
   "source": [
    "# Adding Properties\n",
    "\n",
    "class person:\n",
    "    def __init__(self,fname,lname):\n",
    "        self.firstname = fname\n",
    "        self.lastname = lname\n",
    "    \n",
    "    def printname(self):\n",
    "        print(self.firstname, self.lastname)\n",
    "        \n",
    "class Student(Person):\n",
    "    def __init__(self,fname,lname):\n",
    "        super().__init__(fname,lname)\n",
    "        self.graduationyear = 2020\n",
    "        \n",
    "x = Student('Faiza','Atif')\n",
    "x.printname()"
   ]
  },
  {
   "cell_type": "code",
   "execution_count": 8,
   "id": "03aa1ed1",
   "metadata": {},
   "outputs": [
    {
     "name": "stdout",
     "output_type": "stream",
     "text": [
      "Enter First Number: 4\n",
      "Enter Second Number: 8\n",
      "12\n"
     ]
    }
   ],
   "source": [
    "class Calc:\n",
    "    def __init__(self,num1,num2):\n",
    "        self.number1 = num1\n",
    "        self.number2 = num2\n",
    "        \n",
    "    def output(self):\n",
    "        print(self.number1+self.number2)\n",
    "        \n",
    "class Add(Calc):\n",
    "    def __init__(self,num1,num2):\n",
    "        super().__init__(num1,num2)\n",
    "        #num1 = input(\"Enter First Number: \")\n",
    "        #num2 = input(\"Enter Second Number: \")\n",
    "#z = Add(1,2)\n",
    "z = Add(int(input(\"Enter First Number: \")),int(input(\"Enter Second Number: \")))\n",
    "z.output()\n",
    "        \n",
    "\n"
   ]
  },
  {
   "cell_type": "code",
   "execution_count": 13,
   "id": "48a8d1a7",
   "metadata": {},
   "outputs": [],
   "source": [
    "# Adding Methds\n",
    "\n",
    "class Person:\n",
    "    def __init__(self,fname,lname):\n",
    "        self.firstname = fname\n",
    "        self.lastname = lname\n",
    "    \n",
    "    def printname(self):\n",
    "        print(self.firstname, self.lastname)\n",
    "        \n",
    "class Student(Person):\n",
    "    def __init__(self,fname,lname,year):\n",
    "        super().__init__(fname,lname)\n",
    "        self.graduationyear = year\n",
    "        \n",
    "    def welcome(self):\n",
    "        print(\"Welcome \", self.firstname, self.lastname, \"to the class of \",self.graduationyear)\n",
    "\n"
   ]
  },
  {
   "cell_type": "code",
   "execution_count": 14,
   "id": "eeb030f7",
   "metadata": {},
   "outputs": [
    {
     "name": "stdout",
     "output_type": "stream",
     "text": [
      "Welcome  Atif Salam to the class of  2020\n"
     ]
    }
   ],
   "source": [
    "x = Student(\"Atif\",\"Salam\",2020)\n",
    "x.welcome()"
   ]
  },
  {
   "cell_type": "code",
   "execution_count": 24,
   "id": "ac52e636",
   "metadata": {},
   "outputs": [],
   "source": [
    "class Fruit:\n",
    "    \"\"\"A Class is defined for fruits \n",
    "    to create objects of this class..\n",
    "    \"\"\"\n",
    "    def __init__(self,name,nutrients):\n",
    "        \n",
    "        try:\n",
    "            assert type(nutrients) == list\n",
    "        except AssetionError:\n",
    "            print(\"invalid Construction!\")\n",
    "            raise Exception\n",
    "        \n",
    "        self.name = name\n",
    "        self.nutrients = nutrients\n",
    "        self.is_ripe = False\n",
    "    \n",
    "    def get_name(self):\n",
    "        return self.name\n",
    "    \n",
    "    def get_nutrients(self):\n",
    "        print(self.name + \" has following nutrients.\")\n",
    "        for value in self.nutrients:\n",
    "            print(value)\n",
    "    \n",
    "    def check_ripeness(self):\n",
    "            return self.is_ripe\n",
    "    \n",
    "    def ripe_fruits(self):\n",
    "            self.is_ripe = True\n",
    "            \n",
    "# End of Fruit Class\n",
    "\n",
    "# Creating Child Class (Inheritance)\n",
    "\n",
    "class Citrus(Fruit):\n",
    "    \n",
    "    def __init__(self,name,nutrients):\n",
    "        super().__init__(name,nutrients)\n",
    "        self.type = \"Citrus\"\n",
    "        self.characteristics = \"Pulpy and Juicy\"\n",
    "    \n",
    "    def get_type(self):\n",
    "        return self.type\n",
    "            \n",
    "# End of Citrus Class\n",
    "\n",
    "class Berry(Fruit):\n",
    "    def __init__(self,name,nutrients)\n",
    "    super().__init__(name,nutrients)\n",
    "    \n",
    "\n",
    "            \n",
    "            "
   ]
  },
  {
   "cell_type": "code",
   "execution_count": 26,
   "id": "bf95f677",
   "metadata": {},
   "outputs": [],
   "source": [
    "orange = Citrus(name=\"Orange\",nutrients = [\"Vitamin D\",\"Vitamin C\"])"
   ]
  },
  {
   "cell_type": "code",
   "execution_count": 27,
   "id": "b437fed7",
   "metadata": {},
   "outputs": [
    {
     "name": "stdout",
     "output_type": "stream",
     "text": [
      "Orange has following nutrients.\n",
      "Vitamin D\n",
      "Vitamin C\n"
     ]
    }
   ],
   "source": [
    "orange.get_nutrients()"
   ]
  },
  {
   "cell_type": "code",
   "execution_count": 3,
   "id": "404ebdcb",
   "metadata": {},
   "outputs": [],
   "source": [
    "class Calculator:\n",
    "    def __init__(self,*kwargs):\n",
    "        #self.dictionary = dic\n",
    "        self.number1 = num1\n",
    "        self.choice = ch\n",
    "        self.number2 = num2\n",
    "        \n",
    "    def get_choice(self):\n",
    "        choice = {'Basic':1,'Scientific':2}\n",
    "        choice = input('Your Choice?')\n",
    "        if choice == 1:\n",
    "            Basic()\n",
    "class Basic(Calculator):\n",
    "    def __init__(self,num1,ch,num2):\n",
    "        super().__init__(num1,ch,num2)\n",
    "        num1 = int(input('First Number:'))\n",
    "        ch = input('Choice: ')\n",
    "        num2 = int(input('Second Number: '))\n",
    "    def add_num(self):\n",
    "        return num1 + num2\n",
    "     \n",
    "  "
   ]
  },
  {
   "cell_type": "code",
   "execution_count": 4,
   "id": "58e35d97",
   "metadata": {},
   "outputs": [
    {
     "ename": "NameError",
     "evalue": "name 'num1' is not defined",
     "output_type": "error",
     "traceback": [
      "\u001b[1;31m---------------------------------------------------------------------------\u001b[0m",
      "\u001b[1;31mNameError\u001b[0m                                 Traceback (most recent call last)",
      "\u001b[1;32mC:\\Users\\ATIF~1.SAL\\AppData\\Local\\Temp/ipykernel_9144/2434228534.py\u001b[0m in \u001b[0;36m<module>\u001b[1;34m\u001b[0m\n\u001b[1;32m----> 1\u001b[1;33m \u001b[0mCalculator\u001b[0m\u001b[1;33m(\u001b[0m\u001b[1;33m)\u001b[0m\u001b[1;33m\u001b[0m\u001b[1;33m\u001b[0m\u001b[0m\n\u001b[0m",
      "\u001b[1;32mC:\\Users\\ATIF~1.SAL\\AppData\\Local\\Temp/ipykernel_9144/1391424438.py\u001b[0m in \u001b[0;36m__init__\u001b[1;34m(self, *kwargs)\u001b[0m\n\u001b[0;32m      2\u001b[0m     \u001b[1;32mdef\u001b[0m \u001b[0m__init__\u001b[0m\u001b[1;33m(\u001b[0m\u001b[0mself\u001b[0m\u001b[1;33m,\u001b[0m\u001b[1;33m*\u001b[0m\u001b[0mkwargs\u001b[0m\u001b[1;33m)\u001b[0m\u001b[1;33m:\u001b[0m\u001b[1;33m\u001b[0m\u001b[1;33m\u001b[0m\u001b[0m\n\u001b[0;32m      3\u001b[0m         \u001b[1;31m#self.dictionary = dic\u001b[0m\u001b[1;33m\u001b[0m\u001b[1;33m\u001b[0m\u001b[0m\n\u001b[1;32m----> 4\u001b[1;33m         \u001b[0mself\u001b[0m\u001b[1;33m.\u001b[0m\u001b[0mnumber1\u001b[0m \u001b[1;33m=\u001b[0m \u001b[0mnum1\u001b[0m\u001b[1;33m\u001b[0m\u001b[1;33m\u001b[0m\u001b[0m\n\u001b[0m\u001b[0;32m      5\u001b[0m         \u001b[0mself\u001b[0m\u001b[1;33m.\u001b[0m\u001b[0mchoice\u001b[0m \u001b[1;33m=\u001b[0m \u001b[0mch\u001b[0m\u001b[1;33m\u001b[0m\u001b[1;33m\u001b[0m\u001b[0m\n\u001b[0;32m      6\u001b[0m         \u001b[0mself\u001b[0m\u001b[1;33m.\u001b[0m\u001b[0mnumber2\u001b[0m \u001b[1;33m=\u001b[0m \u001b[0mnum2\u001b[0m\u001b[1;33m\u001b[0m\u001b[1;33m\u001b[0m\u001b[0m\n",
      "\u001b[1;31mNameError\u001b[0m: name 'num1' is not defined"
     ]
    }
   ],
   "source": [
    "Calculator()"
   ]
  },
  {
   "cell_type": "code",
   "execution_count": 1,
   "id": "86ff4d95",
   "metadata": {},
   "outputs": [
    {
     "name": "stdout",
     "output_type": "stream",
     "text": [
      "Enter First Number: 4\n",
      "Enter Second Number: 8\n",
      "12.0\n",
      "-4.0\n",
      "32.0\n",
      "0.5\n"
     ]
    }
   ],
   "source": [
    "class Calculator:\n",
    "    def __init__(self,num1,num2):\n",
    "        self.number1 = num1\n",
    "        self.number2 = num2\n",
    "        \n",
    "    def addnum(self):\n",
    "        print(self.number1 + self.number2)\n",
    "    \n",
    "    def subnum(self):\n",
    "        print(self.number1 - self.number2)\n",
    "        \n",
    "    def mulnum(self):\n",
    "        print(self.number1 * self.number2)\n",
    "    \n",
    "    def divnum(self):\n",
    "        print(self.number1 / self.number2)\n",
    "           \n",
    "class Basic(Calculator):\n",
    "    def __init__(self,num1,num2):\n",
    "        super().__init__(num1,num2)\n",
    "        \n",
    "    \n",
    "x = Basic(float(input('Enter First Number: ')),float(input('Enter Second Number: ')))\n",
    "x.addnum()\n",
    "x.subnum()\n",
    "x.mulnum()\n",
    "x.divnum()   "
   ]
  }
 ],
 "metadata": {
  "kernelspec": {
   "display_name": "Python 3 (ipykernel)",
   "language": "python",
   "name": "python3"
  },
  "language_info": {
   "codemirror_mode": {
    "name": "ipython",
    "version": 3
   },
   "file_extension": ".py",
   "mimetype": "text/x-python",
   "name": "python",
   "nbconvert_exporter": "python",
   "pygments_lexer": "ipython3",
   "version": "3.9.7"
  }
 },
 "nbformat": 4,
 "nbformat_minor": 5
}
