{
 "cells": [
  {
   "cell_type": "code",
   "execution_count": 1,
   "id": "1c237e58",
   "metadata": {},
   "outputs": [],
   "source": [
    "# Working with files in Python\n",
    "# Read\n",
    "\n",
    "x = open(r'/home/atif/Documents/test.txt','r')\n"
   ]
  },
  {
   "cell_type": "code",
   "execution_count": 2,
   "id": "44254b61",
   "metadata": {},
   "outputs": [],
   "source": [
    "data = x.read()"
   ]
  },
  {
   "cell_type": "code",
   "execution_count": 3,
   "id": "e675a696",
   "metadata": {},
   "outputs": [
    {
     "name": "stdout",
     "output_type": "stream",
     "text": [
      "This file is created in VIm for python\n",
      "\n"
     ]
    }
   ],
   "source": [
    "print(data)"
   ]
  },
  {
   "cell_type": "code",
   "execution_count": 5,
   "id": "df872c48",
   "metadata": {},
   "outputs": [],
   "source": [
    "x.close()"
   ]
  }
 ],
 "metadata": {
  "kernelspec": {
   "display_name": "Python 3 (ipykernel)",
   "language": "python",
   "name": "python3"
  },
  "language_info": {
   "codemirror_mode": {
    "name": "ipython",
    "version": 3
   },
   "file_extension": ".py",
   "mimetype": "text/x-python",
   "name": "python",
   "nbconvert_exporter": "python",
   "pygments_lexer": "ipython3",
   "version": "3.9.7"
  }
 },
 "nbformat": 4,
 "nbformat_minor": 5
}
