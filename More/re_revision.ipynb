{
 "cells": [
  {
   "cell_type": "markdown",
   "id": "f4bb101f",
   "metadata": {},
   "source": [
    "# Regular Expression"
   ]
  },
  {
   "cell_type": "markdown",
   "id": "93f256ea",
   "metadata": {},
   "source": [
    "# Metacharacters:-\n",
    "```\n",
    "[] A set of characters\n",
    "\\ Signals a special sequence (can also be used to escape special characters)\n",
    ". Any character (except newline character)\n",
    "^ Sentence starts with\n",
    "$ Sentence Ends with\n",
    "* Zero or more occurrences\n",
    "? ignore\n",
    "+ One or more occurrences\n",
    "{} Exactly the specified number of occurrences\n",
    "| Either or\n",
    "() Capture and group\n",
    "\n",
    "Special Sequences\n",
    "\n",
    "\\A Returns a match if the specified characters are at the beginning of the string\n",
    "\\b Returns a match where the specified characters are at the beginning or at the end of a word r” ain\\b.”\n",
    "\\B Returns a match where the specified characters are present, but NOT at the beginning (or at the end) of a word\n",
    "\\d Returns a match where the string contains digits (numbers from 0-9)\n",
    "\\D Returns a match where the string DOES NOT contain digits\n",
    "\\s Returns a match where the string contains a white space character\n",
    "\\S Returns a match where the string DOES NOT contain a white space character\n",
    "\\w Returns a match where the string contains any word characters (characters from a to Z, digits from 0-9, and the underscore _ character)\n",
    "\\W Returns a match where the string DOES NOT contain any word characters\n",
    "\\Z Returns a match if the specified characters are at the end of the string\n",
    "\n",
    "The re module offers a set of functions that allows us to search a string for a match:\n",
    "\n",
    "findall()\t- Returns a list containing all matches\n",
    "search()\t- Returns a Match object if there is a match anywhere in the string\n",
    "split()\t\t- Returns a list where the string has been split at each match\n",
    "sub()\t \t- Replaces one or many matches with a string\n",
    "finditter() - For iteration\n",
    "\n",
    "Sets\n",
    "\n",
    "A set is a set of characters inside a pair of square brackets [] with a special meaning:\n",
    "\n",
    "[arn] \t\t- Returns a match where one of the specified characters (a, r, or n) is present\n",
    "[a-n] \t\t- Returns a match for any lower case character, alphabetically between a and n\n",
    "[^arn] \t\t- Returns a match for any character EXCEPT a, r, and n\n",
    "[0123]\t\t- Returns a match where any of the specified digits (0, 1, 2, or 3) are present\n",
    "[0-9]\t\t- Returns a match for any digit between 0 and 9\n",
    "[0-5][0-9]\t- Returns a match for any two-digit numbers from 00 and 59\n",
    "[a-zA-Z]\t- Returns a match for any character alphabetically between a and z, lower case OR upper case\n",
    "[+]\t\t- In sets, +, *, ., |, (), $,{} has no special meaning, so [+] means: return a match for any + character\n",
    "```"
   ]
  },
  {
   "cell_type": "code",
   "execution_count": 8,
   "id": "b48b133d",
   "metadata": {},
   "outputs": [
    {
     "name": "stdout",
     "output_type": "stream",
     "text": [
      "<re.Match object; span=(0, 21), match='The rain in the Spain'>\n"
     ]
    }
   ],
   "source": [
    "import re\n",
    "txt = \"The rain in the Spain\"\n",
    "pattern = \"^T.*Spain$\"\n",
    "x = re.search(pattern, txt)\n",
    "print(x)"
   ]
  },
  {
   "cell_type": "markdown",
   "id": "7f5cd456",
   "metadata": {},
   "source": [
    "### findall()\n",
    "\n",
    "```\n",
    "* The findall() function returns a list containing all matches.\n",
    "* Return a list of all matches.\n",
    "* The list contains the matches in the order they are found.\n",
    "* If no matches are found, an empty list is returned.\n",
    "```"
   ]
  },
  {
   "cell_type": "code",
   "execution_count": 11,
   "id": "99a7c749",
   "metadata": {},
   "outputs": [
    {
     "name": "stdout",
     "output_type": "stream",
     "text": [
      "['ai', 'ai']\n"
     ]
    }
   ],
   "source": [
    "txt = \"The rain in the Spain\"\n",
    "pattern = \"ai\"\n",
    "x = re.findall(pattern, txt)\n",
    "print(x)"
   ]
  },
  {
   "cell_type": "code",
   "execution_count": 17,
   "id": "3df1e7d5",
   "metadata": {},
   "outputs": [
    {
     "name": "stdout",
     "output_type": "stream",
     "text": [
      "[]\n"
     ]
    }
   ],
   "source": [
    "txt = \"The rain in the Spain\"\n",
    "pattern = \"Portugal\"\n",
    "x = re.findall(pattern, txt)\n",
    "print(x)"
   ]
  },
  {
   "cell_type": "code",
   "execution_count": 52,
   "id": "6e8cd1ec",
   "metadata": {},
   "outputs": [
    {
     "name": "stdout",
     "output_type": "stream",
     "text": [
      "['Match']\n"
     ]
    }
   ],
   "source": [
    "txt = \"The Match object has properties and methods used to retrieve information about the search, and the result\"\n",
    "pattern = r\"\\bM\\w+\"\n",
    "x = re.findall(pattern, txt)\n",
    "print(x)"
   ]
  },
  {
   "cell_type": "markdown",
   "id": "c0728141",
   "metadata": {},
   "source": [
    "### Search()\n",
    "```\n",
    "* Searches the string for a match, and returns a `Match object` if there is a match.\n",
    "* If there is more than one match, only the first occurrence of the match will be returned.\n",
    "* If no matches are found, the value None is returned.\n",
    "```"
   ]
  },
  {
   "cell_type": "code",
   "execution_count": 10,
   "id": "41d30384",
   "metadata": {},
   "outputs": [
    {
     "name": "stdout",
     "output_type": "stream",
     "text": [
      "<re.Match object; span=(16, 21), match='Spain'>\n"
     ]
    }
   ],
   "source": [
    "x = re.search(\"S.*\", txt)\n",
    "print(x)"
   ]
  },
  {
   "cell_type": "code",
   "execution_count": 23,
   "id": "2b6d2fe0",
   "metadata": {},
   "outputs": [
    {
     "name": "stdout",
     "output_type": "stream",
     "text": [
      "The first white-space character is located in position: 3\n"
     ]
    }
   ],
   "source": [
    "txt = \"The rain in the Spain\"\n",
    "pattern = \"\\s\"\n",
    "x = re.search(pattern, txt)\n",
    "print(\"The first white-space character is located in position:\", x.start())"
   ]
  },
  {
   "cell_type": "code",
   "execution_count": 25,
   "id": "ad2058b6",
   "metadata": {},
   "outputs": [
    {
     "name": "stdout",
     "output_type": "stream",
     "text": [
      "None\n"
     ]
    }
   ],
   "source": [
    "txt = \"The rain in the Spain\"\n",
    "pattern = \"Portugal\"\n",
    "x = re.search(pattern, txt)\n",
    "print(x)"
   ]
  },
  {
   "cell_type": "code",
   "execution_count": 50,
   "id": "15db2523",
   "metadata": {},
   "outputs": [
    {
     "name": "stdout",
     "output_type": "stream",
     "text": [
      "<re.Match object; span=(4, 9), match='Match'>\n"
     ]
    }
   ],
   "source": [
    "txt = \"The Match object has properties and methods used to retrieve information about the search, and the result\"\n",
    "pattern = r\"\\bM\\w+\"\n",
    "x = re.search(pattern, txt)\n",
    "print(x)"
   ]
  },
  {
   "cell_type": "code",
   "execution_count": 58,
   "id": "25c18121",
   "metadata": {},
   "outputs": [
    {
     "name": "stdout",
     "output_type": "stream",
     "text": [
      "<re.Match object; span=(38, 54), match='27 December 1965'>\n"
     ]
    }
   ],
   "source": [
    "txt = \"\"\"\n",
    "Salman Salim Abdul Rashid Khan; born 27 December 1965 is an Indian actor, film producer,\n",
    "writer and television personality who works predominantly in Hindi films.\n",
    "In a film career spanning over thirty five years, \n",
    "Khan has received numerous awards, including two National Film Awards as a film producer,\n",
    "and two Filmfare Awards as an actor.\n",
    "He is cited in the media as one of the most commercially successful actors of Indian cinema.\n",
    "Forbes has included Khan in listings of the highest-paid celebrities in the world, in 2015 and 2018,\n",
    "with him being the highest-ranked Indian in the latter year.\n",
    "\n",
    "\"\"\"\n",
    "\n",
    "pattern = r\"\\b\\d.*\\d\\b\"\n",
    "x = re.search(pattern, txt)\n",
    "print(x)\n"
   ]
  },
  {
   "cell_type": "markdown",
   "id": "ddbfe97c",
   "metadata": {},
   "source": [
    "### Split ()\n",
    "```\n",
    "* Returns a list where the string has been split at each match into words.\n",
    "* Split at each white-space character.\n",
    "* Split the string only at the first occurrence.\n",
    "* We can control the number of occurrences by specifying the maxsplit parameter.\n",
    "```"
   ]
  },
  {
   "cell_type": "code",
   "execution_count": 29,
   "id": "ad16eaef",
   "metadata": {},
   "outputs": [
    {
     "name": "stdout",
     "output_type": "stream",
     "text": [
      "['The', 'rain', 'in', 'Spain']\n"
     ]
    }
   ],
   "source": [
    "txt = \"The rain in Spain\"\n",
    "pattern = \"\\s\"\n",
    "x = re.split(pattern, txt)\n",
    "print(x)"
   ]
  },
  {
   "cell_type": "code",
   "execution_count": 31,
   "id": "62eb3ef2",
   "metadata": {},
   "outputs": [
    {
     "name": "stdout",
     "output_type": "stream",
     "text": [
      "['The', 'rain', 'in Spain']\n"
     ]
    }
   ],
   "source": [
    "txt = \"The rain in Spain\"\n",
    "pattern = \"\\s\"\n",
    "x = re.split(pattern, txt, maxsplit=2)\n",
    "print(x)"
   ]
  },
  {
   "cell_type": "code",
   "execution_count": 34,
   "id": "7715db07",
   "metadata": {},
   "outputs": [
    {
     "name": "stdout",
     "output_type": "stream",
     "text": [
      "['The', 'rain in Spain']\n"
     ]
    }
   ],
   "source": [
    "txt = \"The rain in Spain\"\n",
    "pattern = \"\\s\"\n",
    "x = re.split(pattern, txt, 1)\n",
    "print(x)"
   ]
  },
  {
   "cell_type": "code",
   "execution_count": 53,
   "id": "60180939",
   "metadata": {},
   "outputs": [
    {
     "name": "stdout",
     "output_type": "stream",
     "text": [
      "['The ', ' object has properties and methods used to retrieve information about the search, and the result']\n"
     ]
    }
   ],
   "source": [
    "txt = \"The Match object has properties and methods used to retrieve information about the search, and the result\"\n",
    "pattern = r\"\\bM\\w+\"\n",
    "x = re.split(pattern, txt)\n",
    "print(x)"
   ]
  },
  {
   "cell_type": "markdown",
   "id": "8ca4818a",
   "metadata": {},
   "source": [
    "### Sub ()\n",
    "```\n",
    "* Replaces the matches with the text of your choice.\n",
    "* Can control the number of replacements by specifying the count parameter.\n",
    "```"
   ]
  },
  {
   "cell_type": "code",
   "execution_count": 40,
   "id": "f290de5c",
   "metadata": {},
   "outputs": [
    {
     "name": "stdout",
     "output_type": "stream",
     "text": [
      "The_rain_in_Spain\n"
     ]
    }
   ],
   "source": [
    "txt = \"The rain in Spain\"\n",
    "pattern = \"\\s\"\n",
    "x = re.sub(pattern, \"_\", txt)\n",
    "print(x)"
   ]
  },
  {
   "cell_type": "code",
   "execution_count": 45,
   "id": "6150493b",
   "metadata": {},
   "outputs": [
    {
     "name": "stdout",
     "output_type": "stream",
     "text": [
      "The9rain in Spain\n"
     ]
    }
   ],
   "source": [
    "txt = \"The rain in Spain\"\n",
    "pattern = \"\\s\"\n",
    "x = re.sub(pattern, \"9\", txt, 1)\n",
    "print(x)"
   ]
  },
  {
   "cell_type": "markdown",
   "id": "6ffe9cc3",
   "metadata": {},
   "source": [
    "### Match Object\n",
    "\n",
    "```\n",
    "* A Match Object is an object containing information about the search and the result.\n",
    "\n",
    "The Match object has properties and methods used to retrieve information about the search, and the result.\n",
    "* .span() returns a tuple containing the start-, and end positions of the match.\n",
    "* .string returns the string passed into the function\n",
    "```"
   ]
  },
  {
   "cell_type": "code",
   "execution_count": 60,
   "id": "548282b4",
   "metadata": {},
   "outputs": [
    {
     "name": "stdout",
     "output_type": "stream",
     "text": [
      "(12, 17)\n"
     ]
    }
   ],
   "source": [
    "txt = \"The rain in Spain\"\n",
    "pattern = r\"\\bS\\w+\"\n",
    "x = re.search(pattern, txt)\n",
    "print(x.span())"
   ]
  },
  {
   "cell_type": "code",
   "execution_count": 61,
   "id": "1334e66f",
   "metadata": {},
   "outputs": [
    {
     "name": "stdout",
     "output_type": "stream",
     "text": [
      "The rain in Spain\n"
     ]
    }
   ],
   "source": [
    "txt = \"The rain in Spain\"\n",
    "pattern = r\"\\bS\\w+\"\n",
    "x = re.search(pattern, txt)\n",
    "print(x.string)"
   ]
  },
  {
   "cell_type": "code",
   "execution_count": 110,
   "id": "e9de755c",
   "metadata": {},
   "outputs": [
    {
     "name": "stdout",
     "output_type": "stream",
     "text": [
      "['support@domain.pk', 'atif_salam@domain.pk']\n"
     ]
    }
   ],
   "source": [
    "txt = \"Contact us at info@example.com or support@domain.pk for assistance atif_salam@domain.pk.\"\n",
    "pattern = r\"(\\w{1,50}@\\w{1,50}.pk)\"\n",
    "match = re.findall(pattern, txt)\n",
    "print(match)"
   ]
  },
  {
   "cell_type": "code",
   "execution_count": 104,
   "id": "98674ae3",
   "metadata": {},
   "outputs": [
    {
     "name": "stdout",
     "output_type": "stream",
     "text": [
      "['support@domain.pk', 'atif_salam@domain.pk']\n"
     ]
    }
   ],
   "source": [
    "text = \"Contact us at info@example.com or support@domain.pk for assistance atif_salam@domain.pk.\"\n",
    "pattern = r'\\b[\\w]+@[\\w]+.pk'\n",
    "\n",
    "domain_pk = re.findall(pattern, text)\n",
    "print(domain_pk)"
   ]
  },
  {
   "cell_type": "code",
   "execution_count": 134,
   "id": "39d1db99",
   "metadata": {},
   "outputs": [
    {
     "name": "stdout",
     "output_type": "stream",
     "text": [
      "['12345-6789012-3', '34567-8901234-5', '42201 9446591 3']\n"
     ]
    }
   ],
   "source": [
    "txt = \"My CNIC is 12345-6789012-3 and another one is 34567-8901234-5 nd 42201 9446591 3\"\n",
    "pattern = r\"\\d.+\\d.+\\d\"\n",
    "\n",
    "pattern = r\"(\\d{4,5}.\\d{6,7}.\\d{1,2})\"\n",
    "match = re.findall(pattern, txt)\n",
    "print(match)"
   ]
  },
  {
   "cell_type": "code",
   "execution_count": 133,
   "id": "cccdf6e0",
   "metadata": {},
   "outputs": [
    {
     "name": "stdout",
     "output_type": "stream",
     "text": [
      "['12345-6789012-3', '34567-8901234-5', '34567 8901234 5']\n"
     ]
    }
   ],
   "source": [
    "text = \"My CNIC is 12345-6789012-3 and another one is 34567-8901234-5, 34567 8901234 5.\"\n",
    "pattern = (r\"\\d+.\\d+.\\d+\")\n",
    "cnic = re.findall(pattern, text)\n",
    "print(cnic)"
   ]
  },
  {
   "cell_type": "code",
   "execution_count": 138,
   "id": "7a81f12c",
   "metadata": {},
   "outputs": [
    {
     "name": "stdout",
     "output_type": "stream",
     "text": [
      "['یہ', 'میں', 'کچھ', 'بھی', 'ہیں۔']\n"
     ]
    }
   ],
   "source": [
    "txt = \"یہ sentence میں کچھ English words بھی ہیں۔\"\n",
    "pattern = r\"\\b[\\u0600-\\u06FF]+\"\n",
    "match = re.findall(pattern, txt)\n",
    "print(match)"
   ]
  },
  {
   "cell_type": "code",
   "execution_count": 158,
   "id": "25b9b247",
   "metadata": {},
   "outputs": [
    {
     "name": "stdout",
     "output_type": "stream",
     "text": [
      "['15-08-2023', '23-09-2023', '19092023']\n"
     ]
    }
   ],
   "source": [
    "txt = \"The event will take place on 15-08-2023 and 23-09-2023 or 19092023\"\n",
    "pattern = r\"\\d{1,2}.\\d{1,2}.\\d{1,4}\"\n",
    "match = re.findall(pattern, txt)\n",
    "print(match)"
   ]
  },
  {
   "cell_type": "code",
   "execution_count": 329,
   "id": "3ee947b0",
   "metadata": {},
   "outputs": [
    {
     "name": "stdout",
     "output_type": "stream",
     "text": [
      "['http://www.example.pk', 'https://website.com.pk']\n"
     ]
    }
   ],
   "source": [
    "txt = \"Visit http://www.example.pk or https://website.com.pk for more information.\"\n",
    "pattern = r\"\\b[\\w://]+[\\w\\.]+\\.[\\w].\"\n",
    "match = re.findall(pattern, txt)\n",
    "print(match)"
   ]
  },
  {
   "cell_type": "code",
   "execution_count": 363,
   "id": "42f37a08",
   "metadata": {},
   "outputs": [
    {
     "name": "stdout",
     "output_type": "stream",
     "text": [
      "['atif.salam@gmail.com', 'koki_1978@yahoo.com', 'atifsalam@hotmail.com', '1978_atif@outlook.com']\n"
     ]
    }
   ],
   "source": [
    "txt = \"\"\"my email id is atif.salam@gmail.com and my friend's email id is koki_1978@yahoo.com\n",
    "\n",
    "and his friend's id is atifsalam@hotmail.com and his friend's id is 1978_atif@outlook.com\n",
    "\n",
    "\"\"\"\n",
    "pattern = r\"[\\w\\.]+[\\w]+[@]+[\\w]+\\.[\\w]+\"\n",
    "match = re.findall(pattern, txt)\n",
    "print(match)"
   ]
  },
  {
   "cell_type": "code",
   "execution_count": 379,
   "id": "c28eb14f",
   "metadata": {},
   "outputs": [
    {
     "name": "stdout",
     "output_type": "stream",
     "text": [
      "['PKR 1500', 'Rs. 2500']\n"
     ]
    }
   ],
   "source": [
    "txt = \"The product costs PKR 1500, while the deluxe version is priced at Rs. 2500.\"\n",
    "pattern = r\"[\\w\\.]+\\s[\\d]+\"\n",
    "match = re.findall(pattern, txt)\n",
    "print(match)\n"
   ]
  },
  {
   "cell_type": "code",
   "execution_count": 398,
   "id": "22fcbfd9",
   "metadata": {},
   "outputs": [
    {
     "name": "stdout",
     "output_type": "stream",
     "text": [
      "['کیا', 'آپ', 'یہاں']\n"
     ]
    }
   ],
   "source": [
    "txt = \"کیا! آپ, یہاں؟\"\n",
    "pattern = r\"[\\u0600-\\u06FF]+\\b\"\n",
    "match = re.findall(pattern, txt)\n",
    "print(match)"
   ]
  },
  {
   "cell_type": "code",
   "execution_count": 485,
   "id": "1df7468b",
   "metadata": {},
   "outputs": [
    {
     "name": "stdout",
     "output_type": "stream",
     "text": [
      "Lahore\n",
      "Karachi\n",
      "Islamabad\n",
      "Peshawar\n"
     ]
    }
   ],
   "source": [
    "txt = \"Lahore, Karachi, Islamabad, and Peshawar are major cities of Pakistan.\"\n",
    "pattern = r'\\b[A-Z][a-z]+\\b'\n",
    "city = re.findall(pattern, txt)\n",
    "for match in city:\n",
    "    if match != 'Pakistan':\n",
    "        print(match)"
   ]
  },
  {
   "cell_type": "code",
   "execution_count": 513,
   "id": "4d519be1",
   "metadata": {},
   "outputs": [
    {
     "name": "stdout",
     "output_type": "stream",
     "text": [
      "['LEA-567', 'BJF 219', 'BJK258']\n"
     ]
    }
   ],
   "source": [
    "txt = \"\"\"I saw a car with the number plate LEA-567 near the market \n",
    "and I have car number BJF 219 and my\n",
    "my wife's car number is BJK258\"\"\"\n",
    "\n",
    "pattern = r\"[A-Z\\-]+\\s?[\\d]+\"\n",
    "match = re.findall(pattern, txt)\n",
    "print(match)"
   ]
  },
  {
   "cell_type": "code",
   "execution_count": 546,
   "id": "74a2265b",
   "metadata": {},
   "outputs": [
    {
     "data": {
      "text/plain": [
       "[('12:05:40', 'Ali Asar', 'PIAIC-187258'),\n",
       " ('12:05:41', 'Hasnain Munir', 'PIAIC-187272'),\n",
       " ('12:05:44', 'Shaheer Baig', 'PIAIC-169519'),\n",
       " ('12:05:45', 'Humera Naz', 'PIAIC-173431'),\n",
       " ('12:05:47', 'Sadia Anwar', 'PIAIC-180028'),\n",
       " ('12:05:47', 'Muhammad Mehroz', 'PIAIC-131496'),\n",
       " ('12:05:47', 'Home', 'PIAIC-172998'),\n",
       " ('12:05:47', 'Muhammad Sadullah = PIAIC-178950', 'PIAIC-178950'),\n",
       " ('12:05:48', 'Muhammad Uzair-177637', 'PIAIC-177637'),\n",
       " ('12:05:48', 'Taqwa Khaliq', 'PIAIC-173701'),\n",
       " ('12:05:49', 'Faisal Bashir-177802', 'PIAIC-177802'),\n",
       " ('12:05:50', 'Talha Munir Rana', 'PIAIC-173761'),\n",
       " ('12:05:52', 'Abdul Qadar', 'PIAIC-172941'),\n",
       " ('12:05:57', 'Dr. Bhagwan Das', 'PIAIC-96879'),\n",
       " ('12:05:57', 'Uzair Ullah (PIAIC169405)', 'PIAIC-169405'),\n",
       " ('12:06:00', 'Arshad', 'PIAIC168092'),\n",
       " ('12:06:01', 'PIAIC188523 Subhan Ahmed', 'PIAIC188523'),\n",
       " ('12:06:04', 'Taqwa Khaliq', 'PIAIC 173701'),\n",
       " ('12:06:10', 'Ali Asar', 'PIAIC-188720'),\n",
       " ('12:06:28', 'Gulshan Ali', 'PIAIC-176719'),\n",
       " ('12:06:29', 'M Ali Asif Khan - PIAIC-57947', 'PIAIC-57947'),\n",
       " ('12:06:33', 'Usman Noor PIAIC-188401', 'PIAIC-188401'),\n",
       " ('12:06:49', 'Sohaib Baseer Ahmad', 'PIAIC67260'),\n",
       " ('12:40:20', 'Ali Asar', 'PIAIC-187258')]"
      ]
     },
     "execution_count": 546,
     "metadata": {},
     "output_type": "execute_result"
    }
   ],
   "source": [
    "data = \"\"\"\n",
    "12:05:40 From Ali Asar To Everyone : PIAIC-187258\n",
    "12:05:41 From Hasnain Munir To Everyone : PIAIC-187272\n",
    "12:05:44 From Shaheer Baig To Everyone : PIAIC-169519\n",
    "12:05:45 From Humera Naz To Everyone : PIAIC-173431\n",
    "12:05:47 From Sadia Anwar To Everyone : PIAIC-180028\n",
    "12:05:47 From Muhammad Mehroz To Everyone : PIAIC-131496\n",
    "12:05:47 From Home To Everyone : PIAIC-172998\n",
    "12:05:47 From Muhammad Sadullah = PIAIC-178950 To Everyone : PIAIC-178950\n",
    "12:05:48 From Muhammad Uzair-177637 To Everyone : PIAIC-177637\n",
    "12:05:48 From Taqwa Khaliq To Everyone : PIAIC-173701 TAQWA KHALIQ\n",
    "12:05:48 From asghar ibraheem CNC-012105 To Everyone : CNC-012105\n",
    "12:05:49 From Faisal Bashir-177802 To Everyone : PIAIC-177802\n",
    "12:05:50 From Talha Munir Rana To Everyone : PIAIC-173761\n",
    "12:05:52 From Abdul Qadar To Everyone : PIAIC-172941\n",
    "12:05:57 From Dr. Bhagwan Das To Everyone : PIAIC-96879\n",
    "12:05:57 From Uzair Ullah (PIAIC169405) To Everyone : PIAIC-169405\n",
    "12:06:00 From Arshad To Everyone : PIAIC168092\n",
    "12:06:01 From PIAIC188523 Subhan Ahmed To Everyone : PIAIC188523\n",
    "12:06:04 From Taqwa Khaliq To Everyone : PIAIC 173701\n",
    "12:06:10 From Ali Asar To Everyone : PIAIC-188720\n",
    "12:06:23 From Mohammad Javed To Everyone : WhatsApp number?\n",
    "12:06:28 From Gulshan Ali To Everyone : PIAIC-176719\n",
    "12:06:29 From M Ali Asif Khan - PIAIC-57947 To Everyone : PIAIC-57947\n",
    "12:06:33 From Usman Noor PIAIC-188401 To Everyone : PIAIC-188401\n",
    "12:06:46 From Zia (piaic121514) To Everyone : thanks\n",
    "12:06:49 From Sohaib Baseer Ahmad To Everyone : PIAIC67260\n",
    "12:40:20 From Ali Asar To Everyone : PIAIC-187258\n",
    "\"\"\"\n",
    "\n",
    "pattern = r\"(\\d{2}:\\d{2}:\\d{2}) From (.+) To Everyone : (PIAIC ?-?\\d{5,6})\"\n",
    "match = re.findall(pattern, data)\n",
    "match"
   ]
  },
  {
   "cell_type": "code",
   "execution_count": 548,
   "id": "d0e0ea2d",
   "metadata": {},
   "outputs": [
    {
     "data": {
      "text/html": [
       "<div>\n",
       "<style scoped>\n",
       "    .dataframe tbody tr th:only-of-type {\n",
       "        vertical-align: middle;\n",
       "    }\n",
       "\n",
       "    .dataframe tbody tr th {\n",
       "        vertical-align: top;\n",
       "    }\n",
       "\n",
       "    .dataframe thead th {\n",
       "        text-align: right;\n",
       "    }\n",
       "</style>\n",
       "<table border=\"1\" class=\"dataframe\">\n",
       "  <thead>\n",
       "    <tr style=\"text-align: right;\">\n",
       "      <th></th>\n",
       "      <th>Time</th>\n",
       "      <th>Student Name</th>\n",
       "      <th>Roll_No</th>\n",
       "    </tr>\n",
       "  </thead>\n",
       "  <tbody>\n",
       "    <tr>\n",
       "      <th>0</th>\n",
       "      <td>12:05:40</td>\n",
       "      <td>Ali Asar</td>\n",
       "      <td>PIAIC-187258</td>\n",
       "    </tr>\n",
       "    <tr>\n",
       "      <th>1</th>\n",
       "      <td>12:05:41</td>\n",
       "      <td>Hasnain Munir</td>\n",
       "      <td>PIAIC-187272</td>\n",
       "    </tr>\n",
       "    <tr>\n",
       "      <th>2</th>\n",
       "      <td>12:05:44</td>\n",
       "      <td>Shaheer Baig</td>\n",
       "      <td>PIAIC-169519</td>\n",
       "    </tr>\n",
       "    <tr>\n",
       "      <th>3</th>\n",
       "      <td>12:05:45</td>\n",
       "      <td>Humera Naz</td>\n",
       "      <td>PIAIC-173431</td>\n",
       "    </tr>\n",
       "    <tr>\n",
       "      <th>4</th>\n",
       "      <td>12:05:47</td>\n",
       "      <td>Sadia Anwar</td>\n",
       "      <td>PIAIC-180028</td>\n",
       "    </tr>\n",
       "    <tr>\n",
       "      <th>5</th>\n",
       "      <td>12:05:47</td>\n",
       "      <td>Muhammad Mehroz</td>\n",
       "      <td>PIAIC-131496</td>\n",
       "    </tr>\n",
       "    <tr>\n",
       "      <th>6</th>\n",
       "      <td>12:05:47</td>\n",
       "      <td>Home</td>\n",
       "      <td>PIAIC-172998</td>\n",
       "    </tr>\n",
       "    <tr>\n",
       "      <th>7</th>\n",
       "      <td>12:05:47</td>\n",
       "      <td>Muhammad Sadullah = PIAIC-178950</td>\n",
       "      <td>PIAIC-178950</td>\n",
       "    </tr>\n",
       "    <tr>\n",
       "      <th>8</th>\n",
       "      <td>12:05:48</td>\n",
       "      <td>Muhammad Uzair-177637</td>\n",
       "      <td>PIAIC-177637</td>\n",
       "    </tr>\n",
       "    <tr>\n",
       "      <th>9</th>\n",
       "      <td>12:05:48</td>\n",
       "      <td>Taqwa Khaliq</td>\n",
       "      <td>PIAIC-173701</td>\n",
       "    </tr>\n",
       "    <tr>\n",
       "      <th>10</th>\n",
       "      <td>12:05:49</td>\n",
       "      <td>Faisal Bashir-177802</td>\n",
       "      <td>PIAIC-177802</td>\n",
       "    </tr>\n",
       "    <tr>\n",
       "      <th>11</th>\n",
       "      <td>12:05:50</td>\n",
       "      <td>Talha Munir Rana</td>\n",
       "      <td>PIAIC-173761</td>\n",
       "    </tr>\n",
       "    <tr>\n",
       "      <th>12</th>\n",
       "      <td>12:05:52</td>\n",
       "      <td>Abdul Qadar</td>\n",
       "      <td>PIAIC-172941</td>\n",
       "    </tr>\n",
       "    <tr>\n",
       "      <th>13</th>\n",
       "      <td>12:05:57</td>\n",
       "      <td>Dr. Bhagwan Das</td>\n",
       "      <td>PIAIC-96879</td>\n",
       "    </tr>\n",
       "    <tr>\n",
       "      <th>14</th>\n",
       "      <td>12:05:57</td>\n",
       "      <td>Uzair Ullah (PIAIC169405)</td>\n",
       "      <td>PIAIC-169405</td>\n",
       "    </tr>\n",
       "    <tr>\n",
       "      <th>15</th>\n",
       "      <td>12:06:00</td>\n",
       "      <td>Arshad</td>\n",
       "      <td>PIAIC168092</td>\n",
       "    </tr>\n",
       "    <tr>\n",
       "      <th>16</th>\n",
       "      <td>12:06:01</td>\n",
       "      <td>PIAIC188523 Subhan Ahmed</td>\n",
       "      <td>PIAIC188523</td>\n",
       "    </tr>\n",
       "    <tr>\n",
       "      <th>17</th>\n",
       "      <td>12:06:04</td>\n",
       "      <td>Taqwa Khaliq</td>\n",
       "      <td>PIAIC 173701</td>\n",
       "    </tr>\n",
       "    <tr>\n",
       "      <th>18</th>\n",
       "      <td>12:06:10</td>\n",
       "      <td>Ali Asar</td>\n",
       "      <td>PIAIC-188720</td>\n",
       "    </tr>\n",
       "    <tr>\n",
       "      <th>19</th>\n",
       "      <td>12:06:28</td>\n",
       "      <td>Gulshan Ali</td>\n",
       "      <td>PIAIC-176719</td>\n",
       "    </tr>\n",
       "    <tr>\n",
       "      <th>20</th>\n",
       "      <td>12:06:29</td>\n",
       "      <td>M Ali Asif Khan - PIAIC-57947</td>\n",
       "      <td>PIAIC-57947</td>\n",
       "    </tr>\n",
       "    <tr>\n",
       "      <th>21</th>\n",
       "      <td>12:06:33</td>\n",
       "      <td>Usman Noor PIAIC-188401</td>\n",
       "      <td>PIAIC-188401</td>\n",
       "    </tr>\n",
       "    <tr>\n",
       "      <th>22</th>\n",
       "      <td>12:06:49</td>\n",
       "      <td>Sohaib Baseer Ahmad</td>\n",
       "      <td>PIAIC67260</td>\n",
       "    </tr>\n",
       "    <tr>\n",
       "      <th>23</th>\n",
       "      <td>12:40:20</td>\n",
       "      <td>Ali Asar</td>\n",
       "      <td>PIAIC-187258</td>\n",
       "    </tr>\n",
       "  </tbody>\n",
       "</table>\n",
       "</div>"
      ],
      "text/plain": [
       "        Time                      Student Name       Roll_No\n",
       "0   12:05:40                          Ali Asar  PIAIC-187258\n",
       "1   12:05:41                     Hasnain Munir  PIAIC-187272\n",
       "2   12:05:44                      Shaheer Baig  PIAIC-169519\n",
       "3   12:05:45                        Humera Naz  PIAIC-173431\n",
       "4   12:05:47                       Sadia Anwar  PIAIC-180028\n",
       "5   12:05:47                   Muhammad Mehroz  PIAIC-131496\n",
       "6   12:05:47                              Home  PIAIC-172998\n",
       "7   12:05:47  Muhammad Sadullah = PIAIC-178950  PIAIC-178950\n",
       "8   12:05:48             Muhammad Uzair-177637  PIAIC-177637\n",
       "9   12:05:48                      Taqwa Khaliq  PIAIC-173701\n",
       "10  12:05:49              Faisal Bashir-177802  PIAIC-177802\n",
       "11  12:05:50                  Talha Munir Rana  PIAIC-173761\n",
       "12  12:05:52                       Abdul Qadar  PIAIC-172941\n",
       "13  12:05:57                   Dr. Bhagwan Das   PIAIC-96879\n",
       "14  12:05:57         Uzair Ullah (PIAIC169405)  PIAIC-169405\n",
       "15  12:06:00                            Arshad   PIAIC168092\n",
       "16  12:06:01          PIAIC188523 Subhan Ahmed   PIAIC188523\n",
       "17  12:06:04                      Taqwa Khaliq  PIAIC 173701\n",
       "18  12:06:10                          Ali Asar  PIAIC-188720\n",
       "19  12:06:28                       Gulshan Ali  PIAIC-176719\n",
       "20  12:06:29     M Ali Asif Khan - PIAIC-57947   PIAIC-57947\n",
       "21  12:06:33           Usman Noor PIAIC-188401  PIAIC-188401\n",
       "22  12:06:49               Sohaib Baseer Ahmad    PIAIC67260\n",
       "23  12:40:20                          Ali Asar  PIAIC-187258"
      ]
     },
     "execution_count": 548,
     "metadata": {},
     "output_type": "execute_result"
    }
   ],
   "source": [
    "import pandas as pd\n",
    "\n",
    "df = pd.DataFrame(match, columns=[\"Time\", \"Student Name\", \"Roll_No\"])\n",
    "df"
   ]
  },
  {
   "cell_type": "code",
   "execution_count": null,
   "id": "6117123b",
   "metadata": {},
   "outputs": [],
   "source": []
  }
 ],
 "metadata": {
  "kernelspec": {
   "display_name": "Python 3 (ipykernel)",
   "language": "python",
   "name": "python3"
  },
  "language_info": {
   "codemirror_mode": {
    "name": "ipython",
    "version": 3
   },
   "file_extension": ".py",
   "mimetype": "text/x-python",
   "name": "python",
   "nbconvert_exporter": "python",
   "pygments_lexer": "ipython3",
   "version": "3.9.13"
  }
 },
 "nbformat": 4,
 "nbformat_minor": 5
}
