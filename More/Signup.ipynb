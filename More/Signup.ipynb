{
 "cells": [
  {
   "cell_type": "code",
   "execution_count": 137,
   "id": "dd3abcc6",
   "metadata": {},
   "outputs": [
    {
     "name": "stdout",
     "output_type": "stream",
     "text": [
      "                         Login to Enter\n",
      "User Name: as\n",
      "Password: 1003\n",
      "Wrong User Or Password!\n"
     ]
    }
   ],
   "source": [
    "#Signup\n",
    "\n",
    "space=' '*25\n",
    "#print('%sSingup Process'%space)\n",
    "#user=input('Enter User Name: ')\n",
    "#pas=input('Enter Your Password: ')\n",
    "\n",
    "#Signin\n",
    "print('%sLogin to Enter'%space)\n",
    "#lo=1\n",
    "user1=input('User Name: ')\n",
    "pas1=int(input('Password: '))\n",
    "if user1=='atif' and pas1==1003:\n",
    "    print('Authenticated')\n",
    "else:\n",
    "    #while lo<=2:\n",
    "        print('Wrong User Or Password!')\n",
    "        #lo+=1"
   ]
  },
  {
   "cell_type": "code",
   "execution_count": 2,
   "id": "5bded0f6",
   "metadata": {},
   "outputs": [
    {
     "name": "stdout",
     "output_type": "stream",
     "text": [
      "1\n",
      "2\n",
      "3\n"
     ]
    }
   ],
   "source": [
    "x=0\n",
    "while x<3:\n",
    "    x+=1\n",
    "    print(x)"
   ]
  },
  {
   "cell_type": "code",
   "execution_count": 42,
   "id": "cb3127d9",
   "metadata": {},
   "outputs": [
    {
     "name": "stdout",
     "output_type": "stream",
     "text": [
      "['apple', 'banana', 'mango', 'kiwi', 'apple', 'watermelon', 'banana']\n",
      "['apple', 'banana']\n",
      "What do you want? sweet\n",
      "['apple', 'banana', 'mango', 'kiwi', 'apple', 'watermelon', 'banana', 'sweet']\n"
     ]
    }
   ],
   "source": [
    "thislist=['apple','banana','mango','kiwi','apple','watermelon','banana']\n",
    "print(thislist)\n",
    "print(thislist[0:2])\n",
    "thislist.append(input('What do you want? '))\n",
    "print(thislist)\n"
   ]
  },
  {
   "cell_type": "code",
   "execution_count": 31,
   "id": "80431326",
   "metadata": {},
   "outputs": [
    {
     "name": "stdout",
     "output_type": "stream",
     "text": [
      "('Apple', 'Banana', 'Manago', 'Kiwi', 'Mango', 'Banana')\n",
      "('Apple', 'Banana')\n"
     ]
    }
   ],
   "source": [
    "tup=('Apple','Banana','Manago','Kiwi','Mango','Banana')\n",
    "print(tup)\n",
    "print(tup[0:2])"
   ]
  },
  {
   "cell_type": "raw",
   "id": "dcea054b",
   "metadata": {},
   "source": []
  },
  {
   "cell_type": "code",
   "execution_count": 33,
   "id": "8a497cbb",
   "metadata": {},
   "outputs": [
    {
     "name": "stdout",
     "output_type": "stream",
     "text": [
      "What is your Selection? Brand\n",
      "Ford\n"
     ]
    }
   ],
   "source": [
    "dic={'Brand':'Ford','Model':'Mustang','Year':1964}\n",
    "x=dic[input('What is your Selection? ')]\n",
    "print(x)"
   ]
  },
  {
   "cell_type": "code",
   "execution_count": 36,
   "id": "1086006b",
   "metadata": {},
   "outputs": [
    {
     "name": "stdout",
     "output_type": "stream",
     "text": [
      "{'Mango', 'Apple', 'Banana'}\n"
     ]
    }
   ],
   "source": [
    "tset={'Apple','Banana','Mango'}\n",
    "print(tset)\n"
   ]
  },
  {
   "cell_type": "code",
   "execution_count": 46,
   "id": "39432780",
   "metadata": {},
   "outputs": [
    {
     "name": "stdout",
     "output_type": "stream",
     "text": [
      "frozenset({'Faiza', 'Manahil', 'Atif'})\n"
     ]
    }
   ],
   "source": [
    "fset=frozenset(['Atif','Faiza','Manahil'])\n",
    "print(fset)"
   ]
  },
  {
   "cell_type": "code",
   "execution_count": 48,
   "id": "31e1b24c",
   "metadata": {},
   "outputs": [
    {
     "name": "stdout",
     "output_type": "stream",
     "text": [
      "True\n",
      "True\n"
     ]
    }
   ],
   "source": [
    "print(10>9)\n",
    "print(9<10)"
   ]
  }
 ],
 "metadata": {
  "kernelspec": {
   "display_name": "Python 3 (ipykernel)",
   "language": "python",
   "name": "python3"
  },
  "language_info": {
   "codemirror_mode": {
    "name": "ipython",
    "version": 3
   },
   "file_extension": ".py",
   "mimetype": "text/x-python",
   "name": "python",
   "nbconvert_exporter": "python",
   "pygments_lexer": "ipython3",
   "version": "3.9.7"
  }
 },
 "nbformat": 4,
 "nbformat_minor": 5
}
