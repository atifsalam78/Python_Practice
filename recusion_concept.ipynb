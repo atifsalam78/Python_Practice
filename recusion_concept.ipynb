{
 "cells": [
  {
   "cell_type": "markdown",
   "metadata": {
    "id": "6G3cePbBUusD"
   },
   "source": [
    "# Recursion\n",
    "```\n",
    "* When a function calls itself this is called recursion.\n",
    "* Without using loop\n",
    "When performing recursion 2 things kept in mind\n",
    "  1.) First identify the base case, means you already know the value don't need to do calculation.\n",
    "  2.) Decompose your big problem into small.\n",
    "\n",
    "* When base case acheive functions return a value.\n",
    "* Value return by function will addup to a function who call the function in upward direction.\n",
    "* This behavior is very close to stack which follows LIFO.\n",
    "* Means the function call first it is close in very last.\n",
    "* The function call last it is close first.\n",
    "* Stack is used to call recursion.  \n",
    "\n",
    "\n",
    "```"
   ]
  },
  {
   "cell_type": "markdown",
   "metadata": {
    "id": "OVTDY5tPYhdw"
   },
   "source": [
    "### Iterative Approach"
   ]
  },
  {
   "cell_type": "code",
   "execution_count": null,
   "metadata": {
    "colab": {
     "base_uri": "https://localhost:8080/"
    },
    "id": "Rli_ueZHUpOw",
    "outputId": "85ec915f-1fdd-43f0-ece6-f3869ff0451d"
   },
   "outputs": [
    {
     "name": "stdout",
     "output_type": "stream",
     "text": [
      "12\n"
     ]
    }
   ],
   "source": [
    "def mul(a, b):\n",
    "  result = 0\n",
    "  for i in range(b):\n",
    "    result = result + a\n",
    "  return result\n",
    "\n",
    "print(mul(3,4))"
   ]
  },
  {
   "cell_type": "markdown",
   "metadata": {
    "id": "3icil_30YnAe"
   },
   "source": [
    "### Recursive Approach"
   ]
  },
  {
   "cell_type": "code",
   "execution_count": null,
   "metadata": {
    "colab": {
     "base_uri": "https://localhost:8080/"
    },
    "id": "Xj7uWLYDWRBO",
    "outputId": "5a6cf606-018c-4670-db77-eb4d3c32ecb0"
   },
   "outputs": [
    {
     "name": "stdout",
     "output_type": "stream",
     "text": [
      "12\n"
     ]
    }
   ],
   "source": [
    "def multiply(a, b):\n",
    "  if b == 1:\n",
    "    return a\n",
    "  else:\n",
    "    return a + multiply(a, b-1)\n",
    "\n",
    "print(multiply(4, 3))\n"
   ]
  },
  {
   "cell_type": "markdown",
   "metadata": {
    "id": "lIuoGdotkXMm"
   },
   "source": [
    "# Factorial"
   ]
  },
  {
   "cell_type": "code",
   "execution_count": null,
   "metadata": {
    "colab": {
     "base_uri": "https://localhost:8080/"
    },
    "id": "ENf4-0I6ZvMK",
    "outputId": "16263c63-1e6a-4845-fae8-eaf82d9873bb"
   },
   "outputs": [
    {
     "name": "stdout",
     "output_type": "stream",
     "text": [
      "120\n"
     ]
    }
   ],
   "source": [
    "def fact(num):\n",
    "  if num == 1:\n",
    "    return 1\n",
    "  else:\n",
    "    return num * fact(num-1)\n",
    "\n",
    "print(fact(5))"
   ]
  },
  {
   "cell_type": "code",
   "execution_count": null,
   "metadata": {
    "colab": {
     "base_uri": "https://localhost:8080/"
    },
    "id": "bbOt5INhkWt-",
    "outputId": "4e275e65-0131-47fd-9e30-d23664f899f6"
   },
   "outputs": [
    {
     "name": "stdout",
     "output_type": "stream",
     "text": [
      "120\n"
     ]
    }
   ],
   "source": [
    "def fact(num):\n",
    "  for i in range(1,num):\n",
    "    num = num * i\n",
    "\n",
    "  return num\n",
    "\n",
    "print(fact(5))"
   ]
  },
  {
   "cell_type": "code",
   "execution_count": null,
   "metadata": {
    "colab": {
     "base_uri": "https://localhost:8080/"
    },
    "id": "6cD9de9Ll2aW",
    "outputId": "5cc502c5-b18a-43c8-adfb-af921a903184"
   },
   "outputs": [
    {
     "name": "stdout",
     "output_type": "stream",
     "text": [
      "[None, 2, 3, 4]\n",
      "[None, 2, 3, 4]\n",
      "False\n"
     ]
    }
   ],
   "source": [
    "lst = [1, 2, 3, 4]\n",
    "another_lst = lst\n",
    "another_lst[0] = lst.extend({})\n",
    "print(lst)\n",
    "print(another_lst)\n",
    "print(all(lst) and any(lst))"
   ]
  },
  {
   "cell_type": "code",
   "execution_count": null,
   "metadata": {
    "colab": {
     "base_uri": "https://localhost:8080/"
    },
    "id": "qXDLGVjlsPZR",
    "outputId": "fab79abb-c077-40eb-ec82-9812fbe42897"
   },
   "outputs": [
    {
     "name": "stdout",
     "output_type": "stream",
     "text": [
      "8 8 8\n"
     ]
    }
   ],
   "source": [
    "a = 8\n",
    "b = a\n",
    "c = b\n",
    "print(a, b, c)"
   ]
  },
  {
   "cell_type": "markdown",
   "metadata": {
    "id": "qZOBEWQPwyx_"
   },
   "source": [
    "# Palindrome"
   ]
  },
  {
   "cell_type": "code",
   "execution_count": null,
   "metadata": {
    "colab": {
     "base_uri": "https://localhost:8080/"
    },
    "id": "Q8UfpewYvM3z",
    "outputId": "b7faf415-e4a7-495f-d41f-85ce614b0cd4"
   },
   "outputs": [
    {
     "name": "stdout",
     "output_type": "stream",
     "text": [
      "Palindrome\n",
      "Not Palindrome\n",
      "Palindrome\n",
      "Palindrome\n",
      "Palindrome\n"
     ]
    }
   ],
   "source": [
    "def palindrome(text):\n",
    "  if len(text) <= 1:\n",
    "    print(\"Palindrome\")\n",
    "  else:\n",
    "    if text[0] == text[-1]:\n",
    "      palindrome(text[1:-1])\n",
    "    else:\n",
    "      print(\"Not Palindrome\")\n",
    "\n",
    "\n",
    "palindrome(\"madam\")\n",
    "palindrome(\"python\")\n",
    "palindrome(\"abba\")\n",
    "palindrome(\"malayalam\")\n",
    "palindrome(\"racecar\")"
   ]
  },
  {
   "cell_type": "markdown",
   "metadata": {
    "id": "CsWsRwDt9TTs"
   },
   "source": [
    "# Fabonaci"
   ]
  },
  {
   "cell_type": "code",
   "execution_count": null,
   "metadata": {
    "colab": {
     "base_uri": "https://localhost:8080/"
    },
    "id": "CvshIIYZyL7V",
    "outputId": "2bd6b956-5828-4b7c-aa23-35aa264afe8e"
   },
   "outputs": [
    {
     "name": "stdout",
     "output_type": "stream",
     "text": [
      "24157817\n"
     ]
    }
   ],
   "source": [
    "def fib(num):\n",
    "  if num == 0 or num == 1:\n",
    "    return 1\n",
    "  else:\n",
    "    return fib(num-1) + fib(num-2)\n",
    "\n",
    "print(fib(36))"
   ]
  },
  {
   "cell_type": "code",
   "execution_count": null,
   "metadata": {
    "colab": {
     "base_uri": "https://localhost:8080/"
    },
    "id": "sw3IayPO93GJ",
    "outputId": "debd5c64-f0ac-4c19-83c7-c73f120e30ae"
   },
   "outputs": [
    {
     "name": "stdout",
     "output_type": "stream",
     "text": [
      "7778742049\n"
     ]
    }
   ],
   "source": [
    "def fib_memo(num, d):\n",
    "  if num in d:\n",
    "    return d[num]\n",
    "\n",
    "  else:\n",
    "    d[num] = fib_memo(num-1, d) + fib_memo(num-2, d)\n",
    "    return d[num]\n",
    "\n",
    "d = {0:1, 1:1}\n",
    "print(fib_memo(48, d))"
   ]
  },
  {
   "cell_type": "code",
   "execution_count": null,
   "metadata": {
    "id": "8Rugsrfm-w00"
   },
   "outputs": [],
   "source": []
  }
 ],
 "metadata": {
  "colab": {
   "provenance": []
  },
  "kernelspec": {
   "display_name": "Python 3 (ipykernel)",
   "language": "python",
   "name": "python3"
  },
  "language_info": {
   "codemirror_mode": {
    "name": "ipython",
    "version": 3
   },
   "file_extension": ".py",
   "mimetype": "text/x-python",
   "name": "python",
   "nbconvert_exporter": "python",
   "pygments_lexer": "ipython3",
   "version": "3.9.13"
  }
 },
 "nbformat": 4,
 "nbformat_minor": 1
}
