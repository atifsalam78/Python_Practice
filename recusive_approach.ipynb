{
 "cells": [
  {
   "cell_type": "markdown",
   "id": "9bdbaebf",
   "metadata": {},
   "source": [
    "### Multiplication"
   ]
  },
  {
   "cell_type": "code",
   "execution_count": 18,
   "id": "b9bd6ca2",
   "metadata": {},
   "outputs": [
    {
     "data": {
      "text/plain": [
       "98"
      ]
     },
     "execution_count": 18,
     "metadata": {},
     "output_type": "execute_result"
    }
   ],
   "source": [
    "# Itterator Approach\n",
    "\n",
    "def mul(a,b):\n",
    "    result = 0\n",
    "    for i in range(b):\n",
    "        result = result + a\n",
    "    return result\n",
    "\n",
    "mul(98,1)"
   ]
  },
  {
   "cell_type": "code",
   "execution_count": 19,
   "id": "cfcffe7b",
   "metadata": {},
   "outputs": [
    {
     "name": "stdout",
     "output_type": "stream",
     "text": [
      "12\n"
     ]
    }
   ],
   "source": [
    "# Recursive Approach\n",
    "\n",
    "def mul(a,b):\n",
    "    if b == 1:\n",
    "        return a\n",
    "    else:\n",
    "        return a + mul(a,b-1)\n",
    "print(mul(3,4))"
   ]
  },
  {
   "cell_type": "markdown",
   "id": "86d86eaf",
   "metadata": {},
   "source": [
    "### Factorial"
   ]
  },
  {
   "cell_type": "code",
   "execution_count": 32,
   "id": "66f061a9",
   "metadata": {},
   "outputs": [
    {
     "name": "stdout",
     "output_type": "stream",
     "text": [
      "362880\n"
     ]
    }
   ],
   "source": [
    "# Itterator Approach\n",
    "def fact(number):\n",
    "    for i in range(1,number):\n",
    "        number = number * i\n",
    "    return number\n",
    "\n",
    "print(fact(9))"
   ]
  },
  {
   "cell_type": "code",
   "execution_count": 33,
   "id": "d15f60cd",
   "metadata": {},
   "outputs": [
    {
     "name": "stdout",
     "output_type": "stream",
     "text": [
      "362880\n"
     ]
    }
   ],
   "source": [
    "# Recursive Approach\n",
    "\n",
    "def fact(number):\n",
    "    \n",
    "    if number == 1:\n",
    "        return 1\n",
    "    else:\n",
    "        return number * fact(number-1)\n",
    "    \n",
    "print(fact(9))"
   ]
  },
  {
   "cell_type": "code",
   "execution_count": 17,
   "id": "a44e1ac6",
   "metadata": {},
   "outputs": [
    {
     "data": {
      "text/plain": [
       "11"
      ]
     },
     "execution_count": 17,
     "metadata": {},
     "output_type": "execute_result"
    }
   ],
   "source": [
    "# Itterator Approach\n",
    "\n",
    "def string_length(string):\n",
    "    counter = 0\n",
    "    if string == \"\":\n",
    "        return counter\n",
    "    else:\n",
    "        for i in string:\n",
    "            counter += 1\n",
    "        return counter\n",
    "\n",
    "string_length(\"DataScience\")"
   ]
  },
  {
   "cell_type": "code",
   "execution_count": 1,
   "id": "4686837d",
   "metadata": {},
   "outputs": [
    {
     "name": "stdout",
     "output_type": "stream",
     "text": [
      "11\n"
     ]
    }
   ],
   "source": [
    "# Recursive Approach\n",
    "\n",
    "def string_length(string,counter=0):    \n",
    "    if string == \"\":\n",
    "        return counter\n",
    "    else: \n",
    "        return string_length(string[:-1], counter + 1 )\n",
    "        \n",
    "    \n",
    "print(string_length(\"Datascience\"))"
   ]
  },
  {
   "cell_type": "markdown",
   "id": "36ea41fb",
   "metadata": {},
   "source": [
    "### Palindrome"
   ]
  },
  {
   "cell_type": "code",
   "execution_count": 99,
   "id": "dd029962",
   "metadata": {},
   "outputs": [
    {
     "name": "stdout",
     "output_type": "stream",
     "text": [
      "Palindrome\n",
      "Palindrome\n",
      "Not Palindrome\n",
      "Palindrome\n"
     ]
    }
   ],
   "source": [
    "# Reverse Slicing Approach\n",
    "\n",
    "def palindrome(text):\n",
    "    string = text[::-1]\n",
    "    if text.lower() == string.lower():\n",
    "        print(\"Palindrome\")\n",
    "    else:\n",
    "        print(\"Not Palindrome\")\n",
    "\n",
    "palindrome(\"Madam\")\n",
    "palindrome(\"malayAlam\")\n",
    "palindrome(\"python\")\n",
    "palindrome(\"abba\")        "
   ]
  },
  {
   "cell_type": "code",
   "execution_count": 98,
   "id": "107b7c7b",
   "metadata": {},
   "outputs": [
    {
     "name": "stdout",
     "output_type": "stream",
     "text": [
      "Palindrome\n",
      "Palindrome\n",
      "Not Palindrome\n",
      "Palindrome\n"
     ]
    }
   ],
   "source": [
    "# Itterator Approach\n",
    "\n",
    "def palindrome(text):\n",
    "    for i in range(len(text)):\n",
    "        if len(text) <= 1:\n",
    "            print(\"Palindrome\")\n",
    "            break\n",
    "                \n",
    "        if text[0].lower() == text[-1].lower():\n",
    "            text = text[1:-1]\n",
    "        else:\n",
    "            print(\"Not Palindrome\")\n",
    "            break\n",
    "\n",
    "palindrome(\"Madam\")\n",
    "palindrome(\"malayAlam\")\n",
    "palindrome(\"python\")\n",
    "palindrome(\"Abba\")"
   ]
  },
  {
   "cell_type": "code",
   "execution_count": 97,
   "id": "3719d2ee",
   "metadata": {},
   "outputs": [
    {
     "name": "stdout",
     "output_type": "stream",
     "text": [
      "Palindrome\n",
      "Palindrome\n",
      "Not Palindrome\n",
      "Palindrome\n"
     ]
    }
   ],
   "source": [
    "# Recursive Approach\n",
    "\n",
    "def palindrome(text):\n",
    "    if len(text) <= 1:\n",
    "        print(\"Palindrome\")\n",
    "    else:\n",
    "        if text[0].lower() == text[-1].lower():\n",
    "            palindrome(text[1:-1])\n",
    "        else:\n",
    "            print(\"Not Palindrome\")\n",
    "            \n",
    "palindrome(\"Madam\")\n",
    "palindrome(\"malayAlam\")\n",
    "palindrome(\"python\")\n",
    "palindrome(\"abba\")"
   ]
  },
  {
   "cell_type": "markdown",
   "id": "61ca55f7",
   "metadata": {},
   "source": [
    "### Fibonacci"
   ]
  },
  {
   "cell_type": "code",
   "execution_count": 6,
   "id": "5d73b680",
   "metadata": {},
   "outputs": [
    {
     "name": "stdout",
     "output_type": "stream",
     "text": [
      "225591516161936330872512695036072072046011324913758190588638866418474627738686883405015987052796968498626\n",
      "0.0010001659393310547\n"
     ]
    }
   ],
   "source": [
    "# Itterator Approach\n",
    "import time\n",
    "def fibonacci(number):\n",
    "    fib = [0,1]\n",
    "    for i in range(number):\n",
    "        x = fib[-1] + fib[-2]\n",
    "        fib.append(x)\n",
    "#     return fib\n",
    "    return x\n",
    "start = time.time()\n",
    "print(fibonacci(500))\n",
    "end = time.time()\n",
    "print(end-start)"
   ]
  },
  {
   "cell_type": "code",
   "execution_count": 15,
   "id": "2d89752a",
   "metadata": {},
   "outputs": [
    {
     "name": "stdout",
     "output_type": "stream",
     "text": [
      "233\n",
      "0.001001119613647461\n"
     ]
    }
   ],
   "source": [
    "# Recursive Approach\n",
    "import time\n",
    "def fibonacci(number):\n",
    "    if number == 0 or number == 1:\n",
    "        return 1\n",
    "    else:\n",
    "        return fibonacci(number-1) + fibonacci(number-2)\n",
    "start = time.time()\n",
    "print(fibonacci(12))\n",
    "end = time.time()\n",
    "print(end-start)"
   ]
  },
  {
   "cell_type": "code",
   "execution_count": 2,
   "id": "1de2d3ce",
   "metadata": {},
   "outputs": [
    {
     "name": "stdout",
     "output_type": "stream",
     "text": [
      "225591516161936330872512695036072072046011324913758190588638866418474627738686883405015987052796968498626\n",
      "0.00099945068359375\n"
     ]
    }
   ],
   "source": [
    "# Recursive Approach - Memoization\n",
    "import time\n",
    "def fibonacci(number,d):\n",
    "    if number in d:\n",
    "        return d[number]\n",
    "    else:\n",
    "        d[number] = fibonacci(number-1,d) + fibonacci(number-2,d)\n",
    "        return d[number]\n",
    "\n",
    "start = time.time()\n",
    "d = {0:1, 1:1}\n",
    "print(fibonacci(500,d))\n",
    "end = time.time()\n",
    "print(end-start)    "
   ]
  },
  {
   "cell_type": "code",
   "execution_count": 24,
   "id": "1575dfd9",
   "metadata": {},
   "outputs": [
    {
     "name": "stdout",
     "output_type": "stream",
     "text": [
      "{0: 1, 1: 1, 2: 21}\n",
      "0.0\n"
     ]
    }
   ],
   "source": [
    "import time\n",
    "def fibonacci(number,dic):\n",
    "    dic = {0:1,1:1}\n",
    "    \n",
    "    if number in dic:\n",
    "        return dic[number]\n",
    "    else:\n",
    "        for i in range(2,number):\n",
    "            dic[i] = number-1 + number-2\n",
    "            \n",
    "#     return fib\n",
    "            return dic\n",
    "start = time.time()\n",
    "\n",
    "print(fibonacci(12,dic))\n",
    "end = time.time()\n",
    "print(end-start)"
   ]
  },
  {
   "cell_type": "markdown",
   "id": "7af64a93",
   "metadata": {},
   "source": [
    "### GCD - Greatest Common Divisor"
   ]
  },
  {
   "cell_type": "code",
   "execution_count": 20,
   "id": "22a60d32",
   "metadata": {},
   "outputs": [
    {
     "data": {
      "text/plain": [
       "2"
      ]
     },
     "execution_count": 20,
     "metadata": {},
     "output_type": "execute_result"
    }
   ],
   "source": [
    "# Itterative Approach 1st method\n",
    "\n",
    "def gcd(x,y):\n",
    "    \"\"\"greatest common factor of two intergers by ladder method\"\"\"\n",
    "    try:\n",
    "        if x <= 0 or y <= 0:\n",
    "            raise ValueError\n",
    "        set1 = {i for i in range(1,x+1) if x % i == 0}\n",
    "        set2 = {j for j in range(1,y+1) if y % j == 0}\n",
    "        set1.intersection_update(set2)\n",
    "    \n",
    "    except TypeError:\n",
    "        print(\"only required integer\")\n",
    "        \n",
    "    except ValueError:\n",
    "        print(\"must be positive and non zero numbers\")        \n",
    "        \n",
    "    else:\n",
    "        return max(set1)\n",
    "    \n",
    "    \n",
    "gcd(23458,15890)"
   ]
  },
  {
   "cell_type": "code",
   "execution_count": 10,
   "id": "c4d8f371",
   "metadata": {},
   "outputs": [
    {
     "data": {
      "text/plain": [
       "4"
      ]
     },
     "execution_count": 10,
     "metadata": {},
     "output_type": "execute_result"
    }
   ],
   "source": [
    "# Itterative Approach 2nd method - Using euclids algorithm\n",
    "\n",
    "def gcd_euclids(x,y):\n",
    "    for i in range(x):\n",
    "        if y == 0:\n",
    "            return x\n",
    "        else:\n",
    "            if x < y:\n",
    "                x, y = y, x\n",
    "                x, y = y, x % y\n",
    "            else:\n",
    "                x, y = y, x % y\n",
    "                \n",
    "    return (min(x,y))\n",
    "        \n",
    "gcd_euclids(12,8)"
   ]
  },
  {
   "cell_type": "code",
   "execution_count": 11,
   "id": "c6e4956c",
   "metadata": {},
   "outputs": [
    {
     "data": {
      "text/plain": [
       "4"
      ]
     },
     "execution_count": 11,
     "metadata": {},
     "output_type": "execute_result"
    }
   ],
   "source": [
    "# Another Itterative Approach 3rd method(A)\n",
    "import math\n",
    "def gcd_euclids(x,y):\n",
    "    return int((x * y)/math.lcm(x,y))\n",
    "\n",
    "gcd_euclids(12,8)"
   ]
  },
  {
   "cell_type": "code",
   "execution_count": 41,
   "id": "0510341c",
   "metadata": {},
   "outputs": [
    {
     "data": {
      "text/plain": [
       "'The Greatest Common Divisor of 12 and 8 is 4'"
      ]
     },
     "execution_count": 41,
     "metadata": {},
     "output_type": "execute_result"
    }
   ],
   "source": [
    "# Another Itterative Approach 3rd method(B)\n",
    "\n",
    "def gcd(x,y):\n",
    "    def lcm(x,y):\n",
    "        num1 = set([i*x for i in range(1,13)])\n",
    "        num2 = set([j*y for j in range(1,13)])\n",
    "        num1.intersection_update(num2)\n",
    "    \n",
    "        return (min(num1))\n",
    "    \n",
    "#     return (x * y)/lcm(x,y)\n",
    "    \n",
    "    return \"The Greatest Common Divisor of {} and {} is {:.0f}\".format(x,y,(x * y)/lcm(x,y))\n",
    "    \n",
    "gcd(12,8)"
   ]
  },
  {
   "cell_type": "code",
   "execution_count": 4,
   "id": "762af882",
   "metadata": {},
   "outputs": [
    {
     "data": {
      "text/plain": [
       "10"
      ]
     },
     "execution_count": 4,
     "metadata": {},
     "output_type": "execute_result"
    }
   ],
   "source": [
    "# Recursive Approach - Using euclids algorithm\n",
    "\n",
    "def gcd_euclids(a, b):\n",
    "    if b == 0:\n",
    "        return a\n",
    "    else:\n",
    "        a, b = b, a % b\n",
    "        return gcd_euclids(a,b)\n",
    "\n",
    "gcd_euclids(10,150)"
   ]
  },
  {
   "cell_type": "markdown",
   "id": "9440d846",
   "metadata": {},
   "source": [
    "### Least Common Multiple"
   ]
  },
  {
   "cell_type": "code",
   "execution_count": 1,
   "id": "2af109d7",
   "metadata": {},
   "outputs": [
    {
     "data": {
      "text/plain": [
       "'The Least Common Multiple of 350 and 45 is 3150'"
      ]
     },
     "execution_count": 1,
     "metadata": {},
     "output_type": "execute_result"
    }
   ],
   "source": [
    "# Itterative Approach 1st method\n",
    "\n",
    "def lcm_app(x,y):\n",
    "    num1 = set([i*x for i in range(1,x*100)])\n",
    "    num2 = set([j*y for j in range(1,y*100)])\n",
    "    num1.intersection_update(num2)\n",
    "    \n",
    "    return \"The Least Common Multiple of {} and {} is {}\".format(x,y,(min(num1)))\n",
    "    \n",
    "lcm_app(350,45)"
   ]
  },
  {
   "cell_type": "code",
   "execution_count": 2,
   "id": "83925fc9",
   "metadata": {},
   "outputs": [
    {
     "data": {
      "text/plain": [
       "3150"
      ]
     },
     "execution_count": 2,
     "metadata": {},
     "output_type": "execute_result"
    }
   ],
   "source": [
    "# Itterative Approach 2nd method\n",
    "def lcm_app(x,y):\n",
    "    l1 = {i for i in range(1,x*100) if i % x == 0}\n",
    "    l2 = {j for j in range(1,y*100) if j % y == 0}\n",
    "    l1.intersection_update(l2)\n",
    "    \n",
    "    return min(l1)\n",
    "    \n",
    "lcm_app(350,45)"
   ]
  },
  {
   "cell_type": "code",
   "execution_count": 19,
   "id": "faaf2cef",
   "metadata": {},
   "outputs": [
    {
     "data": {
      "text/plain": [
       "3150"
      ]
     },
     "execution_count": 19,
     "metadata": {},
     "output_type": "execute_result"
    }
   ],
   "source": [
    "# Itterative Approach 3rd method\n",
    "\n",
    "import math\n",
    "def lcm_app(x,y):    \n",
    "    return int((x*y)/math.gcd(x,y))\n",
    "    \n",
    "lcm_app(350,45)"
   ]
  },
  {
   "cell_type": "code",
   "execution_count": 63,
   "id": "87592786",
   "metadata": {},
   "outputs": [
    {
     "data": {
      "text/plain": [
       "[3, 6, 9, 12, 15, 18, 21, 24, 27, 30, 33, 36]"
      ]
     },
     "execution_count": 63,
     "metadata": {},
     "output_type": "execute_result"
    }
   ],
   "source": [
    "# Itterative Approach\n",
    "\n",
    "def lcm_number(num):\n",
    "#     lcm = num[0]\n",
    "    for i in range(len(num)): \n",
    "        lcm = [j*num[i] for j in range(1,13)]\n",
    "    return lcm\n",
    "        \n",
    "arr = [1,2,3]\n",
    "lcm_number(arr)"
   ]
  },
  {
   "cell_type": "code",
   "execution_count": 45,
   "id": "2fca2887",
   "metadata": {},
   "outputs": [
    {
     "data": {
      "text/plain": [
       "6"
      ]
     },
     "execution_count": 45,
     "metadata": {},
     "output_type": "execute_result"
    }
   ],
   "source": [
    "import math\n",
    "\n",
    "# function to calculate LCM\n",
    "def LCMofArray(a):\n",
    "    lcm = a[0]\n",
    "    for i in range(1,len(a)):\n",
    "        lcm = lcm*a[i]\n",
    "#         lcm = lcm*a[i]//math.gcd(lcm, a[i])\n",
    "    return lcm\n",
    "\n",
    "arr1 = [1,2,3]\n",
    "LCMofArray(arr1)"
   ]
  },
  {
   "cell_type": "markdown",
   "id": "91885ca1",
   "metadata": {},
   "source": [
    "## Decimal to Binary"
   ]
  },
  {
   "cell_type": "code",
   "execution_count": 1,
   "id": "620d4f07",
   "metadata": {},
   "outputs": [
    {
     "data": {
      "text/plain": [
       "[1, 1, 1, 1, 1, 0, 1]"
      ]
     },
     "execution_count": 1,
     "metadata": {},
     "output_type": "execute_result"
    }
   ],
   "source": [
    "# Recursive Approach\n",
    "def dec_to_bin(num, l1=[]):   \n",
    "    \n",
    "    if num // 2 == 1:        \n",
    "        l1.append(num%2)\n",
    "        l1.append(num//2)\n",
    "        return l1.reverse()\n",
    "    \n",
    "    else:         \n",
    "        l1.append(num%2)\n",
    "        dec_to_bin(num//2)\n",
    "        \n",
    "    return l1\n",
    "        \n",
    "    \n",
    "dec_to_bin(125)"
   ]
  },
  {
   "cell_type": "markdown",
   "id": "ab7cfb0f",
   "metadata": {},
   "source": [
    "### Run Length Encoding"
   ]
  },
  {
   "cell_type": "code",
   "execution_count": 7,
   "id": "263dbb21",
   "metadata": {},
   "outputs": [
    {
     "data": {
      "text/plain": [
       "['A', 12, 'B', 4, 'A', 6, 'B', 1, 'a', 1]"
      ]
     },
     "execution_count": 7,
     "metadata": {},
     "output_type": "execute_result"
    }
   ],
   "source": [
    "### Itterative Approach\n",
    "\n",
    "my_list = [\"A\", \"A\", \"A\", \"A\", \"A\", \"A\", \"A\", \"A\", \"A\", \"A\", \"A\", \"A\", \"B\",\n",
    "           \"B\", \"B\", \"B\", \"A\", \"A\", \"A\", \"A\", \"A\", \"A\", \"B\",\"a\"]\n",
    "\n",
    "def run_length_encoding(my_list):\n",
    "    new_list = []\n",
    "    counter = 1\n",
    "    for i in range(1,len(my_list)):\n",
    "        if my_list[i] == my_list[i-1]:\n",
    "            counter += 1       \n",
    "        else:\n",
    "            new_list.append(my_list[i-1])\n",
    "            new_list.append(counter)\n",
    "            counter = 1\n",
    "            if i == (len(my_list)-1):\n",
    "                new_list.append(my_list[i])\n",
    "                new_list.append(counter)\n",
    "    return new_list   \n",
    "\n",
    "run_length_encoding(my_list)"
   ]
  },
  {
   "cell_type": "code",
   "execution_count": 9,
   "id": "192db2f5",
   "metadata": {},
   "outputs": [
    {
     "name": "stdout",
     "output_type": "stream",
     "text": [
      "A 12 times\n",
      "B 4 times\n",
      "A 6 times\n",
      "B 1 times\n",
      "a 1 times\n"
     ]
    }
   ],
   "source": [
    "# Iter Tools\n",
    "\n",
    "my_list = [\"A\", \"A\", \"A\", \"A\", \"A\", \"A\", \"A\", \"A\", \"A\", \"A\", \"A\", \"A\", \"B\",\n",
    "           \"B\", \"B\", \"B\", \"A\", \"A\", \"A\", \"A\", \"A\", \"A\", \"B\",\"a\"]\n",
    "text = \"aaaabbaaaaabbb\"\n",
    "\n",
    "\n",
    "def run_length_encoding(user):\n",
    "    import itertools\n",
    "    for (key, group) in itertools.groupby(user):\n",
    "        print(key,str(len(list(group))) + \" times\")\n",
    "        \n",
    "run_length_encoding(my_list)"
   ]
  },
  {
   "cell_type": "code",
   "execution_count": 5,
   "id": "cf27c0b9",
   "metadata": {},
   "outputs": [
    {
     "data": {
      "text/plain": [
       "'Yes'"
      ]
     },
     "execution_count": 5,
     "metadata": {},
     "output_type": "execute_result"
    }
   ],
   "source": [
    "# Recursive Approach\n",
    "\n",
    "my_list = [\"A\", \"A\", \"A\", \"A\", \"A\", \"A\", \"A\", \"A\", \"A\", \"A\", \"A\", \"A\", \"B\",\n",
    "           \"B\", \"B\", \"B\", \"A\", \"A\", \"A\", \"A\", \"A\", \"A\", \"B\",\"a\"]\n",
    "\n",
    "def run_length_encoding(my_list, counter = 1):\n",
    "    if len(my_list) == 0:\n",
    "        return \"Yes\"\n",
    "    else:\n",
    "        if my_list[0] == my_list[1]:\n",
    "            counter += 1\n",
    "        else:\n",
    "            new_list=[]\n",
    "            new_list.append(my_list[0])\n",
    "            new_list.append(counter)\n",
    "            \n",
    "    return run_length_encoding(my_list[2::], counter = counter)\n",
    "\n",
    "run_length_encoding(my_list)"
   ]
  },
  {
   "cell_type": "markdown",
   "id": "fac912f9",
   "metadata": {},
   "source": [
    "#### Pattern Printing"
   ]
  },
  {
   "cell_type": "code",
   "execution_count": 88,
   "id": "2248940e",
   "metadata": {},
   "outputs": [
    {
     "name": "stdout",
     "output_type": "stream",
     "text": [
      "*\n",
      "**\n",
      "***\n",
      "****\n",
      "*****\n"
     ]
    }
   ],
   "source": [
    "def asecending_pattern(rows):\n",
    "    for row in range(rows):\n",
    "        for no_time in range(rows-row, rows+1):\n",
    "            print(\"*\", end=\"\")\n",
    "        print()\n",
    "            \n",
    "asecending_pattern(5)"
   ]
  },
  {
   "cell_type": "code",
   "execution_count": 91,
   "id": "77a27c1b",
   "metadata": {},
   "outputs": [
    {
     "name": "stdout",
     "output_type": "stream",
     "text": [
      "*****\n",
      "****\n",
      "***\n",
      "**\n",
      "*\n"
     ]
    }
   ],
   "source": [
    "def desecending_pattern(rows):\n",
    "    for row in range(rows):\n",
    "        for no_time in range(row, rows):\n",
    "            print(\"*\", end=\"\")\n",
    "        print()\n",
    "            \n",
    "desecending_pattern(5)"
   ]
  },
  {
   "cell_type": "code",
   "execution_count": null,
   "id": "4f2ec73c",
   "metadata": {},
   "outputs": [],
   "source": []
  }
 ],
 "metadata": {
  "kernelspec": {
   "display_name": "Python 3 (ipykernel)",
   "language": "python",
   "name": "python3"
  },
  "language_info": {
   "codemirror_mode": {
    "name": "ipython",
    "version": 3
   },
   "file_extension": ".py",
   "mimetype": "text/x-python",
   "name": "python",
   "nbconvert_exporter": "python",
   "pygments_lexer": "ipython3",
   "version": "3.9.13"
  }
 },
 "nbformat": 4,
 "nbformat_minor": 5
}
