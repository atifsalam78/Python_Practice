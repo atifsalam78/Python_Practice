{
 "cells": [
  {
   "cell_type": "markdown",
   "id": "2a5635bb",
   "metadata": {},
   "source": [
    "### Name Space\n",
    "Name space is just like a dictionary in Python indentifier becomes key and object become values"
   ]
  },
  {
   "cell_type": "code",
   "execution_count": null,
   "id": "f24ceb23",
   "metadata": {},
   "outputs": [],
   "source": [
    "a = 2\n",
    "b = 3"
   ]
  },
  {
   "cell_type": "markdown",
   "id": "b2449653",
   "metadata": {},
   "source": [
    "### Scope\n",
    "There are 4 types of scopes\n",
    "1.) Built-in Namespaces\n",
    "2.) Global Namespaces\n",
    "3.) Enclosing/Non-Local Namespaces\n",
    "4.) Local Namespaces\n",
    "    \n",
    "Python follows LEGB Rule to search indentfier.\n",
    "We can read / view global identifier from local scope but not allowed to made changes/write, but Python is not an extreme\n",
    "language Python gives us a way to made changes in global identifiers by using \"global\" keword but this is not a \n",
    "good programing practice."
   ]
  },
  {
   "cell_type": "code",
   "execution_count": 38,
   "id": "9ec1decc",
   "metadata": {},
   "outputs": [
    {
     "name": "stdout",
     "output_type": "stream",
     "text": [
      "4\n",
      "4\n"
     ]
    }
   ],
   "source": [
    "a = 3 # Global Scope\n",
    "\n",
    "def square():\n",
    "    global a\n",
    "    a += 1\n",
    "#     a = 2 # Local Scope\n",
    "    \n",
    "    print(a)\n",
    "square()\n",
    "print(a)"
   ]
  },
  {
   "cell_type": "code",
   "execution_count": 27,
   "id": "5229b565",
   "metadata": {},
   "outputs": [
    {
     "name": "stdout",
     "output_type": "stream",
     "text": [
      "3 found in local scope name: inner_func\n",
      "4 found in enclosing scope name: outer_func\n",
      "5 found in global scope name: __main__\n"
     ]
    }
   ],
   "source": [
    "def outer_func(): # Enclosing\n",
    "    a = 4\n",
    "    def inner_func(): # Local\n",
    "        a = 3\n",
    "        print(\"{} found in local scope name: {}\".format(a, inner_func.__name__))\n",
    "    inner_func()\n",
    "    print(\"{} found in enclosing scope name: {}\".format(a, outer_func.__name__))\n",
    "\n",
    "a = 5\n",
    "outer_func()\n",
    "print(\"{} found in global scope name: {}\".format(a, __name__))\n"
   ]
  },
  {
   "cell_type": "code",
   "execution_count": 3,
   "id": "70b17795",
   "metadata": {},
   "outputs": [
    {
     "name": "stdout",
     "output_type": "stream",
     "text": [
      "3\n",
      "Hello\n",
      "None\n"
     ]
    }
   ],
   "source": [
    "list1 = [1,2,3]\n",
    "print(max(list1))\n",
    "\n",
    "def max():\n",
    "    print(\"Hello\")\n",
    "\n",
    "print(max())"
   ]
  },
  {
   "cell_type": "code",
   "execution_count": 50,
   "id": "f7c3234c",
   "metadata": {},
   "outputs": [
    {
     "data": {
      "text/plain": [
       "4"
      ]
     },
     "execution_count": 50,
     "metadata": {},
     "output_type": "execute_result"
    }
   ],
   "source": [
    "def square(num):\n",
    "    # num is in local scope\n",
    "    return num**2\n",
    "\n",
    "square(2)"
   ]
  },
  {
   "cell_type": "code",
   "execution_count": 29,
   "id": "062dac53",
   "metadata": {},
   "outputs": [],
   "source": [
    "def enclosing3():\n",
    "    print(\"Enclosing One\")\n",
    "\n",
    "    def enclosing2():\n",
    "        print(\"Enclosing Two\")\n",
    "    \n",
    "        def enclosing1():\n",
    "            print(\"Enclosing Three\")\n",
    "        \n",
    "            def local_fucn():\n",
    "                print(\"Local\")"
   ]
  },
  {
   "cell_type": "code",
   "execution_count": 37,
   "id": "81159d40",
   "metadata": {},
   "outputs": [
    {
     "name": "stdout",
     "output_type": "stream",
     "text": [
      "Local scope 5\n",
      "Enclosing scope 5\n",
      "global scope\n"
     ]
    }
   ],
   "source": [
    "def outer_func(): # Enclosing\n",
    "    a = 4\n",
    "    def inner_func(): # Local\n",
    "        nonlocal a # change enclosing variable from local namespace but it is not recomended\n",
    "        a += 1        \n",
    "        print(\"Local scope {}\".format(a))\n",
    "    inner_func()\n",
    "    print(\"Enclosing scope {}\".format(a))\n",
    "\n",
    "\n",
    "outer_func()\n",
    "print(\"global scope\")"
   ]
  },
  {
   "cell_type": "markdown",
   "id": "2a4e056c",
   "metadata": {},
   "source": [
    "### Decorators\n",
    "\n",
    "A decorator in Pyhton is a function that received another function as input and adds some functionality to it and returns it.\n",
    "That can only hapen because Python funstions are 1st class citizens.\n",
    "There are two type of decorators in Python\n",
    "1.) Built-in  decorators: @staticmethod, @classmethod, @abstractmethod, @property\n",
    "2.) User defined decorators:that we programer can create accoridng to our needs"
   ]
  },
  {
   "cell_type": "code",
   "execution_count": 42,
   "id": "28ff8cfc",
   "metadata": {},
   "outputs": [
    {
     "ename": "NameError",
     "evalue": "name 'func' is not defined",
     "output_type": "error",
     "traceback": [
      "\u001b[1;31m---------------------------------------------------------------------------\u001b[0m",
      "\u001b[1;31mNameError\u001b[0m                                 Traceback (most recent call last)",
      "\u001b[1;32m~\\AppData\\Local\\Temp\\ipykernel_9356\\1909067847.py\u001b[0m in \u001b[0;36m<module>\u001b[1;34m\u001b[0m\n\u001b[0;32m      6\u001b[0m \u001b[1;31m# a = func\u001b[0m\u001b[1;33m\u001b[0m\u001b[1;33m\u001b[0m\u001b[0m\n\u001b[0;32m      7\u001b[0m \u001b[1;32mdel\u001b[0m \u001b[0mfunc\u001b[0m\u001b[1;33m\u001b[0m\u001b[1;33m\u001b[0m\u001b[0m\n\u001b[1;32m----> 8\u001b[1;33m \u001b[0mfunc\u001b[0m\u001b[1;33m(\u001b[0m\u001b[1;33m)\u001b[0m\u001b[1;33m\u001b[0m\u001b[1;33m\u001b[0m\u001b[0m\n\u001b[0m",
      "\u001b[1;31mNameError\u001b[0m: name 'func' is not defined"
     ]
    }
   ],
   "source": [
    "# Functions 1st class citizen\n",
    "\n",
    "def func():\n",
    "    print(\"This is python function\")\n",
    "    \n",
    "# a = func\n",
    "del func\n",
    "func()"
   ]
  },
  {
   "cell_type": "code",
   "execution_count": 44,
   "id": "f113ce03",
   "metadata": {},
   "outputs": [
    {
     "data": {
      "text/plain": [
       "4"
      ]
     },
     "execution_count": 44,
     "metadata": {},
     "output_type": "execute_result"
    }
   ],
   "source": [
    "# Functions 1st class citizen, one function receives another function as input\n",
    "\n",
    "def modify(func, num):\n",
    "    return func(num)\n",
    "\n",
    "def square(num):\n",
    "    return num**2\n",
    "\n",
    "modify(square, 2)"
   ]
  },
  {
   "cell_type": "code",
   "execution_count": 48,
   "id": "dd9e963e",
   "metadata": {},
   "outputs": [
    {
     "name": "stdout",
     "output_type": "stream",
     "text": [
      "******************************\n",
      "Hello World\n",
      "******************************\n",
      "******************************\n",
      "Atif Salam\n",
      "******************************\n"
     ]
    }
   ],
   "source": [
    "# Actual method, that Decorator implemented in Python\n",
    "\n",
    "def my_decorator(func):\n",
    "    def wrapper():\n",
    "        print(\"******************************\")\n",
    "        func()\n",
    "        print(\"******************************\")\n",
    "    return wrapper\n",
    "\n",
    "def hello():\n",
    "    print(\"Hello World\")\n",
    "    \n",
    "def display():\n",
    "    print(\"Atif Salam\")\n",
    "    \n",
    "a = my_decorator(hello)\n",
    "a()\n",
    "\n",
    "b = my_decorator(display)\n",
    "b()\n",
    "    "
   ]
  },
  {
   "cell_type": "code",
   "execution_count": 52,
   "id": "150d8cd4",
   "metadata": {},
   "outputs": [
    {
     "name": "stdout",
     "output_type": "stream",
     "text": [
      "5\n"
     ]
    }
   ],
   "source": [
    "\"\"\"\n",
    "This is an example of closuer property, becasue of inner function once returning an outer function it is removed \n",
    "from STACK only reference remain and stored in HEAP memory once we call it restore in STACK memory.\n",
    "\n",
    "\"\"\" \n",
    "\n",
    "def outer():\n",
    "    a = 5\n",
    "    def inner():\n",
    "        print(a)\n",
    "    return inner\n",
    "\n",
    "b = outer()\n",
    "b()"
   ]
  },
  {
   "cell_type": "code",
   "execution_count": 54,
   "id": "6e10b3d5",
   "metadata": {},
   "outputs": [
    {
     "name": "stdout",
     "output_type": "stream",
     "text": [
      "******************************\n",
      "Hello World\n",
      "******************************\n"
     ]
    }
   ],
   "source": [
    "# Most convenience method in Python just add @ before decorator function name\n",
    "\n",
    "def my_decorator(func):\n",
    "    def wrapper():\n",
    "        print(\"******************************\")\n",
    "        func()\n",
    "        print(\"******************************\")\n",
    "    return wrapper\n",
    "\n",
    "@my_decorator\n",
    "def hello():\n",
    "    print(\"Hello World\")\n",
    "    \n",
    "hello()\n"
   ]
  },
  {
   "cell_type": "code",
   "execution_count": 68,
   "id": "d9ffd389",
   "metadata": {},
   "outputs": [
    {
     "name": "stdout",
     "output_type": "stream",
     "text": [
      "Hello World\n",
      "Time taking by the hello is 2.01 seconds\n",
      "Displaying Something\n",
      "Time taking by the display is 4.01 seconds\n",
      "square of 2 is 4\n",
      "Time taking by the square is 2.01 seconds\n",
      "2 to the Power of 3 is 8\n",
      "Time taking by the power is 2.00 seconds\n"
     ]
    }
   ],
   "source": [
    "# Decorator that calculate execution time of any function\n",
    "\n",
    "import time\n",
    "def timer(func):    \n",
    "    def wrapper(*args):\n",
    "        start = time.time()\n",
    "        func(*args)\n",
    "        end = time.time()\n",
    "        print(\"Time taking by the {} is {:.2f} seconds\".format(func.__name__, end-start))\n",
    "        \n",
    "    return wrapper\n",
    "\n",
    "@timer\n",
    "def hello():\n",
    "    print(\"Hello World\")\n",
    "    time.sleep(2)\n",
    "    \n",
    "@timer\n",
    "def display():\n",
    "    print(\"Displaying Something\")\n",
    "    time.sleep(4)\n",
    "    \n",
    "@timer    \n",
    "def square(num):\n",
    "    print(\"square of {} is {}\".format(num, num**2))\n",
    "    time.sleep(2)\n",
    "    \n",
    "@timer    \n",
    "def power(num1, num2):\n",
    "    print(\"{} to the Power of {} is {}\".format(num1, num2, num1**num2))\n",
    "    time.sleep(2)\n",
    "\n",
    "hello()\n",
    "display()\n",
    "square(2)    \n",
    "power(2,3)"
   ]
  },
  {
   "cell_type": "code",
   "execution_count": 79,
   "id": "30d478f1",
   "metadata": {},
   "outputs": [
    {
     "name": "stdout",
     "output_type": "stream",
     "text": [
      "square of 2 is 4\n",
      "Hello atif\n"
     ]
    }
   ],
   "source": [
    "# Sanity checker (check whether given input is of correct data type - Decorator demand arguments\n",
    "\n",
    "def sanity_check(data_type):\n",
    "    def outer_wrapper(func):\n",
    "        def inner_wrapper(*args):\n",
    "            if type(*args) == data_type:\n",
    "                func(*args)\n",
    "            else:\n",
    "                raise TypeError(\"Yeah data type nahei chalay ga\")\n",
    "        return inner_wrapper\n",
    "    return outer_wrapper\n",
    "\n",
    "@sanity_check(int)    \n",
    "def square(num):    \n",
    "        print(\"square of {} is {}\".format(num, num**2))\n",
    "    \n",
    "@sanity_check(str)\n",
    "def hello(name):\n",
    "    print(\"Hello {}\".format(name))   \n",
    "\n",
    "square(2)\n",
    "hello(\"atif\")"
   ]
  },
  {
   "cell_type": "code",
   "execution_count": null,
   "id": "12f93e19",
   "metadata": {},
   "outputs": [],
   "source": []
  }
 ],
 "metadata": {
  "kernelspec": {
   "display_name": "Python 3 (ipykernel)",
   "language": "python",
   "name": "python3"
  },
  "language_info": {
   "codemirror_mode": {
    "name": "ipython",
    "version": 3
   },
   "file_extension": ".py",
   "mimetype": "text/x-python",
   "name": "python",
   "nbconvert_exporter": "python",
   "pygments_lexer": "ipython3",
   "version": "3.9.13"
  }
 },
 "nbformat": 4,
 "nbformat_minor": 5
}
