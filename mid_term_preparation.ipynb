{
 "cells": [
  {
   "cell_type": "markdown",
   "id": "7ce03270-02d2-442c-ab20-1d5c114d1b8f",
   "metadata": {},
   "source": [
    "### Exercise 1\n",
    "```\n",
    "Create a program that asks the user to enter their name and their age. Print out a message addressed to them that tells them the year that they will turn 100 years old. Note: for this exercise, the expectation is that you explicitly write out the year (and therefore be out of date the next year). If you want to do this in a generic way, see exercise 39.\n",
    "\n",
    "Extras:\n",
    "\n",
    "Add on to the previous program by asking the user for another number and printing out that many copies of the previous message. (Hint: order of operations exists in Python)\n",
    "Print out that many copies of the previous message on separate lines. (Hint: the string \"\\n is the same as pressing the ENTER button)\n",
    "```"
   ]
  },
  {
   "cell_type": "code",
   "execution_count": null,
   "id": "0e077d50-48dc-42df-b2b6-bbc50ed7eb46",
   "metadata": {},
   "outputs": [],
   "source": [
    "cont = None\n",
    "while cont != \"n\" and cont != \"n\":\n",
    "    name = input(\"Enter your name: \")\n",
    "    age = int(input(\"Enter your age: \"))\n",
    "    current_year = 2023\n",
    "    future_year = (current_year - age) + 100\n",
    "    print(f\"Hello {name} you will become 100 years in the year {future_year}!\")\n",
    "    cont = input(\"Do you want to continue (y/n): \")"
   ]
  },
  {
   "cell_type": "markdown",
   "id": "d7fd8607-ab0a-4653-b777-7de6357b1469",
   "metadata": {},
   "source": [
    "### Exercise 2\n",
    "```\n",
    "The exercise comes first (with a few extras if you want the extra challenge or want to spend more time), followed by a discussion. Enjoy!\n",
    "\n",
    "Ask the user for a number. Depending on whether the number is even or odd, print out an appropriate message to the user. Hint: how does an even / odd number react differently when divided by 2?\n",
    "\n",
    "Extras:\n",
    "\n",
    "If the number is a multiple of 4, print out a different message.\n",
    "Ask the user for two numbers: one number to check (call it num) and one number to divide by (check). If check divides evenly into num, tell that to the user. If not, print a different appropriate message.\n",
    "```"
   ]
  },
  {
   "cell_type": "code",
   "execution_count": null,
   "id": "c47c823e-d9ee-4d6d-8b3d-eab58763e0c8",
   "metadata": {},
   "outputs": [],
   "source": [
    "number = int(input(\"Enter the number: \"))\n",
    "if number % 2 == 0 and number % 4 != 0:\n",
    "    print(f\"{number} is an even number\")\n",
    "elif number % 4 == 0:\n",
    "    print(f\"{number} is a multiple of 4\")\n",
    "else:\n",
    "    print(f\"{number} is an odd number\")"
   ]
  },
  {
   "cell_type": "code",
   "execution_count": null,
   "id": "d7b679e1-4d60-4116-ba45-d4d226e22940",
   "metadata": {},
   "outputs": [],
   "source": [
    "num = int(input(\"Enter the number: \"))\n",
    "check = int(input(\"Enter number to check: \"))\n",
    "if num % check == 0:\n",
    "    print(f\"{num} is divided by {check}\")\n",
    "else:\n",
    "    print(f\"{num} is not divided by {check}\")"
   ]
  },
  {
   "cell_type": "markdown",
   "id": "a0c9542a-c9e0-42d5-a406-c418952acc3a",
   "metadata": {},
   "source": [
    "### Exercise 3\n",
    "```\n",
    "Take a list, say for example this one:\n",
    "\n",
    "  a = [1, 1, 2, 3, 5, 8, 13, 21, 34, 55, 89]\n",
    "and write a program that prints out all the elements of the list that are less than 5.\n",
    "\n",
    "Extras:\n",
    "\n",
    "Instead of printing the elements one by one, make a new list that has all the elements less than 5 from this list in it and print out this new list.\n",
    "Write this in one line of Python.\n",
    "Ask the user for a number and return a list that contains only elements from the original list \"a\" that are smaller than that number given by the user.\n",
    "```"
   ]
  },
  {
   "cell_type": "code",
   "execution_count": null,
   "id": "dedf19c0-fdbb-46c2-a399-0ca6f3d454e6",
   "metadata": {},
   "outputs": [],
   "source": [
    "a = [1, 1, 2, 3, 5, 8, 13, 21, 34, 55, 89]\n",
    "new_list = []\n",
    "for i in a:\n",
    "    if i < 5:\n",
    "        new_list.append(i)\n",
    "print(new_list)"
   ]
  },
  {
   "cell_type": "code",
   "execution_count": null,
   "id": "adf65cc1-9bb1-42bf-8123-c01fcb674b50",
   "metadata": {},
   "outputs": [],
   "source": [
    "a = [1, 1, 2, 3, 5, 8, 13, 21, 34, 55, 89]\n",
    "new_list = [x for x in a if x < 5]\n",
    "print(new_list)"
   ]
  },
  {
   "cell_type": "code",
   "execution_count": null,
   "id": "6a2fda38-c287-40c8-9a7a-6be8354a2a32",
   "metadata": {},
   "outputs": [],
   "source": [
    "num = int(input(\"Enter the number: \"))\n",
    "a = [1, 1, 2, 3, 5, 8, 13, 21, 34, 55, 89]\n",
    "new_list = [i for i in a if i < num]\n",
    "print(new_list)"
   ]
  },
  {
   "cell_type": "markdown",
   "id": "6fb22aab-47b8-4ef5-ba9f-4fbdfe7ed48a",
   "metadata": {},
   "source": [
    "### Exercise 4\n",
    "```\n",
    "Create a program that asks the user for a number and then prints out a list of all the divisors of that number. (If you don’t know what a divisor is, it is a number that divides evenly into another number. For example, 13 is a divisor of 26 because 26 / 13 has no remainder.)\n",
    "```"
   ]
  },
  {
   "cell_type": "code",
   "execution_count": null,
   "id": "a431680e-8966-444a-a97c-def78a4be8a5",
   "metadata": {},
   "outputs": [],
   "source": [
    "num = int(input(\"Enter the number: \"))\n",
    "divisors_list = [i for i in range(1, num+1) if num % i == 0]\n",
    "print(divisors_list)"
   ]
  },
  {
   "cell_type": "code",
   "execution_count": null,
   "id": "ca7be65c-2170-4097-8f82-2bec804bca6c",
   "metadata": {},
   "outputs": [],
   "source": [
    "num = int(input(\"Enter the number: \"))\n",
    "new_list_div = []\n",
    "listRange = list(range(1, num+1))\n",
    "for i in listRange:\n",
    "    if num % i == 0:\n",
    "        new_list_div.append(i)\n",
    "print(new_list_div)        "
   ]
  },
  {
   "cell_type": "markdown",
   "id": "1fd2e22e-8afd-425e-8f18-fa76bcaa02a0",
   "metadata": {},
   "source": [
    "### Exercise 5\n",
    "```\n",
    "Take two lists, say for example these two:\n",
    "\n",
    "  a = [1, 1, 2, 3, 5, 8, 13, 21, 34, 55, 89]\n",
    "  b = [1, 2, 3, 4, 5, 6, 7, 8, 9, 10, 11, 12, 13]\n",
    "and write a program that returns a list that contains only the elements that are common between the lists (without duplicates). Make sure your program works on two lists of different sizes.\n",
    "\n",
    "Extras:\n",
    "\n",
    "Randomly generate two lists to test this\n",
    "Write this in one line of Python (don’t worry if you can’t figure this out at this point - we’ll get to it soon)\n",
    "```"
   ]
  },
  {
   "cell_type": "code",
   "execution_count": 5,
   "id": "bb40c207-b8de-4d30-acca-47184919577c",
   "metadata": {},
   "outputs": [
    {
     "name": "stdout",
     "output_type": "stream",
     "text": [
      "[1, 2, 3, 5, 8, 13]\n"
     ]
    }
   ],
   "source": [
    "a = [1, 1, 2, 3, 5, 8, 13, 21, 34, 55, 89]\n",
    "b = [1, 2, 3, 4, 5, 6, 7, 8, 9, 10, 11, 12, 13]\n",
    "new_list = []\n",
    "for i in range(max(len(a), len(b))+1):\n",
    "    for j in a:\n",
    "        if j in b:\n",
    "            new_list.append(j)\n",
    "new_list = list(set(new_list))\n",
    "print(new_list)"
   ]
  },
  {
   "cell_type": "code",
   "execution_count": null,
   "id": "8ca726f2-7c3e-4e28-8491-078334391330",
   "metadata": {},
   "outputs": [],
   "source": [
    "import random\n",
    "list1 = set([i for i in range(random.randint(1,101),random.randint(101,201)) if i in [j for j in range(random.randint(1,101),random.randint(101,201))]])\n",
    "print(type(list1))"
   ]
  },
  {
   "cell_type": "code",
   "execution_count": null,
   "id": "027abd44-13fd-4d05-ace0-d262d29fc535",
   "metadata": {},
   "outputs": [],
   "source": [
    "# Just for exploring\n",
    "list_new = [i for i in range(1,11)], [j for j in range(11,21)]\n",
    "print(list(list_new))"
   ]
  },
  {
   "cell_type": "code",
   "execution_count": null,
   "id": "40b27e8e-5bda-4c80-94dd-6694f947d1e1",
   "metadata": {},
   "outputs": [],
   "source": [
    "list_new = [i for i in range(1,11)] or [j for j in range(11,21)]\n",
    "print(list(list_new))"
   ]
  },
  {
   "cell_type": "code",
   "execution_count": null,
   "id": "d1635871-cc0b-4e8e-89b2-1a0ce1a83865",
   "metadata": {},
   "outputs": [],
   "source": [
    "list_new = [i for i in range(1,11)] and [j for j in range(11,21)]\n",
    "print(list(list_new))"
   ]
  },
  {
   "cell_type": "code",
   "execution_count": null,
   "id": "c97db949-396a-4060-9f98-4a34a7afa638",
   "metadata": {},
   "outputs": [],
   "source": []
  },
  {
   "cell_type": "code",
   "execution_count": 11,
   "id": "915646a4-19e5-48fe-92f7-8cf60c1761d1",
   "metadata": {},
   "outputs": [],
   "source": [
    "def common_value(list1, list2, new_list=[]):\n",
    "    for i in range(max(len(list1), len(list2))+1):\n",
    "        for j in list1:\n",
    "            if j in list2:\n",
    "                new_list.append(j)\n",
    "    new_list = set(new_list)\n",
    "    return list(new_list)    "
   ]
  },
  {
   "cell_type": "code",
   "execution_count": 12,
   "id": "518ec2b6-3d86-45fc-a003-514fd3ddf9e7",
   "metadata": {},
   "outputs": [
    {
     "data": {
      "text/plain": [
       "[1, 2, 3, 5, 8, 13]"
      ]
     },
     "execution_count": 12,
     "metadata": {},
     "output_type": "execute_result"
    }
   ],
   "source": [
    "b = [1, 1, 2, 3, 5, 8, 13, 21, 34, 55, 89]\n",
    "a = [1, 2, 3, 4, 5, 6, 7, 8, 9, 10, 11, 12, 13]\n",
    "common_value(a,b)"
   ]
  },
  {
   "cell_type": "code",
   "execution_count": null,
   "id": "91c3574a-9f72-4605-8c48-9755caf34c49",
   "metadata": {},
   "outputs": [],
   "source": []
  },
  {
   "cell_type": "markdown",
   "id": "8b9110dc-feaa-40b4-936d-84c8ee371368",
   "metadata": {},
   "source": []
  },
  {
   "cell_type": "markdown",
   "id": "6683e524-7491-42ea-aead-cbb0eda97c43",
   "metadata": {},
   "source": [
    "```\n",
    "Program returns a list that contains only the elements that are common between the other lists \n",
    "(without duplicates), this program will work on two lists of different sizes.\n",
    "b = [1, 1, 2, 3, 5, 8, 13, 21, 34, 55, 89]\n",
    "a = [1, 2, 3, 4, 5, 6, 7, 8, 9, 10, 11, 12, 13]\n",
    "```"
   ]
  },
  {
   "cell_type": "code",
   "execution_count": 15,
   "id": "2f50bf4b-6bd2-4ea7-871d-6bda89c125e2",
   "metadata": {},
   "outputs": [],
   "source": [
    "def common_list(list1, list2, new_list=[]):\n",
    "    for i in range(max(len(list1), len(list2))+1):\n",
    "        for j in list1:\n",
    "            if j in list2:\n",
    "                new_list.append(j)\n",
    "    new_list = set(new_list)\n",
    "    return list(new_list)"
   ]
  },
  {
   "cell_type": "code",
   "execution_count": 19,
   "id": "47310388-fc4f-4a25-97fd-91fbdaa4065a",
   "metadata": {},
   "outputs": [
    {
     "data": {
      "text/plain": [
       "[1, 2, 3, 5, 8, 11, 13]"
      ]
     },
     "execution_count": 19,
     "metadata": {},
     "output_type": "execute_result"
    }
   ],
   "source": [
    "a = [1, 1, 2, 3, 5, 11, 8, 13, 21, 34, 55, 89]\n",
    "b = [1, 2, 3, 4, 5, 6, 7, 8, 9, 10, 11, 12, 13, 15]\n",
    "common_list(a,b)"
   ]
  },
  {
   "cell_type": "code",
   "execution_count": 27,
   "id": "ea15c2c5-7107-47f8-8adf-ba400fc440c7",
   "metadata": {},
   "outputs": [],
   "source": [
    "def common_list(list1, list2, new_list=[]):\n",
    "    for i in list1:\n",
    "        if i in list2 and i not in new_list:\n",
    "            new_list.append(i)\n",
    "    return new_list"
   ]
  },
  {
   "cell_type": "code",
   "execution_count": 29,
   "id": "a0572009-5daa-40f3-aeeb-3be6e754b6e0",
   "metadata": {},
   "outputs": [
    {
     "data": {
      "text/plain": [
       "[1, 2, 3, 5, 11, 8, 13]"
      ]
     },
     "execution_count": 29,
     "metadata": {},
     "output_type": "execute_result"
    }
   ],
   "source": [
    "b = [1, 1, 2, 3, 5, 11, 8, 13, 21, 34, 55, 89]\n",
    "a = [1, 2, 3, 4, 5, 6, 7, 8, 9, 10, 11, 12, 13, 15]\n",
    "common_list(a, b)"
   ]
  },
  {
   "cell_type": "code",
   "execution_count": null,
   "id": "3f3114e4-36b2-4e90-8bee-7ad708026844",
   "metadata": {},
   "outputs": [],
   "source": []
  },
  {
   "cell_type": "code",
   "execution_count": null,
   "id": "ba3b60e1-be43-4a60-93b4-639fd802e4c5",
   "metadata": {},
   "outputs": [],
   "source": []
  },
  {
   "cell_type": "code",
   "execution_count": null,
   "id": "74e893d5-7a62-4777-8344-778933afd061",
   "metadata": {},
   "outputs": [],
   "source": []
  },
  {
   "cell_type": "code",
   "execution_count": null,
   "id": "89c87e83-d1e5-4d27-8c19-ace964d26ea8",
   "metadata": {},
   "outputs": [],
   "source": []
  },
  {
   "cell_type": "markdown",
   "id": "5a5d4cb5-11ef-4f96-899c-6f2516010919",
   "metadata": {},
   "source": [
    "```\n",
    "Program returns a list that contains only the elements that are common between the other lists \n",
    "(without duplicates), this program will work on two lists of different sizes.\n",
    "b = [1, 1, 2, 3, 5, 8, 13, 21, 34, 55, 89]\n",
    "a = [1, 2, 3, 4, 5, 6, 7, 8, 9, 10, 11, 12, 13]\n",
    "```"
   ]
  },
  {
   "cell_type": "code",
   "execution_count": 30,
   "id": "1347088d-1ed7-43dd-b7e2-6c0b1f86c292",
   "metadata": {},
   "outputs": [],
   "source": [
    "def common_list(list1, list2, new_list=[]):\n",
    "    for i in list1:\n",
    "        if i in list2 and i not in new_list:\n",
    "            new_list.append(i)\n",
    "    return new_list"
   ]
  },
  {
   "cell_type": "code",
   "execution_count": 32,
   "id": "af6a9850-c976-4288-9148-a7f433f34c7b",
   "metadata": {},
   "outputs": [
    {
     "data": {
      "text/plain": [
       "[1, 2, 3, 5, 8, 13]"
      ]
     },
     "execution_count": 32,
     "metadata": {},
     "output_type": "execute_result"
    }
   ],
   "source": [
    "a = [1, 1, 2, 3, 5, 8, 13, 21, 34, 55, 89]\n",
    "b = [1, 2, 3, 4, 5, 6, 7, 8, 9, 10, 11, 12, 13]\n",
    "common_list(a, b)"
   ]
  },
  {
   "cell_type": "markdown",
   "id": "dd5a1a75-b61a-4ffb-a6c9-ef6c358c9b74",
   "metadata": {},
   "source": [
    "# Sign in / Sign up"
   ]
  },
  {
   "cell_type": "code",
   "execution_count": 4,
   "id": "d0273979-90ad-479b-bd2c-dcf979d1fc2b",
   "metadata": {},
   "outputs": [
    {
     "name": "stdout",
     "output_type": "stream",
     "text": [
      "\t\t\t\t\tWelcome to MyBook!\n",
      "Today is: 2023-08-24 23:59:08.696854\n"
     ]
    },
    {
     "name": "stdin",
     "output_type": "stream",
     "text": [
      "\n",
      "    What you want to do \n",
      "    1: Sign-In\n",
      "    2: Sign-Up\n",
      "    3: Any key to exit f\n"
     ]
    }
   ],
   "source": [
    "users = {\"atif\": ['123', 'male'], \"faisal\": ['456', 'male'], \"faiza\": ['789', 'female']}\n",
    "import datetime as d\n",
    "def sign_up():    \n",
    "    print(\"Sign Up!\")\n",
    "    user_name = input(\"Enter user name: \")\n",
    "    if user_name in users:\n",
    "        print(\"User already exists, try another one\")\n",
    "    else:\n",
    "        password = input(\"Generate password: \")\n",
    "        re_pass = input(\"Re-enter password to confirm: \")\n",
    "        if re_pass == password:\n",
    "            gender = input(\"Gender: \")\n",
    "            users[user_name.lower()] = [password, gender.lower()]\n",
    "            print(users)\n",
    "        else:\n",
    "            print(\"Password mismatch\")\n",
    "        \n",
    "def sign_in():\n",
    "    import random\n",
    "    print(\"Sign In!\")\n",
    "    user_name = input(\"User Name: \")\n",
    "    if user_name in users:\n",
    "        if users[user_name][1] == \"male\":\n",
    "            password = input(f\"Hello Mr. {user_name} Welcome Back! Enter your password:\")\n",
    "        else:\n",
    "            password = input(f\"Hello Miss/Mrs. {user_name} Welcome Back! Enter your password:\")\n",
    "        \n",
    "        if users[user_name][0] == password:\n",
    "            otp = str(random.randint(9999,99999))\n",
    "            print(otp)\n",
    "            otp_enter = input(\"Enter OTP: \")\n",
    "            if otp_enter == otp:\n",
    "                print(\"Login Successfully!\")\n",
    "            else:\n",
    "                print(\"Login Failed!\")\n",
    "                \n",
    "        else:\n",
    "            print(\"Incorrect password!\")\n",
    "    else:\n",
    "        print(\"User not found!\")\n",
    "        sign_up()\n",
    "        \n",
    "if __name__ == \"__main__\":\n",
    "    print(\"\\t\\t\\t\\t\\tWelcome to MyBook!\")\n",
    "    print(f\"Today is: {d.datetime.now()}\")\n",
    "    choice = input(\"\"\"\n",
    "    What you want to do \n",
    "    1: Sign-In\n",
    "    2: Sign-Up\n",
    "    3: Any key to exit\"\"\")\n",
    "    \n",
    "    if choice == \"1\":\n",
    "        sign_in()\n",
    "    elif choice == \"2\":\n",
    "        sign_up()      "
   ]
  },
  {
   "cell_type": "code",
   "execution_count": null,
   "id": "ce122046-05dd-498c-b522-89d9eea04336",
   "metadata": {},
   "outputs": [],
   "source": []
  },
  {
   "cell_type": "code",
   "execution_count": null,
   "id": "aefdbc13-e7bb-4cba-a943-e3f5d37e3c79",
   "metadata": {},
   "outputs": [],
   "source": []
  }
 ],
 "metadata": {
  "kernelspec": {
   "display_name": "Python 3 (ipykernel)",
   "language": "python",
   "name": "python3"
  },
  "language_info": {
   "codemirror_mode": {
    "name": "ipython",
    "version": 3
   },
   "file_extension": ".py",
   "mimetype": "text/x-python",
   "name": "python",
   "nbconvert_exporter": "python",
   "pygments_lexer": "ipython3",
   "version": "3.9.13"
  }
 },
 "nbformat": 4,
 "nbformat_minor": 5
}
