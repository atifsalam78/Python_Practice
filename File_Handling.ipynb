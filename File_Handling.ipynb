{
 "cells": [
  {
   "cell_type": "markdown",
   "metadata": {
    "id": "Gk3LU-AbRoo7"
   },
   "source": [
    "# File Handling\n",
    "```\n",
    "Type of data used I/O\n",
    "* Every string in Python is a sequence of unicode characters.\n",
    "* Text: A sequence of unicode characters\n",
    "* Binary: 12345 as a sequence of bytes of it's binary equivalent.\n",
    "```\n",
    "### Text File\n",
    "```\n",
    "* All program files are text file\n",
    "* Whenever we worked on text file it will always return only string whether we pass list, dictionaries, sets, tuples, interger etc.\n",
    "```\n",
    "### Binary File\n",
    "\n",
    "```\n",
    "e.g. Image, Audio, Video, exe etc\n",
    "```"
   ]
  },
  {
   "cell_type": "markdown",
   "metadata": {
    "id": "e_b2cO0NSvjZ"
   },
   "source": [
    "### open()\n",
    "```\n",
    "* Load file from ROM(Hard Drive) to RAM buffer memory\n",
    "```\n",
    "### close()\n",
    "\n",
    "```\n",
    "* Release file from memory but remain in ROM.\n",
    "```"
   ]
  },
  {
   "cell_type": "markdown",
   "metadata": {
    "id": "mqO-_5mxTSqD"
   },
   "source": [
    "### Modes\n",
    "```\n",
    "w - Write Mode: When working on existing file it would replace old content of the file.\n",
    "a - Append Mode: Add new content into the existing file without replacing the old content of the file.\n",
    "r - Read Mode: To read the existing file\n",
    "rb - Read binary files\n",
    "wb - Write binary files\n",
    "```"
   ]
  },
  {
   "cell_type": "code",
   "execution_count": null,
   "metadata": {
    "id": "qb3JdGPAVONO"
   },
   "outputs": [],
   "source": [
    "f = open(\"sample.txt\", \"w\")\n",
    "f.write(\"This content replaced the old content of the file\")\n",
    "f.close()"
   ]
  },
  {
   "cell_type": "code",
   "execution_count": null,
   "metadata": {
    "id": "gaPMx5WSVaQR"
   },
   "outputs": [],
   "source": [
    "f = open(\"sample.txt\", \"a\")\n",
    "f.write(\"\\nThis is the new content without replacing old content\")\n",
    "f.close()"
   ]
  },
  {
   "cell_type": "code",
   "execution_count": null,
   "metadata": {
    "colab": {
     "base_uri": "https://localhost:8080/"
    },
    "id": "AYUCijbsVsY4",
    "outputId": "c06c3353-48ba-4df2-ed9e-56f4c05446d0"
   },
   "outputs": [
    {
     "name": "stdout",
     "output_type": "stream",
     "text": [
      "This content replaced the old content of the file\n",
      "This is the new content without replacing old content\n"
     ]
    }
   ],
   "source": [
    "f = open(\"sample.txt\", \"r\")\n",
    "print(f.read())\n",
    "f.close()"
   ]
  },
  {
   "cell_type": "markdown",
   "metadata": {
    "id": "ULtIQuWXUGCu"
   },
   "source": [
    "### Write\n",
    "\n",
    "```\n",
    "write()\n",
    "* To write single line in the file\n",
    "writelines()\n",
    "* To write multiple lines in the file\n",
    "* Is the smart way to write multiple lines in the file without using loop\n",
    "```"
   ]
  },
  {
   "cell_type": "code",
   "execution_count": null,
   "metadata": {
    "id": "cvTsk8l1WEXO"
   },
   "outputs": [],
   "source": [
    "f = open(\"sample1.txt\", \"w\")\n",
    "f.write(\"Hello World!\")\n",
    "f.close()"
   ]
  },
  {
   "cell_type": "code",
   "execution_count": null,
   "metadata": {
    "id": "cL-DxML7WMLj"
   },
   "outputs": [],
   "source": [
    "l = [\"This\\n\", \"is\\n\",\"multiple\\n\", \"lines\\n\", \"sample\\n\", \"text\\n\"]\n",
    "f = open(\"sample2.txt\", \"w\")\n",
    "f.writelines(l)\n",
    "f.close()"
   ]
  },
  {
   "cell_type": "markdown",
   "metadata": {
    "id": "DeYLlhPWn_N8"
   },
   "source": [
    "### read()\n",
    "```\n",
    "read()\n",
    "```\n",
    "```\n",
    "readline()\n",
    "When to use readline()?\n",
    "* When we have large amount of data in file so that to avoid load on memory we use readline\n",
    "```\n",
    "```\n",
    "readlines()\n",
    "```"
   ]
  },
  {
   "cell_type": "code",
   "execution_count": null,
   "metadata": {
    "colab": {
     "base_uri": "https://localhost:8080/"
    },
    "id": "ZWtchXcdWcVG",
    "outputId": "5e9b5b0d-7dde-4e31-b9e5-5435ffe976da"
   },
   "outputs": [
    {
     "name": "stdout",
     "output_type": "stream",
     "text": [
      "This content replaced the old content of the file\n",
      "This is the new content without replacing old content\n"
     ]
    }
   ],
   "source": [
    "f = open(\"sample.txt\", \"r\")\n",
    "print(f.read())\n",
    "f.close()\n"
   ]
  },
  {
   "cell_type": "code",
   "execution_count": null,
   "metadata": {
    "colab": {
     "base_uri": "https://localhost:8080/"
    },
    "id": "RSde6sg0oZsq",
    "outputId": "7dabc97b-abe3-43b8-b75c-0aa51fa24007"
   },
   "outputs": [
    {
     "name": "stdout",
     "output_type": "stream",
     "text": [
      "This conte\n"
     ]
    }
   ],
   "source": [
    "f = open(\"sample.txt\", \"r\")\n",
    "print(f.read(10))\n",
    "f.close()"
   ]
  },
  {
   "cell_type": "code",
   "execution_count": null,
   "metadata": {
    "colab": {
     "base_uri": "https://localhost:8080/"
    },
    "id": "Qpa5YDFQodOV",
    "outputId": "1c1b88cd-e877-4637-a366-0cd5c0e500e1"
   },
   "outputs": [
    {
     "name": "stdout",
     "output_type": "stream",
     "text": [
      "This content replaced the old content of the file\n",
      "\n",
      "This is the new content without replacing old content\n"
     ]
    }
   ],
   "source": [
    "f = open(\"sample.txt\", \"r\")\n",
    "print(f.readline()) # print and readline both always change line, \"\\n\" is the defult escape character for both\n",
    "print(f.readline())\n",
    "f.close()"
   ]
  },
  {
   "cell_type": "code",
   "execution_count": null,
   "metadata": {
    "colab": {
     "base_uri": "https://localhost:8080/"
    },
    "id": "YzI2MmfLog4d",
    "outputId": "c0f37fe2-1a2b-4c07-f7f5-b1b7c4739e14"
   },
   "outputs": [
    {
     "name": "stdout",
     "output_type": "stream",
     "text": [
      "This content replaced the old content of the file\n",
      "This is the new content without replacing old content"
     ]
    }
   ],
   "source": [
    "f = open(\"sample.txt\", \"r\")\n",
    "print(f.readline(), end=\"\")\n",
    "print(f.readline(), end=\"\")\n",
    "f.close()"
   ]
  },
  {
   "cell_type": "code",
   "execution_count": null,
   "metadata": {
    "colab": {
     "base_uri": "https://localhost:8080/"
    },
    "id": "bEg3-q1SpEqJ",
    "outputId": "8b132e64-689f-40d3-8144-563fb1bd4ca7"
   },
   "outputs": [
    {
     "name": "stdout",
     "output_type": "stream",
     "text": [
      "['This content replaced the old content of the file\\n', 'This is the new content without replacing old content']"
     ]
    }
   ],
   "source": [
    "f = open(\"sample.txt\", \"r\")\n",
    "print(f.readlines(), end=\"\")\n",
    "print(f.readline(), end=\"\")\n",
    "f.close()"
   ]
  },
  {
   "cell_type": "code",
   "execution_count": null,
   "metadata": {
    "colab": {
     "base_uri": "https://localhost:8080/"
    },
    "id": "GP8wntZBpp2A",
    "outputId": "7e1279bf-b047-466a-cce3-b97dd5287948"
   },
   "outputs": [
    {
     "name": "stdout",
     "output_type": "stream",
     "text": [
      "This content replaced the old content of the file\n",
      "This is the new content without replacing old contentThis is another addition using with"
     ]
    }
   ],
   "source": [
    "\n",
    "f = open(\"sample.txt\", \"r\")\n",
    "for i in f.readlines():\n",
    "  print(i, end=\"\")\n",
    "f.close()"
   ]
  },
  {
   "cell_type": "code",
   "execution_count": null,
   "metadata": {
    "colab": {
     "base_uri": "https://localhost:8080/"
    },
    "id": "CLRW3hxgsyH5",
    "outputId": "5ef1fbdb-5bdd-478c-fdae-0be08c9ea284"
   },
   "outputs": [
    {
     "name": "stdout",
     "output_type": "stream",
     "text": [
      "This conte\n",
      "d the old \n",
      "This is th\n",
      "t replacin\n",
      " another a\n",
      "\n"
     ]
    }
   ],
   "source": [
    "f = open(\"sample.txt\", \"r\")\n",
    "chunk_size = 10\n",
    "print(f.read(chunk_size))\n",
    "while len(f.read(chunk_size)) != 0:\n",
    "  print(f.read(chunk_size))\n",
    "  f.read(chunk_size)\n",
    "f.close()"
   ]
  },
  {
   "cell_type": "code",
   "execution_count": null,
   "metadata": {
    "colab": {
     "base_uri": "https://localhost:8080/"
    },
    "id": "1NYAoD1spHd9",
    "outputId": "56dda5a6-ed77-4f72-acb7-e2f8aeaa0d28"
   },
   "outputs": [
    {
     "name": "stdout",
     "output_type": "stream",
     "text": [
      "True"
     ]
    }
   ],
   "source": [
    "f = open(\"sample.txt\", \"r\")\n",
    "print(f.readable(), end=\"\") # readable always return bolean\n",
    "f.close()"
   ]
  },
  {
   "cell_type": "markdown",
   "metadata": {
    "id": "X9GylA5TpxG4"
   },
   "source": [
    "# Using context manager (with)\n",
    "```\n",
    "* with is the replacement of f.close().\n",
    "* with keyword close the file as soon as the usage is over.\n",
    "```"
   ]
  },
  {
   "cell_type": "code",
   "execution_count": null,
   "metadata": {
    "colab": {
     "base_uri": "https://localhost:8080/"
    },
    "id": "x1M7nyBapSme",
    "outputId": "88809f84-433e-454e-be59-5775e1455e8a"
   },
   "outputs": [
    {
     "name": "stdout",
     "output_type": "stream",
     "text": [
      "This content replaced the old content of the file\n",
      "This is the new content without replacing old content\n"
     ]
    }
   ],
   "source": [
    "with open(\"sample.txt\", \"r\") as f:\n",
    "  print(f.read())"
   ]
  },
  {
   "cell_type": "code",
   "execution_count": null,
   "metadata": {
    "colab": {
     "base_uri": "https://localhost:8080/",
     "height": 175
    },
    "id": "MUpNRuIeqXkY",
    "outputId": "556ab474-f793-4a79-fb4c-77fc9a401f88"
   },
   "outputs": [
    {
     "ename": "ValueError",
     "evalue": "ignored",
     "output_type": "error",
     "traceback": [
      "\u001b[0;31m---------------------------------------------------------------------------\u001b[0m",
      "\u001b[0;31mValueError\u001b[0m                                Traceback (most recent call last)",
      "\u001b[0;32m<ipython-input-30-fe90d2a42753>\u001b[0m in \u001b[0;36m<cell line: 1>\u001b[0;34m()\u001b[0m\n\u001b[0;32m----> 1\u001b[0;31m \u001b[0mf\u001b[0m\u001b[0;34m.\u001b[0m\u001b[0mwrite\u001b[0m\u001b[0;34m(\u001b[0m\u001b[0;34m\"Trying to add content after with but this will not work\"\u001b[0m\u001b[0;34m)\u001b[0m\u001b[0;34m\u001b[0m\u001b[0;34m\u001b[0m\u001b[0m\n\u001b[0m",
      "\u001b[0;31mValueError\u001b[0m: I/O operation on closed file."
     ]
    }
   ],
   "source": [
    "f.write(\"Trying to add content after with but this will not work\")"
   ]
  },
  {
   "cell_type": "code",
   "execution_count": null,
   "metadata": {
    "colab": {
     "base_uri": "https://localhost:8080/"
    },
    "id": "GF6cxEG9qjAv",
    "outputId": "e7bddd34-08f4-49d9-f3fe-4ecdd31014b0"
   },
   "outputs": [
    {
     "name": "stdout",
     "output_type": "stream",
     "text": [
      "35\n"
     ]
    }
   ],
   "source": [
    "with open(\"sample.txt\", \"a\") as f:\n",
    "  print(f.write(\"This is another addition using with\"))"
   ]
  },
  {
   "cell_type": "markdown",
   "metadata": {
    "id": "-6GOvWiPrA05"
   },
   "source": [
    "```\n",
    "Using chunk size we can be able to process large files\n",
    "```"
   ]
  },
  {
   "cell_type": "markdown",
   "metadata": {
    "id": "yskg4ibHro0k"
   },
   "source": [
    "### tell()\n",
    "```\n",
    "* Inform the current cusor position or give information about how much text we processed\n",
    "```\n",
    "### seek()\n",
    "```\n",
    "* Move the cursor to our desired position\n",
    "```"
   ]
  },
  {
   "cell_type": "code",
   "execution_count": null,
   "metadata": {
    "colab": {
     "base_uri": "https://localhost:8080/"
    },
    "id": "aeow_Y2bsEwp",
    "outputId": "08fd238b-eb70-4c25-ec7f-554820a5f1a3"
   },
   "outputs": [
    {
     "name": "stdout",
     "output_type": "stream",
     "text": [
      "This content replaced the old content of the file\n",
      "\n",
      "50\n"
     ]
    }
   ],
   "source": [
    "with open(\"sample.txt\", \"r\") as f:\n",
    "  print(f.readline())\n",
    "  print(f.tell())"
   ]
  },
  {
   "cell_type": "code",
   "execution_count": null,
   "metadata": {
    "colab": {
     "base_uri": "https://localhost:8080/"
    },
    "id": "VtYUDnYBsYFN",
    "outputId": "577836dc-4554-46ef-e996-e80a18f29451"
   },
   "outputs": [
    {
     "name": "stdout",
     "output_type": "stream",
     "text": [
      "This content replaced the old content of the file\n",
      "\n",
      "0\n",
      "This content replaced the old content of the file\n",
      "\n"
     ]
    }
   ],
   "source": [
    "with open(\"sample.txt\", \"r\") as f:\n",
    "  print(f.read(50))\n",
    "  print(f.seek(0))\n",
    "  print(f.read(50))"
   ]
  },
  {
   "cell_type": "markdown",
   "metadata": {
    "id": "f4Frl3PhwQ8J"
   },
   "source": [
    "# Problem with working text mode\n",
    "```\n",
    "* Can't working with binary files like image.\n",
    "* Not good for other data types like int,float, list, dict, etc.\n",
    "```"
   ]
  },
  {
   "cell_type": "markdown",
   "metadata": {
    "id": "P_dyg76UxJaQ"
   },
   "source": [
    "### Working with binary"
   ]
  },
  {
   "cell_type": "code",
   "execution_count": null,
   "metadata": {
    "colab": {
     "base_uri": "https://localhost:8080/",
     "height": 314
    },
    "id": "x_o43DKGwXR8",
    "outputId": "1f4705d3-7fa2-4d37-c97b-439e1a525952"
   },
   "outputs": [
    {
     "ename": "UnicodeDecodeError",
     "evalue": "ignored",
     "output_type": "error",
     "traceback": [
      "\u001b[0;31m---------------------------------------------------------------------------\u001b[0m",
      "\u001b[0;31mUnicodeDecodeError\u001b[0m                        Traceback (most recent call last)",
      "\u001b[0;32m<ipython-input-47-91d4958df5ed>\u001b[0m in \u001b[0;36m<cell line: 1>\u001b[0;34m()\u001b[0m\n\u001b[1;32m      1\u001b[0m \u001b[0;32mwith\u001b[0m \u001b[0mopen\u001b[0m\u001b[0;34m(\u001b[0m\u001b[0;34m\"/content/my_logo2.jpg\"\u001b[0m\u001b[0;34m,\u001b[0m \u001b[0;34m\"r\"\u001b[0m\u001b[0;34m)\u001b[0m \u001b[0;32mas\u001b[0m \u001b[0mf\u001b[0m\u001b[0;34m:\u001b[0m\u001b[0;34m\u001b[0m\u001b[0;34m\u001b[0m\u001b[0m\n\u001b[0;32m----> 2\u001b[0;31m   \u001b[0mprint\u001b[0m\u001b[0;34m(\u001b[0m\u001b[0mf\u001b[0m\u001b[0;34m.\u001b[0m\u001b[0mread\u001b[0m\u001b[0;34m(\u001b[0m\u001b[0;34m)\u001b[0m\u001b[0;34m)\u001b[0m\u001b[0;34m\u001b[0m\u001b[0;34m\u001b[0m\u001b[0m\n\u001b[0m",
      "\u001b[0;32m/usr/lib/python3.10/codecs.py\u001b[0m in \u001b[0;36mdecode\u001b[0;34m(self, input, final)\u001b[0m\n\u001b[1;32m    320\u001b[0m         \u001b[0;31m# decode input (taking the buffer into account)\u001b[0m\u001b[0;34m\u001b[0m\u001b[0;34m\u001b[0m\u001b[0m\n\u001b[1;32m    321\u001b[0m         \u001b[0mdata\u001b[0m \u001b[0;34m=\u001b[0m \u001b[0mself\u001b[0m\u001b[0;34m.\u001b[0m\u001b[0mbuffer\u001b[0m \u001b[0;34m+\u001b[0m \u001b[0minput\u001b[0m\u001b[0;34m\u001b[0m\u001b[0;34m\u001b[0m\u001b[0m\n\u001b[0;32m--> 322\u001b[0;31m         \u001b[0;34m(\u001b[0m\u001b[0mresult\u001b[0m\u001b[0;34m,\u001b[0m \u001b[0mconsumed\u001b[0m\u001b[0;34m)\u001b[0m \u001b[0;34m=\u001b[0m \u001b[0mself\u001b[0m\u001b[0;34m.\u001b[0m\u001b[0m_buffer_decode\u001b[0m\u001b[0;34m(\u001b[0m\u001b[0mdata\u001b[0m\u001b[0;34m,\u001b[0m \u001b[0mself\u001b[0m\u001b[0;34m.\u001b[0m\u001b[0merrors\u001b[0m\u001b[0;34m,\u001b[0m \u001b[0mfinal\u001b[0m\u001b[0;34m)\u001b[0m\u001b[0;34m\u001b[0m\u001b[0;34m\u001b[0m\u001b[0m\n\u001b[0m\u001b[1;32m    323\u001b[0m         \u001b[0;31m# keep undecoded input until the next call\u001b[0m\u001b[0;34m\u001b[0m\u001b[0;34m\u001b[0m\u001b[0m\n\u001b[1;32m    324\u001b[0m         \u001b[0mself\u001b[0m\u001b[0;34m.\u001b[0m\u001b[0mbuffer\u001b[0m \u001b[0;34m=\u001b[0m \u001b[0mdata\u001b[0m\u001b[0;34m[\u001b[0m\u001b[0mconsumed\u001b[0m\u001b[0;34m:\u001b[0m\u001b[0;34m]\u001b[0m\u001b[0;34m\u001b[0m\u001b[0;34m\u001b[0m\u001b[0m\n",
      "\u001b[0;31mUnicodeDecodeError\u001b[0m: 'utf-8' codec can't decode byte 0xff in position 0: invalid start byte"
     ]
    }
   ],
   "source": [
    "with open(\"/content/my_logo2.jpg\", \"r\") as f:\n",
    "  print(f.read())"
   ]
  },
  {
   "cell_type": "code",
   "execution_count": null,
   "metadata": {
    "id": "bZpd420qxN4w"
   },
   "outputs": [],
   "source": [
    "with open(\"/content/my_logo2.jpg\", \"rb\") as open_file:\n",
    "  with open(\"/content/my_logo2_copy.jpg\", \"wb\") as write_file:\n",
    "    write_file.write(open_file.read())"
   ]
  },
  {
   "cell_type": "markdown",
   "metadata": {
    "id": "SbeJjXT7zEDO"
   },
   "source": [
    "### Working with other data type"
   ]
  },
  {
   "cell_type": "code",
   "execution_count": null,
   "metadata": {
    "colab": {
     "base_uri": "https://localhost:8080/",
     "height": 193
    },
    "id": "1AnNj5P-xkyK",
    "outputId": "0b6a952c-e43b-4b7e-dac5-b918daef07b0"
   },
   "outputs": [
    {
     "ename": "TypeError",
     "evalue": "ignored",
     "output_type": "error",
     "traceback": [
      "\u001b[0;31m---------------------------------------------------------------------------\u001b[0m",
      "\u001b[0;31mTypeError\u001b[0m                                 Traceback (most recent call last)",
      "\u001b[0;32m<ipython-input-49-089d8155abc5>\u001b[0m in \u001b[0;36m<cell line: 1>\u001b[0;34m()\u001b[0m\n\u001b[1;32m      1\u001b[0m \u001b[0;32mwith\u001b[0m \u001b[0mopen\u001b[0m\u001b[0;34m(\u001b[0m\u001b[0;34m\"other_data_type.txt\"\u001b[0m\u001b[0;34m,\u001b[0m \u001b[0;34m\"w\"\u001b[0m\u001b[0;34m)\u001b[0m \u001b[0;32mas\u001b[0m \u001b[0mf\u001b[0m\u001b[0;34m:\u001b[0m\u001b[0;34m\u001b[0m\u001b[0;34m\u001b[0m\u001b[0m\n\u001b[0;32m----> 2\u001b[0;31m   \u001b[0mf\u001b[0m\u001b[0;34m.\u001b[0m\u001b[0mwrite\u001b[0m\u001b[0;34m(\u001b[0m\u001b[0;36m5\u001b[0m\u001b[0;34m)\u001b[0m\u001b[0;34m\u001b[0m\u001b[0;34m\u001b[0m\u001b[0m\n\u001b[0m",
      "\u001b[0;31mTypeError\u001b[0m: write() argument must be str, not int"
     ]
    }
   ],
   "source": [
    "with open(\"other_data_type.txt\", \"w\") as f:\n",
    "  f.write(5)"
   ]
  },
  {
   "cell_type": "code",
   "execution_count": null,
   "metadata": {
    "id": "hIxBaM47zV8G"
   },
   "outputs": [],
   "source": [
    "with open(\"other_data_type.txt\", \"w\") as f:\n",
    "  f.write(\"5\")"
   ]
  },
  {
   "cell_type": "code",
   "execution_count": null,
   "metadata": {
    "colab": {
     "base_uri": "https://localhost:8080/",
     "height": 193
    },
    "id": "jz2k4QQfzZER",
    "outputId": "253a76de-dc3b-4e85-9240-da2098b77c8b"
   },
   "outputs": [
    {
     "ename": "TypeError",
     "evalue": "ignored",
     "output_type": "error",
     "traceback": [
      "\u001b[0;31m---------------------------------------------------------------------------\u001b[0m",
      "\u001b[0;31mTypeError\u001b[0m                                 Traceback (most recent call last)",
      "\u001b[0;32m<ipython-input-51-68d74eaa9b80>\u001b[0m in \u001b[0;36m<cell line: 1>\u001b[0;34m()\u001b[0m\n\u001b[1;32m      1\u001b[0m \u001b[0;32mwith\u001b[0m \u001b[0mopen\u001b[0m\u001b[0;34m(\u001b[0m\u001b[0;34m\"other_data_type.txt\"\u001b[0m\u001b[0;34m,\u001b[0m \u001b[0;34m\"r\"\u001b[0m\u001b[0;34m)\u001b[0m \u001b[0;32mas\u001b[0m \u001b[0mf\u001b[0m\u001b[0;34m:\u001b[0m\u001b[0;34m\u001b[0m\u001b[0;34m\u001b[0m\u001b[0m\n\u001b[0;32m----> 2\u001b[0;31m   \u001b[0mprint\u001b[0m\u001b[0;34m(\u001b[0m\u001b[0mf\u001b[0m\u001b[0;34m.\u001b[0m\u001b[0mread\u001b[0m\u001b[0;34m(\u001b[0m\u001b[0;34m)\u001b[0m \u001b[0;34m+\u001b[0m \u001b[0;36m5\u001b[0m\u001b[0;34m)\u001b[0m\u001b[0;34m\u001b[0m\u001b[0;34m\u001b[0m\u001b[0m\n\u001b[0m",
      "\u001b[0;31mTypeError\u001b[0m: can only concatenate str (not \"int\") to str"
     ]
    }
   ],
   "source": [
    "with open(\"other_data_type.txt\", \"r\") as f:\n",
    "  print(f.read() + 5)"
   ]
  },
  {
   "cell_type": "code",
   "execution_count": null,
   "metadata": {
    "colab": {
     "base_uri": "https://localhost:8080/"
    },
    "id": "GEtZhrSJzhEz",
    "outputId": "3d94a426-2fb6-4076-fad0-4c0b3d7c49b0"
   },
   "outputs": [
    {
     "name": "stdout",
     "output_type": "stream",
     "text": [
      "10\n"
     ]
    }
   ],
   "source": [
    "with open(\"other_data_type.txt\", \"r\") as f:\n",
    "  print(int(f.read()) + 5)"
   ]
  },
  {
   "cell_type": "code",
   "execution_count": null,
   "metadata": {
    "colab": {
     "base_uri": "https://localhost:8080/",
     "height": 210
    },
    "id": "VAyfI5q1zlgl",
    "outputId": "f511576a-fa31-46de-b0f6-7094764046ae"
   },
   "outputs": [
    {
     "ename": "TypeError",
     "evalue": "ignored",
     "output_type": "error",
     "traceback": [
      "\u001b[0;31m---------------------------------------------------------------------------\u001b[0m",
      "\u001b[0;31mTypeError\u001b[0m                                 Traceback (most recent call last)",
      "\u001b[0;32m<ipython-input-53-03ecae1c01f6>\u001b[0m in \u001b[0;36m<cell line: 7>\u001b[0;34m()\u001b[0m\n\u001b[1;32m      6\u001b[0m \u001b[0;34m\u001b[0m\u001b[0m\n\u001b[1;32m      7\u001b[0m \u001b[0;32mwith\u001b[0m \u001b[0mopen\u001b[0m\u001b[0;34m(\u001b[0m\u001b[0;34m\"complex_data.txt\"\u001b[0m\u001b[0;34m,\u001b[0m \u001b[0;34m\"w\"\u001b[0m\u001b[0;34m)\u001b[0m \u001b[0;32mas\u001b[0m \u001b[0mf\u001b[0m\u001b[0;34m:\u001b[0m\u001b[0;34m\u001b[0m\u001b[0;34m\u001b[0m\u001b[0m\n\u001b[0;32m----> 8\u001b[0;31m   \u001b[0mf\u001b[0m\u001b[0;34m.\u001b[0m\u001b[0mwrite\u001b[0m\u001b[0;34m(\u001b[0m\u001b[0md\u001b[0m\u001b[0;34m)\u001b[0m\u001b[0;34m\u001b[0m\u001b[0;34m\u001b[0m\u001b[0m\n\u001b[0m",
      "\u001b[0;31mTypeError\u001b[0m: write() argument must be str, not dict"
     ]
    }
   ],
   "source": [
    "d = {\n",
    "    \"name\": \"Atif\",\n",
    "    \"age\" : 45,\n",
    "    \"gender\" : \"male\"\n",
    "}\n",
    "\n",
    "with open(\"complex_data.txt\", \"w\") as f:\n",
    "  f.write(d)"
   ]
  },
  {
   "cell_type": "code",
   "execution_count": null,
   "metadata": {
    "id": "7_GeeEeq0MMa"
   },
   "outputs": [],
   "source": [
    "d = {\n",
    "    \"name\": \"Atif\",\n",
    "    \"age\" : 45,\n",
    "    \"gender\" : \"male\"\n",
    "}\n",
    "\n",
    "with open(\"complex_data.txt\", \"w\") as f:\n",
    "  f.write(str(d))"
   ]
  },
  {
   "cell_type": "code",
   "execution_count": null,
   "metadata": {
    "colab": {
     "base_uri": "https://localhost:8080/"
    },
    "id": "HveRh6TL0SF3",
    "outputId": "e118fe04-5f01-47cd-97ad-29b79cacd094"
   },
   "outputs": [
    {
     "name": "stdout",
     "output_type": "stream",
     "text": [
      "{'name': 'Atif', 'age': 45, 'gender': 'male'}\n",
      "<class 'str'>\n"
     ]
    }
   ],
   "source": [
    "with open(\"complex_data.txt\", \"r\") as f:\n",
    "  print(f.read())\n",
    "  print(type(f.read()))"
   ]
  },
  {
   "cell_type": "code",
   "execution_count": null,
   "metadata": {
    "colab": {
     "base_uri": "https://localhost:8080/",
     "height": 193
    },
    "id": "YBd36uFD0f6s",
    "outputId": "f8a545e5-a4eb-4c19-86b6-16ce2756d98f"
   },
   "outputs": [
    {
     "ename": "ValueError",
     "evalue": "ignored",
     "output_type": "error",
     "traceback": [
      "\u001b[0;31m---------------------------------------------------------------------------\u001b[0m",
      "\u001b[0;31mValueError\u001b[0m                                Traceback (most recent call last)",
      "\u001b[0;32m<ipython-input-57-2ef8b9bc1c42>\u001b[0m in \u001b[0;36m<cell line: 1>\u001b[0;34m()\u001b[0m\n\u001b[1;32m      1\u001b[0m \u001b[0;32mwith\u001b[0m \u001b[0mopen\u001b[0m\u001b[0;34m(\u001b[0m\u001b[0;34m\"complex_data.txt\"\u001b[0m\u001b[0;34m,\u001b[0m \u001b[0;34m\"r\"\u001b[0m\u001b[0;34m)\u001b[0m \u001b[0;32mas\u001b[0m \u001b[0mf\u001b[0m\u001b[0;34m:\u001b[0m\u001b[0;34m\u001b[0m\u001b[0;34m\u001b[0m\u001b[0m\n\u001b[0;32m----> 2\u001b[0;31m   \u001b[0mprint\u001b[0m\u001b[0;34m(\u001b[0m\u001b[0mdict\u001b[0m\u001b[0;34m(\u001b[0m\u001b[0mf\u001b[0m\u001b[0;34m.\u001b[0m\u001b[0mread\u001b[0m\u001b[0;34m(\u001b[0m\u001b[0;34m)\u001b[0m\u001b[0;34m)\u001b[0m\u001b[0;34m)\u001b[0m\u001b[0;34m\u001b[0m\u001b[0;34m\u001b[0m\u001b[0m\n\u001b[0m",
      "\u001b[0;31mValueError\u001b[0m: dictionary update sequence element #0 has length 1; 2 is required"
     ]
    }
   ],
   "source": [
    "with open(\"complex_data.txt\", \"r\") as f:\n",
    "  print(dict(f.read()))\n",
    "# This is the big big problem when we convert complex data type into string we lose the information.\n",
    "# String can't be converted back into complex data type."
   ]
  },
  {
   "cell_type": "markdown",
   "metadata": {
    "id": "Fi3mILZT3X1o"
   },
   "source": [
    "# Serialization And De-Serialization\n",
    "\n",
    "## Serialization:\n",
    "```\n",
    "Is the process of converting Python data types to JSON format.\n",
    "```"
   ]
  },
  {
   "cell_type": "code",
   "execution_count": null,
   "metadata": {
    "id": "jSCVjN0m33cv"
   },
   "outputs": [],
   "source": [
    "import json\n",
    "l = [10, 100, 50, 5.5, 102.3]\n",
    "with open(\"list_file.json\", \"w\") as f:\n",
    "  json.dump(l, f)"
   ]
  },
  {
   "cell_type": "code",
   "execution_count": null,
   "metadata": {
    "id": "Vl_0oEPT67YO"
   },
   "outputs": [],
   "source": [
    "import json\n",
    "student = {\n",
    "    \"name\" : \"Atif\",\n",
    "    \"marks\" : [98, 99.5, 99.75, 100]\n",
    "}\n",
    "\n",
    "with open(\"dict_file.json\", \"w\") as f:\n",
    "  json.dump(student, f, indent=4)"
   ]
  },
  {
   "cell_type": "markdown",
   "metadata": {
    "id": "7JSOvztE34ip"
   },
   "source": [
    "# JSON (Java Script On Notation)\n",
    "```\n",
    "* It is the universal data format understand by all programming languages.\n",
    "* Thant's whu it is very very special.\n",
    "* It look likes Python dictionary(key value pair)\n",
    "```"
   ]
  },
  {
   "cell_type": "markdown",
   "metadata": {
    "id": "w0NYMuoL72Hx"
   },
   "source": [
    "\n",
    "## De-Serialization:\n",
    "```\n",
    "Is the process of converting JSON to Python data types.\n",
    "```"
   ]
  },
  {
   "cell_type": "code",
   "execution_count": null,
   "metadata": {
    "colab": {
     "base_uri": "https://localhost:8080/"
    },
    "id": "jaEobiK77aST",
    "outputId": "b4c28f08-5b70-4e6c-8635-b884697c6bd5"
   },
   "outputs": [
    {
     "name": "stdout",
     "output_type": "stream",
     "text": [
      "{'name': 'Atif', 'marks': [98, 99.5, 99.75, 100]}\n",
      "<class 'dict'>\n"
     ]
    }
   ],
   "source": [
    "import json\n",
    "with open(\"dict_file.json\", \"r\") as f:\n",
    "  dict1 = json.load(f)\n",
    "  print(dict1)\n",
    "  print(type(dict1))"
   ]
  },
  {
   "cell_type": "code",
   "execution_count": null,
   "metadata": {
    "colab": {
     "base_uri": "https://localhost:8080/"
    },
    "id": "YVVr3kut8Js8",
    "outputId": "66dd9851-1c2e-45fd-f94d-f507b9f5180b"
   },
   "outputs": [
    {
     "name": "stdout",
     "output_type": "stream",
     "text": [
      "[10, 100, 50, 5.5, 102.3]\n",
      "<class 'list'>\n"
     ]
    }
   ],
   "source": [
    "import json\n",
    "with open(\"list_file.json\", \"r\") as f:\n",
    "  new_list = json.load(f)\n",
    "  print(new_list)\n",
    "  print(type(new_list))\n"
   ]
  },
  {
   "cell_type": "markdown",
   "metadata": {
    "id": "j7bqSwYBBSUt"
   },
   "source": [
    "# Serialize Custom Objects\n",
    "```\n",
    "* We can serialize Python built-in data types into JSON.\n",
    "* But we can't serilaze our custom object into JSON.\n",
    "* But there is some special technique from which we can resolve this problem.\n",
    "```"
   ]
  },
  {
   "cell_type": "code",
   "execution_count": null,
   "metadata": {
    "id": "y_29ezLbB32H"
   },
   "outputs": [],
   "source": [
    "class Person:\n",
    "\n",
    "  def __init__(self, fname, lname, age, gender):\n",
    "    self.fname = fname\n",
    "    self.lname = lname\n",
    "    self.age = age\n",
    "    self.gender = gender\n",
    "\n",
    "p1 = Person(\"Atif\", \"Salam\", 45, \"Male\")"
   ]
  },
  {
   "cell_type": "code",
   "execution_count": null,
   "metadata": {
    "colab": {
     "base_uri": "https://localhost:8080/",
     "height": 355
    },
    "id": "Ko4osj_oCN9p",
    "outputId": "0f383a42-10dd-4443-bfbb-5cf093dabb90"
   },
   "outputs": [
    {
     "ename": "TypeError",
     "evalue": "ignored",
     "output_type": "error",
     "traceback": [
      "\u001b[0;31m---------------------------------------------------------------------------\u001b[0m",
      "\u001b[0;31mTypeError\u001b[0m                                 Traceback (most recent call last)",
      "\u001b[0;32m<ipython-input-67-fe5e0aba444e>\u001b[0m in \u001b[0;36m<cell line: 2>\u001b[0;34m()\u001b[0m\n\u001b[1;32m      1\u001b[0m \u001b[0;32mimport\u001b[0m \u001b[0mjson\u001b[0m\u001b[0;34m\u001b[0m\u001b[0;34m\u001b[0m\u001b[0m\n\u001b[1;32m      2\u001b[0m \u001b[0;32mwith\u001b[0m \u001b[0mopen\u001b[0m\u001b[0;34m(\u001b[0m\u001b[0;34m\"custom_object.json\"\u001b[0m\u001b[0;34m,\u001b[0m \u001b[0;34m\"w\"\u001b[0m\u001b[0;34m)\u001b[0m \u001b[0;32mas\u001b[0m \u001b[0mf\u001b[0m\u001b[0;34m:\u001b[0m\u001b[0;34m\u001b[0m\u001b[0;34m\u001b[0m\u001b[0m\n\u001b[0;32m----> 3\u001b[0;31m   \u001b[0mjson\u001b[0m\u001b[0;34m.\u001b[0m\u001b[0mdump\u001b[0m\u001b[0;34m(\u001b[0m\u001b[0mp1\u001b[0m\u001b[0;34m,\u001b[0m \u001b[0mf\u001b[0m\u001b[0;34m)\u001b[0m\u001b[0;34m\u001b[0m\u001b[0;34m\u001b[0m\u001b[0m\n\u001b[0m",
      "\u001b[0;32m/usr/lib/python3.10/json/__init__.py\u001b[0m in \u001b[0;36mdump\u001b[0;34m(obj, fp, skipkeys, ensure_ascii, check_circular, allow_nan, cls, indent, separators, default, sort_keys, **kw)\u001b[0m\n\u001b[1;32m    177\u001b[0m     \u001b[0;31m# could accelerate with writelines in some versions of Python, at\u001b[0m\u001b[0;34m\u001b[0m\u001b[0;34m\u001b[0m\u001b[0m\n\u001b[1;32m    178\u001b[0m     \u001b[0;31m# a debuggability cost\u001b[0m\u001b[0;34m\u001b[0m\u001b[0;34m\u001b[0m\u001b[0m\n\u001b[0;32m--> 179\u001b[0;31m     \u001b[0;32mfor\u001b[0m \u001b[0mchunk\u001b[0m \u001b[0;32min\u001b[0m \u001b[0miterable\u001b[0m\u001b[0;34m:\u001b[0m\u001b[0;34m\u001b[0m\u001b[0;34m\u001b[0m\u001b[0m\n\u001b[0m\u001b[1;32m    180\u001b[0m         \u001b[0mfp\u001b[0m\u001b[0;34m.\u001b[0m\u001b[0mwrite\u001b[0m\u001b[0;34m(\u001b[0m\u001b[0mchunk\u001b[0m\u001b[0;34m)\u001b[0m\u001b[0;34m\u001b[0m\u001b[0;34m\u001b[0m\u001b[0m\n\u001b[1;32m    181\u001b[0m \u001b[0;34m\u001b[0m\u001b[0m\n",
      "\u001b[0;32m/usr/lib/python3.10/json/encoder.py\u001b[0m in \u001b[0;36m_iterencode\u001b[0;34m(o, _current_indent_level)\u001b[0m\n\u001b[1;32m    436\u001b[0m                     \u001b[0;32mraise\u001b[0m \u001b[0mValueError\u001b[0m\u001b[0;34m(\u001b[0m\u001b[0;34m\"Circular reference detected\"\u001b[0m\u001b[0;34m)\u001b[0m\u001b[0;34m\u001b[0m\u001b[0;34m\u001b[0m\u001b[0m\n\u001b[1;32m    437\u001b[0m                 \u001b[0mmarkers\u001b[0m\u001b[0;34m[\u001b[0m\u001b[0mmarkerid\u001b[0m\u001b[0;34m]\u001b[0m \u001b[0;34m=\u001b[0m \u001b[0mo\u001b[0m\u001b[0;34m\u001b[0m\u001b[0;34m\u001b[0m\u001b[0m\n\u001b[0;32m--> 438\u001b[0;31m             \u001b[0mo\u001b[0m \u001b[0;34m=\u001b[0m \u001b[0m_default\u001b[0m\u001b[0;34m(\u001b[0m\u001b[0mo\u001b[0m\u001b[0;34m)\u001b[0m\u001b[0;34m\u001b[0m\u001b[0;34m\u001b[0m\u001b[0m\n\u001b[0m\u001b[1;32m    439\u001b[0m             \u001b[0;32myield\u001b[0m \u001b[0;32mfrom\u001b[0m \u001b[0m_iterencode\u001b[0m\u001b[0;34m(\u001b[0m\u001b[0mo\u001b[0m\u001b[0;34m,\u001b[0m \u001b[0m_current_indent_level\u001b[0m\u001b[0;34m)\u001b[0m\u001b[0;34m\u001b[0m\u001b[0;34m\u001b[0m\u001b[0m\n\u001b[1;32m    440\u001b[0m             \u001b[0;32mif\u001b[0m \u001b[0mmarkers\u001b[0m \u001b[0;32mis\u001b[0m \u001b[0;32mnot\u001b[0m \u001b[0;32mNone\u001b[0m\u001b[0;34m:\u001b[0m\u001b[0;34m\u001b[0m\u001b[0;34m\u001b[0m\u001b[0m\n",
      "\u001b[0;32m/usr/lib/python3.10/json/encoder.py\u001b[0m in \u001b[0;36mdefault\u001b[0;34m(self, o)\u001b[0m\n\u001b[1;32m    177\u001b[0m \u001b[0;34m\u001b[0m\u001b[0m\n\u001b[1;32m    178\u001b[0m         \"\"\"\n\u001b[0;32m--> 179\u001b[0;31m         raise TypeError(f'Object of type {o.__class__.__name__} '\n\u001b[0m\u001b[1;32m    180\u001b[0m                         f'is not JSON serializable')\n\u001b[1;32m    181\u001b[0m \u001b[0;34m\u001b[0m\u001b[0m\n",
      "\u001b[0;31mTypeError\u001b[0m: Object of type Person is not JSON serializable"
     ]
    }
   ],
   "source": [
    "import json\n",
    "with open(\"custom_object.json\", \"w\") as f:\n",
    "  json.dump(p1, f)"
   ]
  },
  {
   "cell_type": "code",
   "execution_count": null,
   "metadata": {
    "id": "LYloeZ_RCauM"
   },
   "outputs": [],
   "source": [
    "import json\n",
    "\n",
    "def show_object(person):\n",
    "  if isinstance(person, Person):\n",
    "    return \"{} {} age -> {} gender -> {}\".format(person.fname, person.lname, person.age, person.gender)\n",
    "\n",
    "with open(\"custom_object.json\", \"w\") as f:\n",
    "  json.dump(p1, f, default=show_object)"
   ]
  },
  {
   "cell_type": "code",
   "execution_count": null,
   "metadata": {
    "id": "E2hn4UCgDhJ_"
   },
   "outputs": [],
   "source": [
    "import json\n",
    "\n",
    "def show_object(person):\n",
    "  '''Shows how our custom object will look'''\n",
    "  if isinstance(person, Person):\n",
    "    return {\n",
    "      \"name\": person.fname + \" \" + person.lname,\n",
    "      \"age\" : person.age,\n",
    "      \"gender\" : person.gender\n",
    "    }\n",
    "\n",
    "with open(\"custom_object.json\", \"w\") as f:\n",
    "  json.dump(p1, f, default=show_object, indent=4)"
   ]
  },
  {
   "cell_type": "code",
   "execution_count": null,
   "metadata": {
    "colab": {
     "base_uri": "https://localhost:8080/"
    },
    "id": "hBgnHuJSEAi6",
    "outputId": "10f81f3c-e4d1-49f9-e112-bd27e00d093b"
   },
   "outputs": [
    {
     "name": "stdout",
     "output_type": "stream",
     "text": [
      "{'name': 'Atif Salam', 'age': 45, 'gender': 'Male'}\n",
      "<class 'dict'>\n"
     ]
    }
   ],
   "source": [
    "with open(\"custom_object.json\", \"r\") as f:\n",
    "  dict2 = json.load(f)\n",
    "  print(dict2)\n",
    "  print(type(dict2))"
   ]
  },
  {
   "cell_type": "markdown",
   "metadata": {
    "id": "ZK9zR7CEEqub"
   },
   "source": [
    "# Pickling\n",
    "```\n",
    "* When we want to convert our custom object into binary format.\n",
    "* That our object can perform same operations or retain our object's functionality.\n",
    "```\n",
    "# Un-Pickling\n",
    "```\n",
    "* Is the inverse of picklling whereby a byte-stream is converted back to an object.\n",
    "```\n",
    "\n",
    "### Pickling vs JSON\n",
    "```\n",
    "* Pickle lets the user to store data into binary format.\n",
    "* JSON lets the user to store data in a human readable text format.\n",
    "\n",
    "```"
   ]
  },
  {
   "cell_type": "code",
   "execution_count": null,
   "metadata": {
    "id": "m0R9tWX2ETXt"
   },
   "outputs": [],
   "source": [
    "class Person:\n",
    "\n",
    "  def __init__(self, fname, lname, age, gender):\n",
    "    self.fname = fname\n",
    "    self.lname = lname\n",
    "    self.age = age\n",
    "    self.gender = gender\n",
    "\n",
    "  def display_info(self):\n",
    "    return \"My name is {} {}, my age is {} and I am {}\".format(self.fname, self.lname, self.age, self.gender)"
   ]
  },
  {
   "cell_type": "code",
   "execution_count": null,
   "metadata": {
    "id": "qZnWtZMyKGvf"
   },
   "outputs": [],
   "source": [
    "  p2 = Person(\"Atif\", \"Salam\", 45, \"Male\")"
   ]
  },
  {
   "cell_type": "code",
   "execution_count": null,
   "metadata": {
    "id": "VSWTyn6GJVqM"
   },
   "outputs": [],
   "source": [
    "import pickle\n",
    "with open(\"person.pkl\", \"wb\") as f:\n",
    "  pickle.dump(p2, f)"
   ]
  },
  {
   "cell_type": "code",
   "execution_count": null,
   "metadata": {
    "id": "7I7mAq88JhFr"
   },
   "outputs": [],
   "source": [
    "with open(\"person.pkl\", \"rb\") as f:\n",
    "  p = pickle.load(f)"
   ]
  },
  {
   "cell_type": "code",
   "execution_count": null,
   "metadata": {
    "colab": {
     "base_uri": "https://localhost:8080/",
     "height": 35
    },
    "id": "TZAj4ZX5K6pj",
    "outputId": "0887330c-f9b0-4142-fdef-7aa4068d6979"
   },
   "outputs": [
    {
     "data": {
      "application/vnd.google.colaboratory.intrinsic+json": {
       "type": "string"
      },
      "text/plain": [
       "'My name is Atif Salam, my age is 45 and I am Male'"
      ]
     },
     "execution_count": 89,
     "metadata": {},
     "output_type": "execute_result"
    }
   ],
   "source": [
    "p.display_info()"
   ]
  },
  {
   "cell_type": "markdown",
   "metadata": {
    "id": "iYVt55TVVcs5"
   },
   "source": [
    "# Tasks\n"
   ]
  },
  {
   "cell_type": "code",
   "execution_count": null,
   "metadata": {
    "id": "e4L3FdZIV4eK"
   },
   "outputs": [],
   "source": [
    "txt = '''\n",
    "Hello World!\n",
    "This is the second line of the file\n",
    "This is the third line of the file\n",
    "This is the fourth line of the file\n",
    "This is the fifth line of the file\n",
    "'''\n",
    "\n",
    "with open(\"sample_tsk.txt\", \"a\") as f:\n",
    "  f.write(txt)"
   ]
  },
  {
   "cell_type": "markdown",
   "metadata": {
    "id": "MbeMdx5d5qRj"
   },
   "source": [
    "### `Q-1:` Write a function `get_final_line(filename)`, which takes filename as input and return final line of the file.\n",
    "\n",
    "Note: You can choose any file of your choice."
   ]
  },
  {
   "cell_type": "code",
   "execution_count": null,
   "metadata": {
    "colab": {
     "base_uri": "https://localhost:8080/"
    },
    "id": "rjx9XRTq5uzD",
    "outputId": "d22bc86f-41d3-441a-d32e-a8458de0c968"
   },
   "outputs": [
    {
     "name": "stdout",
     "output_type": "stream",
     "text": [
      "This is the fifth line of the file\n",
      "\n"
     ]
    }
   ],
   "source": [
    "# Write code here\n",
    "\n",
    "def get_final_line(filename):\n",
    "  with open(filename, \"r\") as f:\n",
    "    lst = f.readlines()\n",
    "    return lst[-1]\n",
    "\n",
    "print(get_final_line(\"sample_tsk.txt\"))\n"
   ]
  },
  {
   "cell_type": "markdown",
   "metadata": {
    "id": "B87Z6-yQ5wVO"
   },
   "source": [
    "###`Q-2:` Read through a text file, line by line. Use a dict to keep track of how many times each vowel (a, e, i, o, and u) appears in the file. Print the resulting tabulation -- dictionary."
   ]
  },
  {
   "cell_type": "code",
   "execution_count": null,
   "metadata": {
    "colab": {
     "base_uri": "https://localhost:8080/"
    },
    "id": "XeXnOL7X50Sa",
    "outputId": "c8cef72a-2e4e-4044-9d03-d0bdf776ad0a"
   },
   "outputs": [
    {
     "name": "stdout",
     "output_type": "stream",
     "text": [
      "a = 2\n",
      "e = 20\n",
      "i = 19\n",
      "o = 9\n",
      "u = 1\n"
     ]
    }
   ],
   "source": [
    "# Write code here\n",
    "def vowel_detector(file):\n",
    "  vowel = {\"a\":0, \"e\":0, \"i\":0, \"o\":0, \"u\":0}\n",
    "  with open(file, \"r\") as f:\n",
    "    for text in f.read().lower():\n",
    "      if text in vowel:\n",
    "        vowel[text] = vowel[text] + 1\n",
    "  return vowel\n",
    "\n",
    "d = vowel_detector(\"sample_tsk.txt\")\n",
    "for key, value in d.items():\n",
    "  print(\"{} = {}\".format(key, value))"
   ]
  },
  {
   "cell_type": "code",
   "execution_count": null,
   "metadata": {
    "colab": {
     "base_uri": "https://localhost:8080/"
    },
    "id": "SHFuyj1EgR86",
    "outputId": "6ab879b0-f35d-4c31-9143-f51a707bf4e3"
   },
   "outputs": [
    {
     "name": "stdout",
     "output_type": "stream",
     "text": [
      "a = 2\n",
      "e = 20\n",
      "i = 19\n",
      "o = 9\n",
      "u = 1\n"
     ]
    }
   ],
   "source": [
    "def vowel_detector(file):\n",
    "  vowel = {\"a\":0, \"e\":0, \"i\":0, \"o\":0, \"u\":0}\n",
    "  with open(file, \"r\") as f:\n",
    "    for text in f.read().lower():\n",
    "      if text in vowel:\n",
    "        vowel[text] = vowel[text] + 1\n",
    "  for key, value in vowel.items():\n",
    "    print(\"{} = {}\".format(key, value))\n",
    "\n",
    "vowel_detector(\"sample_tsk.txt\")"
   ]
  },
  {
   "cell_type": "markdown",
   "metadata": {
    "id": "lRqQ2Y295-Gg"
   },
   "source": [
    "###`Q-3:` Create a text file (using an editor, not necessarily Python) containing two tab separated columns, with each column containing a number. Then use Python to read through the file you’ve created. For each line, multiply each first number by the second and include it in the file in third column. In last add a line Total, by summing the value of third column\n",
    "\n"
   ]
  },
  {
   "cell_type": "markdown",
   "metadata": {
    "id": "GtFfahZc6Bvg"
   },
   "source": [
    "Input File example: That you need to create\n",
    "```\n",
    "1   2\n",
    "3   4\n",
    "5   6\n",
    "7   8\n",
    "9   10\n",
    "\n",
    "```\n",
    "\n",
    "Output File Example:\n",
    "```\n",
    "1   2   2\n",
    "3   4   12\n",
    "5   6   30\n",
    "7   8   56\n",
    "9   10  90\n",
    "Total   190\n",
    "```\n"
   ]
  },
  {
   "cell_type": "code",
   "execution_count": null,
   "metadata": {
    "id": "GiKvqHnr5-j2"
   },
   "outputs": [],
   "source": [
    "# write code here\n",
    "extended_lst = []\n",
    "total_val = 0\n",
    "with open(\"number.txt\", \"r\") as f:\n",
    "  for num in f.readlines():\n",
    "    lst = num.split()\n",
    "    new_val = int(lst[0]) * int(lst[1])\n",
    "    total_val = total_val + new_val\n",
    "    lst.append(new_val)\n",
    "    txt = f\"{lst[0]}  {lst[1]}  {new_val}\\n\"\n",
    "    with open(\"calculated.txt\", \"a\") as cf:\n",
    "      cf.writelines(txt)\n",
    "with open(\"calculated.txt\", \"a\") as cf:\n",
    "      cf.writelines(f\"Total  {total_val}\")\n"
   ]
  },
  {
   "cell_type": "markdown",
   "metadata": {
    "id": "DunQepHC6J9r"
   },
   "source": [
    "###`Q-4:` Create line wise reverse of a file\n",
    "Write a function which takes two arguments: the names of the input file (to be read from) and the output file (which will be created)."
   ]
  },
  {
   "cell_type": "markdown",
   "metadata": {
    "id": "QxWEtFle6Nmu"
   },
   "source": [
    "For example, if a file looks like\n",
    " ```\n",
    "abc def\n",
    "ghi jkl\n",
    "```\n",
    "then the output file will be\n",
    "```\n",
    "fed cba\n",
    "lkj ihg\n",
    "```\n",
    "**Notice**: The newline remains at the end of the string, while the rest of the characters are all reversed."
   ]
  },
  {
   "cell_type": "code",
   "execution_count": null,
   "metadata": {
    "id": "aIJTJNAq6LD7"
   },
   "outputs": [],
   "source": [
    "# write code here\n",
    "def reverse_text(input_file, output_file):\n",
    "  with open(input_file, \"r\") as read_file:\n",
    "    for txt in read_file.readlines():\n",
    "      rev_text = txt[::-1]\n",
    "      with open(output_file, \"a\") as write_file:\n",
    "        write_file.write(rev_text + \"\\n\")\n",
    "\n",
    "reverse_text(\"string_data.txt\", \"rev_string.txt\")"
   ]
  },
  {
   "cell_type": "markdown",
   "metadata": {
    "id": "wqvx3sMY6bou"
   },
   "source": [
    "###`Q-5:` Create a Serialized dict of frequency of words in the file. And from given list of words, using serialized dict show word count.\n",
    "\n",
    "* List of word will be given\n",
    "\n"
   ]
  },
  {
   "cell_type": "markdown",
   "metadata": {
    "id": "uc5MSUWg6cZG"
   },
   "source": [
    "Given String\n",
    "\n",
    "```\n",
    "strings = \"\"\"Alice was beginning to get very tired of sitting by her sister\n",
    "            on the bank, and of having nothing to do:  once or twice she had\n",
    "            peeped into the book her sister was reading, but it had no\n",
    "            pictures or conversations in it, `and what is the use of a book,'\n",
    "            thought Alice `without pictures or conversation?'\n",
    "\n",
    "            So she was considering in her own mind (as well as she could,\n",
    "            for the hot day made her feel very sleepy and stupid), whether\n",
    "            the pleasure of making a daisy-chain would be worth the trouble\n",
    "            of getting up and picking the daisies, when suddenly a White\n",
    "            Rabbit with pink eyes ran close by her.\n",
    "\n",
    "            There was nothing so VERY remarkable in that; nor did Alice\n",
    "            think it so VERY much out of the way to hear the Rabbit say to\n",
    "            itself, `Oh dear!  Oh dear!  I shall be late!'  (when she thought\n",
    "            it over afterwards, it occurred to her that she ought to have\n",
    "            wondered at this, but at the time it all seemed quite natural);\n",
    "            but when the Rabbit actually TOOK A WATCH OUT OF ITS WAISTCOAT-\n",
    "            POCKET, and looked at it, and then hurried on, Alice started to\n",
    "            her feet, for it flashed across her mind that she had never\n",
    "            before seen a rabbit with either a waistcoat-pocket, or a watch to\n",
    "            take out of it, and burning with curiosity, she ran across the\n",
    "            field after it, and fortunately was just in time to see it pop\n",
    "            down a large rabbit-hole under the hedge.\"\"\"\n",
    "\n",
    "word_list = ['alice', 'wonder', 'natural']\n",
    "```"
   ]
  },
  {
   "cell_type": "code",
   "execution_count": 13,
   "metadata": {
    "id": "-SmtFFUq6a70"
   },
   "outputs": [],
   "source": [
    "# write code here\n",
    "strings = \"\"\"\n",
    "Alice was beginning to get very tired of sitting by her sister\n",
    "on the bank, and of having nothing to do:  once or twice she had\n",
    "peeped into the book her sister was reading, but it had no\n",
    "pictures or conversations in it, `and what is the use of a book,'\n",
    "thought Alice `without pictures or conversation?'\n",
    "So she was considering in her own mind (as well as she could,\n",
    "for the hot day made her feel very sleepy and stupid), whether\n",
    "the pleasure of making a daisy-chain would be worth the trouble\n",
    "of getting up and picking the daisies, when suddenly a White\n",
    "Rabbit with pink eyes ran close by her.\n",
    "\n",
    "There was nothing so VERY remarkable in that; nor did Alice\n",
    "think it so VERY much out of the way to hear the Rabbit say to\n",
    "itself, `Oh dear!  Oh dear!  I shall be late!'  (when she thought\n",
    "it over afterwards, it occurred to her that she ought to have\n",
    "wondered at this, but at the time it all seemed quite natural);\n",
    "but when the Rabbit actually TOOK A WATCH OUT OF ITS WAISTCOAT-\n",
    "POCKET, and looked at it, and then hurried on, Alice started to\n",
    "her feet, for it flashed across her mind that she had never\n",
    "before seen a rabbit with either a waistcoat-pocket, or a watch to\n",
    "take out of it, and burning with curiosity, she ran across the\n",
    "field after it, and fortunately was just in time to see it pop\n",
    "down a large rabbit-hole under the hedge.\n",
    "\"\"\"\n",
    "word_list = ['alice', 'wonder', 'natural']\n",
    "import json\n",
    "with open(\"raw_string.txt\", \"w\") as stringFile:\n",
    "  stringFile.write(strings)\n"
   ]
  },
  {
   "cell_type": "code",
   "execution_count": 5,
   "metadata": {
    "colab": {
     "base_uri": "https://localhost:8080/"
    },
    "id": "4nJvex-EUVUb",
    "outputId": "7de8af89-7ebb-4941-e79f-fcda5de26c0a"
   },
   "outputs": [
    {
     "name": "stdout",
     "output_type": "stream",
     "text": [
      "{'alice': 4, 'wondered': 1, 'natural': 1}\n"
     ]
    }
   ],
   "source": [
    "import json\n",
    "import string\n",
    "ser_dict = {}\n",
    "word_list = ['alice', 'wondered', 'natural']\n",
    "for word in word_list:\n",
    "    ser_dict[word] = 0\n",
    "\n",
    "with open(\"serialized_dict.json\", \"w\") as sd:\n",
    "    json.dump(ser_dict, sd, indent=4)\n",
    "\n",
    "with open(\"serialized_dict.json\", \"r\") as rf:\n",
    "  dict1 = json.load(rf)\n",
    "\n",
    "with open(\"raw_string.txt\", \"r\") as raw_str:\n",
    "  for text in raw_str.read().split():\n",
    "    text = text.translate(str.maketrans(\"\", \"\", string.punctuation)) # To remove punctuation\n",
    "    if text.lower() in dict1:\n",
    "      dict1[text.lower()] += 1\n",
    "with open(\"new_dict.json\", \"w\") as nd:\n",
    "  json.dump(dict1, nd)\n",
    "\n",
    "print(dict1)"
   ]
  },
  {
   "cell_type": "markdown",
   "metadata": {
    "id": "Und2HuFW6kAw"
   },
   "source": [
    "### **`Q-6:`** Given a string calculate length of the string using recursion.\n",
    "\n",
    "**Example 1:**\n",
    "\n",
    "Input:\n",
    "```bash\n",
    "\"abcd\"\n",
    "```\n",
    "\n",
    "Output:\n",
    "\n",
    "```bash\n",
    "4\n",
    "```\n",
    "\n",
    "**Example 2:**\n",
    "\n",
    "Input:\n",
    "```bash\n",
    "DataScience\n",
    "```\n",
    "\n",
    "Output:\n",
    "\n",
    "```bash\n",
    "11\n",
    "```\n"
   ]
  },
  {
   "cell_type": "code",
   "execution_count": 17,
   "metadata": {
    "colab": {
     "base_uri": "https://localhost:8080/"
    },
    "id": "9HE7lB5W61gT",
    "outputId": "501d312e-6163-41e0-fff5-76ac5332ad3a"
   },
   "outputs": [
    {
     "name": "stdout",
     "output_type": "stream",
     "text": [
      "1333\n"
     ]
    }
   ],
   "source": [
    "# Iterative Approach\n",
    "def len_string(text):\n",
    "    counter = 0\n",
    "    for i in text:\n",
    "        counter += 1\n",
    "    return counter\n",
    "\n",
    "print(len_string(strings))"
   ]
  },
  {
   "cell_type": "code",
   "execution_count": 18,
   "metadata": {
    "id": "awNgXJUewxin"
   },
   "outputs": [
    {
     "name": "stdout",
     "output_type": "stream",
     "text": [
      "1333\n"
     ]
    }
   ],
   "source": [
    "# Recursive Approach\n",
    "def len_string(text, counter = 0):    \n",
    "    if len(text) == 1:\n",
    "        counter += 1\n",
    "        return counter\n",
    "    else:        \n",
    "        return len_string(text[1::], counter = counter + 1)        \n",
    "               \n",
    "\n",
    "print(len_string(strings))"
   ]
  },
  {
   "cell_type": "markdown",
   "metadata": {
    "id": "iUDvc-jl6759"
   },
   "source": [
    "### **`Q-7:`** Write a function that accepts two numbers and returns their greatest common divisior. Without using any loop\n",
    "\n",
    "def gcd(int, int) => int\n",
    "\n",
    "```\n",
    "gcd(16,24) will give 8\n",
    "```"
   ]
  },
  {
   "cell_type": "code",
   "execution_count": 49,
   "metadata": {
    "id": "uMQnojHR7O2S"
   },
   "outputs": [
    {
     "data": {
      "text/plain": [
       "2"
      ]
     },
     "execution_count": 49,
     "metadata": {},
     "output_type": "execute_result"
    }
   ],
   "source": [
    "# Write code here\n",
    "def gcd_loop(x, y):\n",
    "       \n",
    "    s1 = {i for i in range(1,x+1) if x % i == 0}\n",
    "    s2 = {j for j in range(1,y+1) if y % j == 0}    \n",
    "    return max(s1.intersection(s2))\n",
    "    \n",
    "gcd_loop(2,8)"
   ]
  },
  {
   "cell_type": "code",
   "execution_count": 60,
   "metadata": {},
   "outputs": [
    {
     "data": {
      "text/plain": [
       "5"
      ]
     },
     "execution_count": 60,
     "metadata": {},
     "output_type": "execute_result"
    }
   ],
   "source": [
    "def gcd_euclids(x, y):\n",
    "    if y == 0:\n",
    "        return x\n",
    "    else:\n",
    "        return gcd_euclids(y, x%y)\n",
    "    \n",
    "gcd_euclids(1025, 35)"
   ]
  },
  {
   "cell_type": "markdown",
   "metadata": {
    "id": "wFD35fva7Q_B"
   },
   "source": [
    " ### `Q-8:` String Edit Distance\n",
    "\n",
    " Use your recursive function to write a program that reads two strings from the\n",
    "user and displays the edit distance between them.\n",
    "\n",
    "*The edit distance between two strings is a measure of their similarity—the smaller the edit distance, the more similar the strings are with regard to the minimum number of insert, delete and substitute operations needed to transform one string into the other.*\n",
    "\n",
    "Consider the strings `kitten` and `sitting`. The first string can be transformed\n",
    "into the second string with the following operations:\n",
    "* Substitute the `k` with an `s`,\n",
    "* substitute the `e` with an `i`,\n",
    "* and insert a `g` at the end of the string.\n",
    "\n",
    "This is the smallest number of operations that can be performed to transform kitten into sitting. As a result, the edit distance is `3`.\n",
    "\n",
    "\n",
    "Write a recursive function that computes the edit distance between two strings.\n",
    "\n",
    "Use the following algorithm:\n",
    "\n",
    "```\n",
    "Let s and t be the strings\n",
    "    If the length of s is 0 then\n",
    "        Return the length of t\n",
    "    Else if the length of t is 0 then\n",
    "        Return the length of s\n",
    "    Else\n",
    "        Set cost to 0\n",
    "        If the last character in s does not equal the last character in t then\n",
    "            Set cost to 1\n",
    "        Set d1 equal to the edit distance between all characters except the last one in s, and all characters in t, plus 1\n",
    "        Set d2 equal to the edit distance between all characters in s, and all characters except the last one in t, plus 1\n",
    "\n",
    "        Set d3 equal to the edit distance between all characters except the last one in s, and all characters except the last one in t, plus cost\n",
    "        Return the minimum of d1, d2 and d3\n",
    "```\n",
    "\n",
    "\n",
    "\n"
   ]
  },
  {
   "cell_type": "code",
   "execution_count": null,
   "metadata": {
    "id": "zlNy_Q987QOX"
   },
   "outputs": [],
   "source": [
    "# write code here\n",
    "def edit_distance(string1, string2, cost = 0):\n",
    "    if len(string1) == 0:\n",
    "        return string2\n",
    "  \n",
    "    elif len(string2) == 0:\n",
    "        return string1\n",
    "    else:\n",
    "        cost = 0\n",
    "        string1[-1] != string2[-1]\n",
    "        cost = 1\n",
    "        d1 = edit_distance(string1[::-1], string2[::]) + 1\n",
    "        d2 = edit_distance(string1[::], string2[::-1]) + 1\n",
    "        d3 = edit_distance(string1[::-1], string2[::-1]) + cost\n",
    "        return min(d1, d2, d3)\n",
    "    \n",
    "edit_distance(\"sunday\", \"saturday\")"
   ]
  },
  {
   "cell_type": "markdown",
   "metadata": {
    "id": "Hc9e-qES7iAK"
   },
   "source": [
    "###`Q-9:` Run-Length Encoding\n",
    "\n",
    "Run-length encoding is a simple data compression technique that can be effective when repeated values occur at adjacent positions within a list. Compression is achieved by replacing groups of repeated values with one copy of the value, followed by the number of times that the value should be repeated. For example, the list\n",
    "```\n",
    "[\"A\", \"A\", \"A\", \"A\", \"A\", \"A\", \"A\", \"A\", \"A\", \"A\", \"A\", \"A\", \"B\", \"B\", \"B\", \"B\", \"A\", \"A\", \"A\", \"A\", \"A\", \"A\", \"B\"]\n",
    "```\n",
    "would be compressed as `[\"A\", 12, \"B\", 4, \"A\", 6, \"B\", 1]`.\n",
    "\n",
    "Write a recursive function that implements the run-length compression technique\n",
    "described above. Your function will take a list or a string as its only parameter. It should return the run-length compressed list as its only result. Include a main program that reads a string from the user, compresses it, and displays the run-length encoded result."
   ]
  },
  {
   "cell_type": "code",
   "execution_count": null,
   "metadata": {
    "id": "W2Wb_WzP7qM1"
   },
   "outputs": [],
   "source": [
    "# Write code here\n",
    "lst1 = [\"A\", \"A\", \"A\", \"A\", \"A\", \"A\", \"A\", \"A\", \"A\", \"A\", \"A\", \"A\", \"B\", \"B\", \"B\", \"B\", \"A\", \"A\", \"A\", \"A\", \"A\", \"A\", \"B\"]\n",
    "for i in lst1:\n",
    "    \n"
   ]
  },
  {
   "cell_type": "markdown",
   "metadata": {
    "id": "x6A-4vGC8SLs"
   },
   "source": [
    "###`Q-10:` Write a recursive function to convert a decimal to binary"
   ]
  },
  {
   "cell_type": "code",
   "execution_count": 5,
   "metadata": {
    "id": "izOr6D9V8aME"
   },
   "outputs": [
    {
     "data": {
      "text/plain": [
       "[1, 1, 1, 1, 1, 0, 1]"
      ]
     },
     "execution_count": 5,
     "metadata": {},
     "output_type": "execute_result"
    }
   ],
   "source": [
    "# Write code here\n",
    "def convert_decimal(num, convert_to, l=[]):    \n",
    "    if num == 1:\n",
    "        l.append(num%convert_to)\n",
    "        return l.reverse()\n",
    "    else:\n",
    "        l.append(num%convert_to)\n",
    "        convert_decimal(num//convert_to, convert_to)\n",
    "        return l\n",
    "\n",
    "convert_decimal(125, 2)"
   ]
  },
  {
   "cell_type": "code",
   "execution_count": 5,
   "metadata": {},
   "outputs": [
    {
     "name": "stdout",
     "output_type": "stream",
     "text": [
      "15\n",
      "5\n"
     ]
    }
   ],
   "source": [
    "print(125//8)\n",
    "print(125%8)"
   ]
  },
  {
   "cell_type": "code",
   "execution_count": 17,
   "metadata": {},
   "outputs": [
    {
     "data": {
      "text/plain": [
       "'7D'"
      ]
     },
     "execution_count": 17,
     "metadata": {},
     "output_type": "execute_result"
    }
   ],
   "source": [
    "def decimal_to_hexa(num):\n",
    "    if num == 0:\n",
    "        return \"0\"\n",
    "    hex_chars = \"0123456789ABCDEF\"\n",
    "    hex_number = \"\"    \n",
    "    \n",
    "    while num > 0:\n",
    "        remainder = num % 16\n",
    "        hex_digit = hex_chars[remainder] # string indexing\n",
    "        hex_number = hex_digit + hex_number\n",
    "        num = num // 16\n",
    "    return hex_number\n",
    "decimal_to_hexa(125)"
   ]
  },
  {
   "cell_type": "code",
   "execution_count": null,
   "metadata": {},
   "outputs": [],
   "source": []
  },
  {
   "cell_type": "code",
   "execution_count": null,
   "metadata": {},
   "outputs": [],
   "source": []
  }
 ],
 "metadata": {
  "colab": {
   "provenance": []
  },
  "kernelspec": {
   "display_name": "Python 3 (ipykernel)",
   "language": "python",
   "name": "python3"
  },
  "language_info": {
   "codemirror_mode": {
    "name": "ipython",
    "version": 3
   },
   "file_extension": ".py",
   "mimetype": "text/x-python",
   "name": "python",
   "nbconvert_exporter": "python",
   "pygments_lexer": "ipython3",
   "version": "3.9.13"
  }
 },
 "nbformat": 4,
 "nbformat_minor": 1
}
