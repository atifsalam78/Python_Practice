{
 "cells": [
  {
   "cell_type": "markdown",
   "id": "d03b9b41-069c-4611-ac59-3b4c1badeab4",
   "metadata": {},
   "source": [
    "### Python List Manipulation Assignment"
   ]
  },
  {
   "cell_type": "markdown",
   "id": "562826d3",
   "metadata": {},
   "source": [
    "\n",
    "#### Question 1: Basic List Operations"
   ]
  },
  {
   "cell_type": "code",
   "execution_count": 1,
   "id": "abe6eb47",
   "metadata": {},
   "outputs": [
    {
     "data": {
      "text/plain": [
       "['apple', 'banana', 'orange', 'grape', 'kiwi']"
      ]
     },
     "execution_count": 1,
     "metadata": {},
     "output_type": "execute_result"
    }
   ],
   "source": [
    "# a) Create a list named 'fruits' containing the following items: \"apple\", \"banana\", \"orange\", \"grape\", \"kiwi\".\n",
    "\n",
    "fruits = [\"apple\", \"banana\", \"orange\", \"grape\", \"kiwi\"]\n",
    "fruits"
   ]
  },
  {
   "cell_type": "code",
   "execution_count": 2,
   "id": "921d0549",
   "metadata": {},
   "outputs": [
    {
     "data": {
      "text/plain": [
       "['apple', 'banana', 'orange', 'grape', 'kiwi', 'pear']"
      ]
     },
     "execution_count": 2,
     "metadata": {},
     "output_type": "execute_result"
    }
   ],
   "source": [
    "# b) Add \"pear\" to the end of the list.\n",
    "\n",
    "fruits.append(\"pear\")\n",
    "fruits"
   ]
  },
  {
   "cell_type": "code",
   "execution_count": 3,
   "id": "efcdf91c",
   "metadata": {},
   "outputs": [
    {
     "data": {
      "text/plain": [
       "['apple', 'mango', 'banana', 'orange', 'grape', 'kiwi', 'pear']"
      ]
     },
     "execution_count": 3,
     "metadata": {},
     "output_type": "execute_result"
    }
   ],
   "source": [
    "# c) Insert \"mango\" at the second position in the list.\n",
    "\n",
    "fruits.insert(1,\"mango\")\n",
    "fruits"
   ]
  },
  {
   "cell_type": "code",
   "execution_count": 4,
   "id": "cfc3a4ae",
   "metadata": {},
   "outputs": [
    {
     "data": {
      "text/plain": [
       "['apple', 'mango', 'banana', 'grape', 'kiwi', 'pear']"
      ]
     },
     "execution_count": 4,
     "metadata": {},
     "output_type": "execute_result"
    }
   ],
   "source": [
    "# d) Remove \"orange\" from the list.\n",
    "\n",
    "fruits.remove(\"orange\")\n",
    "fruits"
   ]
  },
  {
   "cell_type": "markdown",
   "id": "353a1ced",
   "metadata": {},
   "source": [
    "#### Question 2: Slicing and Indexing"
   ]
  },
  {
   "cell_type": "code",
   "execution_count": 5,
   "id": "eb3a2122",
   "metadata": {},
   "outputs": [
    {
     "name": "stdout",
     "output_type": "stream",
     "text": [
      "[0, 1, 2, 3, 4, 5, 6, 7, 8, 9]\n"
     ]
    }
   ],
   "source": [
    "# a) Create a list named 'numbers' containing the integers from 0 to 9.\n",
    "\n",
    "numbers = [x for x in range(0, 10)]\n",
    "print(numbers)"
   ]
  },
  {
   "cell_type": "code",
   "execution_count": 6,
   "id": "c195f6da",
   "metadata": {},
   "outputs": [
    {
     "name": "stdout",
     "output_type": "stream",
     "text": [
      "3\n"
     ]
    }
   ],
   "source": [
    "# b) Print the element at index 3.\n",
    "\n",
    "print(numbers[3])"
   ]
  },
  {
   "cell_type": "code",
   "execution_count": 7,
   "id": "859cf968",
   "metadata": {},
   "outputs": [
    {
     "name": "stdout",
     "output_type": "stream",
     "text": [
      "[2, 3, 4, 5, 6]\n"
     ]
    }
   ],
   "source": [
    "# c) Print a sublist containing the elements from index 2 to 6 (inclusive).\n",
    "\n",
    "sublist = numbers[2:7]\n",
    "print(sublist)"
   ]
  },
  {
   "cell_type": "code",
   "execution_count": 8,
   "id": "7fff9ec3",
   "metadata": {},
   "outputs": [
    {
     "name": "stdout",
     "output_type": "stream",
     "text": [
      "[7, 8, 9]\n"
     ]
    }
   ],
   "source": [
    "# d) Print the last three elements using negative indexing.\n",
    "\n",
    "print(numbers[-3:])"
   ]
  },
  {
   "cell_type": "markdown",
   "id": "a2588a64",
   "metadata": {},
   "source": [
    "\n",
    "#### Question 3: List Comprehension"
   ]
  },
  {
   "cell_type": "code",
   "execution_count": 9,
   "id": "67cadad7",
   "metadata": {},
   "outputs": [
    {
     "name": "stdout",
     "output_type": "stream",
     "text": [
      "[1, 4, 9, 16, 25, 36, 49, 64, 81, 100]\n"
     ]
    }
   ],
   "source": [
    "# a) Create a list named 'squares' using a list comprehension that contains the squares of numbers from 1 to 10.\n",
    "\n",
    "squares = [ x**2 for x in range(1,11)]\n",
    "print(squares)"
   ]
  },
  {
   "cell_type": "code",
   "execution_count": 10,
   "id": "e86fe0d1",
   "metadata": {},
   "outputs": [
    {
     "name": "stdout",
     "output_type": "stream",
     "text": [
      "[4, 16, 36, 64, 100]\n"
     ]
    }
   ],
   "source": [
    "\"\"\"\n",
    "b) Create a new list named 'even_squares' using a list comprehension that contains the squares of even numbers from the \n",
    "'squares' list.\n",
    "\n",
    "\"\"\"\n",
    "even_squares = [x for x in squares if x % 2 == 0]\n",
    "print(even_squares)"
   ]
  },
  {
   "cell_type": "markdown",
   "id": "fab0f74f",
   "metadata": {},
   "source": [
    "#### Question 4: List Manipulation"
   ]
  },
  {
   "cell_type": "code",
   "execution_count": 11,
   "id": "807cb2dc",
   "metadata": {},
   "outputs": [
    {
     "name": "stdout",
     "output_type": "stream",
     "text": [
      "['red', 'green', 'blue', 'yellow', 'purple']\n"
     ]
    }
   ],
   "source": [
    "# a) Create a list named 'colors' containing the following items: \"red\", \"green\", \"blue\", \"yellow\", \"purple\".\n",
    "\n",
    "colors = [\"red\", \"green\", \"blue\", \"yellow\", \"purple\"]\n",
    "print(colors)"
   ]
  },
  {
   "cell_type": "code",
   "execution_count": 12,
   "id": "3e453d9c",
   "metadata": {},
   "outputs": [
    {
     "data": {
      "text/plain": [
       "['purple', 'green', 'blue', 'yellow', 'red']"
      ]
     },
     "execution_count": 12,
     "metadata": {},
     "output_type": "execute_result"
    }
   ],
   "source": [
    "# b) Swap the first and last elements of the list.\n",
    "\n",
    "colors = [\"red\", \"green\", \"blue\", \"yellow\", \"purple\"]\n",
    "temp = colors[0]\n",
    "colors[0] = colors[-1]\n",
    "colors[-1] = temp\n",
    "colors"
   ]
  },
  {
   "cell_type": "code",
   "execution_count": 13,
   "id": "a60e99f7",
   "metadata": {},
   "outputs": [
    {
     "data": {
      "text/plain": [
       "['purple', 'yellow', 'blue', 'green', 'red']"
      ]
     },
     "execution_count": 13,
     "metadata": {},
     "output_type": "execute_result"
    }
   ],
   "source": [
    "# c) Reverse the order of the list.\n",
    "\n",
    "colors = [\"red\", \"green\", \"blue\", \"yellow\", \"purple\"]\n",
    "colors.reverse()\n",
    "colors"
   ]
  },
  {
   "cell_type": "code",
   "execution_count": 14,
   "id": "ec6ec487",
   "metadata": {},
   "outputs": [
    {
     "name": "stdout",
     "output_type": "stream",
     "text": [
      "['red', 'yellow', 'purple']\n"
     ]
    }
   ],
   "source": [
    "# d) Remove the second and third elements from the list.\n",
    "\n",
    "colors = [\"red\", \"green\", \"blue\", \"yellow\", \"purple\"]\n",
    "del colors[1:3]\n",
    "print(colors)"
   ]
  },
  {
   "cell_type": "markdown",
   "id": "ec2718f7",
   "metadata": {},
   "source": [
    "#### Question 5: Advanced Slicing"
   ]
  },
  {
   "cell_type": "code",
   "execution_count": 15,
   "id": "8ae8474e",
   "metadata": {},
   "outputs": [
    {
     "data": {
      "text/plain": [
       "['a', 'b', 'c', 'd', 'e', 'f', 'g', 'h', 'i', 'j']"
      ]
     },
     "execution_count": 15,
     "metadata": {},
     "output_type": "execute_result"
    }
   ],
   "source": [
    "# a) Create a list named 'letters' containing the letters from 'a' to 'j'.\n",
    "\n",
    "letters = [chr(x) for x in range(97,107)]\n",
    "letters"
   ]
  },
  {
   "cell_type": "code",
   "execution_count": 16,
   "id": "79af4378",
   "metadata": {},
   "outputs": [
    {
     "data": {
      "text/plain": [
       "['a', 'b', 'c', 'd', 'e']"
      ]
     },
     "execution_count": 16,
     "metadata": {},
     "output_type": "execute_result"
    }
   ],
   "source": [
    "# b) Using slicing, create a new list 'first_half containing the first half of the 'letters' list.\n",
    "\n",
    "first_half = letters[:len(letters)//2]\n",
    "first_half"
   ]
  },
  {
   "cell_type": "code",
   "execution_count": 17,
   "id": "a74e2b5f",
   "metadata": {},
   "outputs": [
    {
     "data": {
      "text/plain": [
       "['h', 'i', 'j']"
      ]
     },
     "execution_count": 17,
     "metadata": {},
     "output_type": "execute_result"
    }
   ],
   "source": [
    "# c) Using slicing, create a new list 'last_three' containing the last three elements of the 'letters' list.\n",
    "\n",
    "last_three = letters[7::]\n",
    "last_three"
   ]
  },
  {
   "cell_type": "markdown",
   "id": "461503ee",
   "metadata": {},
   "source": [
    "#### Question 6: Nested Lists"
   ]
  },
  {
   "cell_type": "code",
   "execution_count": 18,
   "id": "f92b3b83",
   "metadata": {},
   "outputs": [
    {
     "name": "stdout",
     "output_type": "stream",
     "text": [
      "[1, 2, 3]\n",
      "[4, 5, 6]\n",
      "[7, 8, 9]\n"
     ]
    }
   ],
   "source": [
    "\"\"\"\n",
    "a) Create a nested list named 'matrix' with the following rows:\n",
    "   - [1, 2, 3]\n",
    "   - [4, 5, 6]\n",
    "   - [7, 8, 9]\n",
    "\"\"\"\n",
    "\n",
    "matrix = [[1,2,3], [4,5,6], [7,8,9]]\n",
    "for i in matrix:\n",
    "    print(i)"
   ]
  },
  {
   "cell_type": "code",
   "execution_count": 19,
   "id": "459ae1c1",
   "metadata": {},
   "outputs": [
    {
     "name": "stdout",
     "output_type": "stream",
     "text": [
      "6\n"
     ]
    }
   ],
   "source": [
    "# b) Print the element in the second row and third column.\n",
    "\n",
    "print(matrix[1][2])"
   ]
  },
  {
   "cell_type": "code",
   "execution_count": 20,
   "id": "beb7a938",
   "metadata": {},
   "outputs": [
    {
     "name": "stdout",
     "output_type": "stream",
     "text": [
      "[1, 2, 3]\n",
      "[0, 5, 6]\n",
      "[7, 8, 9]\n"
     ]
    }
   ],
   "source": [
    "# c) Use nested indexing to change the value at the second row and first column to 0.\n",
    "\n",
    "matrix[1][0] = 0\n",
    "for i in matrix:\n",
    "    print(i)"
   ]
  },
  {
   "cell_type": "code",
   "execution_count": null,
   "id": "039a2c49",
   "metadata": {},
   "outputs": [],
   "source": []
  }
 ],
 "metadata": {
  "kernelspec": {
   "display_name": "Python 3 (ipykernel)",
   "language": "python",
   "name": "python3"
  },
  "language_info": {
   "codemirror_mode": {
    "name": "ipython",
    "version": 3
   },
   "file_extension": ".py",
   "mimetype": "text/x-python",
   "name": "python",
   "nbconvert_exporter": "python",
   "pygments_lexer": "ipython3",
   "version": "3.9.13"
  }
 },
 "nbformat": 4,
 "nbformat_minor": 5
}
