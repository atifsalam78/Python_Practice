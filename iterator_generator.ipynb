{
 "cells": [
  {
   "cell_type": "markdown",
   "id": "53bb5a2f",
   "metadata": {},
   "source": [
    "### Iteration\n",
    "Iteration is a general term for taking each item of something, one after another. Any time you use a loop, explicit or implicit, to go over a group of items, that is iteration."
   ]
  },
  {
   "cell_type": "code",
   "execution_count": 1,
   "id": "9a386046",
   "metadata": {},
   "outputs": [
    {
     "name": "stdout",
     "output_type": "stream",
     "text": [
      "1\n",
      "2\n",
      "3\n"
     ]
    }
   ],
   "source": [
    "num = [1,2,3]\n",
    "for i in num:\n",
    "    print(i)"
   ]
  },
  {
   "cell_type": "markdown",
   "id": "de2be726",
   "metadata": {},
   "source": [
    "### Iterator\n",
    "An iterator is an object that allows the programmer to traverse through a sequence of \"data without having to store the entire data in memory\".\n",
    "\n",
    "Just because of with the help of Iterator we can able to make Iteration."
   ]
  },
  {
   "cell_type": "code",
   "execution_count": 4,
   "id": "62711bc2",
   "metadata": {},
   "outputs": [
    {
     "name": "stdout",
     "output_type": "stream",
     "text": [
      "Memory occupied 800984 bytes\n",
      "Memory occupied 800.984 Kilo bytes\n",
      "Memory occupied 0.800984 Mega bytes\n"
     ]
    }
   ],
   "source": [
    "# First Method\n",
    "\n",
    "L = [x for x in range(1,100_000)]\n",
    "# for i in L:\n",
    "#     print(i*2)\n",
    "import sys\n",
    "print(\"Memory occupied {} bytes\".format(sys.getsizeof(L)))\n",
    "print(\"Memory occupied {} Kilo bytes\".format(sys.getsizeof(L)/1000))\n",
    "print(\"Memory occupied {} Mega bytes\".format(sys.getsizeof(L)/1e+6))"
   ]
  },
  {
   "cell_type": "code",
   "execution_count": 6,
   "id": "a45d0990",
   "metadata": {},
   "outputs": [
    {
     "name": "stdout",
     "output_type": "stream",
     "text": [
      "Memory occupied 48 bytes\n",
      "Memory occupied 0.048 Kilo bytes\n",
      "Memory occupied 4.8e-05 Mega bytes\n"
     ]
    }
   ],
   "source": [
    "# Benefit of Iterator - Memory saving\n",
    "\n",
    "x = range(1,100_000)\n",
    "# for i in x:\n",
    "#     print(i*2)\n",
    "print(\"Memory occupied {} bytes\".format(sys.getsizeof(x)))\n",
    "print(\"Memory occupied {} Kilo bytes\".format(sys.getsizeof(x)/1000))\n",
    "print(\"Memory occupied {} Mega bytes\".format(sys.getsizeof(x)/1e+6))"
   ]
  },
  {
   "cell_type": "markdown",
   "id": "388a27e3",
   "metadata": {},
   "source": [
    "### Iterable\n",
    "\n",
    "Iterable is an object, which one can iterate over.\n",
    "It generates an Iterator when passed to iter() method."
   ]
  },
  {
   "cell_type": "code",
   "execution_count": 21,
   "id": "4298c963",
   "metadata": {},
   "outputs": [
    {
     "name": "stdout",
     "output_type": "stream",
     "text": [
      "<class 'list'>\n",
      "<class 'list_iterator'>\n"
     ]
    }
   ],
   "source": [
    "L = [1,2,3]\n",
    "print(type(L))\n",
    "L # This is an iterable\n",
    "\n",
    "print(type(iter(L))) # This is an iterator"
   ]
  },
  {
   "cell_type": "markdown",
   "id": "15fe7d87",
   "metadata": {},
   "source": [
    "# Point to Remember\n",
    "```\n",
    "1.) Every Iterator is also an Iterable.\n",
    "2). Not all Iterables are Iterators.\n",
    "````"
   ]
  },
  {
   "cell_type": "code",
   "execution_count": null,
   "id": "79cbe7c1",
   "metadata": {},
   "outputs": [],
   "source": [
    "# Not all Iterables are Iterators\n",
    "\n",
    "L = [x for x in range(1,100_000)] \n",
    "# List is an Iterable but not Iterator, becuase list store data in memory at once while Iterator do not store data at once."
   ]
  },
  {
   "cell_type": "markdown",
   "id": "62f9e464",
   "metadata": {},
   "source": [
    "# Every Iterator is also an Iterable.\n",
    "```\n",
    "Iterator is also an Iterable - means we can create loop on it,\n",
    "Also if we check from dir() method we found that both __iter__ and __next__ magic method and just becuase of this we can say that every iterator is also iterable.\n",
    "\n",
    "```\n"
   ]
  },
  {
   "cell_type": "markdown",
   "id": "3e2088a0",
   "metadata": {},
   "source": [
    "# Trick\n",
    "To check whether the object is Iterable or not"
   ]
  },
  {
   "cell_type": "code",
   "execution_count": 28,
   "id": "8a860a1f",
   "metadata": {},
   "outputs": [
    {
     "data": {
      "text/plain": [
       "['__class__',\n",
       " '__class_getitem__',\n",
       " '__contains__',\n",
       " '__delattr__',\n",
       " '__delitem__',\n",
       " '__dir__',\n",
       " '__doc__',\n",
       " '__eq__',\n",
       " '__format__',\n",
       " '__ge__',\n",
       " '__getattribute__',\n",
       " '__getitem__',\n",
       " '__gt__',\n",
       " '__hash__',\n",
       " '__init__',\n",
       " '__init_subclass__',\n",
       " '__ior__',\n",
       " '__iter__',\n",
       " '__le__',\n",
       " '__len__',\n",
       " '__lt__',\n",
       " '__ne__',\n",
       " '__new__',\n",
       " '__or__',\n",
       " '__reduce__',\n",
       " '__reduce_ex__',\n",
       " '__repr__',\n",
       " '__reversed__',\n",
       " '__ror__',\n",
       " '__setattr__',\n",
       " '__setitem__',\n",
       " '__sizeof__',\n",
       " '__str__',\n",
       " '__subclasshook__',\n",
       " 'clear',\n",
       " 'copy',\n",
       " 'fromkeys',\n",
       " 'get',\n",
       " 'items',\n",
       " 'keys',\n",
       " 'pop',\n",
       " 'popitem',\n",
       " 'setdefault',\n",
       " 'update',\n",
       " 'values']"
      ]
     },
     "execution_count": 28,
     "metadata": {},
     "output_type": "execute_result"
    }
   ],
   "source": [
    "a = 2\n",
    "tup = (1,2,3)\n",
    "s = {1,2,3}\n",
    "d = {1:1, 2:2}\n",
    "\n",
    "# First Method - Using loop\n",
    "\n",
    "# for i in a:\n",
    "#     print(i)\n",
    "\n",
    "# Second Method - dir() method, if we found __iter__ magic method than this object is iterable otherwise not.\n",
    "dir(d)"
   ]
  },
  {
   "cell_type": "markdown",
   "id": "5c33470a",
   "metadata": {},
   "source": [
    "# Trick\n",
    "To check whether the object is Iterator or not"
   ]
  },
  {
   "cell_type": "code",
   "execution_count": 30,
   "id": "787fa48f",
   "metadata": {},
   "outputs": [
    {
     "data": {
      "text/plain": [
       "['__add__',\n",
       " '__class__',\n",
       " '__class_getitem__',\n",
       " '__contains__',\n",
       " '__delattr__',\n",
       " '__delitem__',\n",
       " '__dir__',\n",
       " '__doc__',\n",
       " '__eq__',\n",
       " '__format__',\n",
       " '__ge__',\n",
       " '__getattribute__',\n",
       " '__getitem__',\n",
       " '__gt__',\n",
       " '__hash__',\n",
       " '__iadd__',\n",
       " '__imul__',\n",
       " '__init__',\n",
       " '__init_subclass__',\n",
       " '__iter__',\n",
       " '__le__',\n",
       " '__len__',\n",
       " '__lt__',\n",
       " '__mul__',\n",
       " '__ne__',\n",
       " '__new__',\n",
       " '__reduce__',\n",
       " '__reduce_ex__',\n",
       " '__repr__',\n",
       " '__reversed__',\n",
       " '__rmul__',\n",
       " '__setattr__',\n",
       " '__setitem__',\n",
       " '__sizeof__',\n",
       " '__str__',\n",
       " '__subclasshook__',\n",
       " 'append',\n",
       " 'clear',\n",
       " 'copy',\n",
       " 'count',\n",
       " 'extend',\n",
       " 'index',\n",
       " 'insert',\n",
       " 'pop',\n",
       " 'remove',\n",
       " 'reverse',\n",
       " 'sort']"
      ]
     },
     "execution_count": 30,
     "metadata": {},
     "output_type": "execute_result"
    }
   ],
   "source": [
    "a = 2\n",
    "L = [1,2,3]\n",
    "tup = (1,2,3)\n",
    "s = {1,2,3}\n",
    "d = {1:1, 2:2}\n",
    "\n",
    "# dir() method, if we found __iter__ and __next__ both magic methd found than this object is Iterator otherwise not.\n",
    "dir(L)"
   ]
  },
  {
   "cell_type": "code",
   "execution_count": 32,
   "id": "72567761",
   "metadata": {},
   "outputs": [
    {
     "data": {
      "text/plain": [
       "['__class__',\n",
       " '__delattr__',\n",
       " '__dir__',\n",
       " '__doc__',\n",
       " '__eq__',\n",
       " '__format__',\n",
       " '__ge__',\n",
       " '__getattribute__',\n",
       " '__gt__',\n",
       " '__hash__',\n",
       " '__init__',\n",
       " '__init_subclass__',\n",
       " '__iter__',\n",
       " '__le__',\n",
       " '__length_hint__',\n",
       " '__lt__',\n",
       " '__ne__',\n",
       " '__new__',\n",
       " '__next__',\n",
       " '__reduce__',\n",
       " '__reduce_ex__',\n",
       " '__repr__',\n",
       " '__setattr__',\n",
       " '__setstate__',\n",
       " '__sizeof__',\n",
       " '__str__',\n",
       " '__subclasshook__']"
      ]
     },
     "execution_count": 32,
     "metadata": {},
     "output_type": "execute_result"
    }
   ],
   "source": [
    "L = [1,2,3] # This is an Iterable but not Iterator\n",
    "\n",
    "iter_L = iter(L) # This is an Iterator because it has both __iter__ and __next__ magic methods\n",
    "dir(iter_L)"
   ]
  },
  {
   "cell_type": "markdown",
   "id": "3d47de81",
   "metadata": {},
   "source": [
    "### How For loop works"
   ]
  },
  {
   "cell_type": "code",
   "execution_count": 34,
   "id": "027ee95f",
   "metadata": {},
   "outputs": [
    {
     "name": "stdout",
     "output_type": "stream",
     "text": [
      "1\n",
      "2\n",
      "3\n"
     ]
    }
   ],
   "source": [
    "num = [1,2,3]\n",
    "for i in num:\n",
    "    print(i)"
   ]
  },
  {
   "cell_type": "code",
   "execution_count": 39,
   "id": "347b2e20",
   "metadata": {},
   "outputs": [
    {
     "data": {
      "text/plain": [
       "3"
      ]
     },
     "execution_count": 39,
     "metadata": {},
     "output_type": "execute_result"
    }
   ],
   "source": [
    "num = [1,2,3]\n",
    "\n",
    "# Fetch iterator\n",
    "iter_num = iter(num)\n",
    "# Call next function\n",
    "next(iter_num)\n",
    "next(iter_num)\n",
    "next(iter_num)"
   ]
  },
  {
   "cell_type": "markdown",
   "id": "d3ade496",
   "metadata": {},
   "source": [
    "### Creating my own For loop"
   ]
  },
  {
   "cell_type": "code",
   "execution_count": 81,
   "id": "0624561c",
   "metadata": {},
   "outputs": [],
   "source": [
    "def my_for_loop(iterable):\n",
    "    iterator = iter(iterable)\n",
    "    while True:\n",
    "        try:\n",
    "            print(next(iterator))\n",
    "        except StopIteration:\n",
    "            break          \n"
   ]
  },
  {
   "cell_type": "code",
   "execution_count": 82,
   "id": "a84fece6",
   "metadata": {},
   "outputs": [
    {
     "name": "stdout",
     "output_type": "stream",
     "text": [
      "A\n",
      "t\n",
      "i\n",
      "f\n"
     ]
    }
   ],
   "source": [
    "a = [1,2,3]\n",
    "b = range(1,11)\n",
    "c = (1,2,3)\n",
    "d = {1,2,3}\n",
    "e = {1:1, 2:2}\n",
    "f = \"Atif\"\n",
    "\n",
    "my_for_loop(f)"
   ]
  },
  {
   "cell_type": "code",
   "execution_count": 3,
   "id": "c417abec",
   "metadata": {},
   "outputs": [],
   "source": [
    "class my_enum: # This is iterable class\n",
    "    \n",
    "    def __init__(self, string):\n",
    "        self.index = 0\n",
    "        self.string = string\n",
    "        \n",
    "    def __iter__(self): # because every iterable must have iter magic method\n",
    "        return my_enum_iterator(self) # becasue loops required iterator object from iter magic method, when we use iter function on an iterable it returns an iterator\n",
    "        # self is an object of my_enum class to get attributes of class used into my_enum_iterator class"
   ]
  },
  {
   "cell_type": "code",
   "execution_count": 1,
   "id": "774c0ee1",
   "metadata": {},
   "outputs": [],
   "source": [
    "class my_enum_iterator: # This is an iterator of my_enum class\n",
    "    \n",
    "    def __init__(self, iterable_obj):\n",
    "        self.iterable = iterable_obj\n",
    "        \n",
    "    \n",
    "    def __iter__(self): # also iterator also required iterator\n",
    "        return self # because when we use iterator over on iterator it return itself\n",
    "    \n",
    "    def __next__(self):\n",
    "        \n",
    "        if self.iterable.index >= len(self.iterable.string):\n",
    "            raise StopIteration\n",
    "            \n",
    "        current = self.iterable.index # First Value\n",
    "        current_string = self.iterable.string[current] #String indexing\n",
    "        self.iterable.index += 1 # increment in index value\n",
    "        return current,current_string         "
   ]
  },
  {
   "cell_type": "code",
   "execution_count": 5,
   "id": "ab2a8612",
   "metadata": {},
   "outputs": [
    {
     "name": "stdout",
     "output_type": "stream",
     "text": [
      "Index: 0, String: a\n",
      "Index: 1, String: t\n",
      "Index: 2, String: i\n",
      "Index: 3, String: f\n"
     ]
    }
   ],
   "source": [
    "for i,j in my_enum(\"atif\"):\n",
    "    print(\"Index: {}, String: {}\".format(i,j))"
   ]
  },
  {
   "cell_type": "code",
   "execution_count": null,
   "id": "c27ed986",
   "metadata": {},
   "outputs": [],
   "source": []
  },
  {
   "cell_type": "code",
   "execution_count": 56,
   "id": "5c8f7b89",
   "metadata": {},
   "outputs": [
    {
     "name": "stdout",
     "output_type": "stream",
     "text": [
      "Address of iter object 1:  2407352016608\n",
      "Address of iter object 2:  2407352016608\n"
     ]
    }
   ],
   "source": [
    "num = [1,2,3]\n",
    "iter_obj1 = iter(num)\n",
    "print(\"Address of iter object 1: \",(id(iter_obj1)))\n",
    "\n",
    "iter_obj2 = iter(iter_obj1)\n",
    "print(\"Address of iter object 2: \",(id(iter_obj2)))"
   ]
  },
  {
   "cell_type": "markdown",
   "id": "4a80e552",
   "metadata": {},
   "source": [
    "```\n",
    "Why part:\n",
    "When we create an object and trying to add iteration features over this object\n",
    "\n",
    "```"
   ]
  },
  {
   "cell_type": "markdown",
   "id": "92d04ec6",
   "metadata": {},
   "source": [
    "### My Own Range function"
   ]
  },
  {
   "cell_type": "code",
   "execution_count": 59,
   "id": "3f6fe62e",
   "metadata": {},
   "outputs": [],
   "source": [
    "# This class is an Iterable\n",
    "class mera_range:\n",
    "    \n",
    "    def __init__ (self, start, end):\n",
    "        self.start = start\n",
    "        self.end = end\n",
    "    \n",
    "    def __iter__(self):\n",
    "        return mera_range_iterator(self)"
   ]
  },
  {
   "cell_type": "code",
   "execution_count": 60,
   "id": "f5d0e9c0",
   "metadata": {},
   "outputs": [],
   "source": [
    "# This class is an Iterator\n",
    "class mera_range_iterator:\n",
    "    \n",
    "    def __init__(self,iterable_obj):\n",
    "        self.iterable = iterable_obj\n",
    "    \n",
    "    def __iter__(self):\n",
    "        return self\n",
    "    \n",
    "    def __next__(self):\n",
    "        if self.iterable.start >= self.iterable.end:\n",
    "            raise StopIteration\n",
    "        current = self.iterable.start\n",
    "        self.iterable.start += 1\n",
    "        return current"
   ]
  },
  {
   "cell_type": "code",
   "execution_count": 61,
   "id": "3fb11566",
   "metadata": {},
   "outputs": [
    {
     "name": "stdout",
     "output_type": "stream",
     "text": [
      "1\n",
      "2\n",
      "3\n",
      "4\n",
      "5\n",
      "6\n",
      "7\n",
      "8\n",
      "9\n",
      "10\n"
     ]
    }
   ],
   "source": [
    "for i in mera_range(1,11):\n",
    "    print(i)"
   ]
  },
  {
   "cell_type": "code",
   "execution_count": 62,
   "id": "9336297d",
   "metadata": {},
   "outputs": [
    {
     "data": {
      "text/plain": [
       "__main__.mera_range"
      ]
     },
     "execution_count": 62,
     "metadata": {},
     "output_type": "execute_result"
    }
   ],
   "source": [
    "x = mera_range(1,11)\n",
    "type(x)"
   ]
  },
  {
   "cell_type": "code",
   "execution_count": 63,
   "id": "a34467f3",
   "metadata": {},
   "outputs": [
    {
     "data": {
      "text/plain": [
       "<__main__.mera_range_iterator at 0x23081db63d0>"
      ]
     },
     "execution_count": 63,
     "metadata": {},
     "output_type": "execute_result"
    }
   ],
   "source": [
    "iter(x)"
   ]
  },
  {
   "cell_type": "code",
   "execution_count": null,
   "id": "acb0cfce",
   "metadata": {},
   "outputs": [],
   "source": []
  }
 ],
 "metadata": {
  "kernelspec": {
   "display_name": "Python 3 (ipykernel)",
   "language": "python",
   "name": "python3"
  },
  "language_info": {
   "codemirror_mode": {
    "name": "ipython",
    "version": 3
   },
   "file_extension": ".py",
   "mimetype": "text/x-python",
   "name": "python",
   "nbconvert_exporter": "python",
   "pygments_lexer": "ipython3",
   "version": "3.9.13"
  }
 },
 "nbformat": 4,
 "nbformat_minor": 5
}
